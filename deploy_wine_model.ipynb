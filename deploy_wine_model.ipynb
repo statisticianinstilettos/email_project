{
 "cells": [
  {
   "cell_type": "markdown",
   "metadata": {},
   "source": [
    "# Setup"
   ]
  },
  {
   "cell_type": "markdown",
   "metadata": {},
   "source": [
    "Create a Sagemaker session and role, and create a S3 prefix to use for the notebook example.\n",
    "\n",
    "A typical training script loads data from the input channels, configures training with hyperparameters, trains a model, and saves a model to model_dir so that it can be hosted later.\n",
    "\n",
    "1. Make data folder and load data to there\n",
    "3. Write a .py training script that loads the data and trains the model and save the model to model dir. \n",
    "4. Run the .py training script on SageMaker. To run our Scikit-learn training script on SageMaker, we construct a sagemaker.sklearn.estimator.sklearn estimator\n",
    "5. "
   ]
  },
  {
   "cell_type": "code",
   "execution_count": 1,
   "metadata": {},
   "outputs": [],
   "source": [
    "# S3 prefix\n",
    "prefix = 'Scikit-wine'\n",
    "\n",
    "import sagemaker\n",
    "from sagemaker import get_execution_role\n",
    "\n",
    "sagemaker_session = sagemaker.Session()\n",
    "\n",
    "# Get a SageMaker-compatible role used by this Notebook Instance.\n",
    "role = get_execution_role()"
   ]
  },
  {
   "cell_type": "code",
   "execution_count": 2,
   "metadata": {},
   "outputs": [],
   "source": [
    "WORK_DIRECTORY = 'data'\n",
    "train_input = sagemaker_session.upload_data(WORK_DIRECTORY, key_prefix=\"{}/{}\".format(prefix, WORK_DIRECTORY) )"
   ]
  },
  {
   "cell_type": "code",
   "execution_count": 3,
   "metadata": {},
   "outputs": [
    {
     "data": {
      "text/plain": [
       "'s3://sagemaker-us-east-2-207384830943/Scikit-wine/data'"
      ]
     },
     "execution_count": 3,
     "metadata": {},
     "output_type": "execute_result"
    }
   ],
   "source": [
    "train_input"
   ]
  },
  {
   "cell_type": "markdown",
   "metadata": {},
   "source": [
    "# Create SageMaker Scikit Estimator and Train Model"
   ]
  },
  {
   "cell_type": "code",
   "execution_count": 21,
   "metadata": {},
   "outputs": [],
   "source": [
    "from sagemaker.sklearn.estimator import SKLearn\n",
    "script_path = 'train_wine_gbt.py'\n",
    "\n",
    "sklearn = SKLearn(\n",
    "    entry_point=script_path,\n",
    "    train_instance_type=\"ml.c4.xlarge\",\n",
    "    role=role,\n",
    "    sagemaker_session=sagemaker_session,\n",
    "    hyperparameters={})"
   ]
  },
  {
   "cell_type": "code",
   "execution_count": 22,
   "metadata": {},
   "outputs": [
    {
     "name": "stderr",
     "output_type": "stream",
     "text": [
      "INFO:sagemaker:Creating training-job with name: sagemaker-scikit-learn-2019-03-18-20-17-43-603\n"
     ]
    },
    {
     "name": "stdout",
     "output_type": "stream",
     "text": [
      "2019-03-18 20:17:43 Starting - Starting the training job...\n",
      "2019-03-18 20:17:51 Starting - Launching requested ML instances......\n",
      "2019-03-18 20:18:53 Starting - Preparing the instances for training...\n",
      "2019-03-18 20:19:37 Downloading - Downloading input data..\n",
      "\u001b[31m2019-03-18 20:19:48,352 sagemaker-containers INFO     Imported framework sagemaker_sklearn_container.training\u001b[0m\n",
      "\u001b[31m2019-03-18 20:19:48,354 sagemaker-containers INFO     No GPUs detected (normal if no gpus installed)\u001b[0m\n",
      "\u001b[31m2019-03-18 20:19:48,367 sagemaker_sklearn_container.training INFO     Invoking user training script.\u001b[0m\n",
      "\u001b[31m2019-03-18 20:19:48,622 sagemaker-containers INFO     Module train_wine_gbt does not provide a setup.py. \u001b[0m\n",
      "\u001b[31mGenerating setup.py\u001b[0m\n",
      "\u001b[31m2019-03-18 20:19:48,622 sagemaker-containers INFO     Generating setup.cfg\u001b[0m\n",
      "\u001b[31m2019-03-18 20:19:48,623 sagemaker-containers INFO     Generating MANIFEST.in\u001b[0m\n",
      "\u001b[31m2019-03-18 20:19:48,623 sagemaker-containers INFO     Installing module with the following command:\u001b[0m\n",
      "\u001b[31m/usr/bin/python3 -m pip install -U . \u001b[0m\n",
      "\u001b[31mProcessing /opt/ml/code\u001b[0m\n",
      "\u001b[31mBuilding wheels for collected packages: train-wine-gbt\n",
      "  Running setup.py bdist_wheel for train-wine-gbt: started\n",
      "  Running setup.py bdist_wheel for train-wine-gbt: finished with status 'done'\n",
      "  Stored in directory: /tmp/pip-ephem-wheel-cache-bs3_1yah/wheels/35/24/16/37574d11bf9bde50616c67372a334f94fa8356bc7164af8ca3\u001b[0m\n",
      "\u001b[31mSuccessfully built train-wine-gbt\u001b[0m\n",
      "\u001b[31mInstalling collected packages: train-wine-gbt\u001b[0m\n",
      "\u001b[31mSuccessfully installed train-wine-gbt-1.0.0\u001b[0m\n",
      "\u001b[31mYou are using pip version 18.1, however version 19.0.3 is available.\u001b[0m\n",
      "\u001b[31mYou should consider upgrading via the 'pip install --upgrade pip' command.\u001b[0m\n",
      "\u001b[31m2019-03-18 20:19:49,941 sagemaker-containers INFO     No GPUs detected (normal if no gpus installed)\u001b[0m\n",
      "\u001b[31m2019-03-18 20:19:49,957 sagemaker-containers INFO     Invoking user script\n",
      "\u001b[0m\n",
      "\u001b[31mTraining Env:\n",
      "\u001b[0m\n",
      "\u001b[31m{\n",
      "    \"module_name\": \"train_wine_gbt\",\n",
      "    \"num_gpus\": 0,\n",
      "    \"input_dir\": \"/opt/ml/input\",\n",
      "    \"input_data_config\": {\n",
      "        \"train\": {\n",
      "            \"TrainingInputMode\": \"File\",\n",
      "            \"S3DistributionType\": \"FullyReplicated\",\n",
      "            \"RecordWrapperType\": \"None\"\n",
      "        }\n",
      "    },\n",
      "    \"input_config_dir\": \"/opt/ml/input/config\",\n",
      "    \"num_cpus\": 4,\n",
      "    \"channel_input_dirs\": {\n",
      "        \"train\": \"/opt/ml/input/data/train\"\n",
      "    },\n",
      "    \"network_interface_name\": \"ethwe\",\n",
      "    \"additional_framework_parameters\": {},\n",
      "    \"hyperparameters\": {},\n",
      "    \"current_host\": \"algo-1\",\n",
      "    \"module_dir\": \"s3://sagemaker-us-east-2-207384830943/sagemaker-scikit-learn-2019-03-18-20-17-43-603/source/sourcedir.tar.gz\",\n",
      "    \"output_dir\": \"/opt/ml/output\",\n",
      "    \"job_name\": \"sagemaker-scikit-learn-2019-03-18-20-17-43-603\",\n",
      "    \"resource_config\": {\n",
      "        \"current_host\": \"algo-1\",\n",
      "        \"hosts\": [\n",
      "            \"algo-1\"\n",
      "        ],\n",
      "        \"network_interface_name\": \"ethwe\"\n",
      "    },\n",
      "    \"output_intermediate_dir\": \"/opt/ml/output/intermediate\",\n",
      "    \"log_level\": 20,\n",
      "    \"framework_module\": \"sagemaker_sklearn_container.training:main\",\n",
      "    \"model_dir\": \"/opt/ml/model\",\n",
      "    \"output_data_dir\": \"/opt/ml/output/data\",\n",
      "    \"user_entry_point\": \"train_wine_gbt.py\",\n",
      "    \"hosts\": [\n",
      "        \"algo-1\"\n",
      "    ]\u001b[0m\n",
      "\u001b[31m}\n",
      "\u001b[0m\n",
      "\u001b[31mEnvironment variables:\n",
      "\u001b[0m\n",
      "\u001b[31mSM_NETWORK_INTERFACE_NAME=ethwe\u001b[0m\n",
      "\u001b[31mSM_FRAMEWORK_MODULE=sagemaker_sklearn_container.training:main\u001b[0m\n",
      "\u001b[31mSM_USER_ARGS=[]\u001b[0m\n",
      "\u001b[31mSM_INPUT_CONFIG_DIR=/opt/ml/input/config\u001b[0m\n",
      "\u001b[31mSM_MODULE_DIR=s3://sagemaker-us-east-2-207384830943/sagemaker-scikit-learn-2019-03-18-20-17-43-603/source/sourcedir.tar.gz\u001b[0m\n",
      "\u001b[31mSM_MODULE_NAME=train_wine_gbt\u001b[0m\n",
      "\u001b[31mSM_HOSTS=[\"algo-1\"]\u001b[0m\n",
      "\u001b[31mSM_CHANNELS=[\"train\"]\u001b[0m\n",
      "\u001b[31mSM_USER_ENTRY_POINT=train_wine_gbt.py\u001b[0m\n",
      "\u001b[31mSM_OUTPUT_DIR=/opt/ml/output\u001b[0m\n",
      "\u001b[31mSM_NUM_GPUS=0\u001b[0m\n",
      "\u001b[31mPYTHONPATH=/usr/local/bin:/usr/lib/python35.zip:/usr/lib/python3.5:/usr/lib/python3.5/plat-x86_64-linux-gnu:/usr/lib/python3.5/lib-dynload:/usr/local/lib/python3.5/dist-packages:/usr/lib/python3/dist-packages\u001b[0m\n",
      "\u001b[31mSM_LOG_LEVEL=20\u001b[0m\n",
      "\u001b[31mSM_OUTPUT_DATA_DIR=/opt/ml/output/data\u001b[0m\n",
      "\u001b[31mSM_CHANNEL_TRAIN=/opt/ml/input/data/train\u001b[0m\n",
      "\u001b[31mSM_HPS={}\u001b[0m\n",
      "\u001b[31mSM_MODEL_DIR=/opt/ml/model\u001b[0m\n",
      "\u001b[31mSM_TRAINING_ENV={\"additional_framework_parameters\":{},\"channel_input_dirs\":{\"train\":\"/opt/ml/input/data/train\"},\"current_host\":\"algo-1\",\"framework_module\":\"sagemaker_sklearn_container.training:main\",\"hosts\":[\"algo-1\"],\"hyperparameters\":{},\"input_config_dir\":\"/opt/ml/input/config\",\"input_data_config\":{\"train\":{\"RecordWrapperType\":\"None\",\"S3DistributionType\":\"FullyReplicated\",\"TrainingInputMode\":\"File\"}},\"input_dir\":\"/opt/ml/input\",\"job_name\":\"sagemaker-scikit-learn-2019-03-18-20-17-43-603\",\"log_level\":20,\"model_dir\":\"/opt/ml/model\",\"module_dir\":\"s3://sagemaker-us-east-2-207384830943/sagemaker-scikit-learn-2019-03-18-20-17-43-603/source/sourcedir.tar.gz\",\"module_name\":\"train_wine_gbt\",\"network_interface_name\":\"ethwe\",\"num_cpus\":4,\"num_gpus\":0,\"output_data_dir\":\"/opt/ml/output/data\",\"output_dir\":\"/opt/ml/output\",\"output_intermediate_dir\":\"/opt/ml/output/intermediate\",\"resource_config\":{\"current_host\":\"algo-1\",\"hosts\":[\"algo-1\"],\"network_interface_name\":\"ethwe\"},\"user_entry_point\":\"train_wine_gbt.py\"}\u001b[0m\n",
      "\u001b[31mSM_INPUT_DATA_CONFIG={\"train\":{\"RecordWrapperType\":\"None\",\"S3DistributionType\":\"FullyReplicated\",\"TrainingInputMode\":\"File\"}}\u001b[0m\n",
      "\u001b[31mSM_OUTPUT_INTERMEDIATE_DIR=/opt/ml/output/intermediate\u001b[0m\n",
      "\u001b[31mSM_FRAMEWORK_PARAMS={}\u001b[0m\n",
      "\u001b[31mSM_RESOURCE_CONFIG={\"current_host\":\"algo-1\",\"hosts\":[\"algo-1\"],\"network_interface_name\":\"ethwe\"}\u001b[0m\n",
      "\u001b[31mSM_NUM_CPUS=4\u001b[0m\n",
      "\u001b[31mSM_CURRENT_HOST=algo-1\u001b[0m\n",
      "\u001b[31mSM_INPUT_DIR=/opt/ml/input\n",
      "\u001b[0m\n",
      "\u001b[31mInvoking script with the following command:\n",
      "\u001b[0m\n",
      "\u001b[31m/usr/bin/python3 -m train_wine_gbt\n",
      "\n",
      "\u001b[0m\n",
      "\u001b[31mCollecting nltk\n",
      "  Downloading https://files.pythonhosted.org/packages/6f/ed/9c755d357d33bc1931e157f537721efb5b88d2c583fe593cc09603076cc3/nltk-3.4.zip (1.4MB)\u001b[0m\n",
      "\u001b[31mRequirement already satisfied, skipping upgrade: six in /usr/local/lib/python3.5/dist-packages (from nltk) (1.11.0)\u001b[0m\n",
      "\u001b[31mCollecting singledispatch (from nltk)\n",
      "  Downloading https://files.pythonhosted.org/packages/c5/10/369f50bcd4621b263927b0a1519987a04383d4a98fb10438042ad410cf88/singledispatch-3.4.0.3-py2.py3-none-any.whl\u001b[0m\n",
      "\u001b[31mBuilding wheels for collected packages: nltk\n",
      "  Running setup.py bdist_wheel for nltk: started\n",
      "  Running setup.py bdist_wheel for nltk: finished with status 'done'\n",
      "  Stored in directory: /root/.cache/pip/wheels/4b/c8/24/b2343664bcceb7147efeb21c0b23703a05b23fcfeaceaa2a1e\u001b[0m\n",
      "\u001b[31mSuccessfully built nltk\u001b[0m\n",
      "\u001b[31mInstalling collected packages: singledispatch, nltk\u001b[0m\n",
      "\u001b[31mSuccessfully installed nltk-3.4 singledispatch-3.4.0.3\u001b[0m\n",
      "\u001b[31mYou are using pip version 18.1, however version 19.0.3 is available.\u001b[0m\n",
      "\u001b[31mYou should consider upgrading via the 'pip install --upgrade pip' command.\u001b[0m\n",
      "\u001b[31mCollecting xgboost\n",
      "  Downloading https://files.pythonhosted.org/packages/6a/49/7e10686647f741bd9c8918b0decdb94135b542fe372ca1100739b8529503/xgboost-0.82-py2.py3-none-manylinux1_x86_64.whl (114.0MB)\u001b[0m\n",
      "\u001b[31mRequirement already satisfied, skipping upgrade: scipy in /usr/local/lib/python3.5/dist-packages (from xgboost) (1.1.0)\u001b[0m\n",
      "\u001b[31mRequirement already satisfied, skipping upgrade: numpy in /usr/local/lib/python3.5/dist-packages (from xgboost) (1.15.4)\u001b[0m\n",
      "\u001b[31mInstalling collected packages: xgboost\u001b[0m\n",
      "\u001b[31mSuccessfully installed xgboost-0.82\u001b[0m\n",
      "\u001b[31mYou are using pip version 18.1, however version 19.0.3 is available.\u001b[0m\n",
      "\u001b[31mYou should consider upgrading via the 'pip install --upgrade pip' command.\u001b[0m\n",
      "\u001b[31mCould not open requirements file: [Errno 2] No such file or directory: './requirements.txt'\u001b[0m\n",
      "\u001b[31mYou are using pip version 18.1, however version 19.0.3 is available.\u001b[0m\n",
      "\u001b[31mYou should consider upgrading via the 'pip install --upgrade pip' command.\u001b[0m\n",
      "\n",
      "2019-03-18 20:19:47 Training - Training image download completed. Training in progress.\u001b[31mLoading wine data\u001b[0m\n",
      "\u001b[31mMaking categorical features\u001b[0m\n",
      "\u001b[31mThere are 46 country categorical variables\u001b[0m\n",
      "\u001b[31mThere are 71 designation categorical variables\u001b[0m\n",
      "\u001b[31mThere are 113 province categorical variables\u001b[0m\n",
      "\u001b[31mThere are 308 region categorical variables\u001b[0m\n",
      "\u001b[31mThere are 133 variety categorical variables\u001b[0m\n",
      "\u001b[31mThere are 454 winery categorical variables\u001b[0m\n",
      "\u001b[31mCleaning document strings\u001b[0m\n",
      "\u001b[31mMaking latent document features using LSA\u001b[0m\n",
      "\u001b[31mTraining xgboost model!\u001b[0m\n",
      "\u001b[31m/usr/local/lib/python3.5/dist-packages/xgboost/core.py:587: FutureWarning: Series.base is deprecated and will be removed in a future version\n",
      "  if getattr(data, 'base', None) is not None and \\\u001b[0m\n",
      "\u001b[31m/usr/local/lib/python3.5/dist-packages/xgboost/core.py:588: FutureWarning: Series.base is deprecated and will be removed in a future version\n",
      "  data.base is not None and isinstance(data, np.ndarray) \\\u001b[0m\n",
      "\u001b[31m[0]#011train-mae:2.05928\u001b[0m\n",
      "\u001b[31mWill train until train-mae hasn't improved in 10 rounds.\u001b[0m\n",
      "\u001b[31m[1]#011train-mae:1.96473\u001b[0m\n",
      "\u001b[31m[2]#011train-mae:1.9276\u001b[0m\n",
      "\u001b[31m[3]#011train-mae:1.91007\u001b[0m\n",
      "\u001b[31m[4]#011train-mae:1.89553\u001b[0m\n",
      "\u001b[31m[5]#011train-mae:1.86515\u001b[0m\n",
      "\u001b[31m[6]#011train-mae:1.85085\u001b[0m\n",
      "\u001b[31m[7]#011train-mae:1.83477\u001b[0m\n",
      "\u001b[31m[8]#011train-mae:1.82796\u001b[0m\n",
      "\u001b[31m[9]#011train-mae:1.81882\u001b[0m\n",
      "\u001b[31mModel trained and saved!\u001b[0m\n",
      "\u001b[31m2019-03-18 20:20:44,054 sagemaker-containers INFO     Reporting training SUCCESS\u001b[0m\n",
      "\n",
      "2019-03-18 20:20:54 Uploading - Uploading generated training model\n",
      "2019-03-18 20:20:54 Completed - Training job completed\n",
      "Billable seconds: 77\n"
     ]
    }
   ],
   "source": [
    "sklearn.fit({'train': train_input})"
   ]
  },
  {
   "cell_type": "markdown",
   "metadata": {},
   "source": [
    "# Deploy it"
   ]
  },
  {
   "cell_type": "code",
   "execution_count": 23,
   "metadata": {},
   "outputs": [
    {
     "name": "stderr",
     "output_type": "stream",
     "text": [
      "INFO:sagemaker:Creating model with name: sagemaker-scikit-learn-2019-03-18-20-17-43-603\n",
      "INFO:sagemaker:Creating endpoint with name sagemaker-scikit-learn-2019-03-18-20-17-43-603\n"
     ]
    },
    {
     "name": "stdout",
     "output_type": "stream",
     "text": [
      "---------------------------------------------------------------------------!"
     ]
    }
   ],
   "source": [
    "predictor = sklearn.deploy(initial_instance_count=1, instance_type=\"ml.m4.xlarge\")"
   ]
  },
  {
   "cell_type": "code",
   "execution_count": 28,
   "metadata": {},
   "outputs": [
    {
     "data": {
      "text/plain": [
       "'sagemaker-scikit-learn-2019-03-18-20-17-43-603'"
      ]
     },
     "execution_count": 28,
     "metadata": {},
     "output_type": "execute_result"
    }
   ],
   "source": [
    "endpoint_name = predictor.endpoint\n",
    "endpoint_name"
   ]
  },
  {
   "cell_type": "markdown",
   "metadata": {},
   "source": [
    "# \"Inference\"/ Make Predictions"
   ]
  },
  {
   "cell_type": "code",
   "execution_count": 29,
   "metadata": {},
   "outputs": [],
   "source": [
    "feature_payload = {'country_Albania': 0.0, 'country_Argentina': 0.0, 'country_Australia': 0.0, 'country_Austria': 0.0, 'country_Bosnia and Herzegovina': 0.0, 'country_Brazil': 0.0, 'country_Bulgaria': 0.0, 'country_Canada': 0.0, 'country_Chile': 0.0, 'country_China': 0.0, 'country_Croatia': 0.0, 'country_Cyprus': 0.0, 'country_Czech Republic': 0.0, 'country_England': 0.0, 'country_France': 0.0, 'country_Georgia': 0.0, 'country_Germany': 0.0, 'country_Greece': 0.0, 'country_Hungary': 0.0, 'country_India': 0.0, 'country_Israel': 0.0, 'country_Italy': 0.0, 'country_Japan': 0.0, 'country_Lebanon': 0.0, 'country_Lithuania': 0.0, 'country_Luxembourg': 0.0, 'country_Macedonia': 0.0, 'country_Mexico': 0.0, 'country_Moldova': 0.0, 'country_Montenegro': 0.0, 'country_Morocco': 0.0, 'country_New Zealand': 0.0, 'country_Portugal': 0.0, 'country_Romania': 0.0, 'country_Serbia': 0.0, 'country_Slovakia': 0.0, 'country_Slovenia': 0.0, 'country_South Africa': 0.0, 'country_South Korea': 0.0, 'country_Spain': 0.0, 'country_Switzerland': 0.0, 'country_Turkey': 0.0, 'country_US': 1.0, 'country_US-France': 0.0, 'country_Ukraine': 0.0, 'country_Uruguay': 0.0, 'designation_Bacigalupi Vineyard': 0.0, 'designation_Barrel Fermented': 0.0, 'designation_Barrel Select': 0.0, 'designation_Bien Nacido Vineyard': 0.0, 'designation_Blanc de Blancs': 0.0, 'designation_Blanc de Blancs Brut': 0.0, 'designation_Broquel': 0.0, 'designation_Brut': 0.0, 'designation_Brut Rosé': 0.0, 'designation_Champoux Vineyard': 0.0, 'designation_Ciel du Cheval Vineyard': 0.0, 'designation_Classic': 0.0, 'designation_Crianza': 0.0, 'designation_Cuvée Prestige': 0.0, 'designation_Dry': 0.0, 'designation_Durell Vineyard': 0.0, 'designation_Dutton Ranch': 0.0, 'designation_Estate': 0.0, 'designation_Estate Bottled': 0.0, 'designation_Estate Grown': 0.0, 'designation_Estate Reserve': 0.0, 'designation_Estate Vineyard': 0.0, 'designation_Extra Dry': 0.0, 'designation_Flood Family Vineyards': 0.0, \"designation_Garys' Vineyard\": 0.0, 'designation_Gran Reserva': 0.0, 'designation_Grand Reserve': 0.0, 'designation_Kosher': 0.0, 'designation_La Cruz Vineyard': 0.0, 'designation_Late Bottled Vintage': 0.0, 'designation_Late Harvest': 0.0, 'designation_Limited Edition': 0.0, 'designation_Limited Release': 0.0, 'designation_Limited Selection': 0.0, 'designation_Oak Cask': 0.0, 'designation_Old Vine': 0.0, 'designation_Old Vines': 0.0, 'designation_Premium': 0.0, 'designation_Prestige': 0.0, 'designation_Private Reserve': 0.0, 'designation_Private Selection': 0.0, \"designation_Proprietor's Reserve\": 0.0, 'designation_Red': 0.0, 'designation_Red Wine': 0.0, 'designation_Reserva': 0.0, 'designation_Reserva Especial': 0.0, 'designation_Reserve': 0.0, 'designation_Riserva': 0.0, 'designation_Roble': 0.0, 'designation_Rosado': 0.0, \"designation_Rosella's Vineyard\": 0.0, 'designation_Rosé': 0.0, 'designation_Rosé of': 0.0, 'designation_Réserve': 0.0, 'designation_Sangiacomo Vineyard': 0.0, 'designation_Semi-Dry': 0.0, 'designation_Signature': 0.0, 'designation_Single Vineyard': 0.0, 'designation_Sleepy Hollow Vineyard': 0.0, 'designation_Special Reserve': 0.0, 'designation_Stagecoach Vineyard': 0.0, 'designation_Stillwater Creek Vineyard': 0.0, 'designation_Tinto': 0.0, 'designation_Tradition': 0.0, 'designation_Trocken': 0.0, 'designation_Two Vines': 0.0, 'designation_Unoaked': 0.0, 'designation_Vieilles Vignes': 0.0, 'designation_Vintage': 0.0, \"designation_Vintner's Reserve\": 0.0, 'designation_White': 0.0, 'region_Adelaide': 0.0, 'region_Adelaide Hills': 0.0, 'region_Aglianico del Vulture': 0.0, 'region_Alexander Valley': 0.0, 'region_Alicante': 0.0, 'region_Alsace': 0.0, 'region_Alto Adige': 0.0, 'region_Amador County': 0.0, 'region_Amarone della Valpolicella': 0.0, 'region_Amarone della Valpolicella Classico': 0.0, 'region_Anderson Valley': 0.0, 'region_Anjou': 0.0, 'region_Applegate Valley': 0.0, 'region_Argentina': 0.0, 'region_Arroyo Grande Valley': 0.0, 'region_Arroyo Seco': 0.0, 'region_Atlas Peak': 0.0, 'region_Barbaresco': 0.0, \"region_Barbera d'Alba\": 0.0, \"region_Barbera d'Alba Superiore\": 0.0, \"region_Barbera d'Asti\": 0.0, \"region_Barbera d'Asti Superiore\": 0.0, 'region_Barolo': 0.0, 'region_Barossa': 0.0, 'region_Barossa Valley': 0.0, 'region_Beaujolais': 0.0, 'region_Beaujolais-Villages': 0.0, 'region_Beaune': 0.0, 'region_Bennett Valley': 0.0, 'region_Bergerac': 0.0, 'region_Bergerac Sec': 0.0, 'region_Bierzo': 0.0, 'region_Blaye Côtes de Bordeaux': 0.0, 'region_Bolgheri': 0.0, 'region_Bolgheri Superiore': 0.0, 'region_Bordeaux': 0.0, 'region_Bordeaux Blanc': 0.0, 'region_Bordeaux Rosé': 0.0, 'region_Bordeaux Supérieur': 0.0, 'region_Bourgogne': 0.0, 'region_Brunello di Montalcino': 0.0, 'region_Cafayate': 0.0, 'region_Cahors': 0.0, 'region_Calatayud': 0.0, 'region_Calaveras County': 0.0, 'region_Calchaquí Valley': 0.0, 'region_California': 0.0, 'region_Calistoga': 0.0, 'region_Campania': 0.0, 'region_Campo de Borja': 0.0, 'region_Cariñena': 0.0, 'region_Carmel Valley': 0.0, 'region_Carneros': 0.0, 'region_Catalunya': 0.0, 'region_Cava': 0.0, 'region_Cayuga Lake': 0.0, 'region_Central Coast': 0.0, 'region_Chablis': 0.0, 'region_Chalk Hill': 0.0, 'region_Chalone': 0.0, 'region_Chambolle-Musigny': 0.0, 'region_Champagne': 0.0, 'region_Chassagne-Montrachet': 0.0, 'region_Chehalem Mountains': 0.0, 'region_Chianti': 0.0, 'region_Chianti Classico': 0.0, 'region_Chianti Colli Senesi': 0.0, 'region_Chianti Rufina': 0.0, 'region_Chinon': 0.0, 'region_Châteauneuf-du-Pape': 0.0, 'region_Cienega Valley': 0.0, 'region_Clare Valley': 0.0, 'region_Clarendon': 0.0, 'region_Clarksburg': 0.0, 'region_Colli Orientali del Friuli': 0.0, 'region_Colli della Toscana Centrale': 0.0, 'region_Collio': 0.0, 'region_Columbia Valley (OR)': 0.0, 'region_Columbia Valley (WA)': 0.0, 'region_Conegliano Valdobbiadene Prosecco Superiore': 0.0, 'region_Contra Costa County': 0.0, 'region_Coonawarra': 0.0, 'region_Corbières': 0.0, 'region_Cornas': 0.0, 'region_Costières de Nîmes': 0.0, \"region_Coteaux d'Aix-en-Provence\": 0.0, 'region_Coteaux du Languedoc': 0.0, 'region_Crozes-Hermitage': 0.0, \"region_Crémant d'Alsace\": 0.0, 'region_Crémant de Bourgogne': 0.0, 'region_Côte Rôtie': 0.0, 'region_Côtes de Bourg': 0.0, 'region_Côtes de Gascogne': 0.0, 'region_Côtes de Provence': 0.0, 'region_Côtes du Rhône': 0.0, 'region_Côtes du Rhône Villages': 0.0, 'region_Delle Venezie': 0.0, 'region_Diamond Mountain District': 0.0, \"region_Dolcetto d'Alba\": 0.0, 'region_Dry Creek Valley': 0.0, 'region_Dundee Hills': 0.0, 'region_Eden Valley': 0.0, 'region_Edna Valley': 0.0, 'region_El Dorado': 0.0, 'region_Eola-Amity Hills': 0.0, 'region_Etna': 0.0, 'region_Famatina Valley': 0.0, 'region_Fiano di Avellino': 0.0, 'region_Fiddletown': 0.0, 'region_Finger Lakes': 0.0, 'region_Franciacorta': 0.0, 'region_Friuli Grave': 0.0, 'region_Friuli Isonzo': 0.0, 'region_Gaillac': 0.0, 'region_Gevrey-Chambertin': 0.0, 'region_Gigondas': 0.0, 'region_Graves': 0.0, 'region_Greco di Tufo': 0.0, 'region_Green Valley': 0.0, 'region_Happy Canyon of Santa Barbara': 0.0, 'region_Haut-Médoc': 0.0, 'region_Hermitage': 0.0, 'region_High Valley': 0.0, 'region_Horse Heaven Hills': 0.0, 'region_Howell Mountain': 0.0, 'region_Hunter Valley': 0.0, 'region_Irpinia': 0.0, 'region_Isola dei Nuraghi': 0.0, 'region_Jerez': 0.0, 'region_Jumilla': 0.0, 'region_Knights Valley': 0.0, 'region_La Mancha': 0.0, 'region_Lake County': 0.0, 'region_Langhe': 0.0, 'region_Langhorne Creek': 0.0, 'region_Lazio': 0.0, 'region_Livermore Valley': 0.0, 'region_Lodi': 0.0, 'region_Long Island': 0.0, 'region_Los Carneros': 0.0, 'region_Lugana': 0.0, 'region_Luján de Cuyo': 0.0, 'region_Madiran': 0.0, 'region_Maipú': 0.0, 'region_Marche': 0.0, 'region_Maremma': 0.0, 'region_Maremma Toscana': 0.0, 'region_Margaret River': 0.0, 'region_Margaux': 0.0, 'region_Marin County': 0.0, 'region_McLaren Vale': 0.0, 'region_McMinnville': 0.0, 'region_Mendocino': 0.0, 'region_Mendocino County': 0.0, 'region_Mendocino Ridge': 0.0, 'region_Mendoza': 0.0, 'region_Mercurey': 0.0, 'region_Meursault': 0.0, 'region_Minervois': 0.0, \"region_Montepulciano d'Abruzzo\": 0.0, 'region_Monterey': 0.0, 'region_Monterey County': 0.0, 'region_Monticello': 0.0, 'region_Montsant': 0.0, 'region_Morellino di Scansano': 0.0, \"region_Moscato d'Asti\": 0.0, 'region_Mount Veeder': 0.0, 'region_Mt. Harlan': 0.0, 'region_Muscadet Sèvre et Maine': 0.0, 'region_Mâcon-Villages': 0.0, 'region_Médoc': 0.0, 'region_Napa': 0.0, 'region_Napa County': 0.0, 'region_Napa Valley': 1.0, 'region_Navarra': 0.0, 'region_Neuquén': 0.0, 'region_New Mexico': 0.0, 'region_New York': 0.0, 'region_Niagara Peninsula': 0.0, 'region_North Coast': 0.0, 'region_North Fork of Long Island': 0.0, 'region_Nuits-St.-Georges': 0.0, 'region_Oak Knoll District': 0.0, 'region_Oakville': 0.0, 'region_Okanagan Valley': 0.0, 'region_Oregon': 0.0, 'region_Paso Robles': 0.0, 'region_Pauillac': 0.0, \"region_Pays d'Oc\": 0.0, 'region_Penedès': 0.0, 'region_Pessac-Léognan': 0.0, 'region_Piedmont': 0.0, 'region_Pommard': 0.0, 'region_Pouilly-Fuissé': 0.0, 'region_Pouilly-Fumé': 0.0, 'region_Priorat': 0.0, 'region_Prosecco': 0.0, 'region_Prosecco Superiore di Cartizze': 0.0, 'region_Prosecco del Veneto': 0.0, 'region_Prosecco di Conegliano e Valdobbiadene': 0.0, 'region_Prosecco di Valdobbiadene': 0.0, 'region_Puglia': 0.0, 'region_Puligny-Montrachet': 0.0, 'region_Rattlesnake Hills': 0.0, 'region_Red Hills Lake County': 0.0, 'region_Red Mountain': 0.0, 'region_Redwood Valley': 0.0, 'region_Ribbon Ridge': 0.0, 'region_Ribera del Duero': 0.0, 'region_Rioja': 0.0, 'region_Rockpile': 0.0, 'region_Rogue Valley': 0.0, 'region_Rosso di Montalcino': 0.0, 'region_Rosso di Montepulciano': 0.0, 'region_Rueda': 0.0, 'region_Russian River Valley': 0.0, 'region_Rutherford': 0.0, 'region_Rutherglen': 0.0, 'region_Rías Baixas': 0.0, 'region_Río Negro Valley': 0.0, 'region_Sagrantino di Montefalco': 0.0, 'region_Saint-Estèphe': 0.0, 'region_Saint-Joseph': 0.0, 'region_Saint-Julien': 0.0, 'region_Saint-Émilion': 0.0, 'region_Salento': 0.0, 'region_Salta': 0.0, 'region_San Benito County': 0.0, 'region_San Juan': 0.0, 'region_San Luis Obispo County': 0.0, 'region_San Rafael': 0.0, 'region_Sancerre': 0.0, \"region_Sant'Antimo\": 0.0, 'region_Santa Barbara County': 0.0, 'region_Santa Clara Valley': 0.0, 'region_Santa Cruz Mountains': 0.0, 'region_Santa Lucia Highlands': 0.0, 'region_Santa Maria Valley': 0.0, 'region_Santa Ynez Valley': 0.0, 'region_Santenay': 0.0, 'region_Savigny-lès-Beaune': 0.0, 'region_Seneca Lake': 0.0, 'region_Shenandoah Valley (CA)': 0.0, 'region_Sicilia': 0.0, 'region_Sierra Foothills': 0.0, 'region_Snipes Mountain': 0.0, 'region_Soave': 0.0, 'region_Soave Classico': 0.0, 'region_Somontano': 0.0, 'region_Sonoma Coast': 0.0, 'region_Sonoma County': 0.0, 'region_Sonoma Mountain': 0.0, 'region_Sonoma Valley': 0.0, 'region_Sonoma-Napa': 0.0, 'region_South Australia': 0.0, 'region_South Eastern Australia': 0.0, 'region_Southern Oregon': 0.0, 'region_St. Helena': 0.0, 'region_Sta. Rita Hills': 0.0, 'region_Stags Leap District': 0.0, 'region_Taurasi': 0.0, 'region_Temecula': 0.0, 'region_Temecula Valley': 0.0, 'region_Terre Siciliane': 0.0, 'region_Tierra de Castilla': 0.0, 'region_Toro': 0.0, 'region_Toscana': 0.0, 'region_Trentino': 0.0, 'region_Trento': 0.0, 'region_Tupungato': 0.0, 'region_Uco Valley': 0.0, 'region_Umbria': 0.0, 'region_Umpqua Valley': 0.0, 'region_Utiel-Requena': 0.0, 'region_Valdeorras': 0.0, 'region_Valdepeñas': 0.0, 'region_Valencia': 0.0, 'region_Valpolicella Classico Superiore': 0.0, 'region_Valpolicella Classico Superiore Ripasso': 0.0, 'region_Valpolicella Superiore': 0.0, 'region_Valpolicella Superiore Ripasso': 0.0, 'region_Veneto': 0.0, 'region_Venezia Giulia': 0.0, 'region_Vermentino di Sardegna': 0.0, 'region_Vernaccia di San Gimignano': 0.0, 'region_Victoria': 0.0, 'region_Vigneti delle Dolomiti': 0.0, 'region_Vin Mousseux': 0.0, \"region_Vin de Pays d'Oc\": 0.0, 'region_Vin de Pays des Côtes de Gascogne': 0.0, 'region_Vino Nobile di Montepulciano': 0.0, 'region_Vino de la Tierra de Castilla': 0.0, 'region_Vino de la Tierra de Castilla y León': 0.0, 'region_Virginia': 0.0, 'region_Volnay': 0.0, 'region_Vosne-Romanée': 0.0, 'region_Vouvray': 0.0, 'region_Wahluke Slope': 0.0, 'region_Walla Walla Valley (OR)': 0.0, 'region_Walla Walla Valley (WA)': 0.0, 'region_Washington': 0.0, 'region_Western Australia': 0.0, 'region_Willamette Valley': 0.0, 'region_Yakima Valley': 0.0, 'region_Yamhill-Carlton District': 0.0, 'region_Yarra Valley': 0.0, 'region_Yorkville Highlands': 0.0, 'region_Yountville': 0.0, 'variety_Agiorgitiko': 0.0, 'variety_Aglianico': 0.0, 'variety_Albariño': 0.0, 'variety_Alsace white blend': 0.0, 'variety_Alvarinho': 0.0, 'variety_Arinto': 0.0, 'variety_Arneis': 0.0, 'variety_Assyrtico': 0.0, 'variety_Austrian Red Blend': 0.0, 'variety_Barbera': 0.0, 'variety_Blaufränkisch': 0.0, 'variety_Bonarda': 0.0, 'variety_Bordeaux-style Red Blend': 0.0, 'variety_Bordeaux-style White Blend': 0.0, 'variety_Cabernet Blend': 0.0, 'variety_Cabernet Franc': 0.0, 'variety_Cabernet Sauvignon': 1.0, 'variety_Cabernet Sauvignon-Carmenère': 0.0, 'variety_Cabernet Sauvignon-Malbec': 0.0, 'variety_Cabernet Sauvignon-Merlot': 0.0, 'variety_Cabernet Sauvignon-Shiraz': 0.0, 'variety_Cabernet Sauvignon-Syrah': 0.0, 'variety_Carignan': 0.0, 'variety_Carignano': 0.0, 'variety_Carmenère': 0.0, 'variety_Champagne Blend': 0.0, 'variety_Chardonnay': 0.0, 'variety_Chardonnay-Viognier': 0.0, 'variety_Chenin Blanc': 0.0, 'variety_Cortese': 0.0, 'variety_Corvina, Rondinella, Molinara': 0.0, 'variety_Dolcetto': 0.0, 'variety_Falanghina': 0.0, 'variety_Fiano': 0.0, 'variety_Friulano': 0.0, 'variety_Fumé Blanc': 0.0, 'variety_G-S-M': 0.0, 'variety_Gamay': 0.0, 'variety_Garganega': 0.0, 'variety_Garnacha': 0.0, 'variety_Gewürztraminer': 0.0, 'variety_Glera': 0.0, 'variety_Godello': 0.0, 'variety_Greco': 0.0, 'variety_Grenache': 0.0, 'variety_Grenache Blanc': 0.0, 'variety_Grenache-Syrah': 0.0, 'variety_Grillo': 0.0, 'variety_Grüner Veltliner': 0.0, 'variety_Lambrusco': 0.0, 'variety_Malbec': 0.0, 'variety_Malbec-Cabernet Sauvignon': 0.0, 'variety_Malbec-Merlot': 0.0, 'variety_Marsanne': 0.0, 'variety_Melon': 0.0, 'variety_Mencía': 0.0, 'variety_Meritage': 0.0, 'variety_Merlot': 0.0, 'variety_Merlot-Cabernet Sauvignon': 0.0, 'variety_Monastrell': 0.0, 'variety_Montepulciano': 0.0, 'variety_Moscato': 0.0, 'variety_Mourvèdre': 0.0, 'variety_Muscat': 0.0, 'variety_Muscat Canelli': 0.0, 'variety_Nebbiolo': 0.0, 'variety_Negroamaro': 0.0, 'variety_Nerello Mascalese': 0.0, \"variety_Nero d'Avola\": 0.0, 'variety_Petit Verdot': 0.0, 'variety_Petite Sirah': 0.0, 'variety_Petite Verdot': 0.0, 'variety_Pinot Bianco': 0.0, 'variety_Pinot Blanc': 0.0, 'variety_Pinot Grigio': 0.0, 'variety_Pinot Gris': 0.0, 'variety_Pinot Nero': 0.0, 'variety_Pinot Noir': 0.0, 'variety_Pinotage': 0.0, 'variety_Port': 0.0, 'variety_Portuguese Red': 0.0, 'variety_Portuguese White': 0.0, 'variety_Primitivo': 0.0, 'variety_Prosecco': 0.0, 'variety_Prugnolo Gentile': 0.0, 'variety_Red Blend': 0.0, 'variety_Rhône-style Red Blend': 0.0, 'variety_Rhône-style White Blend': 0.0, 'variety_Ribolla Gialla': 0.0, 'variety_Riesling': 0.0, 'variety_Rosé': 0.0, 'variety_Roussanne': 0.0, 'variety_Sagrantino': 0.0, 'variety_Sangiovese': 0.0, 'variety_Sangiovese Grosso': 0.0, 'variety_Sauvignon': 0.0, 'variety_Sauvignon Blanc': 0.0, 'variety_Sauvignon Blanc-Semillon': 0.0, 'variety_Semillon-Sauvignon Blanc': 0.0, 'variety_Sherry': 0.0, 'variety_Shiraz': 0.0, 'variety_Shiraz-Cabernet Sauvignon': 0.0, 'variety_Shiraz-Viognier': 0.0, 'variety_Silvaner': 0.0, 'variety_Sparkling Blend': 0.0, 'variety_Spätburgunder': 0.0, 'variety_St. Laurent': 0.0, 'variety_Syrah': 0.0, 'variety_Syrah-Cabernet': 0.0, 'variety_Sémillon': 0.0, 'variety_Tannat': 0.0, 'variety_Tempranillo': 0.0, 'variety_Tempranillo Blend': 0.0, 'variety_Tempranillo-Cabernet Sauvignon': 0.0, 'variety_Tempranillo-Garnacha': 0.0, 'variety_Tinta de Toro': 0.0, 'variety_Tinto Fino': 0.0, 'variety_Tinto del Pais': 0.0, 'variety_Tokaji': 0.0, 'variety_Torrontés': 0.0, 'variety_Touriga Nacional': 0.0, 'variety_Turbiana': 0.0, 'variety_Verdejo': 0.0, 'variety_Verdelho': 0.0, 'variety_Vermentino': 0.0, 'variety_Vernaccia': 0.0, 'variety_Vidal Blanc': 0.0, 'variety_Viognier': 0.0, 'variety_Viura': 0.0, 'variety_White Blend': 0.0, 'variety_Xinomavro': 0.0, 'variety_Zinfandel': 0.0, 'variety_Zweigelt': 0.0, 'winery_Abacela': 0.0, 'winery_Abeja': 0.0, 'winery_Adega Cooperativa de Borba': 0.0, 'winery_Adelaida': 0.0, 'winery_Adelsheim': 0.0, 'winery_Airfield Estates': 0.0, 'winery_Alexander Valley Vineyards': 0.0, 'winery_Alexandria Nicole': 0.0, 'winery_Alta Vista': 0.0, 'winery_Andeluna': 0.0, 'winery_Andrew Will': 0.0, 'winery_Apaltagua': 0.0, 'winery_Arboleda': 0.0, 'winery_Arbor Crest': 0.0, 'winery_Aresti': 0.0, 'winery_Arista': 0.0, 'winery_Arrowood': 0.0, 'winery_Artesa': 0.0, 'winery_Astoria': 0.0, 'winery_Babcock': 0.0, 'winery_Bacalhôa Wines of Portugal': 0.0, 'winery_Ballentine': 0.0, 'winery_Balletto': 0.0, 'winery_Barnard Griffin': 0.0, 'winery_Barnett': 0.0, 'winery_Barrister': 0.0, 'winery_Barton & Guestier': 0.0, 'winery_Basel Cellars': 0.0, 'winery_Beaulieu Vineyard': 0.0, 'winery_Benziger': 0.0, 'winery_Beringer': 0.0, 'winery_Bernard Magrez': 0.0, 'winery_Bernardus': 0.0, 'winery_Betz Family': 0.0, 'winery_Bianchi': 0.0, 'winery_Blackstone': 0.0, 'winery_Bodega Catena Zapata': 0.0, 'winery_Bodega Norton': 0.0, 'winery_Bodegas Navarro López': 0.0, 'winery_Bodegas Valdemar': 0.0, 'winery_Bogle': 0.0, 'winery_Bonterra': 0.0, 'winery_Borges': 0.0, 'winery_Bouchard Aîné & Fils': 0.0, 'winery_Bouchard Père & Fils': 0.0, 'winery_Boutari': 0.0, 'winery_Brancott': 0.0, 'winery_Brander': 0.0, 'winery_Brian Carter Cellars': 0.0, 'winery_Bründlmayer': 0.0, 'winery_Buena Vista': 0.0, 'winery_Buty': 0.0, 'winery_Byron': 0.0, 'winery_CVNE': 0.0, 'winery_Cadence': 0.0, 'winery_Calcareous': 0.0, 'winery_Calera': 0.0, 'winery_Caliterra': 0.0, 'winery_Cambria': 0.0, 'winery_Cameron Hughes': 0.0, 'winery_Campolargo': 0.0, 'winery_Cantina Santadi': 0.0, 'winery_Carlos Basso': 0.0, 'winery_Carmel': 0.0, 'winery_Carmen': 0.0, 'winery_Carpineto': 0.0, 'winery_Carr': 0.0, 'winery_Casa Silva': 0.0, 'winery_Castello Banfi': 0.0, 'winery_Castle Rock': 0.0, 'winery_Castoro Cellars': 0.0, 'winery_Cave B': 0.0, 'winery_Caves Aliança': 0.0, 'winery_Cayuse': 0.0, 'winery_Ceretto': 0.0, 'winery_Chalk Hill': 0.0, 'winery_Chandon': 0.0, 'winery_Chanson Père et Fils': 0.0, 'winery_Charles Krug': 0.0, 'winery_Chateau St. Jean': 0.0, 'winery_Chateau Ste. Michelle': 0.0, 'winery_Chehalem': 0.0, 'winery_Chilcas': 0.0, 'winery_Chimney Rock': 0.0, 'winery_Cinnabar': 0.0, 'winery_Clarendon Hills': 0.0, 'winery_Cline': 0.0, 'winery_Clos La Chance': 0.0, 'winery_Clos Pegase': 0.0, 'winery_Clos du Bois': 0.0, 'winery_Clos du Val': 0.0, 'winery_Columbia Crest': 0.0, 'winery_Columbia Winery': 0.0, 'winery_Companhia das Quintas': 0.0, 'winery_Concannon': 0.0, 'winery_Concha y Toro': 0.0, 'winery_Cono Sur': 0.0, 'winery_Covey Run': 0.0, 'winery_Craggy Range': 0.0, 'winery_Curtis': 0.0, 'winery_Cusumano': 0.0, 'winery_Cuvaison': 0.0, \"winery_D'Arenberg\": 0.0, 'winery_DFJ Vinhos': 0.0, 'winery_David Hill': 0.0, 'winery_De Bortoli': 0.0, 'winery_De Loach': 0.0, 'winery_De Martino': 0.0, 'winery_DeLille': 0.0, 'winery_Del Rio': 0.0, 'winery_Domaine Faiveley': 0.0, 'winery_Domaine Jean Bousquet': 0.0, 'winery_Domaine Serene': 0.0, 'winery_Domaine Zind-Humbrecht': 0.0, 'winery_Domaine de la Terre Rouge': 0.0, 'winery_Domaine des Baumard': 0.0, 'winery_Domaines Barons de Rothschild (Lafite)': 0.0, 'winery_Domaines Schlumberger': 0.0, 'winery_Domdechant Werner': 0.0, 'winery_Donnafugata': 0.0, 'winery_Dopff & Irion': 0.0, 'winery_Doyenne': 0.0, 'winery_Doña Paula': 0.0, 'winery_Dr. H. Thanisch (Erben Müller-Burggraef)': 0.0, 'winery_Dr. Konstantin Frank': 0.0, 'winery_Dr. Loosen': 0.0, 'winery_Dr. Pauly Bergweiler': 0.0, 'winery_Dry Creek Vineyard': 0.0, 'winery_Duca di Salaparuta': 0.0, 'winery_Duckhorn': 0.0, 'winery_Dunham': 0.0, 'winery_Dusted Valley': 0.0, 'winery_Dutton Estate': 0.0, 'winery_Dutton-Goldfield': 0.0, 'winery_Dão Sul': 0.0, 'winery_E. Guigal': 0.0, 'winery_EOS': 0.0, 'winery_Easton': 0.0, 'winery_Eberle': 0.0, 'winery_Echeverria': 0.0, 'winery_El Coto': 0.0, 'winery_Emiliana': 0.0, 'winery_Epiphany': 0.0, 'winery_Erath': 0.0, 'winery_Errazuriz': 0.0, 'winery_Estampa': 0.0, 'winery_Estancia': 0.0, 'winery_Etude': 0.0, 'winery_Failla': 0.0, 'winery_Familia Schroeder': 0.0, 'winery_Felton Road': 0.0, 'winery_Fenestra': 0.0, 'winery_Ferrari-Carano': 0.0, 'winery_Fess Parker': 0.0, 'winery_Fetzer': 0.0, 'winery_Feudi di San Gregorio': 0.0, 'winery_Feudo Arancio': 0.0, 'winery_Fidelitas': 0.0, 'winery_Finca Sophenia': 0.0, 'winery_Firestone': 0.0, 'winery_Flora Springs': 0.0, 'winery_Fournier Père et Fils': 0.0, 'winery_Foxen': 0.0, 'winery_Francis Ford Coppola': 0.0, 'winery_François Lurton': 0.0, 'winery_Freemark Abbey': 0.0, 'winery_Freixenet': 0.0, 'winery_Fritz': 0.0, \"winery_Frog's Leap\": 0.0, 'winery_Funky Llama': 0.0, 'winery_Gainey': 0.0, 'winery_Gamache': 0.0, 'winery_Gary Farrell': 0.0, 'winery_Georges Vigouroux': 0.0, 'winery_Geyser Peak': 0.0, 'winery_Girard': 0.0, 'winery_Glenora': 0.0, 'winery_Gloria Ferrer': 0.0, 'winery_Golan Heights Winery': 0.0, 'winery_Goldeneye': 0.0, 'winery_Gorman': 0.0, 'winery_Grgich Hills': 0.0, 'winery_Guenoc': 0.0, 'winery_Gunter Triebaumer': 0.0, 'winery_Gérard Bertrand': 0.0, 'winery_Hahn': 0.0, 'winery_Handley': 0.0, 'winery_Hanna': 0.0, 'winery_Hazlitt 1852 Vineyards': 0.0, 'winery_Hendry': 0.0, 'winery_Henri de Villamont': 0.0, 'winery_Herdade do Esporão': 0.0, 'winery_Heron Hill': 0.0, 'winery_Hogue': 0.0, 'winery_Husch': 0.0, 'winery_Iron Horse': 0.0, 'winery_Ironstone': 0.0, 'winery_J Vineyards & Winery': 0.0, 'winery_J. & F. Lurton': 0.0, 'winery_J. Lohr': 0.0, \"winery_Jacob's Creek\": 0.0, 'winery_Jaffurs': 0.0, 'winery_Januik': 0.0, 'winery_Joseph Drouhin': 0.0, 'winery_Joseph Phelps': 0.0, 'winery_Joseph Swan Vineyards': 0.0, 'winery_Justin': 0.0, 'winery_K Vintners': 0.0, 'winery_Keenan': 0.0, 'winery_Ken Wright': 0.0, 'winery_Kendall-Jackson': 0.0, 'winery_Kenwood': 0.0, 'winery_Kilikanoon': 0.0, 'winery_Kim Crawford': 0.0, 'winery_King Estate': 0.0, 'winery_Kirkland Signature': 0.0, 'winery_Kokomo': 0.0, 'winery_Korbel': 0.0, 'winery_Kumeu River': 0.0, 'winery_Kunde': 0.0, 'winery_Kynsi': 0.0, \"winery_L'Ecole No. 41\": 0.0, 'winery_La Chablisienne': 0.0, 'winery_La Crema': 0.0, 'winery_La Fenêtre': 0.0, 'winery_La Playa': 0.0, 'winery_La Rochelle': 0.0, 'winery_Labouré-Roi': 0.0, 'winery_Laetitia': 0.0, 'winery_Lagarde': 0.0, 'winery_Lamoreaux Landing': 0.0, 'winery_Lapostolle': 0.0, 'winery_Lava Cap': 0.0, 'winery_Leeuwin Estate': 0.0, 'winery_Lemelson': 0.0, 'winery_Leonetti Cellar': 0.0, 'winery_Lockwood': 0.0, 'winery_Longboard': 0.0, 'winery_Longoria': 0.0, 'winery_Loring Wine Company': 0.0, 'winery_Lost Canyon': 0.0, 'winery_Louis Jadot': 0.0, 'winery_Louis Latour': 0.0, 'winery_Louis M. Martini': 0.0, 'winery_Louis Roederer': 0.0, 'winery_Lucas & Lewellen': 0.0, 'winery_Lucien Albrecht': 0.0, 'winery_Luigi Bosca': 0.0, 'winery_Luis Felipe Edwards': 0.0, 'winery_Lungarotti': 0.0, 'winery_Lynmar': 0.0, 'winery_M. Chapoutier': 0.0, 'winery_MacPhail': 0.0, 'winery_Macari': 0.0, 'winery_Maddalena': 0.0, 'winery_Manuel Olivier': 0.0, 'winery_Marchesi Antinori': 0.0, 'winery_Marchesi di Barolo': 0.0, 'winery_Marimar Estate': 0.0, 'winery_Mark Ryan': 0.0, 'winery_Marqués de Cáceres': 0.0, 'winery_Martin & Weyrich': 0.0, 'winery_Martin Ranch': 0.0, 'winery_Martin Ray': 0.0, 'winery_Maryhill': 0.0, 'winery_Maximin Grünhäuser': 0.0, 'winery_Mazzei': 0.0, 'winery_Mazzocco': 0.0, 'winery_McManis': 0.0, 'winery_Melrose': 0.0, 'winery_Melville': 0.0, 'winery_Merry Edwards': 0.0, 'winery_Merryvale': 0.0, 'winery_Michel Torino': 0.0, 'winery_Midnight': 0.0, 'winery_Miguel Torres': 0.0, 'winery_Milbrandt': 0.0, 'winery_Minassian-Young': 0.0, 'winery_MontGras': 0.0, 'winery_Montes': 0.0, 'winery_Morandé': 0.0, 'winery_Morgan': 0.0, 'winery_Mounts': 0.0, 'winery_Mumm Napa': 0.0, 'winery_Murphy-Goode': 0.0, 'winery_Navarro': 0.0, 'winery_Nefarious Cellars': 0.0, 'winery_Neil Ellis': 0.0, 'winery_Nickel & Nickel': 0.0, 'winery_Niepoort': 0.0, 'winery_Nieto Senetiner': 0.0, 'winery_Nittnaus Hans und Christine': 0.0, 'winery_Novelty Hill': 0.0, 'winery_Novy': 0.0, 'winery_O. Fournier': 0.0, 'winery_Odfjell': 0.0, 'winery_Ojai': 0.0, 'winery_Olivier Leflaive': 0.0, 'winery_Owen Roe': 0.0, 'winery_Pali': 0.0, 'winery_Panther Creek': 0.0, 'winery_Paraiso Vineyards': 0.0, 'winery_Pascual Toso': 0.0, 'winery_Patz & Hall': 0.0, 'winery_Paul Jaboulet Aîné': 0.0, 'winery_Peachy Canyon': 0.0, 'winery_Pedroncelli': 0.0, 'winery_Peirano': 0.0, 'winery_Peju': 0.0, 'winery_Penfolds': 0.0, 'winery_Pessagno': 0.0, 'winery_Pierre Sparr': 0.0, 'winery_Pine Ridge': 0.0, 'winery_Pio Cesare': 0.0, 'winery_Planeta': 0.0, 'winery_Ponzi': 0.0, 'winery_Poças': 0.0, 'winery_Pratsch': 0.0, 'winery_Pride Mountain': 0.0, 'winery_Producteurs Plaimont': 0.0, 'winery_Quinta de Ventozelo': 0.0, 'winery_Quinta do Casal Branco': 0.0, 'winery_Quinta do Portal': 0.0, 'winery_Quivira': 0.0, 'winery_Ramos-Pinto': 0.0, 'winery_Ramón Bilbao': 0.0, 'winery_Rancho Sisquoc': 0.0, 'winery_Raymond': 0.0, 'winery_Recanati': 0.0, 'winery_Reichsgraf von Kesselstatt': 0.0, 'winery_Remy-Pannier': 0.0, 'winery_Renwood': 0.0, 'winery_Rex Hill': 0.0, 'winery_Robert Hall': 0.0, 'winery_Robert Mondavi': 0.0, 'winery_Rocca delle Macìe': 0.0, 'winery_Rock Wall': 0.0, 'winery_Rodney Strong': 0.0, 'winery_Roessler': 0.0, 'winery_Rosemount': 0.0, 'winery_Rosenblum': 0.0, 'winery_Rusack': 0.0, 'winery_Rutherford Hill': 0.0, 'winery_Rutini': 0.0, 'winery_Saint Clair': 0.0, 'winery_Salomon-Undhof': 0.0, 'winery_San Juan Vineyards': 0.0, 'winery_San Pedro': 0.0, 'winery_San Simeon': 0.0, 'winery_Santa Alicia': 0.0, 'winery_Santa Barbara Winery': 0.0, 'winery_Santa Carolina': 0.0, 'winery_Santa Ema': 0.0, 'winery_Santa Julia': 0.0, 'winery_Santa Rita': 0.0, 'winery_Saviah': 0.0, 'winery_Sbragia': 0.0, 'winery_Schramsberg': 0.0, 'winery_Schug': 0.0, 'winery_Sebastiani': 0.0, 'winery_Segura Viudas': 0.0, 'winery_Sequoia Grove': 0.0, 'winery_Seven Hills': 0.0, 'winery_Shafer': 0.0, 'winery_Shannon Ridge': 0.0, 'winery_Siduri': 0.0, 'winery_Sierra Cantabria': 0.0, 'winery_Signorello': 0.0, 'winery_Simonnet-Febvre': 0.0, 'winery_Sineann': 0.0, 'winery_Snoqualmie': 0.0, 'winery_Sobon Estate': 0.0, 'winery_Soléna': 0.0, 'winery_Sparkman': 0.0, 'winery_Spring Valley Vineyard': 0.0, 'winery_Spy Valley': 0.0, 'winery_St. Francis': 0.0, 'winery_St. Supéry': 0.0, \"winery_Stag's Leap Wine Cellars\": 0.0, 'winery_Standing Stone': 0.0, 'winery_Steele': 0.0, 'winery_Stephen Ross': 0.0, 'winery_Sterling': 0.0, 'winery_Steven Kent': 0.0, 'winery_Stevens': 0.0, 'winery_Summers': 0.0, 'winery_Sur de los Andes': 0.0, 'winery_Sylvester': 0.0, 'winery_Syncline': 0.0, 'winery_Tablas Creek': 0.0, 'winery_Talamonti': 0.0, 'winery_Talbott': 0.0, 'winery_Talley': 0.0, 'winery_Tamarack Cellars': 0.0, 'winery_Tamaya': 0.0, 'winery_Tandem': 0.0, 'winery_Tangent': 0.0, \"winery_Tasca d'Almerita\": 0.0, 'winery_Telmo Rodríguez': 0.0, 'winery_Terlato': 0.0, 'winery_TerraNoble': 0.0, 'winery_Terrazas de Los Andes': 0.0, 'winery_Terre Rouge': 0.0, 'winery_Tertulia': 0.0, 'winery_Testarossa': 0.0, 'winery_Thomas Fogarty': 0.0, 'winery_Three Rivers': 0.0, 'winery_Thurston Wolfe': 0.0, 'winery_Tolosa': 0.0, 'winery_Tommasi': 0.0, 'winery_Torii Mor': 0.0, 'winery_Torres': 0.0, 'winery_Trapiche': 0.0, 'winery_Trinchero': 0.0, 'winery_Trivento': 0.0, 'winery_Truchard': 0.0, 'winery_Umani Ronchi': 0.0, 'winery_Undurraga': 0.0, 'winery_V. Sattui': 0.0, 'winery_Valentin Bianchi': 0.0, \"winery_Valle dell'Acate\": 0.0, 'winery_Valley of the Moon': 0.0, 'winery_Ventisquero': 0.0, 'winery_Veramonte': 0.0, 'winery_Villa Maria': 0.0, 'winery_Vina Robles': 0.0, 'winery_Vine Cliff': 0.0, 'winery_Vinum': 0.0, 'winery_Viu Manent': 0.0, 'winery_Viña Bisquertt': 0.0, 'winery_Viña La Rosa': 0.0, 'winery_Viña Requingua': 0.0, 'winery_Viña Tabalí': 0.0, 'winery_Von Strasser': 0.0, 'winery_Wagner': 0.0, 'winery_Wakefield Estate': 0.0, 'winery_Waterbrook': 0.0, 'winery_Wellington': 0.0, 'winery_Wente': 0.0, 'winery_White Oak': 0.0, 'winery_Willamette Valley Vineyards': 0.0, 'winery_William Fèvre': 0.0, 'winery_William Hill Estate': 0.0, 'winery_Williams Selyem': 0.0, 'winery_Wilson': 0.0, 'winery_Wines & Winemakers': 0.0, 'winery_Winzer Krems': 0.0, 'winery_Woodward Canyon': 0.0, 'winery_Wölffer': 0.0, 'winery_X': 0.0, 'winery_Yalumba': 0.0, 'winery_Zaca Mesa': 0.0, 'winery_Zuccardi': 0.0, 'winery_Zull': 0.0, 'latent_description_0': 0.08963157398411953, 'latent_description_1': -0.0447220835941314, 'latent_description_2': -0.031750322450075995, 'latent_description_3': 0.02880994413163543, 'latent_description_4': 0.0033397272135805103, 'price': 20.0}"
   ]
  },
  {
   "cell_type": "code",
   "execution_count": 31,
   "metadata": {},
   "outputs": [
    {
     "ename": "KeyError",
     "evalue": "0",
     "output_type": "error",
     "traceback": [
      "\u001b[0;31m---------------------------------------------------------------------------\u001b[0m",
      "\u001b[0;31mKeyError\u001b[0m                                  Traceback (most recent call last)",
      "\u001b[0;32m<ipython-input-31-b0aaad9080c0>\u001b[0m in \u001b[0;36m<module>\u001b[0;34m()\u001b[0m\n\u001b[1;32m      9\u001b[0m     accept=CONTENT_TYPE_JSON)\n\u001b[1;32m     10\u001b[0m \u001b[0;34m\u001b[0m\u001b[0m\n\u001b[0;32m---> 11\u001b[0;31m \u001b[0mpredictor\u001b[0m\u001b[0;34m.\u001b[0m\u001b[0mpredict\u001b[0m\u001b[0;34m(\u001b[0m\u001b[0mfeature_payload\u001b[0m\u001b[0;34m)\u001b[0m\u001b[0;34m\u001b[0m\u001b[0m\n\u001b[0m",
      "\u001b[0;32m~/anaconda3/envs/python3/lib/python3.6/site-packages/sagemaker/predictor.py\u001b[0m in \u001b[0;36mpredict\u001b[0;34m(self, data, initial_args)\u001b[0m\n\u001b[1;32m     77\u001b[0m         \"\"\"\n\u001b[1;32m     78\u001b[0m \u001b[0;34m\u001b[0m\u001b[0m\n\u001b[0;32m---> 79\u001b[0;31m         \u001b[0mrequest_args\u001b[0m \u001b[0;34m=\u001b[0m \u001b[0mself\u001b[0m\u001b[0;34m.\u001b[0m\u001b[0m_create_request_args\u001b[0m\u001b[0;34m(\u001b[0m\u001b[0mdata\u001b[0m\u001b[0;34m,\u001b[0m \u001b[0minitial_args\u001b[0m\u001b[0;34m)\u001b[0m\u001b[0;34m\u001b[0m\u001b[0m\n\u001b[0m\u001b[1;32m     80\u001b[0m         \u001b[0mresponse\u001b[0m \u001b[0;34m=\u001b[0m \u001b[0mself\u001b[0m\u001b[0;34m.\u001b[0m\u001b[0msagemaker_session\u001b[0m\u001b[0;34m.\u001b[0m\u001b[0msagemaker_runtime_client\u001b[0m\u001b[0;34m.\u001b[0m\u001b[0minvoke_endpoint\u001b[0m\u001b[0;34m(\u001b[0m\u001b[0;34m**\u001b[0m\u001b[0mrequest_args\u001b[0m\u001b[0;34m)\u001b[0m\u001b[0;34m\u001b[0m\u001b[0m\n\u001b[1;32m     81\u001b[0m         \u001b[0;32mreturn\u001b[0m \u001b[0mself\u001b[0m\u001b[0;34m.\u001b[0m\u001b[0m_handle_response\u001b[0m\u001b[0;34m(\u001b[0m\u001b[0mresponse\u001b[0m\u001b[0;34m)\u001b[0m\u001b[0;34m\u001b[0m\u001b[0m\n",
      "\u001b[0;32m~/anaconda3/envs/python3/lib/python3.6/site-packages/sagemaker/predictor.py\u001b[0m in \u001b[0;36m_create_request_args\u001b[0;34m(self, data, initial_args)\u001b[0m\n\u001b[1;32m    103\u001b[0m \u001b[0;34m\u001b[0m\u001b[0m\n\u001b[1;32m    104\u001b[0m         \u001b[0;32mif\u001b[0m \u001b[0mself\u001b[0m\u001b[0;34m.\u001b[0m\u001b[0mserializer\u001b[0m \u001b[0;32mis\u001b[0m \u001b[0;32mnot\u001b[0m \u001b[0;32mNone\u001b[0m\u001b[0;34m:\u001b[0m\u001b[0;34m\u001b[0m\u001b[0m\n\u001b[0;32m--> 105\u001b[0;31m             \u001b[0mdata\u001b[0m \u001b[0;34m=\u001b[0m \u001b[0mself\u001b[0m\u001b[0;34m.\u001b[0m\u001b[0mserializer\u001b[0m\u001b[0;34m(\u001b[0m\u001b[0mdata\u001b[0m\u001b[0;34m)\u001b[0m\u001b[0;34m\u001b[0m\u001b[0m\n\u001b[0m\u001b[1;32m    106\u001b[0m \u001b[0;34m\u001b[0m\u001b[0m\n\u001b[1;32m    107\u001b[0m         \u001b[0margs\u001b[0m\u001b[0;34m[\u001b[0m\u001b[0;34m'Body'\u001b[0m\u001b[0;34m]\u001b[0m \u001b[0;34m=\u001b[0m \u001b[0mdata\u001b[0m\u001b[0;34m\u001b[0m\u001b[0m\n",
      "\u001b[0;32m~/anaconda3/envs/python3/lib/python3.6/site-packages/sagemaker/predictor.py\u001b[0m in \u001b[0;36m__call__\u001b[0;34m(self, data)\u001b[0m\n\u001b[1;32m    172\u001b[0m         \"\"\"\n\u001b[1;32m    173\u001b[0m         \u001b[0;31m# For inputs which represent multiple \"rows\", the result should be newline-separated CSV rows\u001b[0m\u001b[0;34m\u001b[0m\u001b[0;34m\u001b[0m\u001b[0m\n\u001b[0;32m--> 174\u001b[0;31m         \u001b[0;32mif\u001b[0m \u001b[0m_is_mutable_sequence_like\u001b[0m\u001b[0;34m(\u001b[0m\u001b[0mdata\u001b[0m\u001b[0;34m)\u001b[0m \u001b[0;32mand\u001b[0m \u001b[0mlen\u001b[0m\u001b[0;34m(\u001b[0m\u001b[0mdata\u001b[0m\u001b[0;34m)\u001b[0m \u001b[0;34m>\u001b[0m \u001b[0;36m0\u001b[0m \u001b[0;32mand\u001b[0m \u001b[0m_is_sequence_like\u001b[0m\u001b[0;34m(\u001b[0m\u001b[0mdata\u001b[0m\u001b[0;34m[\u001b[0m\u001b[0;36m0\u001b[0m\u001b[0;34m]\u001b[0m\u001b[0;34m)\u001b[0m\u001b[0;34m:\u001b[0m\u001b[0;34m\u001b[0m\u001b[0m\n\u001b[0m\u001b[1;32m    175\u001b[0m             \u001b[0;32mreturn\u001b[0m \u001b[0;34m'\\n'\u001b[0m\u001b[0;34m.\u001b[0m\u001b[0mjoin\u001b[0m\u001b[0;34m(\u001b[0m\u001b[0;34m[\u001b[0m\u001b[0m_CsvSerializer\u001b[0m\u001b[0;34m.\u001b[0m\u001b[0m_serialize_row\u001b[0m\u001b[0;34m(\u001b[0m\u001b[0mrow\u001b[0m\u001b[0;34m)\u001b[0m \u001b[0;32mfor\u001b[0m \u001b[0mrow\u001b[0m \u001b[0;32min\u001b[0m \u001b[0mdata\u001b[0m\u001b[0;34m]\u001b[0m\u001b[0;34m)\u001b[0m\u001b[0;34m\u001b[0m\u001b[0m\n\u001b[1;32m    176\u001b[0m         \u001b[0;32mreturn\u001b[0m \u001b[0m_CsvSerializer\u001b[0m\u001b[0;34m.\u001b[0m\u001b[0m_serialize_row\u001b[0m\u001b[0;34m(\u001b[0m\u001b[0mdata\u001b[0m\u001b[0;34m)\u001b[0m\u001b[0;34m\u001b[0m\u001b[0m\n",
      "\u001b[0;31mKeyError\u001b[0m: 0"
     ]
    }
   ],
   "source": [
    "from sagemaker.predictor import json_serializer, csv_serializer, json_deserializer, RealTimePredictor\n",
    "from sagemaker.content_types import CONTENT_TYPE_CSV, CONTENT_TYPE_JSON\n",
    "\n",
    "predictor = RealTimePredictor(\n",
    "    endpoint=endpoint_name,\n",
    "    sagemaker_session=sagemaker_session,\n",
    "    serializer=csv_serializer,\n",
    "    content_type=CONTENT_TYPE_CSV,\n",
    "    accept=CONTENT_TYPE_JSON)\n",
    "\n",
    "predictor.predict(data=feature_payload)"
   ]
  },
  {
   "cell_type": "markdown",
   "metadata": {},
   "source": [
    "# Curl Request"
   ]
  },
  {
   "cell_type": "code",
   "execution_count": null,
   "metadata": {},
   "outputs": [],
   "source": []
  }
 ],
 "metadata": {
  "kernelspec": {
   "display_name": "conda_python3",
   "language": "python",
   "name": "conda_python3"
  },
  "language_info": {
   "codemirror_mode": {
    "name": "ipython",
    "version": 3
   },
   "file_extension": ".py",
   "mimetype": "text/x-python",
   "name": "python",
   "nbconvert_exporter": "python",
   "pygments_lexer": "ipython3",
   "version": "3.6.5"
  }
 },
 "nbformat": 4,
 "nbformat_minor": 2
}
