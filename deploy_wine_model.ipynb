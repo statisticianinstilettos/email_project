{
 "cells": [
  {
   "cell_type": "markdown",
   "metadata": {},
   "source": [
    "# Setup"
   ]
  },
  {
   "cell_type": "code",
   "execution_count": 1,
   "metadata": {},
   "outputs": [],
   "source": [
    "# S3 prefix\n",
    "prefix = 'Scikit-wine'\n",
    "\n",
    "import sagemaker\n",
    "from sagemaker import get_execution_role\n",
    "\n",
    "sagemaker_session = sagemaker.Session()\n",
    "\n",
    "# Get a SageMaker-compatible role used by this Notebook Instance.\n",
    "role = get_execution_role()"
   ]
  },
  {
   "cell_type": "code",
   "execution_count": 2,
   "metadata": {},
   "outputs": [],
   "source": [
    "WORK_DIRECTORY = 'data'\n",
    "train_input = sagemaker_session.upload_data(WORK_DIRECTORY, key_prefix=\"{}/{}\".format(prefix, WORK_DIRECTORY) )"
   ]
  },
  {
   "cell_type": "code",
   "execution_count": 3,
   "metadata": {},
   "outputs": [
    {
     "data": {
      "text/plain": [
       "'s3://sagemaker-us-east-2-207384830943/Scikit-wine/data'"
      ]
     },
     "execution_count": 3,
     "metadata": {},
     "output_type": "execute_result"
    }
   ],
   "source": [
    "train_input"
   ]
  },
  {
   "cell_type": "markdown",
   "metadata": {},
   "source": [
    "# Create SageMaker Scikit Estimator and Train Model"
   ]
  },
  {
   "cell_type": "code",
   "execution_count": 4,
   "metadata": {},
   "outputs": [],
   "source": [
    "from sagemaker.sklearn.estimator import SKLearn\n",
    "script_path = 'train_wine_gbt.py'\n",
    "\n",
    "sklearn = SKLearn(\n",
    "    entry_point=script_path,\n",
    "    train_instance_type=\"ml.c4.xlarge\",\n",
    "    role=role,\n",
    "    sagemaker_session=sagemaker_session,\n",
    "    hyperparameters={})"
   ]
  },
  {
   "cell_type": "code",
   "execution_count": 5,
   "metadata": {},
   "outputs": [
    {
     "name": "stderr",
     "output_type": "stream",
     "text": [
      "INFO:sagemaker:Creating training-job with name: sagemaker-scikit-learn-2019-03-25-23-44-09-824\n"
     ]
    },
    {
     "name": "stdout",
     "output_type": "stream",
     "text": [
      "2019-03-25 23:44:10 Starting - Starting the training job...\n",
      "2019-03-25 23:44:11 Starting - Launching requested ML instances......\n",
      "2019-03-25 23:45:12 Starting - Preparing the instances for training......\n",
      "2019-03-25 23:46:26 Downloading - Downloading input data\n",
      "2019-03-25 23:46:26 Training - Training image download completed. Training in progress.\n",
      "\u001b[31m2019-03-25 23:46:27,266 sagemaker-containers INFO     Imported framework sagemaker_sklearn_container.training\u001b[0m\n",
      "\u001b[31m2019-03-25 23:46:27,269 sagemaker-containers INFO     No GPUs detected (normal if no gpus installed)\u001b[0m\n",
      "\u001b[31m2019-03-25 23:46:27,292 sagemaker_sklearn_container.training INFO     Invoking user training script.\u001b[0m\n",
      "\u001b[31m2019-03-25 23:46:27,573 sagemaker-containers INFO     Module train_wine_gbt does not provide a setup.py. \u001b[0m\n",
      "\u001b[31mGenerating setup.py\u001b[0m\n",
      "\u001b[31m2019-03-25 23:46:27,573 sagemaker-containers INFO     Generating setup.cfg\u001b[0m\n",
      "\u001b[31m2019-03-25 23:46:27,573 sagemaker-containers INFO     Generating MANIFEST.in\u001b[0m\n",
      "\u001b[31m2019-03-25 23:46:27,574 sagemaker-containers INFO     Installing module with the following command:\u001b[0m\n",
      "\u001b[31m/usr/bin/python3 -m pip install -U . \u001b[0m\n",
      "\u001b[31mProcessing /opt/ml/code\u001b[0m\n",
      "\u001b[31mBuilding wheels for collected packages: train-wine-gbt\n",
      "  Running setup.py bdist_wheel for train-wine-gbt: started\n",
      "  Running setup.py bdist_wheel for train-wine-gbt: finished with status 'done'\n",
      "  Stored in directory: /tmp/pip-ephem-wheel-cache-bo95hiij/wheels/35/24/16/37574d11bf9bde50616c67372a334f94fa8356bc7164af8ca3\u001b[0m\n",
      "\u001b[31mSuccessfully built train-wine-gbt\u001b[0m\n",
      "\u001b[31mInstalling collected packages: train-wine-gbt\u001b[0m\n",
      "\u001b[31mSuccessfully installed train-wine-gbt-1.0.0\u001b[0m\n",
      "\u001b[31mYou are using pip version 18.1, however version 19.0.3 is available.\u001b[0m\n",
      "\u001b[31mYou should consider upgrading via the 'pip install --upgrade pip' command.\u001b[0m\n",
      "\u001b[31m2019-03-25 23:46:28,881 sagemaker-containers INFO     No GPUs detected (normal if no gpus installed)\u001b[0m\n",
      "\u001b[31m2019-03-25 23:46:28,893 sagemaker-containers INFO     Invoking user script\n",
      "\u001b[0m\n",
      "\u001b[31mTraining Env:\n",
      "\u001b[0m\n",
      "\u001b[31m{\n",
      "    \"module_dir\": \"s3://sagemaker-us-east-2-207384830943/sagemaker-scikit-learn-2019-03-25-23-44-09-824/source/sourcedir.tar.gz\",\n",
      "    \"num_cpus\": 4,\n",
      "    \"resource_config\": {\n",
      "        \"current_host\": \"algo-1\",\n",
      "        \"hosts\": [\n",
      "            \"algo-1\"\n",
      "        ],\n",
      "        \"network_interface_name\": \"ethwe\"\n",
      "    },\n",
      "    \"output_data_dir\": \"/opt/ml/output/data\",\n",
      "    \"module_name\": \"train_wine_gbt\",\n",
      "    \"output_dir\": \"/opt/ml/output\",\n",
      "    \"network_interface_name\": \"ethwe\",\n",
      "    \"log_level\": 20,\n",
      "    \"user_entry_point\": \"train_wine_gbt.py\",\n",
      "    \"input_config_dir\": \"/opt/ml/input/config\",\n",
      "    \"channel_input_dirs\": {\n",
      "        \"train\": \"/opt/ml/input/data/train\"\n",
      "    },\n",
      "    \"model_dir\": \"/opt/ml/model\",\n",
      "    \"input_data_config\": {\n",
      "        \"train\": {\n",
      "            \"RecordWrapperType\": \"None\",\n",
      "            \"TrainingInputMode\": \"File\",\n",
      "            \"S3DistributionType\": \"FullyReplicated\"\n",
      "        }\n",
      "    },\n",
      "    \"hyperparameters\": {},\n",
      "    \"current_host\": \"algo-1\",\n",
      "    \"hosts\": [\n",
      "        \"algo-1\"\n",
      "    ],\n",
      "    \"input_dir\": \"/opt/ml/input\",\n",
      "    \"framework_module\": \"sagemaker_sklearn_container.training:main\",\n",
      "    \"num_gpus\": 0,\n",
      "    \"output_intermediate_dir\": \"/opt/ml/output/intermediate\",\n",
      "    \"job_name\": \"sagemaker-scikit-learn-2019-03-25-23-44-09-824\",\n",
      "    \"additional_framework_parameters\": {}\u001b[0m\n",
      "\u001b[31m}\n",
      "\u001b[0m\n",
      "\u001b[31mEnvironment variables:\n",
      "\u001b[0m\n",
      "\u001b[31mSM_HOSTS=[\"algo-1\"]\u001b[0m\n",
      "\u001b[31mSM_LOG_LEVEL=20\u001b[0m\n",
      "\u001b[31mSM_RESOURCE_CONFIG={\"current_host\":\"algo-1\",\"hosts\":[\"algo-1\"],\"network_interface_name\":\"ethwe\"}\u001b[0m\n",
      "\u001b[31mSM_FRAMEWORK_PARAMS={}\u001b[0m\n",
      "\u001b[31mSM_HPS={}\u001b[0m\n",
      "\u001b[31mSM_INPUT_DIR=/opt/ml/input\u001b[0m\n",
      "\u001b[31mSM_NUM_GPUS=0\u001b[0m\n",
      "\u001b[31mSM_MODULE_NAME=train_wine_gbt\u001b[0m\n",
      "\u001b[31mSM_NUM_CPUS=4\u001b[0m\n",
      "\u001b[31mSM_OUTPUT_DIR=/opt/ml/output\u001b[0m\n",
      "\u001b[31mSM_USER_ARGS=[]\u001b[0m\n",
      "\u001b[31mSM_USER_ENTRY_POINT=train_wine_gbt.py\u001b[0m\n",
      "\u001b[31mSM_CHANNEL_TRAIN=/opt/ml/input/data/train\u001b[0m\n",
      "\u001b[31mSM_MODULE_DIR=s3://sagemaker-us-east-2-207384830943/sagemaker-scikit-learn-2019-03-25-23-44-09-824/source/sourcedir.tar.gz\u001b[0m\n",
      "\u001b[31mPYTHONPATH=/usr/local/bin:/usr/lib/python35.zip:/usr/lib/python3.5:/usr/lib/python3.5/plat-x86_64-linux-gnu:/usr/lib/python3.5/lib-dynload:/usr/local/lib/python3.5/dist-packages:/usr/lib/python3/dist-packages\u001b[0m\n",
      "\u001b[31mSM_TRAINING_ENV={\"additional_framework_parameters\":{},\"channel_input_dirs\":{\"train\":\"/opt/ml/input/data/train\"},\"current_host\":\"algo-1\",\"framework_module\":\"sagemaker_sklearn_container.training:main\",\"hosts\":[\"algo-1\"],\"hyperparameters\":{},\"input_config_dir\":\"/opt/ml/input/config\",\"input_data_config\":{\"train\":{\"RecordWrapperType\":\"None\",\"S3DistributionType\":\"FullyReplicated\",\"TrainingInputMode\":\"File\"}},\"input_dir\":\"/opt/ml/input\",\"job_name\":\"sagemaker-scikit-learn-2019-03-25-23-44-09-824\",\"log_level\":20,\"model_dir\":\"/opt/ml/model\",\"module_dir\":\"s3://sagemaker-us-east-2-207384830943/sagemaker-scikit-learn-2019-03-25-23-44-09-824/source/sourcedir.tar.gz\",\"module_name\":\"train_wine_gbt\",\"network_interface_name\":\"ethwe\",\"num_cpus\":4,\"num_gpus\":0,\"output_data_dir\":\"/opt/ml/output/data\",\"output_dir\":\"/opt/ml/output\",\"output_intermediate_dir\":\"/opt/ml/output/intermediate\",\"resource_config\":{\"current_host\":\"algo-1\",\"hosts\":[\"algo-1\"],\"network_interface_name\":\"ethwe\"},\"user_entry_point\":\"train_wine_gbt.py\"}\u001b[0m\n",
      "\u001b[31mSM_FRAMEWORK_MODULE=sagemaker_sklearn_container.training:main\u001b[0m\n",
      "\u001b[31mSM_CHANNELS=[\"train\"]\u001b[0m\n",
      "\u001b[31mSM_CURRENT_HOST=algo-1\u001b[0m\n",
      "\u001b[31mSM_INPUT_CONFIG_DIR=/opt/ml/input/config\u001b[0m\n",
      "\u001b[31mSM_NETWORK_INTERFACE_NAME=ethwe\u001b[0m\n",
      "\u001b[31mSM_OUTPUT_DATA_DIR=/opt/ml/output/data\u001b[0m\n",
      "\u001b[31mSM_MODEL_DIR=/opt/ml/model\u001b[0m\n",
      "\u001b[31mSM_OUTPUT_INTERMEDIATE_DIR=/opt/ml/output/intermediate\u001b[0m\n",
      "\u001b[31mSM_INPUT_DATA_CONFIG={\"train\":{\"RecordWrapperType\":\"None\",\"S3DistributionType\":\"FullyReplicated\",\"TrainingInputMode\":\"File\"}}\n",
      "\u001b[0m\n",
      "\u001b[31mInvoking script with the following command:\n",
      "\u001b[0m\n",
      "\u001b[31m/usr/bin/python3 -m train_wine_gbt\n",
      "\n",
      "\u001b[0m\n",
      "\u001b[31mCollecting nltk\n",
      "  Downloading https://files.pythonhosted.org/packages/6f/ed/9c755d357d33bc1931e157f537721efb5b88d2c583fe593cc09603076cc3/nltk-3.4.zip (1.4MB)\u001b[0m\n",
      "\u001b[31mRequirement already satisfied, skipping upgrade: six in /usr/local/lib/python3.5/dist-packages (from nltk) (1.11.0)\u001b[0m\n",
      "\u001b[31mCollecting singledispatch (from nltk)\n",
      "  Downloading https://files.pythonhosted.org/packages/c5/10/369f50bcd4621b263927b0a1519987a04383d4a98fb10438042ad410cf88/singledispatch-3.4.0.3-py2.py3-none-any.whl\u001b[0m\n",
      "\u001b[31mBuilding wheels for collected packages: nltk\n",
      "  Running setup.py bdist_wheel for nltk: started\u001b[0m\n",
      "\u001b[31m  Running setup.py bdist_wheel for nltk: finished with status 'done'\n",
      "  Stored in directory: /root/.cache/pip/wheels/4b/c8/24/b2343664bcceb7147efeb21c0b23703a05b23fcfeaceaa2a1e\u001b[0m\n",
      "\u001b[31mSuccessfully built nltk\u001b[0m\n",
      "\u001b[31mInstalling collected packages: singledispatch, nltk\u001b[0m\n",
      "\u001b[31mSuccessfully installed nltk-3.4 singledispatch-3.4.0.3\u001b[0m\n",
      "\u001b[31mYou are using pip version 18.1, however version 19.0.3 is available.\u001b[0m\n",
      "\u001b[31mYou should consider upgrading via the 'pip install --upgrade pip' command.\u001b[0m\n",
      "\u001b[31mCollecting xgboost\u001b[0m\n",
      "\u001b[31m  Downloading https://files.pythonhosted.org/packages/6a/49/7e10686647f741bd9c8918b0decdb94135b542fe372ca1100739b8529503/xgboost-0.82-py2.py3-none-manylinux1_x86_64.whl (114.0MB)\u001b[0m\n",
      "\u001b[31mRequirement already satisfied, skipping upgrade: scipy in /usr/local/lib/python3.5/dist-packages (from xgboost) (1.1.0)\u001b[0m\n",
      "\u001b[31mRequirement already satisfied, skipping upgrade: numpy in /usr/local/lib/python3.5/dist-packages (from xgboost) (1.15.4)\u001b[0m\n",
      "\u001b[31mInstalling collected packages: xgboost\u001b[0m\n",
      "\u001b[31mSuccessfully installed xgboost-0.82\u001b[0m\n",
      "\u001b[31mYou are using pip version 18.1, however version 19.0.3 is available.\u001b[0m\n",
      "\u001b[31mYou should consider upgrading via the 'pip install --upgrade pip' command.\u001b[0m\n",
      "\u001b[31mLoading wine data\u001b[0m\n",
      "\u001b[31mCleaning document strings\u001b[0m\n",
      "\u001b[31mMaking latent document features using LSA\u001b[0m\n",
      "\n",
      "2019-03-25 23:47:08 Uploading - Uploading generated training model\u001b[31mTFIDF processor trained and saved!\u001b[0m\n",
      "\u001b[31mSVD processor trained and saved!\n",
      "   latent_description_0  ...    price\u001b[0m\n",
      "\u001b[31m0              0.122660  ...    235.0\u001b[0m\n",
      "\u001b[31m1              0.135296  ...    110.0\n",
      "\u001b[0m\n",
      "\u001b[31m[2 rows x 6 columns]\u001b[0m\n",
      "\u001b[31mTraining xgboost model!\u001b[0m\n",
      "\u001b[31m/usr/local/lib/python3.5/dist-packages/xgboost/core.py:587: FutureWarning: Series.base is deprecated and will be removed in a future version\n",
      "  if getattr(data, 'base', None) is not None and \\\u001b[0m\n",
      "\u001b[31m/usr/local/lib/python3.5/dist-packages/xgboost/core.py:588: FutureWarning: Series.base is deprecated and will be removed in a future version\n",
      "  data.base is not None and isinstance(data, np.ndarray) \\\u001b[0m\n",
      "\u001b[31m[0]#011train-mae:2.05988\u001b[0m\n",
      "\u001b[31mWill train until train-mae hasn't improved in 10 rounds.\u001b[0m\n",
      "\u001b[31m[1]#011train-mae:1.97378\u001b[0m\n",
      "\u001b[31m[2]#011train-mae:1.93153\u001b[0m\n",
      "\u001b[31m[3]#011train-mae:1.91383\u001b[0m\n",
      "\u001b[31m[4]#011train-mae:1.8995\u001b[0m\n",
      "\u001b[31m[5]#011train-mae:1.88586\u001b[0m\n",
      "\u001b[31m[6]#011train-mae:1.86425\u001b[0m\n",
      "\u001b[31m[7]#011train-mae:1.85264\u001b[0m\n",
      "\u001b[31m[8]#011train-mae:1.84428\u001b[0m\n",
      "\u001b[31m[9]#011train-mae:1.84015\u001b[0m\n",
      "\u001b[31mModel trained and saved!\u001b[0m\n",
      "\u001b[31m2019-03-25 23:47:03,629 sagemaker-containers INFO     Reporting training SUCCESS\u001b[0m\n",
      "\n",
      "2019-03-25 23:47:13 Completed - Training job completed\n",
      "Billable seconds: 60\n"
     ]
    }
   ],
   "source": [
    "sklearn.fit({'train': train_input})"
   ]
  },
  {
   "cell_type": "markdown",
   "metadata": {},
   "source": [
    "# Deploy it"
   ]
  },
  {
   "cell_type": "code",
   "execution_count": 12,
   "metadata": {},
   "outputs": [
    {
     "name": "stderr",
     "output_type": "stream",
     "text": [
      "INFO:sagemaker:Creating model with name: sagemaker-scikit-learn-2019-03-25-23-44-09-824\n",
      "WARNING:sagemaker:Using already existing model: sagemaker-scikit-learn-2019-03-25-23-44-09-824\n",
      "INFO:sagemaker:Creating endpoint with name sagemaker-scikit-learn-2019-03-25-23-44-09-824\n"
     ]
    },
    {
     "name": "stdout",
     "output_type": "stream",
     "text": [
      "--------------------------------------------------------------------------!"
     ]
    }
   ],
   "source": [
    "predictor = sklearn.deploy(initial_instance_count=1, instance_type=\"ml.m4.xlarge\")"
   ]
  },
  {
   "cell_type": "code",
   "execution_count": 14,
   "metadata": {},
   "outputs": [
    {
     "data": {
      "text/plain": [
       "'sagemaker-scikit-learn-2019-03-25-23-44-09-824'"
      ]
     },
     "execution_count": 14,
     "metadata": {},
     "output_type": "execute_result"
    }
   ],
   "source": [
    "#get endpoint name\n",
    "endpoint_name = predictor.endpoint\n",
    "endpoint_name"
   ]
  },
  {
   "cell_type": "markdown",
   "metadata": {},
   "source": [
    "# \"Inference\"/ Make Predictions"
   ]
  },
  {
   "cell_type": "code",
   "execution_count": 15,
   "metadata": {},
   "outputs": [],
   "source": [
    "from sagemaker.predictor import json_serializer, RealTimePredictor\n",
    "from sagemaker.content_types import CONTENT_TYPE_JSON"
   ]
  },
  {
   "cell_type": "markdown",
   "metadata": {},
   "source": [
    "## Summer Water\n",
    "\n",
    "<img src=\"images/summer-water.png\" width=75>\n",
    "\n",
    "\"Summer Water is more than the rosé of the season, it’s a state of mind - every drop full of pink-tinted possibility. This dry rosé reflects the pale pink promise of the perfect warm-weather wine. It’s perfectly crisp, lighthearted and destined for a good time. The grapes for this Central Coast Grenache and Syrah blend were picked early in the season to achieve a natural acidity that’s ideal for summer drinking. To ensure as little extraction from the skins as possible, we used the direct press method, retaining the delicate fruit aromas and pale color rosé is known for. The result is light, crisp, and dry - with notes of strawberry, pink grapefruit, rose, and orange blossom. Drink it chilled with the ones you love. Summer-friendly fare like shellfish, ceviche, and salads will pair swimmingly.\"\n",
    "\n",
    "$18.00"
   ]
  },
  {
   "cell_type": "code",
   "execution_count": 16,
   "metadata": {},
   "outputs": [
    {
     "data": {
      "text/plain": [
       "b'{\"predicted_points\": \"87.0\", \"message\": \"Very good: a wine with special qualities.\"}'"
      ]
     },
     "execution_count": 16,
     "metadata": {},
     "output_type": "execute_result"
    }
   ],
   "source": [
    "feature_payload = {\"description\": \"Summer Water is more than the rosé of the season, it’s a state of mind - every drop full of pink-tinted possibility. This dry rosé reflects the pale pink promise of the perfect warm-weather wine. It’s perfectly crisp, lighthearted and destined for a good time. The grapes for this Central Coast Grenache and Syrah blend were picked early in the season to achieve a natural acidity that’s ideal for summer drinking. To ensure as little extraction from the skins as possible, we used the direct press method, retaining the delicate fruit aromas and pale color rosé is known for. The result is light, crisp, and dry - with notes of strawberry, pink grapefruit, rose, and orange blossom. Drink it chilled with the ones you love. Summer-friendly fare like shellfish, ceviche, and salads will pair swimmingly.\",\n",
    "                   \"price\": 18.00}\n",
    "\n",
    "predictor = RealTimePredictor(\n",
    "    endpoint=endpoint_name,\n",
    "    sagemaker_session=sagemaker_session,\n",
    "    serializer=json_serializer,\n",
    "    content_type=CONTENT_TYPE_JSON,\n",
    "    accept=CONTENT_TYPE_JSON)\n",
    "\n",
    "predictor.predict(data=feature_payload)"
   ]
  },
  {
   "cell_type": "markdown",
   "metadata": {},
   "source": [
    "## dom-perignon-legacy-2008\n",
    "\n",
    "<img src=\"images/dom-perignon-legacy-2008.jpg\" width=75>\n",
    "\n",
    "There's power to this graceful Champagne, with the vivid acidity swathed in a fine, creamy mousse and flavors of toasted brioche, kumquat, pastry cream, candied ginger and poached plum that dance across the palate. An underpinning of smoky mineral gains momentum on the lasting finish. Drink now through 2033.\"\n",
    "\n",
    "$180.00"
   ]
  },
  {
   "cell_type": "code",
   "execution_count": 18,
   "metadata": {},
   "outputs": [
    {
     "data": {
      "text/plain": [
       "b'{\"predicted_points\": \"92.0\", \"message\": \"Outstanding: a wine of superior character and style.\"}'"
      ]
     },
     "execution_count": 18,
     "metadata": {},
     "output_type": "execute_result"
    }
   ],
   "source": [
    "feature_payload = {\"description\": \"There's power to this graceful Champagne, with the vivid acidity swathed in a fine, creamy mousse and flavors of toasted brioche, kumquat, pastry cream, candied ginger and poached plum that dance across the palate. An underpinning of smoky mineral gains momentum on the lasting finish. Drink now through 2033.\",\n",
    "                   \"price\": 180.00}\n",
    "\n",
    "predictor = RealTimePredictor(\n",
    "    endpoint=endpoint_name,\n",
    "    sagemaker_session=sagemaker_session,\n",
    "    serializer=json_serializer,\n",
    "    content_type=CONTENT_TYPE_JSON,\n",
    "    accept=CONTENT_TYPE_JSON)\n",
    "\n",
    "predictor.predict(data=feature_payload)"
   ]
  },
  {
   "cell_type": "markdown",
   "metadata": {},
   "source": [
    "# Delete Endpoint"
   ]
  },
  {
   "cell_type": "code",
   "execution_count": 19,
   "metadata": {},
   "outputs": [
    {
     "name": "stderr",
     "output_type": "stream",
     "text": [
      "INFO:sagemaker:Deleting endpoint with name: sagemaker-scikit-learn-2019-03-25-23-44-09-824\n"
     ]
    }
   ],
   "source": [
    "sklearn.delete_endpoint()"
   ]
  },
  {
   "cell_type": "code",
   "execution_count": null,
   "metadata": {},
   "outputs": [],
   "source": []
  }
 ],
 "metadata": {
  "kernelspec": {
   "display_name": "conda_python3",
   "language": "python",
   "name": "conda_python3"
  },
  "language_info": {
   "codemirror_mode": {
    "name": "ipython",
    "version": 3
   },
   "file_extension": ".py",
   "mimetype": "text/x-python",
   "name": "python",
   "nbconvert_exporter": "python",
   "pygments_lexer": "ipython3",
   "version": "3.6.5"
  }
 },
 "nbformat": 4,
 "nbformat_minor": 2
}
