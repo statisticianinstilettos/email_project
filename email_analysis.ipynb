{
 "cells": [
  {
   "cell_type": "markdown",
   "metadata": {},
   "source": [
    "# Gradient Boosting Machines Spam Detection Model"
   ]
  },
  {
   "cell_type": "code",
   "execution_count": 3,
   "metadata": {},
   "outputs": [],
   "source": [
    "import pandas as pd\n",
    "import numpy as np\n",
    "import re\n",
    "import email\n",
    "import nltk\n",
    "from nltk.tokenize import RegexpTokenizer\n",
    "from sklearn.feature_extraction.text import TfidfVectorizer\n",
    "from sklearn.decomposition import TruncatedSVD\n",
    "from sklearn.model_selection import train_test_split\n",
    "from sklearn.ensemble import GradientBoostingClassifier\n",
    "import recmetrics\n",
    "from sklearn.metrics import confusion_matrix"
   ]
  },
  {
   "cell_type": "code",
   "execution_count": 4,
   "metadata": {},
   "outputs": [],
   "source": [
    "def get_email_text_from_string(string):\n",
    "    email_obj = email.message_from_string(string)\n",
    "    content = []\n",
    "    for part in email_obj.walk():\n",
    "        if part.get_content_type() == 'text/plain':\n",
    "            content.append(part.get_payload())\n",
    "    return ' '.join(content)\n",
    "\n",
    "def make_lower_case(text):\n",
    "    return text.lower()\n",
    "\n",
    "def remove_punctuation(text):\n",
    "    tokenizer = RegexpTokenizer(r'\\w+')\n",
    "    text = tokenizer.tokenize(text)\n",
    "    text = \" \".join(text)\n",
    "    return text"
   ]
  },
  {
   "cell_type": "markdown",
   "metadata": {},
   "source": [
    "## Load and Format Class 0 emails"
   ]
  },
  {
   "cell_type": "code",
   "execution_count": 21,
   "metadata": {},
   "outputs": [
    {
     "name": "stdout",
     "output_type": "stream",
     "text": [
      "(5000, 3)\n",
      "ena can confirm the transaction on our omnibus confirmation with one or two minor changes joe please call me also ena sent a draft isda master agreement to puget sound energy on 3 9 99 if you anticipate more financial trading please let me know as we should pursue execution of the isda master agreement thanks sara\n"
     ]
    }
   ],
   "source": [
    "#Load email data\n",
    "enron_emails = pd.read_csv('data/emails.csv')\n",
    "\n",
    "#Format emails\n",
    "enron_emails[\"content\"] = enron_emails.message.apply(get_email_text_from_string)\n",
    "\n",
    "enron_emails[\"content\"] = enron_emails.content.apply(func=remove_punctuation)\n",
    "enron_emails[\"content\"] = enron_emails.content.apply(func=make_lower_case)\n",
    "enron_emails[\"content\"] =  enron_emails.content.str.replace(\"\\n\", \" \")\n",
    "enron_emails[\"content\"] =  enron_emails.content.str.replace(\"-\", \"\")\n",
    "\n",
    "#Downsample\n",
    "enron_emails = enron_emails.sample(5000)\n",
    "enron_emails.reset_index(drop=True, inplace=True)\n",
    "\n",
    "# Show example email\n",
    "print enron_emails.shape\n",
    "n = np.random.randint(low=0, high=len(enron_emails))\n",
    "print enron_emails.content[n]"
   ]
  },
  {
   "cell_type": "markdown",
   "metadata": {},
   "source": [
    "## Load and Format Class Spam Emails"
   ]
  },
  {
   "cell_type": "code",
   "execution_count": 6,
   "metadata": {},
   "outputs": [
    {
     "name": "stdout",
     "output_type": "stream",
     "text": [
      "(3615,)\n"
     ]
    },
    {
     "data": {
      "text/plain": [
       "0    from mr james ngola confidential tel 233 27 58...\n",
       "1    dear friend i am mr ben suleman a custom offic...\n",
       "2    from his royal majesty hrm crown ruler of elem...\n",
       "3    from his royal majesty hrm crown ruler of elem...\n",
       "4    dear sir it is with a heart full of hope that ...\n",
       "dtype: object"
      ]
     },
     "execution_count": 6,
     "metadata": {},
     "output_type": "execute_result"
    }
   ],
   "source": [
    "#Load frad email data\n",
    "file_name = open(\"data/fradulent_emails.txt\",\"rt\")\n",
    "fraud_emails = ''\n",
    "for line in file_name:\n",
    "    fraud_emails = fraud_emails + ' ' + line\n",
    "\n",
    "#format emails and extract body\n",
    "fraud_emails = fraud_emails.split(\" From r  \")\n",
    "fraud_emails = fraud_emails[1:]\n",
    "\n",
    "def get_fraud_email_body(string):\n",
    "    try:\n",
    "        return string.split(\" Status: \",1)[1].decode('ascii')\n",
    "    except:\n",
    "        pass\n",
    "    \n",
    "fraud_emails = [get_fraud_email_body(string) for string in fraud_emails]\n",
    "fraud_emails = pd.Series(fraud_emails)\n",
    "fraud_emails.dropna(inplace=True)\n",
    "\n",
    "fraud_emails = fraud_emails.apply(func=remove_punctuation)\n",
    "fraud_emails = fraud_emails.apply(func=make_lower_case)\n",
    "fraud_emails = fraud_emails.str.replace(r\"^o \", \"\")\n",
    "fraud_emails = fraud_emails.str.replace(r\"^ro \", \"\")\n",
    "\n",
    "print fraud_emails.shape\n",
    "fraud_emails.head()"
   ]
  },
  {
   "cell_type": "code",
   "execution_count": 17,
   "metadata": {},
   "outputs": [
    {
     "data": {
      "text/plain": [
       "u'hello dear 2e i am writting this letter with due respect and heartful of tears since we have not known or met ourselves previously i am asking for your assistance 2e i want to find out if it s possible for you to deal with individual as to investment 2e i came across your profile and i feel it s highly reputable that is why i pick an interest getting across to you in respect of investment at my disposal 2e i be will so glad if you can allow me and lead me to the right channel towards your assistance to my situation now 2e i will make my proposal well known if i am given the opportunity 2e i would like to use this opportunity to introduce myself to you 2e well i am mr cyril kelvin from liberia 2cthe only son of col 2c kelvin onwun 2c my father is now late 2che died some months back during the last and current crisis in my country 28liberia 29 2e he was one of the high officers in the leadership of formal president charles taylor who is now in exile after many innocent soul were killed 2cmy father was unlucky to be one among those that were killed by the rebel 2e the main reason why i am contacting you now is to seek you assistance in the area of my future investment and also for a help hand over some huge amount of money in my possession 2e this money 28us 8 2e5 million 29 was deposited in a security and finance company in europe some years ago by my father 2e he made me the sole beneficiary 2e i am now asking you to stand on my behalf to make this claim and also l want you to stand as my partner oversea and in time of the investment as well 2e as i have mention earlier i will make the procedure to this issue to be well known to you if i am given the opportunity to do so 2e pls attach your direct and full information 2e mr cyril kelvin 2e'"
      ]
     },
     "execution_count": 17,
     "metadata": {},
     "output_type": "execute_result"
    }
   ],
   "source": [
    "#Show example email\n",
    "n = np.random.randint(low=0, high=len(fraud_emails))\n",
    "fraud_emails[n]"
   ]
  },
  {
   "cell_type": "markdown",
   "metadata": {},
   "source": [
    "# Create tagged data"
   ]
  },
  {
   "cell_type": "code",
   "execution_count": 22,
   "metadata": {},
   "outputs": [
    {
     "name": "stdout",
     "output_type": "stream",
     "text": [
      "(8615, 2)\n"
     ]
    },
    {
     "data": {
      "text/html": [
       "<div>\n",
       "<style scoped>\n",
       "    .dataframe tbody tr th:only-of-type {\n",
       "        vertical-align: middle;\n",
       "    }\n",
       "\n",
       "    .dataframe tbody tr th {\n",
       "        vertical-align: top;\n",
       "    }\n",
       "\n",
       "    .dataframe thead th {\n",
       "        text-align: right;\n",
       "    }\n",
       "</style>\n",
       "<table border=\"1\" class=\"dataframe\">\n",
       "  <thead>\n",
       "    <tr style=\"text-align: right;\">\n",
       "      <th></th>\n",
       "      <th>email</th>\n",
       "      <th>class</th>\n",
       "    </tr>\n",
       "  </thead>\n",
       "  <tbody>\n",
       "    <tr>\n",
       "      <th>0</th>\n",
       "      <td>actually i need all of them because i can t te...</td>\n",
       "      <td>0</td>\n",
       "    </tr>\n",
       "    <tr>\n",
       "      <th>1</th>\n",
       "      <td>cyril manning po box 15209 boston ma 02215 ctm...</td>\n",
       "      <td>0</td>\n",
       "    </tr>\n",
       "    <tr>\n",
       "      <th>2</th>\n",
       "      <td>hi sally thanks for your email attached please...</td>\n",
       "      <td>0</td>\n",
       "    </tr>\n",
       "    <tr>\n",
       "      <th>3</th>\n",
       "      <td>jon lindsay park is being a pain in the butt c...</td>\n",
       "      <td>0</td>\n",
       "    </tr>\n",
       "    <tr>\n",
       "      <th>4</th>\n",
       "      <td>the friday burrito more fun than a fortune coo...</td>\n",
       "      <td>0</td>\n",
       "    </tr>\n",
       "  </tbody>\n",
       "</table>\n",
       "</div>"
      ],
      "text/plain": [
       "                                               email  class\n",
       "0  actually i need all of them because i can t te...      0\n",
       "1  cyril manning po box 15209 boston ma 02215 ctm...      0\n",
       "2  hi sally thanks for your email attached please...      0\n",
       "3  jon lindsay park is being a pain in the butt c...      0\n",
       "4  the friday burrito more fun than a fortune coo...      0"
      ]
     },
     "execution_count": 22,
     "metadata": {},
     "output_type": "execute_result"
    }
   ],
   "source": [
    "all_emails = enron_emails.content.tolist()\n",
    "all_emails.extend(fraud_emails)\n",
    "all_emails = pd.DataFrame(all_emails)\n",
    "all_emails.columns = [\"email\"]\n",
    "all_emails[\"class\"] = 0\n",
    "all_emails.loc[all_emails.index > 5000, \"class\"] = 1\n",
    "print all_emails.shape\n",
    "all_emails.head()"
   ]
  },
  {
   "cell_type": "markdown",
   "metadata": {},
   "source": [
    "# Test Train Split"
   ]
  },
  {
   "cell_type": "code",
   "execution_count": 23,
   "metadata": {},
   "outputs": [
    {
     "name": "stdout",
     "output_type": "stream",
     "text": [
      "5772 training observations\n",
      "2843 testing observations\n"
     ]
    }
   ],
   "source": [
    "emails_train, emails_test, y_train, y_test = train_test_split(all_emails[\"email\"], \n",
    "                                                              all_emails[\"class\"], \n",
    "                                                              test_size=0.33, \n",
    "                                                              random_state=0)\n",
    "print \"{} training observations\".format(emails_train.shape[0])\n",
    "print \"{} testing observations\".format(emails_test.shape[0])"
   ]
  },
  {
   "cell_type": "markdown",
   "metadata": {},
   "source": [
    "# Feature Engineering"
   ]
  },
  {
   "cell_type": "code",
   "execution_count": 24,
   "metadata": {},
   "outputs": [],
   "source": [
    "tf = TfidfVectorizer(analyzer='word', \n",
    "                     min_df=1000,\n",
    "                     ngram_range=(1, 2),\n",
    "                     stop_words='english')\n",
    "svd = TruncatedSVD(n_components=25)\n",
    "\n",
    "#Fit tfidf and svd, and transform training data\n",
    "tfidf_matrix = tf.fit_transform(emails_train)\n",
    "X_train = svd.fit_transform(tfidf_matrix)\n",
    "\n",
    "#Transform test data\n",
    "tfidf_matrix = tf.transform(emails_test)\n",
    "X_test = svd.transform(tfidf_matrix)"
   ]
  },
  {
   "cell_type": "markdown",
   "metadata": {},
   "source": [
    "# Gradient Boosting Machines Models"
   ]
  },
  {
   "cell_type": "markdown",
   "metadata": {},
   "source": [
    "## Sklearn Gradient Boosting Classifier"
   ]
  },
  {
   "cell_type": "code",
   "execution_count": 44,
   "metadata": {},
   "outputs": [
    {
     "data": {
      "text/plain": [
       "GridSearchCV(cv=5, error_score='raise-deprecating',\n",
       "       estimator=GradientBoostingClassifier(criterion='friedman_mse', init=None,\n",
       "              learning_rate=0.1, loss='deviance', max_depth=3,\n",
       "              max_features=None, max_leaf_nodes=None,\n",
       "              min_impurity_decrease=0.0, min_impurity_split=None,\n",
       "              min_samples_leaf=1, min_sampl...      subsample=1.0, tol=0.0001, validation_fraction=0.1,\n",
       "              verbose=0, warm_start=False),\n",
       "       fit_params=None, iid='warn', n_jobs=None,\n",
       "       param_grid={'n_estimators': [1000], 'subsample': [1], 'learning_rate': [0.01], 'max_depth': [3, 5, 10], 'min_samples_leaf': [1]},\n",
       "       pre_dispatch='2*n_jobs', refit=True, return_train_score='warn',\n",
       "       scoring=None, verbose=0)"
      ]
     },
     "execution_count": 44,
     "metadata": {},
     "output_type": "execute_result"
    }
   ],
   "source": [
    "from sklearn.model_selection import GridSearchCV\n",
    "\n",
    "params = {'n_estimators': [1000], 'max_depth': [3, 5, 10], 'subsample': [1],\n",
    "          'learning_rate': [0.01], 'min_samples_leaf': [1]}\n",
    "gbt = GradientBoostingClassifier(random_state=0)\n",
    "clf = GridSearchCV(gbt, params, cv=5)\n",
    "clf.fit(X_train, y_train)"
   ]
  },
  {
   "cell_type": "code",
   "execution_count": 46,
   "metadata": {},
   "outputs": [
    {
     "data": {
      "text/plain": [
       "{'learning_rate': 0.01,\n",
       " 'max_depth': 5,\n",
       " 'min_samples_leaf': 1,\n",
       " 'n_estimators': 1000,\n",
       " 'subsample': 1}"
      ]
     },
     "execution_count": 46,
     "metadata": {},
     "output_type": "execute_result"
    }
   ],
   "source": [
    "clf.best_params_"
   ]
  },
  {
   "cell_type": "code",
   "execution_count": 47,
   "metadata": {},
   "outputs": [
    {
     "name": "stdout",
     "output_type": "stream",
     "text": [
      "Train Accuracy: 0.9986\n",
      "Test Accuracy: 0.9870\n"
     ]
    }
   ],
   "source": [
    "#check for overfitting\n",
    "acc = clf.score(X_train, y_train)\n",
    "print(\"Train Accuracy: {:.4f}\".format(acc))\n",
    "acc = clf.score(X_test, y_test)\n",
    "print(\"Test Accuracy: {:.4f}\".format(acc))"
   ]
  },
  {
   "cell_type": "code",
   "execution_count": 48,
   "metadata": {},
   "outputs": [
    {
     "data": {
      "text/plain": [
       "array([[0.99264255, 0.00735745],\n",
       "       [0.02062706, 0.97937294]])"
      ]
     },
     "execution_count": 48,
     "metadata": {},
     "output_type": "execute_result"
    }
   ],
   "source": [
    "#Check confusion matrix\n",
    "pred_test = clf.predict(X_test)\n",
    "cm = confusion_matrix(y_test, pred_test)\n",
    "cm = cm.astype('float') / cm.sum(axis=1)[:, np.newaxis]\n",
    "cm"
   ]
  },
  {
   "cell_type": "code",
   "execution_count": 49,
   "metadata": {},
   "outputs": [
    {
     "data": {
      "text/html": [
       "<div>\n",
       "<style scoped>\n",
       "    .dataframe tbody tr th:only-of-type {\n",
       "        vertical-align: middle;\n",
       "    }\n",
       "\n",
       "    .dataframe tbody tr th {\n",
       "        vertical-align: top;\n",
       "    }\n",
       "\n",
       "    .dataframe thead th {\n",
       "        text-align: right;\n",
       "    }\n",
       "</style>\n",
       "<table border=\"1\" class=\"dataframe\">\n",
       "  <thead>\n",
       "    <tr style=\"text-align: right;\">\n",
       "      <th></th>\n",
       "      <th>probability</th>\n",
       "      <th>truth</th>\n",
       "    </tr>\n",
       "  </thead>\n",
       "  <tbody>\n",
       "    <tr>\n",
       "      <th>0</th>\n",
       "      <td>0.000735</td>\n",
       "      <td>0</td>\n",
       "    </tr>\n",
       "    <tr>\n",
       "      <th>1</th>\n",
       "      <td>0.007039</td>\n",
       "      <td>0</td>\n",
       "    </tr>\n",
       "    <tr>\n",
       "      <th>2</th>\n",
       "      <td>0.000759</td>\n",
       "      <td>0</td>\n",
       "    </tr>\n",
       "    <tr>\n",
       "      <th>3</th>\n",
       "      <td>0.001096</td>\n",
       "      <td>0</td>\n",
       "    </tr>\n",
       "    <tr>\n",
       "      <th>4</th>\n",
       "      <td>0.998662</td>\n",
       "      <td>1</td>\n",
       "    </tr>\n",
       "  </tbody>\n",
       "</table>\n",
       "</div>"
      ],
      "text/plain": [
       "   probability  truth\n",
       "0     0.000735      0\n",
       "1     0.007039      0\n",
       "2     0.000759      0\n",
       "3     0.001096      0\n",
       "4     0.998662      1"
      ]
     },
     "execution_count": 49,
     "metadata": {},
     "output_type": "execute_result"
    }
   ],
   "source": [
    "class_probs = clf.predict_proba(X_test)[:,1]\n",
    "pred_df = pd.DataFrame([class_probs]).T\n",
    "pred_df.columns = [\"probability\"]\n",
    "pred_df[\"truth\"] = y_test.values\n",
    "pred_df.head()"
   ]
  },
  {
   "cell_type": "code",
   "execution_count": 50,
   "metadata": {},
   "outputs": [
    {
     "data": {
      "image/png": "[encoded data removed]",
      "text/plain": [
       "<matplotlib.figure.Figure at 0x13fe0b810>"
      ]
     },
     "metadata": {
      "needs_background": "light"
     },
     "output_type": "display_data"
    }
   ],
   "source": [
    "model_probs = [class_probs]\n",
    "model_names = [\"GBT\"]\n",
    "recmetrics.ROCPlot(y_test, model_probs, model_names)"
   ]
  },
  {
   "cell_type": "markdown",
   "metadata": {},
   "source": [
    "# XGBoost"
   ]
  },
  {
   "cell_type": "code",
   "execution_count": null,
   "metadata": {},
   "outputs": [],
   "source": []
  }
 ],
 "metadata": {
  "kernelspec": {
   "display_name": "Python 2",
   "language": "python",
   "name": "python2"
  },
  "language_info": {
   "codemirror_mode": {
    "name": "ipython",
    "version": 2
   },
   "file_extension": ".py",
   "mimetype": "text/x-python",
   "name": "python",
   "nbconvert_exporter": "python",
   "pygments_lexer": "ipython2",
   "version": "2.7.15"
  }
 },
 "nbformat": 4,
 "nbformat_minor": 2
}
