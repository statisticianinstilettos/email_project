{
 "cells": [
  {
   "cell_type": "markdown",
   "metadata": {},
   "source": [
    "# Gradient Boosting Machines Spam Detection Model"
   ]
  },
  {
   "cell_type": "code",
   "execution_count": 1,
   "metadata": {},
   "outputs": [],
   "source": [
    "import pandas as pd\n",
    "import numpy as np\n",
    "import re\n",
    "import email\n",
    "import nltk\n",
    "from nltk.tokenize import RegexpTokenizer\n",
    "from sklearn.feature_extraction.text import TfidfVectorizer\n",
    "from sklearn.decomposition import TruncatedSVD\n",
    "from sklearn.model_selection import train_test_split\n",
    "from sklearn.ensemble import GradientBoostingClassifier\n",
    "import recmetrics\n",
    "from sklearn.metrics import confusion_matrix"
   ]
  },
  {
   "cell_type": "code",
   "execution_count": 2,
   "metadata": {},
   "outputs": [],
   "source": [
    "def get_email_text_from_string(string):\n",
    "    email_obj = email.message_from_string(string)\n",
    "    content = []\n",
    "    for part in email_obj.walk():\n",
    "        if part.get_content_type() == 'text/plain':\n",
    "            content.append(part.get_payload())\n",
    "    return ' '.join(content)\n",
    "\n",
    "def make_lower_case(text):\n",
    "    return text.lower()\n",
    "\n",
    "def remove_punctuation(text):\n",
    "    tokenizer = RegexpTokenizer(r'\\w+')\n",
    "    text = tokenizer.tokenize(text)\n",
    "    text = \" \".join(text)\n",
    "    return text"
   ]
  },
  {
   "cell_type": "markdown",
   "metadata": {},
   "source": [
    "## Load and Format Class 0 emails"
   ]
  },
  {
   "cell_type": "code",
   "execution_count": 3,
   "metadata": {},
   "outputs": [
    {
     "name": "stdout",
     "output_type": "stream",
     "text": [
      "(5000, 3)\n",
      "it is amazing and yet not surprising how much enron has accomplished in the 20 first six months of this year you continue to make it happen we recogniz e 20 that you work hard every day to accomplish enron 01 s business goals and w e are 20 pleased that many of you have shared in the company 01 s financial success 20 through enron stock options 20 as you may know the current employee stock option program also known as t he 20 all employee stock option program or aesop began in 1994 and provided valu e 20 to participants through 2000 employees who have participated in this 20 program from its inception have realized a 1 119 increase in the value of 20 their stock options assuming a stock price of 70 over the life of the 20 program 20 enron stock options are a valuable part of your total compensation package 20 and a contributing factor to your performance and to enron 01 s continued 20 success therefore the enron executive committee and the compensation and 20 management development committee of the enron board of directors have decid ed 20 to continue to offer stock options as a part of your compensation package on may 1 2000 the committee approved an employee stock option program for 20 calendar years 2001 2005 enronoptions 01 your stock option program it is 20 expected that enronoptions 01 your stock option program will be granted 20 effective on or about december 29 2000 for those employees who are eligib le 20 on that date please see note below the new program which is subject to 20 final approval by enron 01 s board of directors is as follows enronoptions 01 your stock option program will give stock options to 20 eligible full time and part time regular employees in domestic and 20 international companies locations the grant of non qualified stock options will equal 25 of annual base 20 salary 5 of annual base salary for each year of a 5 year period on 20 december 29 2000 salary calculation and value may vary in some 20 international locations the board will grant the stock options on december 29 2000 eligible employees hired in subsequent years will receive a prorated gran t 20 of stock options why commit your talent and energy to enron enronoptions 01 your stock o ption 20 program among other good reasons 01 that 01 s why in the coming weeks you will be receiving more details about enronoptions 01 20 your stock option program to provide information and answer your question s 20 we will introduce a special link on the human resources web site host 20 several espeak sessions and continue to communicate with you on a regular 20 basis in the meantime if you have immediate questions please contact yo ur 20 human resources representative 20 note in addition to final approval by enron 01 s board of directors grant ing 20 of options will be subject to new york stock exchange and state and federal 20 regulatory requirements it is expected that enronoptions 01 your stock 20 option program will be available to most enron employees however some enr on 20 companies 01 employees may not be eligible due to legal accounting tax labor 20 or business issues as you know enron changes to meet the needs of the 20 marketplaces we serve given that need to change we will continue to refi ne 20 the eligibility for enronoptions 01 your stock option program and will 20 communicate more details throughout the year with final eligibility being 20 determined on december 29 2000\n"
     ]
    }
   ],
   "source": [
    "#Load email data\n",
    "enron_emails = pd.read_csv('data/emails.csv')\n",
    "\n",
    "#Format emails\n",
    "enron_emails[\"content\"] = enron_emails.message.apply(get_email_text_from_string)\n",
    "\n",
    "enron_emails[\"content\"] = enron_emails.content.apply(func=remove_punctuation)\n",
    "enron_emails[\"content\"] = enron_emails.content.apply(func=make_lower_case)\n",
    "enron_emails[\"content\"] =  enron_emails.content.str.replace(\"\\n\", \" \")\n",
    "enron_emails[\"content\"] =  enron_emails.content.str.replace(\"-\", \"\")\n",
    "\n",
    "#Downsample\n",
    "enron_emails = enron_emails.sample(5000)\n",
    "enron_emails.reset_index(drop=True, inplace=True)\n",
    "\n",
    "# Show example email\n",
    "print enron_emails.shape\n",
    "n = np.random.randint(low=0, high=len(enron_emails))\n",
    "print enron_emails.content[n]"
   ]
  },
  {
   "cell_type": "markdown",
   "metadata": {},
   "source": [
    "## Load and Format Class Spam Emails"
   ]
  },
  {
   "cell_type": "code",
   "execution_count": 4,
   "metadata": {},
   "outputs": [
    {
     "name": "stdout",
     "output_type": "stream",
     "text": [
      "(3615,)\n"
     ]
    },
    {
     "data": {
      "text/plain": [
       "0    from mr james ngola confidential tel 233 27 58...\n",
       "1    dear friend i am mr ben suleman a custom offic...\n",
       "2    from his royal majesty hrm crown ruler of elem...\n",
       "3    from his royal majesty hrm crown ruler of elem...\n",
       "4    dear sir it is with a heart full of hope that ...\n",
       "dtype: object"
      ]
     },
     "execution_count": 4,
     "metadata": {},
     "output_type": "execute_result"
    }
   ],
   "source": [
    "#Load frad email data\n",
    "file_name = open(\"data/fradulent_emails.txt\",\"rt\")\n",
    "fraud_emails = ''\n",
    "for line in file_name:\n",
    "    fraud_emails = fraud_emails + ' ' + line\n",
    "\n",
    "#format emails and extract body\n",
    "fraud_emails = fraud_emails.split(\" From r  \")\n",
    "fraud_emails = fraud_emails[1:]\n",
    "\n",
    "def get_fraud_email_body(string):\n",
    "    try:\n",
    "        return string.split(\" Status: \",1)[1].decode('ascii')\n",
    "    except:\n",
    "        pass\n",
    "    \n",
    "fraud_emails = [get_fraud_email_body(string) for string in fraud_emails]\n",
    "fraud_emails = pd.Series(fraud_emails)\n",
    "fraud_emails.dropna(inplace=True)\n",
    "\n",
    "fraud_emails = fraud_emails.apply(func=remove_punctuation)\n",
    "fraud_emails = fraud_emails.apply(func=make_lower_case)\n",
    "fraud_emails = fraud_emails.str.replace(r\"^o \", \"\")\n",
    "fraud_emails = fraud_emails.str.replace(r\"^ro \", \"\")\n",
    "\n",
    "print fraud_emails.shape\n",
    "fraud_emails.head()"
   ]
  },
  {
   "cell_type": "code",
   "execution_count": 5,
   "metadata": {},
   "outputs": [
    {
     "data": {
      "text/plain": [
       "u'strictly confidential please idris adamu nnpc 2c ikoyi lagos nigeria email 3a idris 5fadamu 40africamail 2ecom fax 3a 234 1 4401017 4 2f12 2f2003 attention 3a the president 2fchairman proposal for transfer of twenty million 2c five hundred thousand us dollars 28us 20 2e5m 29 to your account 2e your contact address got to me via export promotions council 2c your reliability and trustworthiness in business transaction was the main conviction that compelled me to solicit for your support in this deal 2e i am the financial controller of the nigerian national petroleum corporation 28nnpc 29 lagos 2c nigeria and secretary to the contract award committee of my ministry 2e in collaboration with my colleagues 2c we have agreed to transfer out of the country through central bank of nigeria 28cbn 29 some amount and we will later reinvest it abroad after the success of this transaction 2e the amount involved is twenty million 2c five hundred thousand us dollars 28us 20 2c500 2c000 2e00 29 2e this is as a result of over inflated amount of a contract 2e the contract has been already executed and the original contractor had collected his full and final payment 2e in as much as this contract was awarded to a foreign contractor and the payment in dollars 2c we now need a foreign firm that will present itself as the contractor for this amount of twenty million 2c five hundred thousand us dollars 28us 20 2c500 2c000 2e00 29 and then the fund will be transferred into your account 2e since we do not want to use the original contractor in applying for the payment 2c because the contractor is not aware of this over invoiced sum 2e therefore 2c i as the financial controller was told to write you by my colleagues and see the success of the remittance immediately 2c you will however 2c be required to furnish us with these necessary informations 2e 1 2e your personal phone and fax number for easy communication 2 2e name and address of your bank 2c phone 2c fax and telex numbers 3 2e your account number where this money will be lodged into and the beneficiary s name 2e it could be personal or corporate 2e these information will enable us put application of claim for the release of this money from concerned government agencies and it will last for ten working days 2e for your assistance we have agreed that the fund will be shared as follows 3a you as the account owner 20 2c miscellaneous expenses 5 2c officials involved 75 now 2c we assure you that all arrangements have been concluded for the success of this transaction 2c so if you are interested 2c reply us strictly through this e mail or alternatively through the above contact 2e yours faithfully 2c idris adamu 2e'"
      ]
     },
     "execution_count": 5,
     "metadata": {},
     "output_type": "execute_result"
    }
   ],
   "source": [
    "#Show example email\n",
    "n = np.random.randint(low=0, high=len(fraud_emails))\n",
    "fraud_emails[n]"
   ]
  },
  {
   "cell_type": "markdown",
   "metadata": {},
   "source": [
    "# Create tagged data"
   ]
  },
  {
   "cell_type": "code",
   "execution_count": 6,
   "metadata": {},
   "outputs": [
    {
     "name": "stdout",
     "output_type": "stream",
     "text": [
      "(8615, 2)\n"
     ]
    },
    {
     "data": {
      "text/html": [
       "<div>\n",
       "<style scoped>\n",
       "    .dataframe tbody tr th:only-of-type {\n",
       "        vertical-align: middle;\n",
       "    }\n",
       "\n",
       "    .dataframe tbody tr th {\n",
       "        vertical-align: top;\n",
       "    }\n",
       "\n",
       "    .dataframe thead th {\n",
       "        text-align: right;\n",
       "    }\n",
       "</style>\n",
       "<table border=\"1\" class=\"dataframe\">\n",
       "  <thead>\n",
       "    <tr style=\"text-align: right;\">\n",
       "      <th></th>\n",
       "      <th>email</th>\n",
       "      <th>class</th>\n",
       "    </tr>\n",
       "  </thead>\n",
       "  <tbody>\n",
       "    <tr>\n",
       "      <th>0</th>\n",
       "      <td>press coverage summary gop power plan doc rich...</td>\n",
       "      <td>0</td>\n",
       "    </tr>\n",
       "    <tr>\n",
       "      <th>1</th>\n",
       "      <td>andy this is to confirm that the engineering d...</td>\n",
       "      <td>0</td>\n",
       "    </tr>\n",
       "    <tr>\n",
       "      <th>2</th>\n",
       "      <td>kim can you set up the meeting with my people ...</td>\n",
       "      <td>0</td>\n",
       "    </tr>\n",
       "    <tr>\n",
       "      <th>3</th>\n",
       "      <td>thanks and have a great holiday m</td>\n",
       "      <td>0</td>\n",
       "    </tr>\n",
       "    <tr>\n",
       "      <th>4</th>\n",
       "      <td>hi guys is the lv co gen break out contract re...</td>\n",
       "      <td>0</td>\n",
       "    </tr>\n",
       "  </tbody>\n",
       "</table>\n",
       "</div>"
      ],
      "text/plain": [
       "                                               email  class\n",
       "0  press coverage summary gop power plan doc rich...      0\n",
       "1  andy this is to confirm that the engineering d...      0\n",
       "2  kim can you set up the meeting with my people ...      0\n",
       "3                  thanks and have a great holiday m      0\n",
       "4  hi guys is the lv co gen break out contract re...      0"
      ]
     },
     "execution_count": 6,
     "metadata": {},
     "output_type": "execute_result"
    }
   ],
   "source": [
    "all_emails = enron_emails.content.tolist()\n",
    "all_emails.extend(fraud_emails)\n",
    "all_emails = pd.DataFrame(all_emails)\n",
    "all_emails.columns = [\"email\"]\n",
    "all_emails[\"class\"] = 0\n",
    "all_emails.loc[all_emails.index > 5000, \"class\"] = 1\n",
    "print all_emails.shape\n",
    "all_emails.head()"
   ]
  },
  {
   "cell_type": "markdown",
   "metadata": {},
   "source": [
    "# Test Train Split"
   ]
  },
  {
   "cell_type": "code",
   "execution_count": 7,
   "metadata": {},
   "outputs": [
    {
     "name": "stdout",
     "output_type": "stream",
     "text": [
      "5772 training observations\n",
      "2843 testing observations\n"
     ]
    }
   ],
   "source": [
    "emails_train, emails_test, y_train, y_test = train_test_split(all_emails[\"email\"], \n",
    "                                                              all_emails[\"class\"], \n",
    "                                                              test_size=0.33, \n",
    "                                                              random_state=0)\n",
    "print \"{} training observations\".format(emails_train.shape[0])\n",
    "print \"{} testing observations\".format(emails_test.shape[0])"
   ]
  },
  {
   "cell_type": "markdown",
   "metadata": {},
   "source": [
    "# Feature Engineering"
   ]
  },
  {
   "cell_type": "code",
   "execution_count": 8,
   "metadata": {},
   "outputs": [],
   "source": [
    "tf = TfidfVectorizer(analyzer='word', \n",
    "                     min_df=1000,\n",
    "                     ngram_range=(1, 2),\n",
    "                     stop_words='english')\n",
    "svd = TruncatedSVD(n_components=25)\n",
    "\n",
    "#Fit tfidf and svd, and transform training data\n",
    "tfidf_matrix = tf.fit_transform(emails_train)\n",
    "X_train = svd.fit_transform(tfidf_matrix)\n",
    "\n",
    "#Transform test data\n",
    "tfidf_matrix = tf.transform(emails_test)\n",
    "X_test = svd.transform(tfidf_matrix)"
   ]
  },
  {
   "cell_type": "markdown",
   "metadata": {},
   "source": [
    "# Gradient Boosting Machines Models"
   ]
  },
  {
   "cell_type": "markdown",
   "metadata": {},
   "source": [
    "## Sklearn Gradient Boosting Classifier"
   ]
  },
  {
   "cell_type": "code",
   "execution_count": null,
   "metadata": {},
   "outputs": [],
   "source": [
    "from sklearn.model_selection import GridSearchCV\n",
    "\n",
    "params = {'n_estimators': [1000], 'max_depth': [3, 5, 10], 'subsample': [1],\n",
    "          'learning_rate': [0.01], 'min_samples_leaf': [1]}\n",
    "gbt = GradientBoostingClassifier(random_state=0)\n",
    "clf = GridSearchCV(gbt, params, cv=5)\n",
    "clf.fit(X_train, y_train)"
   ]
  },
  {
   "cell_type": "code",
   "execution_count": null,
   "metadata": {},
   "outputs": [],
   "source": [
    "clf.best_params_"
   ]
  },
  {
   "cell_type": "code",
   "execution_count": null,
   "metadata": {},
   "outputs": [],
   "source": [
    "#check for overfitting\n",
    "acc = clf.score(X_train, y_train)\n",
    "print(\"Train Accuracy: {:.4f}\".format(acc))\n",
    "acc = clf.score(X_test, y_test)\n",
    "print(\"Test Accuracy: {:.4f}\".format(acc))"
   ]
  },
  {
   "cell_type": "code",
   "execution_count": null,
   "metadata": {},
   "outputs": [],
   "source": [
    "#Check confusion matrix\n",
    "pred_test = clf.predict(X_test)\n",
    "cm = confusion_matrix(y_test, pred_test)\n",
    "cm = cm.astype('float') / cm.sum(axis=1)[:, np.newaxis]\n",
    "cm"
   ]
  },
  {
   "cell_type": "code",
   "execution_count": null,
   "metadata": {},
   "outputs": [],
   "source": [
    "class_probs = clf.predict_proba(X_test)[:,1]\n",
    "model_probs = [class_probs]\n",
    "model_names = [\"GBT\"]\n",
    "recmetrics.ROCPlot(y_test, model_probs, model_names)"
   ]
  },
  {
   "cell_type": "markdown",
   "metadata": {},
   "source": [
    "# XGBoost"
   ]
  },
  {
   "cell_type": "code",
   "execution_count": 28,
   "metadata": {},
   "outputs": [],
   "source": [
    "import xgboost as xgb"
   ]
  },
  {
   "cell_type": "code",
   "execution_count": 29,
   "metadata": {},
   "outputs": [],
   "source": [
    "dtrain = xgb.DMatrix(X_train, label=y_train)\n",
    "dtest = xgb.DMatrix(X_test, label=y_test)"
   ]
  },
  {
   "cell_type": "code",
   "execution_count": 34,
   "metadata": {},
   "outputs": [],
   "source": [
    "param = {'max_depth': 2, 'eta': 1, 'silent': 1, 'objective': 'binary:logistic'}\n",
    "param['nthread'] = 4\n",
    "param['eval_metric'] = 'auc'\n",
    "evallist = [(dtest, 'eval'), (dtrain, 'train')]"
   ]
  },
  {
   "cell_type": "code",
   "execution_count": 35,
   "metadata": {},
   "outputs": [
    {
     "name": "stdout",
     "output_type": "stream",
     "text": [
      "[0]\teval-auc:0.986022\ttrain-auc:0.984395\n",
      "Multiple eval metrics have been passed: 'train-auc' will be used for early stopping.\n",
      "\n",
      "Will train until train-auc hasn't improved in 10 rounds.\n",
      "[1]\teval-auc:0.991973\ttrain-auc:0.991833\n",
      "[2]\teval-auc:0.994622\ttrain-auc:0.994939\n",
      "[3]\teval-auc:0.996259\ttrain-auc:0.997091\n",
      "[4]\teval-auc:0.996612\ttrain-auc:0.997519\n",
      "[5]\teval-auc:0.996902\ttrain-auc:0.997899\n",
      "[6]\teval-auc:0.997573\ttrain-auc:0.998329\n",
      "[7]\teval-auc:0.997701\ttrain-auc:0.998627\n",
      "[8]\teval-auc:0.997826\ttrain-auc:0.998961\n",
      "[9]\teval-auc:0.997924\ttrain-auc:0.999079\n"
     ]
    }
   ],
   "source": [
    "num_round = 10\n",
    "bst = xgb.train(param, dtrain, num_round, evallist, early_stopping_rounds=10)"
   ]
  },
  {
   "cell_type": "code",
   "execution_count": 36,
   "metadata": {},
   "outputs": [
    {
     "data": {
      "text/plain": [
       "<matplotlib.axes._subplots.AxesSubplot at 0x129fae690>"
      ]
     },
     "execution_count": 36,
     "metadata": {},
     "output_type": "execute_result"
    },
    {
     "data": {
      "image/png": "[encoded data removed]",
      "text/plain": [
       "<matplotlib.figure.Figure at 0x129fb2150>"
      ]
     },
     "metadata": {
      "needs_background": "light"
     },
     "output_type": "display_data"
    }
   ],
   "source": [
    "xgb.plot_importance(bst)"
   ]
  },
  {
   "cell_type": "code",
   "execution_count": 40,
   "metadata": {
    "scrolled": false
   },
   "outputs": [
    {
     "data": {
      "image/svg+xml": [
       "<?xml version=\"1.0\" encoding=\"UTF-8\" standalone=\"no\"?>\n",
       "<!DOCTYPE svg PUBLIC \"-//W3C//DTD SVG 1.1//EN\"\n",
       " \"http://www.w3.org/Graphics/SVG/1.1/DTD/svg11.dtd\">\n",
       "<!-- Generated by graphviz version 2.40.1 (20161225.0304)\n",
       " -->\n",
       "<!-- Title: %3 Pages: 1 -->\n",
       "<svg width=\"550pt\" height=\"449pt\"\n",
       " viewBox=\"0.00 0.00 550.04 449.02\" xmlns=\"http://www.w3.org/2000/svg\" xmlns:xlink=\"http://www.w3.org/1999/xlink\">\n",
       "<g id=\"graph0\" class=\"graph\" transform=\"scale(1 1) rotate(0) translate(4 445.0231)\">\n",
       "<title>%3</title>\n",
       "<polygon fill=\"#ffffff\" stroke=\"transparent\" points=\"-4,4 -4,-445.0231 546.0371,-445.0231 546.0371,4 -4,4\"/>\n",
       "<!-- 0 -->\n",
       "<g id=\"node1\" class=\"node\">\n",
       "<title>0</title>\n",
       "<ellipse fill=\"none\" stroke=\"#000000\" cx=\"278.0186\" cy=\"-364.7673\" rx=\"76.0123\" ry=\"76.0123\"/>\n",
       "<text text-anchor=\"middle\" x=\"278.0186\" y=\"-360.5673\" font-family=\"Times,serif\" font-size=\"14.00\" fill=\"#000000\">f1&lt;&#45;0.0435332246</text>\n",
       "</g>\n",
       "<!-- 1 -->\n",
       "<g id=\"node2\" class=\"node\">\n",
       "<title>1</title>\n",
       "<ellipse fill=\"none\" stroke=\"#000000\" cx=\"197.0186\" cy=\"-162.2558\" rx=\"68.7784\" ry=\"68.7784\"/>\n",
       "<text text-anchor=\"middle\" x=\"197.0186\" y=\"-158.0558\" font-family=\"Times,serif\" font-size=\"14.00\" fill=\"#000000\">f0&lt;0.232346088</text>\n",
       "</g>\n",
       "<!-- 0&#45;&gt;1 -->\n",
       "<g id=\"edge1\" class=\"edge\">\n",
       "<title>0&#45;&gt;1</title>\n",
       "<path fill=\"none\" stroke=\"#0000ff\" d=\"M249.6887,-293.9386C242.1564,-275.1068 234.0049,-254.727 226.4169,-235.7558\"/>\n",
       "<polygon fill=\"#0000ff\" stroke=\"#0000ff\" points=\"229.5884,-234.2602 222.6249,-226.2752 223.089,-236.8599 229.5884,-234.2602\"/>\n",
       "<text text-anchor=\"middle\" x=\"274.6323\" y=\"-259.3115\" font-family=\"Times,serif\" font-size=\"14.00\" fill=\"#000000\">yes, missing</text>\n",
       "</g>\n",
       "<!-- 2 -->\n",
       "<g id=\"node3\" class=\"node\">\n",
       "<title>2</title>\n",
       "<ellipse fill=\"none\" stroke=\"#000000\" cx=\"360.0186\" cy=\"-162.2558\" rx=\"76.0123\" ry=\"76.0123\"/>\n",
       "<text text-anchor=\"middle\" x=\"360.0186\" y=\"-158.0558\" font-family=\"Times,serif\" font-size=\"14.00\" fill=\"#000000\">f1&lt;&#45;0.0076907184</text>\n",
       "</g>\n",
       "<!-- 0&#45;&gt;2 -->\n",
       "<g id=\"edge2\" class=\"edge\">\n",
       "<title>0&#45;&gt;2</title>\n",
       "<path fill=\"none\" stroke=\"#ff0000\" d=\"M306.6982,-293.9386C313.4397,-277.2895 320.6711,-259.4304 327.5651,-242.4046\"/>\n",
       "<polygon fill=\"#ff0000\" stroke=\"#ff0000\" points=\"330.8461,-243.6271 331.3551,-233.0445 324.3578,-240.9999 330.8461,-243.6271\"/>\n",
       "<text text-anchor=\"middle\" x=\"329.0186\" y=\"-259.3115\" font-family=\"Times,serif\" font-size=\"14.00\" fill=\"#000000\">no</text>\n",
       "</g>\n",
       "<!-- 3 -->\n",
       "<g id=\"node4\" class=\"node\">\n",
       "<title>3</title>\n",
       "<polygon fill=\"none\" stroke=\"#000000\" points=\"130.0557,-36 -.0186,-36 -.0186,0 130.0557,0 130.0557,-36\"/>\n",
       "<text text-anchor=\"middle\" x=\"65.0186\" y=\"-13.8\" font-family=\"Times,serif\" font-size=\"14.00\" fill=\"#000000\">leaf=&#45;0.0408163257</text>\n",
       "</g>\n",
       "<!-- 1&#45;&gt;3 -->\n",
       "<g id=\"edge3\" class=\"edge\">\n",
       "<title>1&#45;&gt;3</title>\n",
       "<path fill=\"none\" stroke=\"#0000ff\" d=\"M150.4803,-111.3966C129.5672,-88.5418 105.791,-62.5581 88.6358,-43.81\"/>\n",
       "<polygon fill=\"#0000ff\" stroke=\"#0000ff\" points=\"91.0495,-41.2632 81.7166,-36.2484 85.8852,-45.9887 91.0495,-41.2632\"/>\n",
       "<text text-anchor=\"middle\" x=\"142.6323\" y=\"-56.8\" font-family=\"Times,serif\" font-size=\"14.00\" fill=\"#000000\">yes, missing</text>\n",
       "</g>\n",
       "<!-- 4 -->\n",
       "<g id=\"node5\" class=\"node\">\n",
       "<title>4</title>\n",
       "<polygon fill=\"none\" stroke=\"#000000\" points=\"259.8942,-36 148.1429,-36 148.1429,0 259.8942,0 259.8942,-36\"/>\n",
       "<text text-anchor=\"middle\" x=\"204.0186\" y=\"-13.8\" font-family=\"Times,serif\" font-size=\"14.00\" fill=\"#000000\">leaf=1.94429934</text>\n",
       "</g>\n",
       "<!-- 1&#45;&gt;4 -->\n",
       "<g id=\"edge4\" class=\"edge\">\n",
       "<title>1&#45;&gt;4</title>\n",
       "<path fill=\"none\" stroke=\"#ff0000\" d=\"M200.375,-93.0855C201.1779,-76.5391 201.9909,-59.7848 202.6446,-46.3135\"/>\n",
       "<polygon fill=\"#ff0000\" stroke=\"#ff0000\" points=\"206.1426,-46.4383 203.1315,-36.2804 199.1508,-46.099 206.1426,-46.4383\"/>\n",
       "<text text-anchor=\"middle\" x=\"210.0186\" y=\"-56.8\" font-family=\"Times,serif\" font-size=\"14.00\" fill=\"#000000\">no</text>\n",
       "</g>\n",
       "<!-- 5 -->\n",
       "<g id=\"node6\" class=\"node\">\n",
       "<title>5</title>\n",
       "<polygon fill=\"none\" stroke=\"#000000\" points=\"407.5557,-36 284.4814,-36 284.4814,0 407.5557,0 407.5557,-36\"/>\n",
       "<text text-anchor=\"middle\" x=\"346.0186\" y=\"-13.8\" font-family=\"Times,serif\" font-size=\"14.00\" fill=\"#000000\">leaf=&#45;0.860606074</text>\n",
       "</g>\n",
       "<!-- 2&#45;&gt;5 -->\n",
       "<g id=\"edge5\" class=\"edge\">\n",
       "<title>2&#45;&gt;5</title>\n",
       "<path fill=\"none\" stroke=\"#0000ff\" d=\"M352.6496,-86.3258C351.2718,-72.1289 349.9131,-58.129 348.7878,-46.5342\"/>\n",
       "<polygon fill=\"#0000ff\" stroke=\"#0000ff\" points=\"352.2371,-45.8418 347.7875,-36.2267 345.2699,-46.518 352.2371,-45.8418\"/>\n",
       "<text text-anchor=\"middle\" x=\"385.6323\" y=\"-56.8\" font-family=\"Times,serif\" font-size=\"14.00\" fill=\"#000000\">yes, missing</text>\n",
       "</g>\n",
       "<!-- 6 -->\n",
       "<g id=\"node7\" class=\"node\">\n",
       "<title>6</title>\n",
       "<polygon fill=\"none\" stroke=\"#000000\" points=\"542.0557,-36 425.9814,-36 425.9814,0 542.0557,0 542.0557,-36\"/>\n",
       "<text text-anchor=\"middle\" x=\"484.0186\" y=\"-13.8\" font-family=\"Times,serif\" font-size=\"14.00\" fill=\"#000000\">leaf=&#45;1.93926251</text>\n",
       "</g>\n",
       "<!-- 2&#45;&gt;6 -->\n",
       "<g id=\"edge6\" class=\"edge\">\n",
       "<title>2&#45;&gt;6</title>\n",
       "<path fill=\"none\" stroke=\"#ff0000\" d=\"M409.7396,-104.4126C427.8055,-83.3957 447.3202,-60.6931 461.812,-43.8341\"/>\n",
       "<polygon fill=\"#ff0000\" stroke=\"#ff0000\" points=\"464.6298,-45.9252 468.4942,-36.0603 459.3214,-41.3622 464.6298,-45.9252\"/>\n",
       "<text text-anchor=\"middle\" x=\"457.0186\" y=\"-56.8\" font-family=\"Times,serif\" font-size=\"14.00\" fill=\"#000000\">no</text>\n",
       "</g>\n",
       "</g>\n",
       "</svg>\n"
      ],
      "text/plain": [
       "<graphviz.dot.Digraph at 0x129f9cc10>"
      ]
     },
     "execution_count": 40,
     "metadata": {},
     "output_type": "execute_result"
    }
   ],
   "source": [
    "xgb.to_graphviz(bst, num_trees=0)"
   ]
  },
  {
   "cell_type": "code",
   "execution_count": 38,
   "metadata": {},
   "outputs": [
    {
     "data": {
      "image/svg+xml": [
       "<?xml version=\"1.0\" encoding=\"UTF-8\" standalone=\"no\"?>\n",
       "<!DOCTYPE svg PUBLIC \"-//W3C//DTD SVG 1.1//EN\"\n",
       " \"http://www.w3.org/Graphics/SVG/1.1/DTD/svg11.dtd\">\n",
       "<!-- Generated by graphviz version 2.40.1 (20161225.0304)\n",
       " -->\n",
       "<!-- Title: %3 Pages: 1 -->\n",
       "<svg width=\"647pt\" height=\"308pt\"\n",
       " viewBox=\"0.00 0.00 646.52 307.72\" xmlns=\"http://www.w3.org/2000/svg\" xmlns:xlink=\"http://www.w3.org/1999/xlink\">\n",
       "<g id=\"graph0\" class=\"graph\" transform=\"scale(1 1) rotate(0) translate(4 303.7231)\">\n",
       "<title>%3</title>\n",
       "<polygon fill=\"#ffffff\" stroke=\"transparent\" points=\"-4,4 -4,-303.7231 642.5153,-303.7231 642.5153,4 -4,4\"/>\n",
       "<!-- 0 -->\n",
       "<g id=\"node1\" class=\"node\">\n",
       "<title>0</title>\n",
       "<ellipse fill=\"none\" stroke=\"#000000\" cx=\"76.2558\" cy=\"-143.4674\" rx=\"76.0123\" ry=\"76.0123\"/>\n",
       "<text text-anchor=\"middle\" x=\"76.2558\" y=\"-139.2674\" font-family=\"Times,serif\" font-size=\"14.00\" fill=\"#000000\">f1&lt;&#45;0.0794361755</text>\n",
       "</g>\n",
       "<!-- 1 -->\n",
       "<g id=\"node2\" class=\"node\">\n",
       "<title>1</title>\n",
       "<ellipse fill=\"none\" stroke=\"#000000\" cx=\"333.9949\" cy=\"-223.4674\" rx=\"76.0123\" ry=\"76.0123\"/>\n",
       "<text text-anchor=\"middle\" x=\"333.9949\" y=\"-219.2674\" font-family=\"Times,serif\" font-size=\"14.00\" fill=\"#000000\">f21&lt;&#45;0.189457268</text>\n",
       "</g>\n",
       "<!-- 0&#45;&gt;1 -->\n",
       "<g id=\"edge1\" class=\"edge\">\n",
       "<title>0&#45;&gt;1</title>\n",
       "<path fill=\"none\" stroke=\"#0000ff\" d=\"M149.424,-166.1782C181.256,-176.0585 218.7025,-187.6816 251.5175,-197.8671\"/>\n",
       "<polygon fill=\"#0000ff\" stroke=\"#0000ff\" points=\"250.502,-201.2166 261.0901,-200.8383 252.5771,-194.5312 250.502,-201.2166\"/>\n",
       "<text text-anchor=\"middle\" x=\"205.1253\" y=\"-195.2674\" font-family=\"Times,serif\" font-size=\"14.00\" fill=\"#000000\">yes, missing</text>\n",
       "</g>\n",
       "<!-- 2 -->\n",
       "<g id=\"node3\" class=\"node\">\n",
       "<title>2</title>\n",
       "<ellipse fill=\"none\" stroke=\"#000000\" cx=\"333.9949\" cy=\"-64.4674\" rx=\"64.4347\" ry=\"64.4347\"/>\n",
       "<text text-anchor=\"middle\" x=\"333.9949\" y=\"-60.2674\" font-family=\"Times,serif\" font-size=\"14.00\" fill=\"#000000\">f2&lt;0.20784831</text>\n",
       "</g>\n",
       "<!-- 0&#45;&gt;2 -->\n",
       "<g id=\"edge2\" class=\"edge\">\n",
       "<title>0&#45;&gt;2</title>\n",
       "<path fill=\"none\" stroke=\"#ff0000\" d=\"M149.424,-121.0404C184.7935,-110.1993 227.0948,-97.2335 262.2722,-86.4512\"/>\n",
       "<polygon fill=\"#ff0000\" stroke=\"#ff0000\" points=\"263.4582,-89.7485 271.9935,-83.4715 261.4068,-83.0558 263.4582,-89.7485\"/>\n",
       "<text text-anchor=\"middle\" x=\"205.1253\" y=\"-115.2674\" font-family=\"Times,serif\" font-size=\"14.00\" fill=\"#000000\">no</text>\n",
       "</g>\n",
       "<!-- 3 -->\n",
       "<g id=\"node4\" class=\"node\">\n",
       "<title>3</title>\n",
       "<polygon fill=\"none\" stroke=\"#000000\" points=\"638.5338,-255.4674 515.4596,-255.4674 515.4596,-219.4674 638.5338,-219.4674 638.5338,-255.4674\"/>\n",
       "<text text-anchor=\"middle\" x=\"576.9967\" y=\"-233.2674\" font-family=\"Times,serif\" font-size=\"14.00\" fill=\"#000000\">leaf=&#45;0.385355532</text>\n",
       "</g>\n",
       "<!-- 1&#45;&gt;3 -->\n",
       "<g id=\"edge3\" class=\"edge\">\n",
       "<title>1&#45;&gt;3</title>\n",
       "<path fill=\"none\" stroke=\"#0000ff\" d=\"M410.2154,-227.8586C440.471,-229.6017 475.0979,-231.5967 504.931,-233.3155\"/>\n",
       "<polygon fill=\"#0000ff\" stroke=\"#0000ff\" points=\"505.0836,-236.83 515.2684,-233.911 505.4863,-229.8416 505.0836,-236.83\"/>\n",
       "<text text-anchor=\"middle\" x=\"462.8644\" y=\"-235.2674\" font-family=\"Times,serif\" font-size=\"14.00\" fill=\"#000000\">yes, missing</text>\n",
       "</g>\n",
       "<!-- 4 -->\n",
       "<g id=\"node5\" class=\"node\">\n",
       "<title>4</title>\n",
       "<polygon fill=\"none\" stroke=\"#000000\" points=\"632.8724,-201.4674 521.1211,-201.4674 521.1211,-165.4674 632.8724,-165.4674 632.8724,-201.4674\"/>\n",
       "<text text-anchor=\"middle\" x=\"576.9967\" y=\"-179.2674\" font-family=\"Times,serif\" font-size=\"14.00\" fill=\"#000000\">leaf=1.08551991</text>\n",
       "</g>\n",
       "<!-- 1&#45;&gt;4 -->\n",
       "<g id=\"edge4\" class=\"edge\">\n",
       "<title>1&#45;&gt;4</title>\n",
       "<path fill=\"none\" stroke=\"#ff0000\" d=\"M409.5501,-211.0304C442.1111,-205.6706 479.8348,-199.461 511.224,-194.2941\"/>\n",
       "<polygon fill=\"#ff0000\" stroke=\"#ff0000\" points=\"511.8794,-197.7334 521.1781,-192.6555 510.7424,-190.8263 511.8794,-197.7334\"/>\n",
       "<text text-anchor=\"middle\" x=\"462.8644\" y=\"-209.2674\" font-family=\"Times,serif\" font-size=\"14.00\" fill=\"#000000\">no</text>\n",
       "</g>\n",
       "<!-- 5 -->\n",
       "<g id=\"node6\" class=\"node\">\n",
       "<title>5</title>\n",
       "<polygon fill=\"none\" stroke=\"#000000\" points=\"635.0338,-122.4674 518.9596,-122.4674 518.9596,-86.4674 635.0338,-86.4674 635.0338,-122.4674\"/>\n",
       "<text text-anchor=\"middle\" x=\"576.9967\" y=\"-100.2674\" font-family=\"Times,serif\" font-size=\"14.00\" fill=\"#000000\">leaf=&#45;1.12001765</text>\n",
       "</g>\n",
       "<!-- 2&#45;&gt;5 -->\n",
       "<g id=\"edge5\" class=\"edge\">\n",
       "<title>2&#45;&gt;5</title>\n",
       "<path fill=\"none\" stroke=\"#0000ff\" d=\"M397.8407,-74.9769C431.885,-80.5808 473.791,-87.4789 508.5119,-93.1942\"/>\n",
       "<polygon fill=\"#0000ff\" stroke=\"#0000ff\" points=\"508.1338,-96.679 518.5695,-94.8498 509.2708,-89.772 508.1338,-96.679\"/>\n",
       "<text text-anchor=\"middle\" x=\"462.8644\" y=\"-92.2674\" font-family=\"Times,serif\" font-size=\"14.00\" fill=\"#000000\">yes, missing</text>\n",
       "</g>\n",
       "<!-- 6 -->\n",
       "<g id=\"node7\" class=\"node\">\n",
       "<title>6</title>\n",
       "<polygon fill=\"none\" stroke=\"#000000\" points=\"638.5338,-68.4674 515.4596,-68.4674 515.4596,-32.4674 638.5338,-32.4674 638.5338,-68.4674\"/>\n",
       "<text text-anchor=\"middle\" x=\"576.9967\" y=\"-46.2674\" font-family=\"Times,serif\" font-size=\"14.00\" fill=\"#000000\">leaf=&#45;0.133517101</text>\n",
       "</g>\n",
       "<!-- 2&#45;&gt;6 -->\n",
       "<g id=\"edge6\" class=\"edge\">\n",
       "<title>2&#45;&gt;6</title>\n",
       "<path fill=\"none\" stroke=\"#ff0000\" d=\"M398.4769,-60.7524C431.225,-58.8657 471.1203,-56.5672 504.8837,-54.622\"/>\n",
       "<polygon fill=\"#ff0000\" stroke=\"#ff0000\" points=\"505.3683,-58.1 515.1504,-54.0305 504.9656,-51.1116 505.3683,-58.1\"/>\n",
       "<text text-anchor=\"middle\" x=\"462.8644\" y=\"-62.2674\" font-family=\"Times,serif\" font-size=\"14.00\" fill=\"#000000\">no</text>\n",
       "</g>\n",
       "</g>\n",
       "</svg>\n"
      ],
      "text/plain": [
       "<graphviz.dot.Digraph at 0x129f86690>"
      ]
     },
     "execution_count": 38,
     "metadata": {},
     "output_type": "execute_result"
    }
   ],
   "source": [
    "xgb.to_graphviz(bst, num_trees=1, rankdir='LR')"
   ]
  },
  {
   "cell_type": "code",
   "execution_count": 39,
   "metadata": {},
   "outputs": [
    {
     "data": {
      "image/svg+xml": [
       "<?xml version=\"1.0\" encoding=\"UTF-8\" standalone=\"no\"?>\n",
       "<!DOCTYPE svg PUBLIC \"-//W3C//DTD SVG 1.1//EN\"\n",
       " \"http://www.w3.org/Graphics/SVG/1.1/DTD/svg11.dtd\">\n",
       "<!-- Generated by graphviz version 2.40.1 (20161225.0304)\n",
       " -->\n",
       "<!-- Title: %3 Pages: 1 -->\n",
       "<svg width=\"643pt\" height=\"336pt\"\n",
       " viewBox=\"0.00 0.00 642.93 336.47\" xmlns=\"http://www.w3.org/2000/svg\" xmlns:xlink=\"http://www.w3.org/1999/xlink\">\n",
       "<g id=\"graph0\" class=\"graph\" transform=\"scale(1 1) rotate(0) translate(4 332.4651)\">\n",
       "<title>%3</title>\n",
       "<polygon fill=\"#ffffff\" stroke=\"transparent\" points=\"-4,4 -4,-332.4651 638.9313,-332.4651 638.9313,4 -4,4\"/>\n",
       "<!-- 0 -->\n",
       "<g id=\"node1\" class=\"node\">\n",
       "<title>0</title>\n",
       "<ellipse fill=\"none\" stroke=\"#000000\" cx=\"72.987\" cy=\"-163.7326\" rx=\"72.9739\" ry=\"72.9739\"/>\n",
       "<text text-anchor=\"middle\" x=\"72.987\" y=\"-159.5326\" font-family=\"Times,serif\" font-size=\"14.00\" fill=\"#000000\">f11&lt;0.125288099</text>\n",
       "</g>\n",
       "<!-- 1 -->\n",
       "<g id=\"node2\" class=\"node\">\n",
       "<title>1</title>\n",
       "<ellipse fill=\"none\" stroke=\"#000000\" cx=\"328.934\" cy=\"-250.7326\" rx=\"77.9658\" ry=\"77.9658\"/>\n",
       "<text text-anchor=\"middle\" x=\"328.934\" y=\"-246.5326\" font-family=\"Times,serif\" font-size=\"14.00\" fill=\"#000000\">f17&lt;0.0657003671</text>\n",
       "</g>\n",
       "<!-- 0&#45;&gt;1 -->\n",
       "<g id=\"edge1\" class=\"edge\">\n",
       "<title>0&#45;&gt;1</title>\n",
       "<path fill=\"none\" stroke=\"#0000ff\" d=\"M142.2499,-187.276C174.0499,-198.0853 212.0247,-210.9934 245.3966,-222.337\"/>\n",
       "<polygon fill=\"#0000ff\" stroke=\"#0000ff\" points=\"244.5399,-225.7424 255.1343,-225.647 246.7928,-219.1148 244.5399,-225.7424\"/>\n",
       "<text text-anchor=\"middle\" x=\"198.5877\" y=\"-219.5326\" font-family=\"Times,serif\" font-size=\"14.00\" fill=\"#000000\">yes, missing</text>\n",
       "</g>\n",
       "<!-- 2 -->\n",
       "<g id=\"node3\" class=\"node\">\n",
       "<title>2</title>\n",
       "<ellipse fill=\"none\" stroke=\"#000000\" cx=\"328.934\" cy=\"-77.7326\" rx=\"77.9658\" ry=\"77.9658\"/>\n",
       "<text text-anchor=\"middle\" x=\"328.934\" y=\"-73.5326\" font-family=\"Times,serif\" font-size=\"14.00\" fill=\"#000000\">f13&lt;0.0468904004</text>\n",
       "</g>\n",
       "<!-- 0&#45;&gt;2 -->\n",
       "<g id=\"edge2\" class=\"edge\">\n",
       "<title>0&#45;&gt;2</title>\n",
       "<path fill=\"none\" stroke=\"#ff0000\" d=\"M142.2499,-140.4597C174.0499,-129.7747 212.0247,-117.0149 245.3966,-105.8017\"/>\n",
       "<polygon fill=\"#ff0000\" stroke=\"#ff0000\" points=\"246.7699,-109.0327 255.1343,-102.5298 244.5403,-102.3972 246.7699,-109.0327\"/>\n",
       "<text text-anchor=\"middle\" x=\"198.5877\" y=\"-133.5326\" font-family=\"Times,serif\" font-size=\"14.00\" fill=\"#000000\">no</text>\n",
       "</g>\n",
       "<!-- 3 -->\n",
       "<g id=\"node4\" class=\"node\">\n",
       "<title>3</title>\n",
       "<polygon fill=\"none\" stroke=\"#000000\" points=\"634.9498,-295.7326 511.8756,-295.7326 511.8756,-259.7326 634.9498,-259.7326 634.9498,-295.7326\"/>\n",
       "<text text-anchor=\"middle\" x=\"573.4127\" y=\"-273.5326\" font-family=\"Times,serif\" font-size=\"14.00\" fill=\"#000000\">leaf=&#45;0.109472133</text>\n",
       "</g>\n",
       "<!-- 1&#45;&gt;3 -->\n",
       "<g id=\"edge3\" class=\"edge\">\n",
       "<title>1&#45;&gt;3</title>\n",
       "<path fill=\"none\" stroke=\"#0000ff\" d=\"M406.2886,-259.2755C436.8298,-262.6485 471.7121,-266.5008 501.6801,-269.8105\"/>\n",
       "<polygon fill=\"#0000ff\" stroke=\"#0000ff\" points=\"501.3177,-273.2916 511.6415,-270.9106 502.0861,-266.3339 501.3177,-273.2916\"/>\n",
       "<text text-anchor=\"middle\" x=\"459.2804\" y=\"-270.5326\" font-family=\"Times,serif\" font-size=\"14.00\" fill=\"#000000\">yes, missing</text>\n",
       "</g>\n",
       "<!-- 4 -->\n",
       "<g id=\"node5\" class=\"node\">\n",
       "<title>4</title>\n",
       "<polygon fill=\"none\" stroke=\"#000000\" points=\"631.4498,-241.7326 515.3756,-241.7326 515.3756,-205.7326 631.4498,-205.7326 631.4498,-241.7326\"/>\n",
       "<text text-anchor=\"middle\" x=\"573.4127\" y=\"-219.5326\" font-family=\"Times,serif\" font-size=\"14.00\" fill=\"#000000\">leaf=&#45;1.14742517</text>\n",
       "</g>\n",
       "<!-- 1&#45;&gt;4 -->\n",
       "<g id=\"edge4\" class=\"edge\">\n",
       "<title>1&#45;&gt;4</title>\n",
       "<path fill=\"none\" stroke=\"#ff0000\" d=\"M406.2886,-242.1896C437.961,-238.6917 474.3019,-234.6783 504.9892,-231.2892\"/>\n",
       "<polygon fill=\"#ff0000\" stroke=\"#ff0000\" points=\"505.6092,-234.7421 515.1646,-230.1654 504.8408,-227.7844 505.6092,-234.7421\"/>\n",
       "<text text-anchor=\"middle\" x=\"459.2804\" y=\"-241.5326\" font-family=\"Times,serif\" font-size=\"14.00\" fill=\"#000000\">no</text>\n",
       "</g>\n",
       "<!-- 5 -->\n",
       "<g id=\"node6\" class=\"node\">\n",
       "<title>5</title>\n",
       "<polygon fill=\"none\" stroke=\"#000000\" points=\"632.7883,-122.7326 514.0371,-122.7326 514.0371,-86.7326 632.7883,-86.7326 632.7883,-122.7326\"/>\n",
       "<text text-anchor=\"middle\" x=\"573.4127\" y=\"-100.5326\" font-family=\"Times,serif\" font-size=\"14.00\" fill=\"#000000\">leaf=0.092915751</text>\n",
       "</g>\n",
       "<!-- 2&#45;&gt;5 -->\n",
       "<g id=\"edge5\" class=\"edge\">\n",
       "<title>2&#45;&gt;5</title>\n",
       "<path fill=\"none\" stroke=\"#0000ff\" d=\"M406.2886,-86.2755C437.584,-89.7318 473.4373,-93.6914 503.8909,-97.0546\"/>\n",
       "<polygon fill=\"#0000ff\" stroke=\"#0000ff\" points=\"503.6734,-100.5518 513.9972,-98.1708 504.4419,-93.5941 503.6734,-100.5518\"/>\n",
       "<text text-anchor=\"middle\" x=\"459.2804\" y=\"-97.5326\" font-family=\"Times,serif\" font-size=\"14.00\" fill=\"#000000\">yes, missing</text>\n",
       "</g>\n",
       "<!-- 6 -->\n",
       "<g id=\"node7\" class=\"node\">\n",
       "<title>6</title>\n",
       "<polygon fill=\"none\" stroke=\"#000000\" points=\"629.2883,-68.7326 517.5371,-68.7326 517.5371,-32.7326 629.2883,-32.7326 629.2883,-68.7326\"/>\n",
       "<text text-anchor=\"middle\" x=\"573.4127\" y=\"-46.5326\" font-family=\"Times,serif\" font-size=\"14.00\" fill=\"#000000\">leaf=1.26176679</text>\n",
       "</g>\n",
       "<!-- 2&#45;&gt;6 -->\n",
       "<g id=\"edge6\" class=\"edge\">\n",
       "<title>2&#45;&gt;6</title>\n",
       "<path fill=\"none\" stroke=\"#ff0000\" d=\"M406.2886,-69.1896C438.7151,-65.6084 476.0351,-61.4869 507.1714,-58.0482\"/>\n",
       "<polygon fill=\"#ff0000\" stroke=\"#ff0000\" points=\"507.9223,-61.4866 517.4777,-56.91 507.1539,-54.5289 507.9223,-61.4866\"/>\n",
       "<text text-anchor=\"middle\" x=\"459.2804\" y=\"-68.5326\" font-family=\"Times,serif\" font-size=\"14.00\" fill=\"#000000\">no</text>\n",
       "</g>\n",
       "</g>\n",
       "</svg>\n"
      ],
      "text/plain": [
       "<graphviz.dot.Digraph at 0x129f86a50>"
      ]
     },
     "execution_count": 39,
     "metadata": {},
     "output_type": "execute_result"
    }
   ],
   "source": [
    "xgb.to_graphviz(bst, num_trees=5, rankdir='LR')"
   ]
  },
  {
   "cell_type": "code",
   "execution_count": 41,
   "metadata": {},
   "outputs": [
    {
     "name": "stdout",
     "output_type": "stream",
     "text": [
      "[0]\teval-auc:0.999079\n",
      "[0]\teval-auc:0.997924\n"
     ]
    }
   ],
   "source": [
    "print bst.eval(dtrain)\n",
    "print bst.eval(dtest)"
   ]
  },
  {
   "cell_type": "code",
   "execution_count": 42,
   "metadata": {},
   "outputs": [
    {
     "data": {
      "text/plain": [
       "array([[0.99141631, 0.00858369],\n",
       "       [0.02145215, 0.97854785]])"
      ]
     },
     "execution_count": 42,
     "metadata": {},
     "output_type": "execute_result"
    }
   ],
   "source": [
    "#Check confusion matrix\n",
    "pred_test = bst.predict(dtest, ntree_limit=bst.best_ntree_limit)\n",
    "pred_test[pred_test>=0.5]=1\n",
    "pred_test[pred_test<0.5]=0\n",
    "cm = confusion_matrix(y_test, pred_test)\n",
    "cm = cm.astype('float') / cm.sum(axis=1)[:, np.newaxis]\n",
    "cm"
   ]
  },
  {
   "cell_type": "code",
   "execution_count": 43,
   "metadata": {},
   "outputs": [
    {
     "data": {
      "image/png": "[encoded data removed]",
      "text/plain": [
       "<matplotlib.figure.Figure at 0x12a0080d0>"
      ]
     },
     "metadata": {
      "needs_background": "light"
     },
     "output_type": "display_data"
    }
   ],
   "source": [
    "class_probs = bst.predict(dtest, ntree_limit=bst.best_ntree_limit)\n",
    "model_probs = [class_probs]\n",
    "model_names = [\"GBT\"]\n",
    "recmetrics.ROCPlot(y_test, model_probs, model_names)"
   ]
  },
  {
   "cell_type": "code",
   "execution_count": null,
   "metadata": {},
   "outputs": [],
   "source": []
  }
 ],
 "metadata": {
  "kernelspec": {
   "display_name": "Python 2",
   "language": "python",
   "name": "python2"
  },
  "language_info": {
   "codemirror_mode": {
    "name": "ipython",
    "version": 2
   },
   "file_extension": ".py",
   "mimetype": "text/x-python",
   "name": "python",
   "nbconvert_exporter": "python",
   "pygments_lexer": "ipython2",
   "version": "2.7.15"
  }
 },
 "nbformat": 4,
 "nbformat_minor": 2
}
