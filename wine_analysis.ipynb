{
 "cells": [
  {
   "cell_type": "markdown",
   "metadata": {},
   "source": [
    "# Gradient Boosting Machines for Wine Price Predictions"
   ]
  },
  {
   "cell_type": "code",
   "execution_count": 70,
   "metadata": {},
   "outputs": [],
   "source": [
    "import pandas as pd\n",
    "import numpy as np\n",
    "from sklearn.model_selection import train_test_split\n",
    "from sklearn.feature_extraction.text import TfidfVectorizer\n",
    "from sklearn.decomposition import TruncatedSVD\n",
    "from nltk.tokenize import RegexpTokenizer\n",
    "import xgboost as xgb\n",
    "\n",
    "import seaborn as sns\n",
    "import matplotlib.pyplot as plt"
   ]
  },
  {
   "cell_type": "code",
   "execution_count": 71,
   "metadata": {},
   "outputs": [
    {
     "data": {
      "text/html": [
       "<style>.container { width:100% !important; }</style>"
      ],
      "text/plain": [
       "<IPython.core.display.HTML object>"
      ]
     },
     "metadata": {},
     "output_type": "display_data"
    }
   ],
   "source": [
    "from IPython.core.display import display, HTML\n",
    "display(HTML(\"<style>.container { width:100% !important; }</style>\"))"
   ]
  },
  {
   "cell_type": "code",
   "execution_count": 72,
   "metadata": {},
   "outputs": [
    {
     "name": "stdout",
     "output_type": "stream",
     "text": [
      "(137235, 11)\n"
     ]
    },
    {
     "data": {
      "text/html": [
       "<div>\n",
       "<style scoped>\n",
       "    .dataframe tbody tr th:only-of-type {\n",
       "        vertical-align: middle;\n",
       "    }\n",
       "\n",
       "    .dataframe tbody tr th {\n",
       "        vertical-align: top;\n",
       "    }\n",
       "\n",
       "    .dataframe thead th {\n",
       "        text-align: right;\n",
       "    }\n",
       "</style>\n",
       "<table border=\"1\" class=\"dataframe\">\n",
       "  <thead>\n",
       "    <tr style=\"text-align: right;\">\n",
       "      <th></th>\n",
       "      <th>index</th>\n",
       "      <th>country</th>\n",
       "      <th>description</th>\n",
       "      <th>designation</th>\n",
       "      <th>points</th>\n",
       "      <th>price</th>\n",
       "      <th>province</th>\n",
       "      <th>region_1</th>\n",
       "      <th>region_2</th>\n",
       "      <th>variety</th>\n",
       "      <th>winery</th>\n",
       "    </tr>\n",
       "  </thead>\n",
       "  <tbody>\n",
       "    <tr>\n",
       "      <th>0</th>\n",
       "      <td>0</td>\n",
       "      <td>US</td>\n",
       "      <td>This tremendous 100% varietal wine hails from ...</td>\n",
       "      <td>Martha's Vineyard</td>\n",
       "      <td>96</td>\n",
       "      <td>235.0</td>\n",
       "      <td>California</td>\n",
       "      <td>Napa Valley</td>\n",
       "      <td>Napa</td>\n",
       "      <td>Cabernet Sauvignon</td>\n",
       "      <td>Heitz</td>\n",
       "    </tr>\n",
       "    <tr>\n",
       "      <th>1</th>\n",
       "      <td>1</td>\n",
       "      <td>Spain</td>\n",
       "      <td>Ripe aromas of fig, blackberry and cassis are ...</td>\n",
       "      <td>Carodorum Selección Especial Reserva</td>\n",
       "      <td>96</td>\n",
       "      <td>110.0</td>\n",
       "      <td>Northern Spain</td>\n",
       "      <td>Toro</td>\n",
       "      <td>NaN</td>\n",
       "      <td>Tinta de Toro</td>\n",
       "      <td>Bodega Carmen Rodríguez</td>\n",
       "    </tr>\n",
       "    <tr>\n",
       "      <th>2</th>\n",
       "      <td>2</td>\n",
       "      <td>US</td>\n",
       "      <td>Mac Watson honors the memory of a wine once ma...</td>\n",
       "      <td>Special Selected Late Harvest</td>\n",
       "      <td>96</td>\n",
       "      <td>90.0</td>\n",
       "      <td>California</td>\n",
       "      <td>Knights Valley</td>\n",
       "      <td>Sonoma</td>\n",
       "      <td>Sauvignon Blanc</td>\n",
       "      <td>Macauley</td>\n",
       "    </tr>\n",
       "    <tr>\n",
       "      <th>3</th>\n",
       "      <td>3</td>\n",
       "      <td>US</td>\n",
       "      <td>This spent 20 months in 30% new French oak, an...</td>\n",
       "      <td>Reserve</td>\n",
       "      <td>96</td>\n",
       "      <td>65.0</td>\n",
       "      <td>Oregon</td>\n",
       "      <td>Willamette Valley</td>\n",
       "      <td>Willamette Valley</td>\n",
       "      <td>Pinot Noir</td>\n",
       "      <td>Ponzi</td>\n",
       "    </tr>\n",
       "    <tr>\n",
       "      <th>4</th>\n",
       "      <td>4</td>\n",
       "      <td>France</td>\n",
       "      <td>This is the top wine from La Bégude, named aft...</td>\n",
       "      <td>La Brûlade</td>\n",
       "      <td>95</td>\n",
       "      <td>66.0</td>\n",
       "      <td>Provence</td>\n",
       "      <td>Bandol</td>\n",
       "      <td>NaN</td>\n",
       "      <td>Provence red blend</td>\n",
       "      <td>Domaine de la Bégude</td>\n",
       "    </tr>\n",
       "  </tbody>\n",
       "</table>\n",
       "</div>"
      ],
      "text/plain": [
       "   index country                                        description  \\\n",
       "0      0      US  This tremendous 100% varietal wine hails from ...   \n",
       "1      1   Spain  Ripe aromas of fig, blackberry and cassis are ...   \n",
       "2      2      US  Mac Watson honors the memory of a wine once ma...   \n",
       "3      3      US  This spent 20 months in 30% new French oak, an...   \n",
       "4      4  France  This is the top wine from La Bégude, named aft...   \n",
       "\n",
       "                            designation  points  price        province  \\\n",
       "0                     Martha's Vineyard      96  235.0      California   \n",
       "1  Carodorum Selección Especial Reserva      96  110.0  Northern Spain   \n",
       "2         Special Selected Late Harvest      96   90.0      California   \n",
       "3                               Reserve      96   65.0          Oregon   \n",
       "4                            La Brûlade      95   66.0        Provence   \n",
       "\n",
       "            region_1           region_2             variety  \\\n",
       "0        Napa Valley               Napa  Cabernet Sauvignon   \n",
       "1               Toro                NaN       Tinta de Toro   \n",
       "2     Knights Valley             Sonoma     Sauvignon Blanc   \n",
       "3  Willamette Valley  Willamette Valley          Pinot Noir   \n",
       "4             Bandol                NaN  Provence red blend   \n",
       "\n",
       "                    winery  \n",
       "0                    Heitz  \n",
       "1  Bodega Carmen Rodríguez  \n",
       "2                 Macauley  \n",
       "3                    Ponzi  \n",
       "4     Domaine de la Bégude  "
      ]
     },
     "execution_count": 72,
     "metadata": {},
     "output_type": "execute_result"
    }
   ],
   "source": [
    "#Load data\n",
    "wine = pd.read_csv('data/winemag-data_first150k.csv', index_col=0, encoding=\"utf-8\")\n",
    "wine.dropna(subset=[\"price\"], inplace=True)\n",
    "wine.reset_index(inplace=True)\n",
    "print(wine.shape)\n",
    "wine.head()"
   ]
  },
  {
   "cell_type": "code",
   "execution_count": 73,
   "metadata": {},
   "outputs": [
    {
     "data": {
      "text/plain": [
       "'This tremendous 100% varietal wine hails from Oakville and was aged over three years in oak. Juicy red-cherry fruit and a compelling hint of caramel greet the palate, framed by elegant, fine tannins and a subtle minty tone in the background. Balanced and rewarding from start to finish, it has years ahead of it to develop further nuance. Enjoy 2022–2030.'"
      ]
     },
     "execution_count": 73,
     "metadata": {},
     "output_type": "execute_result"
    }
   ],
   "source": [
    "wine[\"description\"][0]"
   ]
  },
  {
   "cell_type": "markdown",
   "metadata": {},
   "source": [
    "# Feature Engineering"
   ]
  },
  {
   "cell_type": "code",
   "execution_count": 74,
   "metadata": {},
   "outputs": [
    {
     "data": {
      "image/png": "[encoded data removed]",
      "text/plain": [
       "<Figure size 432x288 with 1 Axes>"
      ]
     },
     "metadata": {
      "needs_background": "light"
     },
     "output_type": "display_data"
    }
   ],
   "source": [
    "sns.distplot(wine.price)\n",
    "plt.show()"
   ]
  },
  {
   "cell_type": "code",
   "execution_count": 75,
   "metadata": {},
   "outputs": [],
   "source": [
    "def ohe_features(df, feature, occurances):\n",
    "    '''\n",
    "    df: pandas data frame with feature to be encoded\n",
    "    feature: str. feature name\n",
    "    occurances: number of occurances to threshold feature at\n",
    "    '''\n",
    "    vc = df[feature].value_counts()\n",
    "    keep_values = vc[vc > occurances].index.tolist()\n",
    "    ohe_feature = pd.get_dummies(df[feature])\n",
    "\n",
    "    feature_names = ohe_feature.columns\n",
    "    keep_features = feature_names[feature_names.isin(keep_values)]\n",
    "    return ohe_feature[keep_features]"
   ]
  },
  {
   "cell_type": "code",
   "execution_count": 76,
   "metadata": {},
   "outputs": [
    {
     "name": "stdout",
     "output_type": "stream",
     "text": [
      "There are 46 country categorical variables\n",
      "There are 71 designation categorical variables\n",
      "There are 113 province categorical variables\n",
      "There are 308 region categorical variables\n",
      "There are 133 variety categorical variables\n",
      "There are 454 winery categorical variables\n"
     ]
    }
   ],
   "source": [
    "country = pd.get_dummies(wine.country)\n",
    "collist = country.columns.tolist()\n",
    "collist = [\"country_\" + s for s in collist]\n",
    "country.columns = collist\n",
    "print (\"There are {} country categorical variables\".format(country.shape[1]))\n",
    "\n",
    "designation = ohe_features(wine, \"designation\", 50)\n",
    "collist = designation.columns.tolist()\n",
    "collist = [\"designation_\" + s for s in collist]\n",
    "designation.columns = collist\n",
    "print (\"There are {} designation categorical variables\".format(designation.shape[1]))\n",
    "\n",
    "province = ohe_features(wine, \"province\", 50)\n",
    "collist = province.columns.tolist()\n",
    "collist = [\"province_\" + s for s in collist]\n",
    "province.columns = collist\n",
    "print (\"There are {} province categorical variables\".format(province.shape[1]))\n",
    "\n",
    "region = ohe_features(wine, \"region_1\", 50)\n",
    "collist = region.columns.tolist()\n",
    "collist = [\"region_\" + s for s in collist]\n",
    "region.columns = collist\n",
    "print (\"There are {} region categorical variables\".format(region.shape[1]))\n",
    "\n",
    "variety = ohe_features(wine, \"variety\", 50)\n",
    "collist = variety.columns.tolist()\n",
    "collist = [\"variety_\" + s for s in collist]\n",
    "variety.columns = collist\n",
    "print (\"There are {} variety categorical variables\".format(variety.shape[1]))\n",
    "\n",
    "winery = ohe_features(wine, \"winery\", 50)\n",
    "collist = winery.columns.tolist()\n",
    "collist = [\"winery_\" + s for s in collist]\n",
    "winery.columns = collist\n",
    "print (\"There are {} winery categorical variables\".format(winery.shape[1]))"
   ]
  },
  {
   "cell_type": "code",
   "execution_count": 77,
   "metadata": {},
   "outputs": [],
   "source": [
    "def make_lower_case(text):\n",
    "    return text.lower()\n",
    "\n",
    "def remove_punctuation(text):\n",
    "    tokenizer = RegexpTokenizer(r'\\w+')\n",
    "    text = tokenizer.tokenize(text)\n",
    "    text = \" \".join(text)\n",
    "    return text"
   ]
  },
  {
   "cell_type": "code",
   "execution_count": 78,
   "metadata": {},
   "outputs": [],
   "source": [
    "wine[\"description\"] = wine[\"description\"].str.replace('\\d+', '')\n",
    "wine[\"description\"] = wine.description.apply(func=remove_punctuation)\n",
    "wine[\"description\"] = wine.description.apply(func=make_lower_case)"
   ]
  },
  {
   "cell_type": "code",
   "execution_count": 79,
   "metadata": {},
   "outputs": [
    {
     "data": {
      "text/html": [
       "<div>\n",
       "<style scoped>\n",
       "    .dataframe tbody tr th:only-of-type {\n",
       "        vertical-align: middle;\n",
       "    }\n",
       "\n",
       "    .dataframe tbody tr th {\n",
       "        vertical-align: top;\n",
       "    }\n",
       "\n",
       "    .dataframe thead th {\n",
       "        text-align: right;\n",
       "    }\n",
       "</style>\n",
       "<table border=\"1\" class=\"dataframe\">\n",
       "  <thead>\n",
       "    <tr style=\"text-align: right;\">\n",
       "      <th></th>\n",
       "      <th>latent_description_0</th>\n",
       "      <th>latent_description_1</th>\n",
       "      <th>latent_description_2</th>\n",
       "      <th>latent_description_3</th>\n",
       "      <th>latent_description_4</th>\n",
       "    </tr>\n",
       "  </thead>\n",
       "  <tbody>\n",
       "    <tr>\n",
       "      <th>0</th>\n",
       "      <td>0.122660</td>\n",
       "      <td>-0.036761</td>\n",
       "      <td>-0.006784</td>\n",
       "      <td>0.022525</td>\n",
       "      <td>-0.030829</td>\n",
       "    </tr>\n",
       "    <tr>\n",
       "      <th>1</th>\n",
       "      <td>0.135296</td>\n",
       "      <td>-0.043047</td>\n",
       "      <td>0.012895</td>\n",
       "      <td>0.026212</td>\n",
       "      <td>0.026648</td>\n",
       "    </tr>\n",
       "    <tr>\n",
       "      <th>2</th>\n",
       "      <td>0.077102</td>\n",
       "      <td>0.046806</td>\n",
       "      <td>-0.016269</td>\n",
       "      <td>0.010222</td>\n",
       "      <td>0.014536</td>\n",
       "    </tr>\n",
       "    <tr>\n",
       "      <th>3</th>\n",
       "      <td>0.147137</td>\n",
       "      <td>-0.097861</td>\n",
       "      <td>0.031628</td>\n",
       "      <td>0.009989</td>\n",
       "      <td>0.040519</td>\n",
       "    </tr>\n",
       "    <tr>\n",
       "      <th>4</th>\n",
       "      <td>0.083745</td>\n",
       "      <td>0.001338</td>\n",
       "      <td>-0.080732</td>\n",
       "      <td>0.103298</td>\n",
       "      <td>-0.019988</td>\n",
       "    </tr>\n",
       "  </tbody>\n",
       "</table>\n",
       "</div>"
      ],
      "text/plain": [
       "   latent_description_0  latent_description_1  latent_description_2  \\\n",
       "0              0.122660             -0.036761             -0.006784   \n",
       "1              0.135296             -0.043047              0.012895   \n",
       "2              0.077102              0.046806             -0.016269   \n",
       "3              0.147137             -0.097861              0.031628   \n",
       "4              0.083745              0.001338             -0.080732   \n",
       "\n",
       "   latent_description_3  latent_description_4  \n",
       "0              0.022525             -0.030829  \n",
       "1              0.026212              0.026648  \n",
       "2              0.010222              0.014536  \n",
       "3              0.009989              0.040519  \n",
       "4              0.103298             -0.019988  "
      ]
     },
     "execution_count": 79,
     "metadata": {},
     "output_type": "execute_result"
    }
   ],
   "source": [
    "tf = TfidfVectorizer(analyzer='word', \n",
    "                     min_df=10,\n",
    "                     ngram_range=(1, 2),\n",
    "                     stop_words='english')\n",
    "svd = TruncatedSVD(n_components=5)\n",
    "\n",
    "#Fit tfidf and svd, and transform training data\n",
    "tfidf_matrix = tf.fit_transform(wine.description)\n",
    "lsa_features = pd.DataFrame(svd.fit_transform(tfidf_matrix))\n",
    "collist = map(str, range(0, 5))\n",
    "collist = [\"latent_description_\" + s for s in collist]\n",
    "lsa_features.columns = collist\n",
    "lsa_features.head()"
   ]
  },
  {
   "cell_type": "code",
   "execution_count": 80,
   "metadata": {},
   "outputs": [
    {
     "name": "stdout",
     "output_type": "stream",
     "text": [
      "(137235, 1018)\n",
      "(137235,)\n"
     ]
    }
   ],
   "source": [
    "X = pd.concat([country, designation, region, variety, winery, lsa_features, wine[\"points\"]], sort=False, axis=1)\n",
    "y = wine[\"price\"]\n",
    "print (X.shape)\n",
    "print (y.shape)"
   ]
  },
  {
   "cell_type": "markdown",
   "metadata": {},
   "source": [
    "# Test Train Split"
   ]
  },
  {
   "cell_type": "code",
   "execution_count": 81,
   "metadata": {},
   "outputs": [
    {
     "name": "stdout",
     "output_type": "stream",
     "text": [
      "96064 training observations\n",
      "41171 testing observations\n"
     ]
    }
   ],
   "source": [
    "X_train, X_test, y_train, y_test = train_test_split(X, y, test_size=0.3)\n",
    "\n",
    "print (\"{} training observations\".format(X_train.shape[0]))\n",
    "print (\"{} testing observations\".format(X_test.shape[0]))"
   ]
  },
  {
   "cell_type": "markdown",
   "metadata": {},
   "source": [
    "# XGBoost Classification"
   ]
  },
  {
   "cell_type": "code",
   "execution_count": 82,
   "metadata": {},
   "outputs": [],
   "source": [
    "dtrain = xgb.DMatrix(X_train, label=y_train)\n",
    "dtest = xgb.DMatrix(X_test, label=y_test)"
   ]
  },
  {
   "cell_type": "code",
   "execution_count": 83,
   "metadata": {},
   "outputs": [],
   "source": [
    "param = {'max_depth': 3, 'eta': 1, 'subsample':0.5, 'alpha':1}\n",
    "param['nthread'] = 4\n",
    "param['eval_metric'] = 'mae'\n",
    "param['objective'] = 'reg:linear'\n",
    "param['silent'] = 1\n",
    "evallist = [(dtest, 'eval'), (dtrain, 'train')]"
   ]
  },
  {
   "cell_type": "code",
   "execution_count": 84,
   "metadata": {},
   "outputs": [
    {
     "name": "stdout",
     "output_type": "stream",
     "text": [
      "[0]\teval-mae:14.4429\ttrain-mae:14.4733\n",
      "Multiple eval metrics have been passed: 'train-mae' will be used for early stopping.\n",
      "\n",
      "Will train until train-mae hasn't improved in 10 rounds.\n",
      "[1]\teval-mae:14.1207\ttrain-mae:14.1609\n",
      "[2]\teval-mae:13.765\ttrain-mae:13.7806\n",
      "[3]\teval-mae:13.7872\ttrain-mae:13.8315\n",
      "[4]\teval-mae:13.6883\ttrain-mae:13.7176\n",
      "[5]\teval-mae:13.3712\ttrain-mae:13.4043\n",
      "[6]\teval-mae:13.3228\ttrain-mae:13.324\n",
      "[7]\teval-mae:13.3066\ttrain-mae:13.3061\n",
      "[8]\teval-mae:13.1547\ttrain-mae:13.1476\n",
      "[9]\teval-mae:13.1135\ttrain-mae:13.0928\n"
     ]
    }
   ],
   "source": [
    "num_round = 10\n",
    "bst = xgb.train(param, dtrain, num_round, evallist, early_stopping_rounds=10)"
   ]
  },
  {
   "cell_type": "code",
   "execution_count": 85,
   "metadata": {},
   "outputs": [
    {
     "data": {
      "text/html": [
       "<div>\n",
       "<style scoped>\n",
       "    .dataframe tbody tr th:only-of-type {\n",
       "        vertical-align: middle;\n",
       "    }\n",
       "\n",
       "    .dataframe tbody tr th {\n",
       "        vertical-align: top;\n",
       "    }\n",
       "\n",
       "    .dataframe thead th {\n",
       "        text-align: right;\n",
       "    }\n",
       "</style>\n",
       "<table border=\"1\" class=\"dataframe\">\n",
       "  <thead>\n",
       "    <tr style=\"text-align: right;\">\n",
       "      <th></th>\n",
       "      <th>price</th>\n",
       "      <th>prediction</th>\n",
       "    </tr>\n",
       "  </thead>\n",
       "  <tbody>\n",
       "    <tr>\n",
       "      <th>65383</th>\n",
       "      <td>15.0</td>\n",
       "      <td>24.0</td>\n",
       "    </tr>\n",
       "    <tr>\n",
       "      <th>52152</th>\n",
       "      <td>24.0</td>\n",
       "      <td>17.0</td>\n",
       "    </tr>\n",
       "    <tr>\n",
       "      <th>1768</th>\n",
       "      <td>200.0</td>\n",
       "      <td>64.0</td>\n",
       "    </tr>\n",
       "    <tr>\n",
       "      <th>94734</th>\n",
       "      <td>24.0</td>\n",
       "      <td>33.0</td>\n",
       "    </tr>\n",
       "    <tr>\n",
       "      <th>52418</th>\n",
       "      <td>35.0</td>\n",
       "      <td>43.0</td>\n",
       "    </tr>\n",
       "  </tbody>\n",
       "</table>\n",
       "</div>"
      ],
      "text/plain": [
       "       price  prediction\n",
       "65383   15.0        24.0\n",
       "52152   24.0        17.0\n",
       "1768   200.0        64.0\n",
       "94734   24.0        33.0\n",
       "52418   35.0        43.0"
      ]
     },
     "execution_count": 85,
     "metadata": {},
     "output_type": "execute_result"
    }
   ],
   "source": [
    "pred = pd.DataFrame(y_test.copy())\n",
    "pred[\"prediction\"] = bst.predict(dtest, ntree_limit=bst.best_ntree_limit)\n",
    "pred[\"prediction\"] = np.round(pred[\"prediction\"],0)\n",
    "pred.sample(5)"
   ]
  },
  {
   "cell_type": "code",
   "execution_count": 86,
   "metadata": {},
   "outputs": [
    {
     "name": "stdout",
     "output_type": "stream",
     "text": [
      "Mean Absolute Error: $13.09\n",
      "Median Absolute Error: $8.0\n"
     ]
    }
   ],
   "source": [
    "from sklearn.metrics import median_absolute_error, mean_absolute_error\n",
    "mean_ae = np.round(mean_absolute_error(y_true=pred[\"price\"], y_pred=pred[\"prediction\"]),2)\n",
    "median_ae = np.round(median_absolute_error(y_true=pred[\"price\"], y_pred=pred[\"prediction\"]),2)\n",
    "print (\"Mean Absolute Error: ${}\".format(mean_ae))\n",
    "print (\"Median Absolute Error: ${}\".format(median_ae))"
   ]
  },
  {
   "cell_type": "code",
   "execution_count": 87,
   "metadata": {},
   "outputs": [
    {
     "data": {
      "text/plain": [
       "<matplotlib.axes._subplots.AxesSubplot at 0x7f7b2698d5c0>"
      ]
     },
     "execution_count": 87,
     "metadata": {},
     "output_type": "execute_result"
    },
    {
     "data": {
      "image/png": "[encoded data removed]",
      "text/plain": [
       "<Figure size 432x288 with 1 Axes>"
      ]
     },
     "metadata": {
      "needs_background": "light"
     },
     "output_type": "display_data"
    }
   ],
   "source": [
    "xgb.plot_importance(bst,max_num_features=15)"
   ]
  },
  {
   "cell_type": "code",
   "execution_count": 88,
   "metadata": {},
   "outputs": [
    {
     "data": {
      "image/svg+xml": [
       "<?xml version=\"1.0\" encoding=\"UTF-8\" standalone=\"no\"?>\n",
       "<!DOCTYPE svg PUBLIC \"-//W3C//DTD SVG 1.1//EN\"\n",
       " \"http://www.w3.org/Graphics/SVG/1.1/DTD/svg11.dtd\">\n",
       "<!-- Generated by graphviz version 2.40.1 (20161225.0304)\n",
       " -->\n",
       "<!-- Title: %3 Pages: 1 -->\n",
       "<svg width=\"1268pt\" height=\"305pt\"\n",
       " viewBox=\"0.00 0.00 1267.99 305.00\" xmlns=\"http://www.w3.org/2000/svg\" xmlns:xlink=\"http://www.w3.org/1999/xlink\">\n",
       "<g id=\"graph0\" class=\"graph\" transform=\"scale(1 1) rotate(0) translate(4 301)\">\n",
       "<title>%3</title>\n",
       "<polygon fill=\"#ffffff\" stroke=\"transparent\" points=\"-4,4 -4,-301 1263.9873,-301 1263.9873,4 -4,4\"/>\n",
       "<!-- 0 -->\n",
       "<g id=\"node1\" class=\"node\">\n",
       "<title>0</title>\n",
       "<ellipse fill=\"none\" stroke=\"#000000\" cx=\"572.4937\" cy=\"-279\" rx=\"46.2923\" ry=\"18\"/>\n",
       "<text text-anchor=\"middle\" x=\"572.4937\" y=\"-275.3\" font-family=\"Times,serif\" font-size=\"14.00\" fill=\"#000000\">points&lt;93</text>\n",
       "</g>\n",
       "<!-- 1 -->\n",
       "<g id=\"node2\" class=\"node\">\n",
       "<title>1</title>\n",
       "<ellipse fill=\"none\" stroke=\"#000000\" cx=\"494.4937\" cy=\"-192\" rx=\"46.2923\" ry=\"18\"/>\n",
       "<text text-anchor=\"middle\" x=\"494.4937\" y=\"-188.3\" font-family=\"Times,serif\" font-size=\"14.00\" fill=\"#000000\">points&lt;89</text>\n",
       "</g>\n",
       "<!-- 0&#45;&gt;1 -->\n",
       "<g id=\"edge1\" class=\"edge\">\n",
       "<title>0&#45;&gt;1</title>\n",
       "<path fill=\"none\" stroke=\"#0000ff\" d=\"M557.0834,-261.8116C545.5455,-248.9425 529.5955,-231.152 516.6846,-216.7515\"/>\n",
       "<polygon fill=\"#0000ff\" stroke=\"#0000ff\" points=\"519.1534,-214.262 509.8719,-209.1527 513.9414,-218.9348 519.1534,-214.262\"/>\n",
       "<text text-anchor=\"middle\" x=\"572.9937\" y=\"-231.8\" font-family=\"Times,serif\" font-size=\"14.00\" fill=\"#000000\">yes, missing</text>\n",
       "</g>\n",
       "<!-- 2 -->\n",
       "<g id=\"node3\" class=\"node\">\n",
       "<title>2</title>\n",
       "<ellipse fill=\"none\" stroke=\"#000000\" cx=\"762.4937\" cy=\"-192\" rx=\"46.2923\" ry=\"18\"/>\n",
       "<text text-anchor=\"middle\" x=\"762.4937\" y=\"-188.3\" font-family=\"Times,serif\" font-size=\"14.00\" fill=\"#000000\">points&lt;97</text>\n",
       "</g>\n",
       "<!-- 0&#45;&gt;2 -->\n",
       "<g id=\"edge2\" class=\"edge\">\n",
       "<title>0&#45;&gt;2</title>\n",
       "<path fill=\"none\" stroke=\"#ff0000\" d=\"M602.5997,-265.2146C635.2583,-250.2604 687.5166,-226.3316 723.3432,-209.9268\"/>\n",
       "<polygon fill=\"#ff0000\" stroke=\"#ff0000\" points=\"724.8934,-213.0665 732.5284,-205.7209 721.9791,-206.702 724.8934,-213.0665\"/>\n",
       "<text text-anchor=\"middle\" x=\"686.4937\" y=\"-231.8\" font-family=\"Times,serif\" font-size=\"14.00\" fill=\"#000000\">no</text>\n",
       "</g>\n",
       "<!-- 3 -->\n",
       "<g id=\"node4\" class=\"node\">\n",
       "<title>3</title>\n",
       "<ellipse fill=\"none\" stroke=\"#000000\" cx=\"232.4937\" cy=\"-105\" rx=\"142.9746\" ry=\"18\"/>\n",
       "<text text-anchor=\"middle\" x=\"232.4937\" y=\"-101.3\" font-family=\"Times,serif\" font-size=\"14.00\" fill=\"#000000\">latent_description_1&lt;0.00247039506</text>\n",
       "</g>\n",
       "<!-- 1&#45;&gt;3 -->\n",
       "<g id=\"edge3\" class=\"edge\">\n",
       "<title>1&#45;&gt;3</title>\n",
       "<path fill=\"none\" stroke=\"#0000ff\" d=\"M459.1592,-180.2668C416.6438,-166.1491 344.5692,-142.2159 293.1072,-125.1274\"/>\n",
       "<polygon fill=\"#0000ff\" stroke=\"#0000ff\" points=\"294.021,-121.743 283.4275,-121.9131 291.8149,-128.3863 294.021,-121.743\"/>\n",
       "<text text-anchor=\"middle\" x=\"413.9937\" y=\"-144.8\" font-family=\"Times,serif\" font-size=\"14.00\" fill=\"#000000\">yes, missing</text>\n",
       "</g>\n",
       "<!-- 4 -->\n",
       "<g id=\"node5\" class=\"node\">\n",
       "<title>4</title>\n",
       "<ellipse fill=\"none\" stroke=\"#000000\" cx=\"494.4937\" cy=\"-105\" rx=\"46.2923\" ry=\"18\"/>\n",
       "<text text-anchor=\"middle\" x=\"494.4937\" y=\"-101.3\" font-family=\"Times,serif\" font-size=\"14.00\" fill=\"#000000\">points&lt;91</text>\n",
       "</g>\n",
       "<!-- 1&#45;&gt;4 -->\n",
       "<g id=\"edge4\" class=\"edge\">\n",
       "<title>1&#45;&gt;4</title>\n",
       "<path fill=\"none\" stroke=\"#ff0000\" d=\"M494.4937,-173.9735C494.4937,-162.1918 494.4937,-146.5607 494.4937,-133.1581\"/>\n",
       "<polygon fill=\"#ff0000\" stroke=\"#ff0000\" points=\"497.9938,-133.0033 494.4937,-123.0034 490.9938,-133.0034 497.9938,-133.0033\"/>\n",
       "<text text-anchor=\"middle\" x=\"501.4937\" y=\"-144.8\" font-family=\"Times,serif\" font-size=\"14.00\" fill=\"#000000\">no</text>\n",
       "</g>\n",
       "<!-- 5 -->\n",
       "<g id=\"node10\" class=\"node\">\n",
       "<title>5</title>\n",
       "<ellipse fill=\"none\" stroke=\"#000000\" cx=\"762.4937\" cy=\"-105\" rx=\"63.0888\" ry=\"18\"/>\n",
       "<text text-anchor=\"middle\" x=\"762.4937\" y=\"-101.3\" font-family=\"Times,serif\" font-size=\"14.00\" fill=\"#000000\">country_US&lt;1</text>\n",
       "</g>\n",
       "<!-- 2&#45;&gt;5 -->\n",
       "<g id=\"edge9\" class=\"edge\">\n",
       "<title>2&#45;&gt;5</title>\n",
       "<path fill=\"none\" stroke=\"#0000ff\" d=\"M762.4937,-173.9735C762.4937,-162.1918 762.4937,-146.5607 762.4937,-133.1581\"/>\n",
       "<polygon fill=\"#0000ff\" stroke=\"#0000ff\" points=\"765.9938,-133.0033 762.4937,-123.0034 758.9938,-133.0034 765.9938,-133.0033\"/>\n",
       "<text text-anchor=\"middle\" x=\"796.9937\" y=\"-144.8\" font-family=\"Times,serif\" font-size=\"14.00\" fill=\"#000000\">yes, missing</text>\n",
       "</g>\n",
       "<!-- 6 -->\n",
       "<g id=\"node11\" class=\"node\">\n",
       "<title>6</title>\n",
       "<ellipse fill=\"none\" stroke=\"#000000\" cx=\"1027.4937\" cy=\"-105\" rx=\"75.2868\" ry=\"18\"/>\n",
       "<text text-anchor=\"middle\" x=\"1027.4937\" y=\"-101.3\" font-family=\"Times,serif\" font-size=\"14.00\" fill=\"#000000\">country_France&lt;1</text>\n",
       "</g>\n",
       "<!-- 2&#45;&gt;6 -->\n",
       "<g id=\"edge10\" class=\"edge\">\n",
       "<title>2&#45;&gt;6</title>\n",
       "<path fill=\"none\" stroke=\"#ff0000\" d=\"M797.9578,-180.3571C842.8739,-165.611 920.7222,-140.0533 973.1552,-122.8394\"/>\n",
       "<polygon fill=\"#ff0000\" stroke=\"#ff0000\" points=\"974.5513,-126.0649 982.9606,-119.6203 972.3678,-119.4142 974.5513,-126.0649\"/>\n",
       "<text text-anchor=\"middle\" x=\"918.4937\" y=\"-144.8\" font-family=\"Times,serif\" font-size=\"14.00\" fill=\"#000000\">no</text>\n",
       "</g>\n",
       "<!-- 7 -->\n",
       "<g id=\"node6\" class=\"node\">\n",
       "<title>7</title>\n",
       "<ellipse fill=\"none\" stroke=\"#000000\" cx=\"71.4937\" cy=\"-18\" rx=\"71.4873\" ry=\"18\"/>\n",
       "<text text-anchor=\"middle\" x=\"71.4937\" y=\"-14.3\" font-family=\"Times,serif\" font-size=\"14.00\" fill=\"#000000\">leaf=25.5870533</text>\n",
       "</g>\n",
       "<!-- 3&#45;&gt;7 -->\n",
       "<g id=\"edge5\" class=\"edge\">\n",
       "<title>3&#45;&gt;7</title>\n",
       "<path fill=\"none\" stroke=\"#0000ff\" d=\"M195.8599,-87.5308C184.1558,-81.7908 171.2031,-75.2713 159.4937,-69 142.4475,-59.8706 123.8824,-49.2195 108.2169,-40.0192\"/>\n",
       "<polygon fill=\"#0000ff\" stroke=\"#0000ff\" points=\"109.7526,-36.8614 99.3618,-34.7922 106.1944,-42.8896 109.7526,-36.8614\"/>\n",
       "<text text-anchor=\"middle\" x=\"193.9937\" y=\"-57.8\" font-family=\"Times,serif\" font-size=\"14.00\" fill=\"#000000\">yes, missing</text>\n",
       "</g>\n",
       "<!-- 8 -->\n",
       "<g id=\"node7\" class=\"node\">\n",
       "<title>8</title>\n",
       "<ellipse fill=\"none\" stroke=\"#000000\" cx=\"232.4937\" cy=\"-18\" rx=\"71.4873\" ry=\"18\"/>\n",
       "<text text-anchor=\"middle\" x=\"232.4937\" y=\"-14.3\" font-family=\"Times,serif\" font-size=\"14.00\" fill=\"#000000\">leaf=18.5737591</text>\n",
       "</g>\n",
       "<!-- 3&#45;&gt;8 -->\n",
       "<g id=\"edge6\" class=\"edge\">\n",
       "<title>3&#45;&gt;8</title>\n",
       "<path fill=\"none\" stroke=\"#ff0000\" d=\"M232.4937,-86.9735C232.4937,-75.1918 232.4937,-59.5607 232.4937,-46.1581\"/>\n",
       "<polygon fill=\"#ff0000\" stroke=\"#ff0000\" points=\"235.9938,-46.0033 232.4937,-36.0034 228.9938,-46.0034 235.9938,-46.0033\"/>\n",
       "<text text-anchor=\"middle\" x=\"239.4937\" y=\"-57.8\" font-family=\"Times,serif\" font-size=\"14.00\" fill=\"#000000\">no</text>\n",
       "</g>\n",
       "<!-- 9 -->\n",
       "<g id=\"node8\" class=\"node\">\n",
       "<title>9</title>\n",
       "<ellipse fill=\"none\" stroke=\"#000000\" cx=\"393.4937\" cy=\"-18\" rx=\"71.4873\" ry=\"18\"/>\n",
       "<text text-anchor=\"middle\" x=\"393.4937\" y=\"-14.3\" font-family=\"Times,serif\" font-size=\"14.00\" fill=\"#000000\">leaf=34.6004143</text>\n",
       "</g>\n",
       "<!-- 4&#45;&gt;9 -->\n",
       "<g id=\"edge7\" class=\"edge\">\n",
       "<title>4&#45;&gt;9</title>\n",
       "<path fill=\"none\" stroke=\"#0000ff\" d=\"M472.068,-89.0646C463.851,-82.9974 454.5869,-75.884 446.4937,-69 436.8641,-60.8092 426.7562,-51.3264 417.98,-42.7757\"/>\n",
       "<polygon fill=\"#0000ff\" stroke=\"#0000ff\" points=\"420.2351,-40.0841 410.6559,-35.5574 415.3214,-45.0697 420.2351,-40.0841\"/>\n",
       "<text text-anchor=\"middle\" x=\"480.9937\" y=\"-57.8\" font-family=\"Times,serif\" font-size=\"14.00\" fill=\"#000000\">yes, missing</text>\n",
       "</g>\n",
       "<!-- 10 -->\n",
       "<g id=\"node9\" class=\"node\">\n",
       "<title>10</title>\n",
       "<ellipse fill=\"none\" stroke=\"#000000\" cx=\"549.4937\" cy=\"-18\" rx=\"66.8882\" ry=\"18\"/>\n",
       "<text text-anchor=\"middle\" x=\"549.4937\" y=\"-14.3\" font-family=\"Times,serif\" font-size=\"14.00\" fill=\"#000000\">leaf=46.822876</text>\n",
       "</g>\n",
       "<!-- 4&#45;&gt;10 -->\n",
       "<g id=\"edge8\" class=\"edge\">\n",
       "<title>4&#45;&gt;10</title>\n",
       "<path fill=\"none\" stroke=\"#ff0000\" d=\"M505.6237,-87.3943C513.3999,-75.0938 523.9216,-58.4503 532.7115,-44.5463\"/>\n",
       "<polygon fill=\"#ff0000\" stroke=\"#ff0000\" points=\"535.8061,-46.201 538.1914,-35.8782 529.8893,-42.4605 535.8061,-46.201\"/>\n",
       "<text text-anchor=\"middle\" x=\"532.4937\" y=\"-57.8\" font-family=\"Times,serif\" font-size=\"14.00\" fill=\"#000000\">no</text>\n",
       "</g>\n",
       "<!-- 11 -->\n",
       "<g id=\"node12\" class=\"node\">\n",
       "<title>11</title>\n",
       "<ellipse fill=\"none\" stroke=\"#000000\" cx=\"705.4937\" cy=\"-18\" rx=\"71.4873\" ry=\"18\"/>\n",
       "<text text-anchor=\"middle\" x=\"705.4937\" y=\"-14.3\" font-family=\"Times,serif\" font-size=\"14.00\" fill=\"#000000\">leaf=98.9321289</text>\n",
       "</g>\n",
       "<!-- 5&#45;&gt;11 -->\n",
       "<g id=\"edge11\" class=\"edge\">\n",
       "<title>5&#45;&gt;11</title>\n",
       "<path fill=\"none\" stroke=\"#0000ff\" d=\"M750.6832,-86.9735C742.6584,-74.7252 731.9079,-58.3165 722.9059,-44.5766\"/>\n",
       "<polygon fill=\"#0000ff\" stroke=\"#0000ff\" points=\"725.6969,-42.4499 717.289,-36.0034 719.8417,-46.2861 725.6969,-42.4499\"/>\n",
       "<text text-anchor=\"middle\" x=\"771.9937\" y=\"-57.8\" font-family=\"Times,serif\" font-size=\"14.00\" fill=\"#000000\">yes, missing</text>\n",
       "</g>\n",
       "<!-- 12 -->\n",
       "<g id=\"node13\" class=\"node\">\n",
       "<title>12</title>\n",
       "<ellipse fill=\"none\" stroke=\"#000000\" cx=\"866.4937\" cy=\"-18\" rx=\"71.4873\" ry=\"18\"/>\n",
       "<text text-anchor=\"middle\" x=\"866.4937\" y=\"-14.3\" font-family=\"Times,serif\" font-size=\"14.00\" fill=\"#000000\">leaf=61.3430824</text>\n",
       "</g>\n",
       "<!-- 5&#45;&gt;12 -->\n",
       "<g id=\"edge12\" class=\"edge\">\n",
       "<title>5&#45;&gt;12</title>\n",
       "<path fill=\"none\" stroke=\"#ff0000\" d=\"M785.7877,-88.2233C793.7499,-82.3073 802.6277,-75.5067 810.4937,-69 820.6262,-60.6185 831.3876,-51.003 840.7405,-42.3966\"/>\n",
       "<polygon fill=\"#ff0000\" stroke=\"#ff0000\" points=\"843.2723,-44.8219 848.2209,-35.4537 838.5103,-39.6912 843.2723,-44.8219\"/>\n",
       "<text text-anchor=\"middle\" x=\"835.4937\" y=\"-57.8\" font-family=\"Times,serif\" font-size=\"14.00\" fill=\"#000000\">no</text>\n",
       "</g>\n",
       "<!-- 13 -->\n",
       "<g id=\"node14\" class=\"node\">\n",
       "<title>13</title>\n",
       "<ellipse fill=\"none\" stroke=\"#000000\" cx=\"1027.4937\" cy=\"-18\" rx=\"71.4873\" ry=\"18\"/>\n",
       "<text text-anchor=\"middle\" x=\"1027.4937\" y=\"-14.3\" font-family=\"Times,serif\" font-size=\"14.00\" fill=\"#000000\">leaf=153.542313</text>\n",
       "</g>\n",
       "<!-- 6&#45;&gt;13 -->\n",
       "<g id=\"edge13\" class=\"edge\">\n",
       "<title>6&#45;&gt;13</title>\n",
       "<path fill=\"none\" stroke=\"#0000ff\" d=\"M1027.4937,-86.9735C1027.4937,-75.1918 1027.4937,-59.5607 1027.4937,-46.1581\"/>\n",
       "<polygon fill=\"#0000ff\" stroke=\"#0000ff\" points=\"1030.9938,-46.0033 1027.4937,-36.0034 1023.9938,-46.0034 1030.9938,-46.0033\"/>\n",
       "<text text-anchor=\"middle\" x=\"1061.9937\" y=\"-57.8\" font-family=\"Times,serif\" font-size=\"14.00\" fill=\"#000000\">yes, missing</text>\n",
       "</g>\n",
       "<!-- 14 -->\n",
       "<g id=\"node15\" class=\"node\">\n",
       "<title>14</title>\n",
       "<ellipse fill=\"none\" stroke=\"#000000\" cx=\"1188.4937\" cy=\"-18\" rx=\"71.4873\" ry=\"18\"/>\n",
       "<text text-anchor=\"middle\" x=\"1188.4937\" y=\"-14.3\" font-family=\"Times,serif\" font-size=\"14.00\" fill=\"#000000\">leaf=424.212494</text>\n",
       "</g>\n",
       "<!-- 6&#45;&gt;14 -->\n",
       "<g id=\"edge14\" class=\"edge\">\n",
       "<title>6&#45;&gt;14</title>\n",
       "<path fill=\"none\" stroke=\"#ff0000\" d=\"M1061.5344,-88.7997C1073.8955,-82.7632 1087.9122,-75.7383 1100.4937,-69 1117.5398,-59.8706 1136.1049,-49.2195 1151.7704,-40.0192\"/>\n",
       "<polygon fill=\"#ff0000\" stroke=\"#ff0000\" points=\"1153.793,-42.8896 1160.6255,-34.7922 1150.2347,-36.8614 1153.793,-42.8896\"/>\n",
       "<text text-anchor=\"middle\" x=\"1133.4937\" y=\"-57.8\" font-family=\"Times,serif\" font-size=\"14.00\" fill=\"#000000\">no</text>\n",
       "</g>\n",
       "</g>\n",
       "</svg>\n"
      ],
      "text/plain": [
       "<graphviz.dot.Digraph at 0x7f7b1dfa3a90>"
      ]
     },
     "execution_count": 88,
     "metadata": {},
     "output_type": "execute_result"
    }
   ],
   "source": [
    "xgb.to_graphviz(bst, num_trees=0)"
   ]
  },
  {
   "cell_type": "markdown",
   "metadata": {},
   "source": [
    "# DIY Deployment"
   ]
  },
  {
   "cell_type": "code",
   "execution_count": 89,
   "metadata": {},
   "outputs": [],
   "source": [
    "# I wrote my own predict method \n",
    "# Use business logic to filter predictions, not just the models basic predict\n",
    "# send info in and out as a dictionary/json"
   ]
  },
  {
   "cell_type": "code",
   "execution_count": 90,
   "metadata": {},
   "outputs": [],
   "source": [
    "def my_own_predict_method(feature_payload):\n",
    "    \n",
    "    message_cheap = \"Wow, what a steal!\"\n",
    "    message_expensive = \"Yikes, that is a spendy wine!\"\n",
    "\n",
    "    #format payload as a dataframe\n",
    "    x = pd.DataFrame(feature_payload, index=[0])\n",
    "    #convert it to cgboost data object\n",
    "    x = xgb.DMatrix(x, label=y_test)\n",
    "\n",
    "    #predict wine price from xgboost model\n",
    "    prediction = bst.predict(x, ntree_limit=bst.best_ntree_limit)\n",
    "    prediction = np.round(prediction,2)[0]\n",
    " \n",
    "    #personalise message \n",
    "    if prediction < 50:\n",
    "        message = message_cheap\n",
    "    else:\n",
    "        message = message_expensive\n",
    "        \n",
    "    output = {\"price\": \"$\"+str(prediction), \"message\":message}\n",
    "    \n",
    "    return output"
   ]
  },
  {
   "cell_type": "code",
   "execution_count": 91,
   "metadata": {},
   "outputs": [],
   "source": [
    "#get an example payload from the test data\n",
    "feature_payload = X_test.iloc[5].to_dict()"
   ]
  },
  {
   "cell_type": "code",
   "execution_count": 92,
   "metadata": {},
   "outputs": [
    {
     "data": {
      "text/plain": [
       "{'country_US': 1.0,\n",
       " 'region_Carmel Valley': 1.0,\n",
       " 'variety_Cabernet Sauvignon': 1.0,\n",
       " 'latent_description_0': 0.11161002715750094,\n",
       " 'points': 84.0}"
      ]
     },
     "execution_count": 92,
     "metadata": {},
     "output_type": "execute_result"
    }
   ],
   "source": [
    "non_zero_features = [k for k,v in feature_payload.items() if v > 0]\n",
    "dict((k, feature_payload[k]) for k in non_zero_features if k in feature_payload)"
   ]
  },
  {
   "cell_type": "code",
   "execution_count": 93,
   "metadata": {},
   "outputs": [
    {
     "name": "stderr",
     "output_type": "stream",
     "text": [
      "/home/ec2-user/SageMaker/wine_price_predictions/venv/lib/python3.6/site-packages/xgboost/core.py:587: FutureWarning: Series.base is deprecated and will be removed in a future version\n",
      "  if getattr(data, 'base', None) is not None and \\\n"
     ]
    },
    {
     "data": {
      "text/plain": [
       "{'price': '$33.1', 'message': 'Wow, what a steal!'}"
      ]
     },
     "execution_count": 93,
     "metadata": {},
     "output_type": "execute_result"
    }
   ],
   "source": [
    "my_own_predict_method(feature_payload)"
   ]
  },
  {
   "cell_type": "code",
   "execution_count": null,
   "metadata": {},
   "outputs": [],
   "source": [
    "#Now to deploy my own algorithm, I must build a docker container for it. "
   ]
  },
  {
   "cell_type": "code",
   "execution_count": null,
   "metadata": {},
   "outputs": [],
   "source": []
  }
 ],
 "metadata": {
  "kernelspec": {
   "display_name": "wine_model",
   "language": "python",
   "name": "wine_model"
  },
  "language_info": {
   "codemirror_mode": {
    "name": "ipython",
    "version": 3
   },
   "file_extension": ".py",
   "mimetype": "text/x-python",
   "name": "python",
   "nbconvert_exporter": "python",
   "pygments_lexer": "ipython3",
   "version": "3.6.8"
  }
 },
 "nbformat": 4,
 "nbformat_minor": 2
}
