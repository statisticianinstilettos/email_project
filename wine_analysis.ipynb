{
 "cells": [
  {
   "cell_type": "markdown",
   "metadata": {},
   "source": [
    "# Gradient Boosting Machines for Wine Points Predictions"
   ]
  },
  {
   "cell_type": "markdown",
   "metadata": {},
   "source": [
    "Wine Spectator's 100-Point Scale\n",
    "\n",
    "95-100 Classic: a great wine.\n",
    "\n",
    "90-94 Outstanding: a wine of superior character and style.\n",
    "\n",
    "85-89 Very good: a wine with special qualities.\n",
    "\n",
    "80-84 Good: a solid, well-made wine.\n",
    "\n",
    "75-79 Mediocre: a drinkable wine that may have minor flaws.\n",
    "\n",
    "50-74 Not recommended."
   ]
  },
  {
   "cell_type": "code",
   "execution_count": 1,
   "metadata": {},
   "outputs": [
    {
     "name": "stdout",
     "output_type": "stream",
     "text": [
      "Collecting xgboost\n",
      "\u001b[?25l  Downloading https://files.pythonhosted.org/packages/6a/49/7e10686647f741bd9c8918b0decdb94135b542fe372ca1100739b8529503/xgboost-0.82-py2.py3-none-manylinux1_x86_64.whl (114.0MB)\n",
      "\u001b[K    100% |████████████████████████████████| 114.0MB 472kB/s \n",
      "\u001b[?25hRequirement already satisfied: numpy in /home/ec2-user/anaconda3/envs/python3/lib/python3.6/site-packages (from xgboost) (1.14.5)\n",
      "Requirement already satisfied: scipy in /home/ec2-user/anaconda3/envs/python3/lib/python3.6/site-packages (from xgboost) (1.1.0)\n",
      "Installing collected packages: xgboost\n",
      "Successfully installed xgboost-0.82\n",
      "\u001b[33mYou are using pip version 10.0.1, however version 19.0.3 is available.\n",
      "You should consider upgrading via the 'pip install --upgrade pip' command.\u001b[0m\n"
     ]
    }
   ],
   "source": [
    "!pip install xgboost"
   ]
  },
  {
   "cell_type": "code",
   "execution_count": 2,
   "metadata": {},
   "outputs": [
    {
     "name": "stdout",
     "output_type": "stream",
     "text": [
      "Collecting graphviz\n",
      "  Downloading https://files.pythonhosted.org/packages/1f/e2/ef2581b5b86625657afd32030f90cf2717456c1d2b711ba074bf007c0f1a/graphviz-0.10.1-py2.py3-none-any.whl\n",
      "Installing collected packages: graphviz\n",
      "Successfully installed graphviz-0.10.1\n",
      "\u001b[33mYou are using pip version 10.0.1, however version 19.0.3 is available.\n",
      "You should consider upgrading via the 'pip install --upgrade pip' command.\u001b[0m\n"
     ]
    }
   ],
   "source": [
    "!pip install graphviz"
   ]
  },
  {
   "cell_type": "code",
   "execution_count": 3,
   "metadata": {},
   "outputs": [],
   "source": [
    "import pandas as pd\n",
    "import numpy as np\n",
    "from sklearn.model_selection import train_test_split\n",
    "from sklearn.feature_extraction.text import TfidfVectorizer\n",
    "from sklearn.decomposition import TruncatedSVD\n",
    "from nltk.tokenize import RegexpTokenizer\n",
    "import xgboost as xgb\n",
    "\n",
    "import seaborn as sns\n",
    "import matplotlib.pyplot as plt"
   ]
  },
  {
   "cell_type": "code",
   "execution_count": 4,
   "metadata": {},
   "outputs": [
    {
     "data": {
      "text/html": [
       "<style>.container { width:100% !important; }</style>"
      ],
      "text/plain": [
       "<IPython.core.display.HTML object>"
      ]
     },
     "metadata": {},
     "output_type": "display_data"
    }
   ],
   "source": [
    "from IPython.core.display import display, HTML\n",
    "display(HTML(\"<style>.container { width:100% !important; }</style>\"))"
   ]
  },
  {
   "cell_type": "code",
   "execution_count": 5,
   "metadata": {},
   "outputs": [
    {
     "name": "stdout",
     "output_type": "stream",
     "text": [
      "(137235, 10)\n"
     ]
    },
    {
     "data": {
      "text/html": [
       "<div>\n",
       "<style scoped>\n",
       "    .dataframe tbody tr th:only-of-type {\n",
       "        vertical-align: middle;\n",
       "    }\n",
       "\n",
       "    .dataframe tbody tr th {\n",
       "        vertical-align: top;\n",
       "    }\n",
       "\n",
       "    .dataframe thead th {\n",
       "        text-align: right;\n",
       "    }\n",
       "</style>\n",
       "<table border=\"1\" class=\"dataframe\">\n",
       "  <thead>\n",
       "    <tr style=\"text-align: right;\">\n",
       "      <th></th>\n",
       "      <th>country</th>\n",
       "      <th>description</th>\n",
       "      <th>designation</th>\n",
       "      <th>points</th>\n",
       "      <th>price</th>\n",
       "      <th>province</th>\n",
       "      <th>region_1</th>\n",
       "      <th>region_2</th>\n",
       "      <th>variety</th>\n",
       "      <th>winery</th>\n",
       "    </tr>\n",
       "  </thead>\n",
       "  <tbody>\n",
       "    <tr>\n",
       "      <th>0</th>\n",
       "      <td>US</td>\n",
       "      <td>This tremendous 100% varietal wine hails from ...</td>\n",
       "      <td>Martha's Vineyard</td>\n",
       "      <td>96</td>\n",
       "      <td>235.0</td>\n",
       "      <td>California</td>\n",
       "      <td>Napa Valley</td>\n",
       "      <td>Napa</td>\n",
       "      <td>Cabernet Sauvignon</td>\n",
       "      <td>Heitz</td>\n",
       "    </tr>\n",
       "    <tr>\n",
       "      <th>1</th>\n",
       "      <td>Spain</td>\n",
       "      <td>Ripe aromas of fig, blackberry and cassis are ...</td>\n",
       "      <td>Carodorum Selección Especial Reserva</td>\n",
       "      <td>96</td>\n",
       "      <td>110.0</td>\n",
       "      <td>Northern Spain</td>\n",
       "      <td>Toro</td>\n",
       "      <td>NaN</td>\n",
       "      <td>Tinta de Toro</td>\n",
       "      <td>Bodega Carmen Rodríguez</td>\n",
       "    </tr>\n",
       "    <tr>\n",
       "      <th>2</th>\n",
       "      <td>US</td>\n",
       "      <td>Mac Watson honors the memory of a wine once ma...</td>\n",
       "      <td>Special Selected Late Harvest</td>\n",
       "      <td>96</td>\n",
       "      <td>90.0</td>\n",
       "      <td>California</td>\n",
       "      <td>Knights Valley</td>\n",
       "      <td>Sonoma</td>\n",
       "      <td>Sauvignon Blanc</td>\n",
       "      <td>Macauley</td>\n",
       "    </tr>\n",
       "    <tr>\n",
       "      <th>3</th>\n",
       "      <td>US</td>\n",
       "      <td>This spent 20 months in 30% new French oak, an...</td>\n",
       "      <td>Reserve</td>\n",
       "      <td>96</td>\n",
       "      <td>65.0</td>\n",
       "      <td>Oregon</td>\n",
       "      <td>Willamette Valley</td>\n",
       "      <td>Willamette Valley</td>\n",
       "      <td>Pinot Noir</td>\n",
       "      <td>Ponzi</td>\n",
       "    </tr>\n",
       "    <tr>\n",
       "      <th>4</th>\n",
       "      <td>France</td>\n",
       "      <td>This is the top wine from La Bégude, named aft...</td>\n",
       "      <td>La Brûlade</td>\n",
       "      <td>95</td>\n",
       "      <td>66.0</td>\n",
       "      <td>Provence</td>\n",
       "      <td>Bandol</td>\n",
       "      <td>NaN</td>\n",
       "      <td>Provence red blend</td>\n",
       "      <td>Domaine de la Bégude</td>\n",
       "    </tr>\n",
       "  </tbody>\n",
       "</table>\n",
       "</div>"
      ],
      "text/plain": [
       "  country                                        description  \\\n",
       "0      US  This tremendous 100% varietal wine hails from ...   \n",
       "1   Spain  Ripe aromas of fig, blackberry and cassis are ...   \n",
       "2      US  Mac Watson honors the memory of a wine once ma...   \n",
       "3      US  This spent 20 months in 30% new French oak, an...   \n",
       "4  France  This is the top wine from La Bégude, named aft...   \n",
       "\n",
       "                            designation  points  price        province  \\\n",
       "0                     Martha's Vineyard      96  235.0      California   \n",
       "1  Carodorum Selección Especial Reserva      96  110.0  Northern Spain   \n",
       "2         Special Selected Late Harvest      96   90.0      California   \n",
       "3                               Reserve      96   65.0          Oregon   \n",
       "4                            La Brûlade      95   66.0        Provence   \n",
       "\n",
       "            region_1           region_2             variety  \\\n",
       "0        Napa Valley               Napa  Cabernet Sauvignon   \n",
       "1               Toro                NaN       Tinta de Toro   \n",
       "2     Knights Valley             Sonoma     Sauvignon Blanc   \n",
       "3  Willamette Valley  Willamette Valley          Pinot Noir   \n",
       "4             Bandol                NaN  Provence red blend   \n",
       "\n",
       "                    winery  \n",
       "0                    Heitz  \n",
       "1  Bodega Carmen Rodríguez  \n",
       "2                 Macauley  \n",
       "3                    Ponzi  \n",
       "4     Domaine de la Bégude  "
      ]
     },
     "execution_count": 5,
     "metadata": {},
     "output_type": "execute_result"
    }
   ],
   "source": [
    "#Load data\n",
    "wine = pd.read_csv('data/winemag-data_first150k.csv', index_col=0, encoding=\"utf-8\")\n",
    "wine.dropna(subset=[\"price\"], inplace=True)\n",
    "wine.reset_index(inplace=True, drop=True)\n",
    "print(wine.shape)\n",
    "wine.head()"
   ]
  },
  {
   "cell_type": "code",
   "execution_count": 17,
   "metadata": {},
   "outputs": [
    {
     "data": {
      "text/html": [
       "<div>\n",
       "<style scoped>\n",
       "    .dataframe tbody tr th:only-of-type {\n",
       "        vertical-align: middle;\n",
       "    }\n",
       "\n",
       "    .dataframe tbody tr th {\n",
       "        vertical-align: top;\n",
       "    }\n",
       "\n",
       "    .dataframe thead th {\n",
       "        text-align: right;\n",
       "    }\n",
       "</style>\n",
       "<table border=\"1\" class=\"dataframe\">\n",
       "  <thead>\n",
       "    <tr style=\"text-align: right;\">\n",
       "      <th></th>\n",
       "      <th>description</th>\n",
       "      <th>price</th>\n",
       "      <th>points</th>\n",
       "    </tr>\n",
       "  </thead>\n",
       "  <tbody>\n",
       "    <tr>\n",
       "      <th>22824</th>\n",
       "      <td>an unusual wine for sicily sallier de la tour ...</td>\n",
       "      <td>30.0</td>\n",
       "      <td>88</td>\n",
       "    </tr>\n",
       "    <tr>\n",
       "      <th>118799</th>\n",
       "      <td>this cab based bordeaux blend is very dense in...</td>\n",
       "      <td>50.0</td>\n",
       "      <td>89</td>\n",
       "    </tr>\n",
       "    <tr>\n",
       "      <th>132570</th>\n",
       "      <td>soft and round but with structure and spine th...</td>\n",
       "      <td>23.0</td>\n",
       "      <td>89</td>\n",
       "    </tr>\n",
       "    <tr>\n",
       "      <th>80129</th>\n",
       "      <td>scents of cherry and raspberry sauce unfold on...</td>\n",
       "      <td>14.0</td>\n",
       "      <td>85</td>\n",
       "    </tr>\n",
       "    <tr>\n",
       "      <th>129413</th>\n",
       "      <td>all this wine wants to be is a useful friendly...</td>\n",
       "      <td>9.0</td>\n",
       "      <td>84</td>\n",
       "    </tr>\n",
       "    <tr>\n",
       "      <th>37072</th>\n",
       "      <td>here s a silky pinot noir that s ready to drin...</td>\n",
       "      <td>42.0</td>\n",
       "      <td>90</td>\n",
       "    </tr>\n",
       "    <tr>\n",
       "      <th>114237</th>\n",
       "      <td>with no oak there s nothing but bright searing...</td>\n",
       "      <td>19.0</td>\n",
       "      <td>87</td>\n",
       "    </tr>\n",
       "    <tr>\n",
       "      <th>60882</th>\n",
       "      <td>savory and a step up compared to the rest of c...</td>\n",
       "      <td>14.0</td>\n",
       "      <td>88</td>\n",
       "    </tr>\n",
       "    <tr>\n",
       "      <th>374</th>\n",
       "      <td>grippy leather and tobacco provide a gravelly ...</td>\n",
       "      <td>28.0</td>\n",
       "      <td>90</td>\n",
       "    </tr>\n",
       "    <tr>\n",
       "      <th>92305</th>\n",
       "      <td>this wine features a unique combination of sto...</td>\n",
       "      <td>17.0</td>\n",
       "      <td>87</td>\n",
       "    </tr>\n",
       "    <tr>\n",
       "      <th>91293</th>\n",
       "      <td>strongly herbal this leathery wine occasionall...</td>\n",
       "      <td>15.0</td>\n",
       "      <td>81</td>\n",
       "    </tr>\n",
       "    <tr>\n",
       "      <th>5623</th>\n",
       "      <td>aromas of opulent white fruit flowers peach an...</td>\n",
       "      <td>17.0</td>\n",
       "      <td>86</td>\n",
       "    </tr>\n",
       "    <tr>\n",
       "      <th>47187</th>\n",
       "      <td>a touch oily on the nose but that s balanced b...</td>\n",
       "      <td>11.0</td>\n",
       "      <td>85</td>\n",
       "    </tr>\n",
       "    <tr>\n",
       "      <th>41742</th>\n",
       "      <td>ultrarich in cherry black raspberry and red cu...</td>\n",
       "      <td>35.0</td>\n",
       "      <td>88</td>\n",
       "    </tr>\n",
       "    <tr>\n",
       "      <th>97270</th>\n",
       "      <td>the cargasacchis whose santa rita hills vineya...</td>\n",
       "      <td>48.0</td>\n",
       "      <td>88</td>\n",
       "    </tr>\n",
       "  </tbody>\n",
       "</table>\n",
       "</div>"
      ],
      "text/plain": [
       "                                              description  price  points\n",
       "22824   an unusual wine for sicily sallier de la tour ...   30.0      88\n",
       "118799  this cab based bordeaux blend is very dense in...   50.0      89\n",
       "132570  soft and round but with structure and spine th...   23.0      89\n",
       "80129   scents of cherry and raspberry sauce unfold on...   14.0      85\n",
       "129413  all this wine wants to be is a useful friendly...    9.0      84\n",
       "37072   here s a silky pinot noir that s ready to drin...   42.0      90\n",
       "114237  with no oak there s nothing but bright searing...   19.0      87\n",
       "60882   savory and a step up compared to the rest of c...   14.0      88\n",
       "374     grippy leather and tobacco provide a gravelly ...   28.0      90\n",
       "92305   this wine features a unique combination of sto...   17.0      87\n",
       "91293   strongly herbal this leathery wine occasionall...   15.0      81\n",
       "5623    aromas of opulent white fruit flowers peach an...   17.0      86\n",
       "47187   a touch oily on the nose but that s balanced b...   11.0      85\n",
       "41742   ultrarich in cherry black raspberry and red cu...   35.0      88\n",
       "97270   the cargasacchis whose santa rita hills vineya...   48.0      88"
      ]
     },
     "execution_count": 17,
     "metadata": {},
     "output_type": "execute_result"
    }
   ],
   "source": [
    "wine[['description', 'price', 'points']].sample(15)"
   ]
  },
  {
   "cell_type": "code",
   "execution_count": 8,
   "metadata": {},
   "outputs": [
    {
     "data": {
      "text/plain": [
       "'This tremendous 100% varietal wine hails from Oakville and was aged over three years in oak. Juicy red-cherry fruit and a compelling hint of caramel greet the palate, framed by elegant, fine tannins and a subtle minty tone in the background. Balanced and rewarding from start to finish, it has years ahead of it to develop further nuance. Enjoy 2022–2030.'"
      ]
     },
     "execution_count": 8,
     "metadata": {},
     "output_type": "execute_result"
    }
   ],
   "source": [
    "wine[\"description\"][0]"
   ]
  },
  {
   "cell_type": "code",
   "execution_count": 9,
   "metadata": {},
   "outputs": [
    {
     "name": "stdout",
     "output_type": "stream",
     "text": [
      "100\n",
      "80\n"
     ]
    }
   ],
   "source": [
    "print(wine.points.max())\n",
    "print(wine.points.min())"
   ]
  },
  {
   "cell_type": "code",
   "execution_count": 10,
   "metadata": {},
   "outputs": [
    {
     "name": "stdout",
     "output_type": "stream",
     "text": [
      "min points 80\n",
      "max points100\n"
     ]
    },
    {
     "name": "stderr",
     "output_type": "stream",
     "text": [
      "/home/ec2-user/anaconda3/envs/python3/lib/python3.6/site-packages/matplotlib/axes/_axes.py:6462: UserWarning: The 'normed' kwarg is deprecated, and has been replaced by the 'density' kwarg.\n",
      "  warnings.warn(\"The 'normed' kwarg is deprecated, and has been \"\n"
     ]
    },
    {
     "data": {
      "image/png": "[encoded data removed]",
      "text/plain": [
       "<Figure size 432x288 with 1 Axes>"
      ]
     },
     "metadata": {},
     "output_type": "display_data"
    }
   ],
   "source": [
    "print(\"min points {}\".format(wine.points.min()))\n",
    "print(\"max points{}\".format(wine.points.max()))\n",
    "\n",
    "sns.distplot(wine.points, bins=20, kde=False)\n",
    "plt.show()"
   ]
  },
  {
   "cell_type": "markdown",
   "metadata": {},
   "source": [
    "# Feature Engineering"
   ]
  },
  {
   "cell_type": "code",
   "execution_count": 11,
   "metadata": {},
   "outputs": [],
   "source": [
    "def ohe_features(df, feature, occurances):\n",
    "    '''\n",
    "    df: pandas data frame with feature to be encoded\n",
    "    feature: str. feature name\n",
    "    occurances: number of occurances to threshold feature at\n",
    "    '''\n",
    "    vc = df[feature].value_counts()\n",
    "    keep_values = vc[vc > occurances].index.tolist()\n",
    "    ohe_feature = pd.get_dummies(df[feature])\n",
    "\n",
    "    feature_names = ohe_feature.columns\n",
    "    keep_features = feature_names[feature_names.isin(keep_values)]\n",
    "    return ohe_feature[keep_features]\n",
    "\n",
    "def make_lower_case(text):\n",
    "    return text.lower()\n",
    "\n",
    "def remove_punctuation(text):\n",
    "    tokenizer = RegexpTokenizer(r'\\w+')\n",
    "    text = tokenizer.tokenize(text)\n",
    "    text = \" \".join(text)\n",
    "    return text"
   ]
  },
  {
   "cell_type": "code",
   "execution_count": 12,
   "metadata": {},
   "outputs": [
    {
     "name": "stdout",
     "output_type": "stream",
     "text": [
      "There are 46 country categorical variables\n",
      "There are 71 designation categorical variables\n",
      "There are 113 province categorical variables\n",
      "There are 308 region categorical variables\n",
      "There are 133 variety categorical variables\n",
      "There are 454 winery categorical variables\n"
     ]
    }
   ],
   "source": [
    "country = pd.get_dummies(wine.country)\n",
    "collist = country.columns.tolist()\n",
    "collist = [\"country_\" + s for s in collist]\n",
    "country.columns = collist\n",
    "print (\"There are {} country categorical variables\".format(country.shape[1]))\n",
    "\n",
    "designation = ohe_features(wine, \"designation\", 50)\n",
    "collist = designation.columns.tolist()\n",
    "collist = [\"designation_\" + s for s in collist]\n",
    "designation.columns = collist\n",
    "print (\"There are {} designation categorical variables\".format(designation.shape[1]))\n",
    "\n",
    "province = ohe_features(wine, \"province\", 50)\n",
    "collist = province.columns.tolist()\n",
    "collist = [\"province_\" + s for s in collist]\n",
    "province.columns = collist\n",
    "print (\"There are {} province categorical variables\".format(province.shape[1]))\n",
    "\n",
    "region = ohe_features(wine, \"region_1\", 50)\n",
    "collist = region.columns.tolist()\n",
    "collist = [\"region_\" + s for s in collist]\n",
    "region.columns = collist\n",
    "print (\"There are {} region categorical variables\".format(region.shape[1]))\n",
    "\n",
    "variety = ohe_features(wine, \"variety\", 50)\n",
    "collist = variety.columns.tolist()\n",
    "collist = [\"variety_\" + s for s in collist]\n",
    "variety.columns = collist\n",
    "print (\"There are {} variety categorical variables\".format(variety.shape[1]))\n",
    "\n",
    "winery = ohe_features(wine, \"winery\", 50)\n",
    "collist = winery.columns.tolist()\n",
    "collist = [\"winery_\" + s for s in collist]\n",
    "winery.columns = collist\n",
    "print (\"There are {} winery categorical variables\".format(winery.shape[1]))"
   ]
  },
  {
   "cell_type": "code",
   "execution_count": 13,
   "metadata": {},
   "outputs": [],
   "source": [
    "wine[\"description\"] = wine[\"description\"].str.replace('\\d+', '')\n",
    "wine[\"description\"] = wine.description.apply(func=remove_punctuation)\n",
    "wine[\"description\"] = wine.description.apply(func=make_lower_case)"
   ]
  },
  {
   "cell_type": "code",
   "execution_count": 14,
   "metadata": {},
   "outputs": [
    {
     "data": {
      "text/html": [
       "<div>\n",
       "<style scoped>\n",
       "    .dataframe tbody tr th:only-of-type {\n",
       "        vertical-align: middle;\n",
       "    }\n",
       "\n",
       "    .dataframe tbody tr th {\n",
       "        vertical-align: top;\n",
       "    }\n",
       "\n",
       "    .dataframe thead th {\n",
       "        text-align: right;\n",
       "    }\n",
       "</style>\n",
       "<table border=\"1\" class=\"dataframe\">\n",
       "  <thead>\n",
       "    <tr style=\"text-align: right;\">\n",
       "      <th></th>\n",
       "      <th>latent_description_0</th>\n",
       "      <th>latent_description_1</th>\n",
       "      <th>latent_description_2</th>\n",
       "      <th>latent_description_3</th>\n",
       "      <th>latent_description_4</th>\n",
       "    </tr>\n",
       "  </thead>\n",
       "  <tbody>\n",
       "    <tr>\n",
       "      <th>0</th>\n",
       "      <td>0.122660</td>\n",
       "      <td>-0.036944</td>\n",
       "      <td>-0.007851</td>\n",
       "      <td>-0.023449</td>\n",
       "      <td>-0.028573</td>\n",
       "    </tr>\n",
       "    <tr>\n",
       "      <th>1</th>\n",
       "      <td>0.135296</td>\n",
       "      <td>-0.041430</td>\n",
       "      <td>0.016480</td>\n",
       "      <td>-0.010557</td>\n",
       "      <td>0.005033</td>\n",
       "    </tr>\n",
       "    <tr>\n",
       "      <th>2</th>\n",
       "      <td>0.077102</td>\n",
       "      <td>0.047091</td>\n",
       "      <td>-0.014918</td>\n",
       "      <td>-0.005658</td>\n",
       "      <td>0.009037</td>\n",
       "    </tr>\n",
       "    <tr>\n",
       "      <th>3</th>\n",
       "      <td>0.147137</td>\n",
       "      <td>-0.097017</td>\n",
       "      <td>0.032873</td>\n",
       "      <td>-0.001220</td>\n",
       "      <td>0.026520</td>\n",
       "    </tr>\n",
       "    <tr>\n",
       "      <th>4</th>\n",
       "      <td>0.083745</td>\n",
       "      <td>0.001448</td>\n",
       "      <td>-0.080751</td>\n",
       "      <td>-0.100291</td>\n",
       "      <td>-0.024101</td>\n",
       "    </tr>\n",
       "  </tbody>\n",
       "</table>\n",
       "</div>"
      ],
      "text/plain": [
       "   latent_description_0  latent_description_1  latent_description_2  \\\n",
       "0              0.122660             -0.036944             -0.007851   \n",
       "1              0.135296             -0.041430              0.016480   \n",
       "2              0.077102              0.047091             -0.014918   \n",
       "3              0.147137             -0.097017              0.032873   \n",
       "4              0.083745              0.001448             -0.080751   \n",
       "\n",
       "   latent_description_3  latent_description_4  \n",
       "0             -0.023449             -0.028573  \n",
       "1             -0.010557              0.005033  \n",
       "2             -0.005658              0.009037  \n",
       "3             -0.001220              0.026520  \n",
       "4             -0.100291             -0.024101  "
      ]
     },
     "execution_count": 14,
     "metadata": {},
     "output_type": "execute_result"
    }
   ],
   "source": [
    "tf = TfidfVectorizer(analyzer='word', \n",
    "                     min_df=10,\n",
    "                     ngram_range=(1, 2),\n",
    "                     stop_words='english')\n",
    "svd = TruncatedSVD(n_components=5)\n",
    "\n",
    "#Fit tfidf and svd, and transform training data\n",
    "tfidf_matrix = tf.fit_transform(wine.description)\n",
    "lsa_features = pd.DataFrame(svd.fit_transform(tfidf_matrix))\n",
    "collist = map(str, range(0, 5))\n",
    "collist = [\"latent_description_\" + s for s in collist]\n",
    "lsa_features.columns = collist\n",
    "lsa_features.head()"
   ]
  },
  {
   "cell_type": "code",
   "execution_count": 16,
   "metadata": {},
   "outputs": [
    {
     "name": "stdout",
     "output_type": "stream",
     "text": [
      "(137235, 6)\n",
      "(137235,)\n"
     ]
    }
   ],
   "source": [
    "X = pd.concat([lsa_features, wine[\"price\"]], axis=1)\n",
    "y = wine[\"points\"]\n",
    "print (X.shape)\n",
    "print (y.shape)"
   ]
  },
  {
   "cell_type": "markdown",
   "metadata": {},
   "source": [
    "# Test Train Split"
   ]
  },
  {
   "cell_type": "code",
   "execution_count": 18,
   "metadata": {},
   "outputs": [
    {
     "name": "stdout",
     "output_type": "stream",
     "text": [
      "96064 training observations\n",
      "41171 testing observations\n"
     ]
    }
   ],
   "source": [
    "X_train, X_test, y_train, y_test = train_test_split(X, y, test_size=0.3)\n",
    "\n",
    "print (\"{} training observations\".format(X_train.shape[0]))\n",
    "print (\"{} testing observations\".format(X_test.shape[0]))"
   ]
  },
  {
   "cell_type": "markdown",
   "metadata": {},
   "source": [
    "# XGBoost Classification"
   ]
  },
  {
   "cell_type": "code",
   "execution_count": 19,
   "metadata": {},
   "outputs": [],
   "source": [
    "dtrain = xgb.DMatrix(X_train, label=y_train)\n",
    "dtest = xgb.DMatrix(X_test, label=y_test)"
   ]
  },
  {
   "cell_type": "code",
   "execution_count": 20,
   "metadata": {},
   "outputs": [],
   "source": [
    "param = {'max_depth': 3, 'eta': 1, 'subsample':0.5, 'alpha':1}\n",
    "param['nthread'] = 4\n",
    "param['eval_metric'] = 'mae'\n",
    "param['objective'] = 'reg:linear'\n",
    "param['silent'] = 1\n",
    "evallist = [(dtrain, 'train')]\n",
    "num_round = 10"
   ]
  },
  {
   "cell_type": "code",
   "execution_count": 21,
   "metadata": {},
   "outputs": [
    {
     "name": "stdout",
     "output_type": "stream",
     "text": [
      "[0]\ttrain-mae:2.07006\n",
      "Will train until train-mae hasn't improved in 10 rounds.\n",
      "[1]\ttrain-mae:1.97986\n",
      "[2]\ttrain-mae:1.94716\n",
      "[3]\ttrain-mae:1.9257\n",
      "[4]\ttrain-mae:1.90304\n",
      "[5]\ttrain-mae:1.88801\n",
      "[6]\ttrain-mae:1.87019\n",
      "[7]\ttrain-mae:1.86545\n",
      "[8]\ttrain-mae:1.85998\n",
      "[9]\ttrain-mae:1.85575\n"
     ]
    }
   ],
   "source": [
    "bst = xgb.train(param, dtrain, num_round, evallist, early_stopping_rounds=10)"
   ]
  },
  {
   "cell_type": "code",
   "execution_count": 22,
   "metadata": {},
   "outputs": [
    {
     "data": {
      "text/html": [
       "<div>\n",
       "<style scoped>\n",
       "    .dataframe tbody tr th:only-of-type {\n",
       "        vertical-align: middle;\n",
       "    }\n",
       "\n",
       "    .dataframe tbody tr th {\n",
       "        vertical-align: top;\n",
       "    }\n",
       "\n",
       "    .dataframe thead th {\n",
       "        text-align: right;\n",
       "    }\n",
       "</style>\n",
       "<table border=\"1\" class=\"dataframe\">\n",
       "  <thead>\n",
       "    <tr style=\"text-align: right;\">\n",
       "      <th></th>\n",
       "      <th>points</th>\n",
       "      <th>prediction</th>\n",
       "    </tr>\n",
       "  </thead>\n",
       "  <tbody>\n",
       "    <tr>\n",
       "      <th>82036</th>\n",
       "      <td>87</td>\n",
       "      <td>89</td>\n",
       "    </tr>\n",
       "    <tr>\n",
       "      <th>99239</th>\n",
       "      <td>90</td>\n",
       "      <td>89</td>\n",
       "    </tr>\n",
       "    <tr>\n",
       "      <th>65138</th>\n",
       "      <td>83</td>\n",
       "      <td>88</td>\n",
       "    </tr>\n",
       "    <tr>\n",
       "      <th>85905</th>\n",
       "      <td>93</td>\n",
       "      <td>88</td>\n",
       "    </tr>\n",
       "    <tr>\n",
       "      <th>52871</th>\n",
       "      <td>87</td>\n",
       "      <td>88</td>\n",
       "    </tr>\n",
       "  </tbody>\n",
       "</table>\n",
       "</div>"
      ],
      "text/plain": [
       "       points  prediction\n",
       "82036      87          89\n",
       "99239      90          89\n",
       "65138      83          88\n",
       "85905      93          88\n",
       "52871      87          88"
      ]
     },
     "execution_count": 22,
     "metadata": {},
     "output_type": "execute_result"
    }
   ],
   "source": [
    "pred = pd.DataFrame(y_test.copy())\n",
    "pred[\"prediction\"] = bst.predict(dtest, ntree_limit=bst.best_ntree_limit)\n",
    "pred[\"prediction\"] = np.round(pred[\"prediction\"],0).astype(int)\n",
    "pred.sample(5)"
   ]
  },
  {
   "cell_type": "code",
   "execution_count": 23,
   "metadata": {},
   "outputs": [
    {
     "name": "stdout",
     "output_type": "stream",
     "text": [
      "Mean Absolute Error: 1.84 points\n"
     ]
    }
   ],
   "source": [
    "from sklearn.metrics import median_absolute_error, mean_absolute_error\n",
    "mean_ae = np.round(mean_absolute_error(y_true=pred[\"points\"], y_pred=pred[\"prediction\"]),2)\n",
    "median_ae = np.round(median_absolute_error(y_true=pred[\"points\"], y_pred=pred[\"prediction\"]),2)\n",
    "print (\"Mean Absolute Error: {} points\".format(mean_ae))"
   ]
  },
  {
   "cell_type": "code",
   "execution_count": 24,
   "metadata": {},
   "outputs": [
    {
     "data": {
      "text/plain": [
       "<matplotlib.axes._subplots.AxesSubplot at 0x7f943c608518>"
      ]
     },
     "execution_count": 24,
     "metadata": {},
     "output_type": "execute_result"
    },
    {
     "data": {
      "image/png": "[encoded data removed]",
      "text/plain": [
       "<Figure size 432x288 with 1 Axes>"
      ]
     },
     "metadata": {},
     "output_type": "display_data"
    }
   ],
   "source": [
    "xgb.plot_importance(bst,max_num_features=15)"
   ]
  },
  {
   "cell_type": "code",
   "execution_count": 25,
   "metadata": {},
   "outputs": [
    {
     "data": {
      "image/svg+xml": [
       "<?xml version=\"1.0\" encoding=\"UTF-8\" standalone=\"no\"?>\n",
       "<!DOCTYPE svg PUBLIC \"-//W3C//DTD SVG 1.1//EN\"\n",
       " \"http://www.w3.org/Graphics/SVG/1.1/DTD/svg11.dtd\">\n",
       "<!-- Generated by graphviz version 2.40.1 (20161225.0304)\n",
       " -->\n",
       "<!-- Title: %3 Pages: 1 -->\n",
       "<svg width=\"758pt\" height=\"305pt\"\n",
       " viewBox=\"0.00 0.00 758.44 305.00\" xmlns=\"http://www.w3.org/2000/svg\" xmlns:xlink=\"http://www.w3.org/1999/xlink\">\n",
       "<g id=\"graph0\" class=\"graph\" transform=\"scale(1 1) rotate(0) translate(4 301)\">\n",
       "<title>%3</title>\n",
       "<polygon fill=\"#ffffff\" stroke=\"transparent\" points=\"-4,4 -4,-301 754.4377,-301 754.4377,4 -4,4\"/>\n",
       "<!-- 0 -->\n",
       "<g id=\"node1\" class=\"node\">\n",
       "<title>0</title>\n",
       "<ellipse fill=\"none\" stroke=\"#000000\" cx=\"403.9441\" cy=\"-279\" rx=\"49.2915\" ry=\"18\"/>\n",
       "<text text-anchor=\"middle\" x=\"403.9441\" y=\"-275.3\" font-family=\"Times,serif\" font-size=\"14.00\" fill=\"#000000\">price&lt;29.5</text>\n",
       "</g>\n",
       "<!-- 1 -->\n",
       "<g id=\"node2\" class=\"node\">\n",
       "<title>1</title>\n",
       "<ellipse fill=\"none\" stroke=\"#000000\" cx=\"289.9441\" cy=\"-192\" rx=\"49.2915\" ry=\"18\"/>\n",
       "<text text-anchor=\"middle\" x=\"289.9441\" y=\"-188.3\" font-family=\"Times,serif\" font-size=\"14.00\" fill=\"#000000\">price&lt;15.5</text>\n",
       "</g>\n",
       "<!-- 0&#45;&gt;1 -->\n",
       "<g id=\"edge1\" class=\"edge\">\n",
       "<title>0&#45;&gt;1</title>\n",
       "<path fill=\"none\" stroke=\"#0000ff\" d=\"M382.5015,-262.636C364.6678,-249.026 339.1022,-229.5155 319.3569,-214.4466\"/>\n",
       "<polygon fill=\"#0000ff\" stroke=\"#0000ff\" points=\"321.3633,-211.5751 311.2904,-208.2907 317.1166,-217.1398 321.3633,-211.5751\"/>\n",
       "<text text-anchor=\"middle\" x=\"388.4441\" y=\"-231.8\" font-family=\"Times,serif\" font-size=\"14.00\" fill=\"#000000\">yes, missing</text>\n",
       "</g>\n",
       "<!-- 2 -->\n",
       "<g id=\"node3\" class=\"node\">\n",
       "<title>2</title>\n",
       "<ellipse fill=\"none\" stroke=\"#000000\" cx=\"517.9441\" cy=\"-192\" rx=\"49.2915\" ry=\"18\"/>\n",
       "<text text-anchor=\"middle\" x=\"517.9441\" y=\"-188.3\" font-family=\"Times,serif\" font-size=\"14.00\" fill=\"#000000\">price&lt;53.5</text>\n",
       "</g>\n",
       "<!-- 0&#45;&gt;2 -->\n",
       "<g id=\"edge2\" class=\"edge\">\n",
       "<title>0&#45;&gt;2</title>\n",
       "<path fill=\"none\" stroke=\"#ff0000\" d=\"M425.3866,-262.636C443.2203,-249.026 468.7859,-229.5155 488.5312,-214.4466\"/>\n",
       "<polygon fill=\"#ff0000\" stroke=\"#ff0000\" points=\"490.7715,-217.1398 496.5977,-208.2907 486.5248,-211.5751 490.7715,-217.1398\"/>\n",
       "<text text-anchor=\"middle\" x=\"474.9441\" y=\"-231.8\" font-family=\"Times,serif\" font-size=\"14.00\" fill=\"#000000\">no</text>\n",
       "</g>\n",
       "<!-- 3 -->\n",
       "<g id=\"node4\" class=\"node\">\n",
       "<title>3</title>\n",
       "<ellipse fill=\"none\" stroke=\"#000000\" cx=\"66.9441\" cy=\"-105\" rx=\"66.8882\" ry=\"18\"/>\n",
       "<text text-anchor=\"middle\" x=\"66.9441\" y=\"-101.3\" font-family=\"Times,serif\" font-size=\"14.00\" fill=\"#000000\">leaf=84.927887</text>\n",
       "</g>\n",
       "<!-- 1&#45;&gt;3 -->\n",
       "<g id=\"edge3\" class=\"edge\">\n",
       "<title>1&#45;&gt;3</title>\n",
       "<path fill=\"none\" stroke=\"#0000ff\" d=\"M256.0752,-178.7866C218.4336,-164.1013 157.3584,-140.2737 114.8333,-123.6832\"/>\n",
       "<polygon fill=\"#0000ff\" stroke=\"#0000ff\" points=\"115.8416,-120.3197 105.2534,-119.9458 113.2974,-126.841 115.8416,-120.3197\"/>\n",
       "<text text-anchor=\"middle\" x=\"226.4441\" y=\"-144.8\" font-family=\"Times,serif\" font-size=\"14.00\" fill=\"#000000\">yes, missing</text>\n",
       "</g>\n",
       "<!-- 4 -->\n",
       "<g id=\"node5\" class=\"node\">\n",
       "<title>4</title>\n",
       "<ellipse fill=\"none\" stroke=\"#000000\" cx=\"289.9441\" cy=\"-105\" rx=\"138.3755\" ry=\"18\"/>\n",
       "<text text-anchor=\"middle\" x=\"289.9441\" y=\"-101.3\" font-family=\"Times,serif\" font-size=\"14.00\" fill=\"#000000\">latent_description_3&lt;0.0245347079</text>\n",
       "</g>\n",
       "<!-- 1&#45;&gt;4 -->\n",
       "<g id=\"edge4\" class=\"edge\">\n",
       "<title>1&#45;&gt;4</title>\n",
       "<path fill=\"none\" stroke=\"#ff0000\" d=\"M289.9441,-173.9735C289.9441,-162.1918 289.9441,-146.5607 289.9441,-133.1581\"/>\n",
       "<polygon fill=\"#ff0000\" stroke=\"#ff0000\" points=\"293.4442,-133.0033 289.9441,-123.0034 286.4442,-133.0034 293.4442,-133.0033\"/>\n",
       "<text text-anchor=\"middle\" x=\"296.9441\" y=\"-144.8\" font-family=\"Times,serif\" font-size=\"14.00\" fill=\"#000000\">no</text>\n",
       "</g>\n",
       "<!-- 5 -->\n",
       "<g id=\"node8\" class=\"node\">\n",
       "<title>5</title>\n",
       "<ellipse fill=\"none\" stroke=\"#000000\" cx=\"517.9441\" cy=\"-105\" rx=\"71.4873\" ry=\"18\"/>\n",
       "<text text-anchor=\"middle\" x=\"517.9441\" y=\"-101.3\" font-family=\"Times,serif\" font-size=\"14.00\" fill=\"#000000\">leaf=88.4792099</text>\n",
       "</g>\n",
       "<!-- 2&#45;&gt;5 -->\n",
       "<g id=\"edge7\" class=\"edge\">\n",
       "<title>2&#45;&gt;5</title>\n",
       "<path fill=\"none\" stroke=\"#0000ff\" d=\"M517.9441,-173.9735C517.9441,-162.1918 517.9441,-146.5607 517.9441,-133.1581\"/>\n",
       "<polygon fill=\"#0000ff\" stroke=\"#0000ff\" points=\"521.4442,-133.0033 517.9441,-123.0034 514.4442,-133.0034 521.4442,-133.0033\"/>\n",
       "<text text-anchor=\"middle\" x=\"552.4441\" y=\"-144.8\" font-family=\"Times,serif\" font-size=\"14.00\" fill=\"#000000\">yes, missing</text>\n",
       "</g>\n",
       "<!-- 6 -->\n",
       "<g id=\"node9\" class=\"node\">\n",
       "<title>6</title>\n",
       "<ellipse fill=\"none\" stroke=\"#000000\" cx=\"678.9441\" cy=\"-105\" rx=\"71.4873\" ry=\"18\"/>\n",
       "<text text-anchor=\"middle\" x=\"678.9441\" y=\"-101.3\" font-family=\"Times,serif\" font-size=\"14.00\" fill=\"#000000\">leaf=90.7536926</text>\n",
       "</g>\n",
       "<!-- 2&#45;&gt;6 -->\n",
       "<g id=\"edge8\" class=\"edge\">\n",
       "<title>2&#45;&gt;6</title>\n",
       "<path fill=\"none\" stroke=\"#ff0000\" d=\"M548.3649,-177.5625C561.5563,-171.1571 577.1169,-163.4054 590.9441,-156 607.9902,-146.8706 626.5553,-136.2195 642.2208,-127.0192\"/>\n",
       "<polygon fill=\"#ff0000\" stroke=\"#ff0000\" points=\"644.2434,-129.8896 651.0759,-121.7922 640.6851,-123.8614 644.2434,-129.8896\"/>\n",
       "<text text-anchor=\"middle\" x=\"623.9441\" y=\"-144.8\" font-family=\"Times,serif\" font-size=\"14.00\" fill=\"#000000\">no</text>\n",
       "</g>\n",
       "<!-- 7 -->\n",
       "<g id=\"node6\" class=\"node\">\n",
       "<title>7</title>\n",
       "<ellipse fill=\"none\" stroke=\"#000000\" cx=\"211.9441\" cy=\"-18\" rx=\"71.4873\" ry=\"18\"/>\n",
       "<text text-anchor=\"middle\" x=\"211.9441\" y=\"-14.3\" font-family=\"Times,serif\" font-size=\"14.00\" fill=\"#000000\">leaf=87.0941086</text>\n",
       "</g>\n",
       "<!-- 4&#45;&gt;7 -->\n",
       "<g id=\"edge5\" class=\"edge\">\n",
       "<title>4&#45;&gt;7</title>\n",
       "<path fill=\"none\" stroke=\"#0000ff\" d=\"M273.7824,-86.9735C262.5173,-74.4087 247.3271,-57.4657 234.8212,-43.5168\"/>\n",
       "<polygon fill=\"#0000ff\" stroke=\"#0000ff\" points=\"237.0996,-40.815 227.8181,-35.7057 231.8876,-45.4878 237.0996,-40.815\"/>\n",
       "<text text-anchor=\"middle\" x=\"290.4441\" y=\"-57.8\" font-family=\"Times,serif\" font-size=\"14.00\" fill=\"#000000\">yes, missing</text>\n",
       "</g>\n",
       "<!-- 8 -->\n",
       "<g id=\"node7\" class=\"node\">\n",
       "<title>8</title>\n",
       "<ellipse fill=\"none\" stroke=\"#000000\" cx=\"367.9441\" cy=\"-18\" rx=\"66.8882\" ry=\"18\"/>\n",
       "<text text-anchor=\"middle\" x=\"367.9441\" y=\"-14.3\" font-family=\"Times,serif\" font-size=\"14.00\" fill=\"#000000\">leaf=85.553627</text>\n",
       "</g>\n",
       "<!-- 4&#45;&gt;8 -->\n",
       "<g id=\"edge6\" class=\"edge\">\n",
       "<title>4&#45;&gt;8</title>\n",
       "<path fill=\"none\" stroke=\"#ff0000\" d=\"M310.8257,-86.9512C316.8789,-81.3982 323.3576,-75.1291 328.9441,-69 335.9657,-61.2963 343.0616,-52.4154 349.2405,-44.2453\"/>\n",
       "<polygon fill=\"#ff0000\" stroke=\"#ff0000\" points=\"352.1598,-46.1845 355.3061,-36.0676 346.5375,-42.0143 352.1598,-46.1845\"/>\n",
       "<text text-anchor=\"middle\" x=\"348.9441\" y=\"-57.8\" font-family=\"Times,serif\" font-size=\"14.00\" fill=\"#000000\">no</text>\n",
       "</g>\n",
       "</g>\n",
       "</svg>\n"
      ],
      "text/plain": [
       "<graphviz.dot.Digraph at 0x7f943efde748>"
      ]
     },
     "execution_count": 25,
     "metadata": {},
     "output_type": "execute_result"
    }
   ],
   "source": [
    "xgb.to_graphviz(bst, num_trees=0)"
   ]
  },
  {
   "cell_type": "code",
   "execution_count": null,
   "metadata": {},
   "outputs": [],
   "source": [
    "from sklearn.externals import joblib"
   ]
  },
  {
   "cell_type": "code",
   "execution_count": null,
   "metadata": {},
   "outputs": [],
   "source": [
    "joblib.dump(bst, \"testmodel\")\n",
    "print(\"Model trained and saved!\")"
   ]
  },
  {
   "cell_type": "code",
   "execution_count": null,
   "metadata": {},
   "outputs": [],
   "source": [
    "bst = joblib.load(\"testmodel\")"
   ]
  },
  {
   "cell_type": "markdown",
   "metadata": {},
   "source": [
    "# DIY Deployment"
   ]
  },
  {
   "cell_type": "code",
   "execution_count": null,
   "metadata": {},
   "outputs": [],
   "source": [
    "# I wrote my own predict method \n",
    "# Use business logic to filter predictions, not just the models basic predict\n",
    "# send info in and out as a dictionary/json"
   ]
  },
  {
   "cell_type": "code",
   "execution_count": null,
   "metadata": {},
   "outputs": [],
   "source": [
    "def my_own_predict_method(feature_payload):\n",
    "    \n",
    "    message_cheap = \"Wow, what a steal!\"\n",
    "    message_expensive = \"Yikes, that is a spendy wine!\"\n",
    "\n",
    "    #format payload as a dataframe\n",
    "    x = pd.DataFrame(feature_payload, index=[0])\n",
    "    #convert it to xgboost data object\n",
    "    x = xgb.DMatrix(x, label=y_test)\n",
    "\n",
    "    #predict wine price from xgboost model\n",
    "    prediction = bst.predict(x, ntree_limit=bst.best_ntree_limit)\n",
    "    prediction = np.round(prediction,2)[0]\n",
    " \n",
    "    #personalise message \n",
    "    if prediction < 50:\n",
    "        message = message_cheap\n",
    "    else:\n",
    "        message = message_expensive\n",
    "        \n",
    "    output = {\"price\": \"$\"+str(prediction), \"message\":message}\n",
    "    \n",
    "    return output"
   ]
  },
  {
   "cell_type": "code",
   "execution_count": null,
   "metadata": {},
   "outputs": [],
   "source": [
    "#get an example payload from the test data\n",
    "feature_payload = X_test.iloc[5].to_dict()\n",
    "print(feature_payload)"
   ]
  },
  {
   "cell_type": "code",
   "execution_count": null,
   "metadata": {},
   "outputs": [],
   "source": [
    "non_zero_features = [k for k,v in feature_payload.items() if v > 0]\n",
    "dict((k, feature_payload[k]) for k in non_zero_features if k in feature_payload)"
   ]
  },
  {
   "cell_type": "code",
   "execution_count": null,
   "metadata": {},
   "outputs": [],
   "source": [
    "my_own_predict_method(feature_payload)"
   ]
  }
 ],
 "metadata": {
  "kernelspec": {
   "display_name": "conda_python3",
   "language": "python",
   "name": "conda_python3"
  },
  "language_info": {
   "codemirror_mode": {
    "name": "ipython",
    "version": 3
   },
   "file_extension": ".py",
   "mimetype": "text/x-python",
   "name": "python",
   "nbconvert_exporter": "python",
   "pygments_lexer": "ipython3",
   "version": "3.6.5"
  }
 },
 "nbformat": 4,
 "nbformat_minor": 2
}
