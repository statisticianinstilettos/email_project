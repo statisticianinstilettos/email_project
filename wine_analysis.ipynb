{
 "cells": [
  {
   "cell_type": "markdown",
   "metadata": {},
   "source": [
    "# Gradient Boosting Machines for Wine Price Predictions"
   ]
  },
  {
   "cell_type": "code",
   "execution_count": 1,
   "metadata": {},
   "outputs": [],
   "source": [
    "import pandas as pd\n",
    "import numpy as np\n",
    "from sklearn.model_selection import train_test_split\n",
    "from sklearn.feature_extraction.text import TfidfVectorizer\n",
    "from sklearn.decomposition import TruncatedSVD\n",
    "from nltk.tokenize import RegexpTokenizer\n",
    "\n",
    "import seaborn as sns\n",
    "import matplotlib.pyplot as plt"
   ]
  },
  {
   "cell_type": "code",
   "execution_count": 52,
   "metadata": {},
   "outputs": [
    {
     "data": {
      "text/html": [
       "<style>.container { width:100% !important; }</style>"
      ],
      "text/plain": [
       "<IPython.core.display.HTML object>"
      ]
     },
     "metadata": {},
     "output_type": "display_data"
    }
   ],
   "source": [
    "from IPython.core.display import display, HTML\n",
    "display(HTML(\"<style>.container { width:100% !important; }</style>\"))"
   ]
  },
  {
   "cell_type": "code",
   "execution_count": 2,
   "metadata": {},
   "outputs": [
    {
     "name": "stdout",
     "output_type": "stream",
     "text": [
      "(137235, 11)\n"
     ]
    },
    {
     "data": {
      "text/html": [
       "<div>\n",
       "<style scoped>\n",
       "    .dataframe tbody tr th:only-of-type {\n",
       "        vertical-align: middle;\n",
       "    }\n",
       "\n",
       "    .dataframe tbody tr th {\n",
       "        vertical-align: top;\n",
       "    }\n",
       "\n",
       "    .dataframe thead th {\n",
       "        text-align: right;\n",
       "    }\n",
       "</style>\n",
       "<table border=\"1\" class=\"dataframe\">\n",
       "  <thead>\n",
       "    <tr style=\"text-align: right;\">\n",
       "      <th></th>\n",
       "      <th>index</th>\n",
       "      <th>country</th>\n",
       "      <th>description</th>\n",
       "      <th>designation</th>\n",
       "      <th>points</th>\n",
       "      <th>price</th>\n",
       "      <th>province</th>\n",
       "      <th>region_1</th>\n",
       "      <th>region_2</th>\n",
       "      <th>variety</th>\n",
       "      <th>winery</th>\n",
       "    </tr>\n",
       "  </thead>\n",
       "  <tbody>\n",
       "    <tr>\n",
       "      <th>0</th>\n",
       "      <td>0</td>\n",
       "      <td>US</td>\n",
       "      <td>This tremendous 100% varietal wine hails from ...</td>\n",
       "      <td>Martha's Vineyard</td>\n",
       "      <td>96</td>\n",
       "      <td>235.0</td>\n",
       "      <td>California</td>\n",
       "      <td>Napa Valley</td>\n",
       "      <td>Napa</td>\n",
       "      <td>Cabernet Sauvignon</td>\n",
       "      <td>Heitz</td>\n",
       "    </tr>\n",
       "    <tr>\n",
       "      <th>1</th>\n",
       "      <td>1</td>\n",
       "      <td>Spain</td>\n",
       "      <td>Ripe aromas of fig, blackberry and cassis are ...</td>\n",
       "      <td>Carodorum Selección Especial Reserva</td>\n",
       "      <td>96</td>\n",
       "      <td>110.0</td>\n",
       "      <td>Northern Spain</td>\n",
       "      <td>Toro</td>\n",
       "      <td>NaN</td>\n",
       "      <td>Tinta de Toro</td>\n",
       "      <td>Bodega Carmen Rodríguez</td>\n",
       "    </tr>\n",
       "    <tr>\n",
       "      <th>2</th>\n",
       "      <td>2</td>\n",
       "      <td>US</td>\n",
       "      <td>Mac Watson honors the memory of a wine once ma...</td>\n",
       "      <td>Special Selected Late Harvest</td>\n",
       "      <td>96</td>\n",
       "      <td>90.0</td>\n",
       "      <td>California</td>\n",
       "      <td>Knights Valley</td>\n",
       "      <td>Sonoma</td>\n",
       "      <td>Sauvignon Blanc</td>\n",
       "      <td>Macauley</td>\n",
       "    </tr>\n",
       "    <tr>\n",
       "      <th>3</th>\n",
       "      <td>3</td>\n",
       "      <td>US</td>\n",
       "      <td>This spent 20 months in 30% new French oak, an...</td>\n",
       "      <td>Reserve</td>\n",
       "      <td>96</td>\n",
       "      <td>65.0</td>\n",
       "      <td>Oregon</td>\n",
       "      <td>Willamette Valley</td>\n",
       "      <td>Willamette Valley</td>\n",
       "      <td>Pinot Noir</td>\n",
       "      <td>Ponzi</td>\n",
       "    </tr>\n",
       "    <tr>\n",
       "      <th>4</th>\n",
       "      <td>4</td>\n",
       "      <td>France</td>\n",
       "      <td>This is the top wine from La Bégude, named aft...</td>\n",
       "      <td>La Brûlade</td>\n",
       "      <td>95</td>\n",
       "      <td>66.0</td>\n",
       "      <td>Provence</td>\n",
       "      <td>Bandol</td>\n",
       "      <td>NaN</td>\n",
       "      <td>Provence red blend</td>\n",
       "      <td>Domaine de la Bégude</td>\n",
       "    </tr>\n",
       "  </tbody>\n",
       "</table>\n",
       "</div>"
      ],
      "text/plain": [
       "   index country                                        description  \\\n",
       "0      0      US  This tremendous 100% varietal wine hails from ...   \n",
       "1      1   Spain  Ripe aromas of fig, blackberry and cassis are ...   \n",
       "2      2      US  Mac Watson honors the memory of a wine once ma...   \n",
       "3      3      US  This spent 20 months in 30% new French oak, an...   \n",
       "4      4  France  This is the top wine from La Bégude, named aft...   \n",
       "\n",
       "                            designation  points  price        province  \\\n",
       "0                     Martha's Vineyard      96  235.0      California   \n",
       "1  Carodorum Selección Especial Reserva      96  110.0  Northern Spain   \n",
       "2         Special Selected Late Harvest      96   90.0      California   \n",
       "3                               Reserve      96   65.0          Oregon   \n",
       "4                            La Brûlade      95   66.0        Provence   \n",
       "\n",
       "            region_1           region_2             variety  \\\n",
       "0        Napa Valley               Napa  Cabernet Sauvignon   \n",
       "1               Toro                NaN       Tinta de Toro   \n",
       "2     Knights Valley             Sonoma     Sauvignon Blanc   \n",
       "3  Willamette Valley  Willamette Valley          Pinot Noir   \n",
       "4             Bandol                NaN  Provence red blend   \n",
       "\n",
       "                    winery  \n",
       "0                    Heitz  \n",
       "1  Bodega Carmen Rodríguez  \n",
       "2                 Macauley  \n",
       "3                    Ponzi  \n",
       "4     Domaine de la Bégude  "
      ]
     },
     "execution_count": 2,
     "metadata": {},
     "output_type": "execute_result"
    }
   ],
   "source": [
    "#Load data\n",
    "wine = pd.read_csv('data/wine-reviews/winemag-data_first150k.csv', index_col=0, encoding=\"utf-8\")\n",
    "wine.dropna(subset=[\"price\"], inplace=True)\n",
    "wine.reset_index(inplace=True)\n",
    "print wine.shape\n",
    "wine.head()"
   ]
  },
  {
   "cell_type": "code",
   "execution_count": 3,
   "metadata": {},
   "outputs": [
    {
     "data": {
      "text/plain": [
       "u'This tremendous 100% varietal wine hails from Oakville and was aged over three years in oak. Juicy red-cherry fruit and a compelling hint of caramel greet the palate, framed by elegant, fine tannins and a subtle minty tone in the background. Balanced and rewarding from start to finish, it has years ahead of it to develop further nuance. Enjoy 2022\\u20132030.'"
      ]
     },
     "execution_count": 3,
     "metadata": {},
     "output_type": "execute_result"
    }
   ],
   "source": [
    "wine[\"description\"][0]"
   ]
  },
  {
   "cell_type": "markdown",
   "metadata": {},
   "source": [
    "# Feature Engineering"
   ]
  },
  {
   "cell_type": "code",
   "execution_count": 4,
   "metadata": {},
   "outputs": [
    {
     "name": "stderr",
     "output_type": "stream",
     "text": [
      "/usr/local/lib/python2.7/site-packages/scipy/stats/stats.py:1713: FutureWarning: Using a non-tuple sequence for multidimensional indexing is deprecated; use `arr[tuple(seq)]` instead of `arr[seq]`. In the future this will be interpreted as an array index, `arr[np.array(seq)]`, which will result either in an error or a different result.\n",
      "  return np.add.reduce(sorted[indexer] * weights, axis=axis) / sumval\n"
     ]
    },
    {
     "data": {
      "image/png": "[encoded data removed]",
      "text/plain": [
       "<matplotlib.figure.Figure at 0x109c6ce50>"
      ]
     },
     "metadata": {
      "needs_background": "light"
     },
     "output_type": "display_data"
    }
   ],
   "source": [
    "sns.distplot(wine.price)\n",
    "plt.show()"
   ]
  },
  {
   "cell_type": "code",
   "execution_count": 5,
   "metadata": {},
   "outputs": [],
   "source": [
    "def ohe_features(df, feature, occurances):\n",
    "    '''\n",
    "    df: pandas data frame with feature to be encoded\n",
    "    feature: str. feature name\n",
    "    occurances: number of occurances to threshold feature at\n",
    "    '''\n",
    "    vc = df[feature].value_counts()\n",
    "    keep_values = vc[vc > occurances].index.tolist()\n",
    "    ohe_feature = pd.get_dummies(df[feature])\n",
    "\n",
    "    feature_names = ohe_feature.columns\n",
    "    keep_features = feature_names[feature_names.isin(keep_values)]\n",
    "    return ohe_feature[keep_features]"
   ]
  },
  {
   "cell_type": "code",
   "execution_count": 6,
   "metadata": {},
   "outputs": [
    {
     "name": "stdout",
     "output_type": "stream",
     "text": [
      "There are 46 country categorical variables\n",
      "There are 71 designation categorical variables\n",
      "There are 113 province categorical variables\n",
      "There are 308 region categorical variables\n",
      "There are 133 variety categorical variables\n",
      "There are 454 winery categorical variables\n"
     ]
    }
   ],
   "source": [
    "country = pd.get_dummies(wine.country)\n",
    "collist = country.columns.tolist()\n",
    "collist = [\"country_\" + s for s in collist]\n",
    "country.columns = collist\n",
    "print \"There are {} country categorical variables\".format(country.shape[1])\n",
    "\n",
    "designation = ohe_features(wine, \"designation\", 50)\n",
    "collist = designation.columns.tolist()\n",
    "collist = [\"designation_\" + s for s in collist]\n",
    "designation.columns = collist\n",
    "print \"There are {} designation categorical variables\".format(designation.shape[1])\n",
    "\n",
    "province = ohe_features(wine, \"province\", 50)\n",
    "collist = province.columns.tolist()\n",
    "collist = [\"province_\" + s for s in collist]\n",
    "province.columns = collist\n",
    "print \"There are {} province categorical variables\".format(province.shape[1])\n",
    "\n",
    "region = ohe_features(wine, \"region_1\", 50)\n",
    "collist = region.columns.tolist()\n",
    "collist = [\"region_\" + s for s in collist]\n",
    "region.columns = collist\n",
    "print \"There are {} region categorical variables\".format(region.shape[1])\n",
    "\n",
    "variety = ohe_features(wine, \"variety\", 50)\n",
    "collist = variety.columns.tolist()\n",
    "collist = [\"variety_\" + s for s in collist]\n",
    "variety.columns = collist\n",
    "print \"There are {} variety categorical variables\".format(variety.shape[1])\n",
    "\n",
    "winery = ohe_features(wine, \"winery\", 50)\n",
    "collist = winery.columns.tolist()\n",
    "collist = [\"winery_\" + s for s in collist]\n",
    "winery.columns = collist\n",
    "print \"There are {} winery categorical variables\".format(winery.shape[1])"
   ]
  },
  {
   "cell_type": "code",
   "execution_count": 7,
   "metadata": {},
   "outputs": [],
   "source": [
    "def make_lower_case(text):\n",
    "    return text.lower()\n",
    "\n",
    "def remove_punctuation(text):\n",
    "    tokenizer = RegexpTokenizer(r'\\w+')\n",
    "    text = tokenizer.tokenize(text)\n",
    "    text = \" \".join(text)\n",
    "    return text"
   ]
  },
  {
   "cell_type": "code",
   "execution_count": 8,
   "metadata": {},
   "outputs": [],
   "source": [
    "wine[\"description\"] = wine[\"description\"].str.replace('\\d+', '')\n",
    "wine[\"description\"] = wine.description.apply(func=remove_punctuation)\n",
    "wine[\"description\"] = wine.description.apply(func=make_lower_case)"
   ]
  },
  {
   "cell_type": "code",
   "execution_count": 17,
   "metadata": {},
   "outputs": [
    {
     "data": {
      "text/html": [
       "<div>\n",
       "<style scoped>\n",
       "    .dataframe tbody tr th:only-of-type {\n",
       "        vertical-align: middle;\n",
       "    }\n",
       "\n",
       "    .dataframe tbody tr th {\n",
       "        vertical-align: top;\n",
       "    }\n",
       "\n",
       "    .dataframe thead th {\n",
       "        text-align: right;\n",
       "    }\n",
       "</style>\n",
       "<table border=\"1\" class=\"dataframe\">\n",
       "  <thead>\n",
       "    <tr style=\"text-align: right;\">\n",
       "      <th></th>\n",
       "      <th>description_0</th>\n",
       "      <th>description_1</th>\n",
       "      <th>description_2</th>\n",
       "      <th>description_3</th>\n",
       "      <th>description_4</th>\n",
       "      <th>description_5</th>\n",
       "      <th>description_6</th>\n",
       "      <th>description_7</th>\n",
       "      <th>description_8</th>\n",
       "      <th>description_9</th>\n",
       "      <th>...</th>\n",
       "      <th>description_90</th>\n",
       "      <th>description_91</th>\n",
       "      <th>description_92</th>\n",
       "      <th>description_93</th>\n",
       "      <th>description_94</th>\n",
       "      <th>description_95</th>\n",
       "      <th>description_96</th>\n",
       "      <th>description_97</th>\n",
       "      <th>description_98</th>\n",
       "      <th>description_99</th>\n",
       "    </tr>\n",
       "  </thead>\n",
       "  <tbody>\n",
       "    <tr>\n",
       "      <th>0</th>\n",
       "      <td>0.122660</td>\n",
       "      <td>-0.036983</td>\n",
       "      <td>-0.007284</td>\n",
       "      <td>-0.024192</td>\n",
       "      <td>-0.027222</td>\n",
       "      <td>0.005797</td>\n",
       "      <td>-0.037754</td>\n",
       "      <td>-0.007391</td>\n",
       "      <td>-0.046986</td>\n",
       "      <td>-0.003312</td>\n",
       "      <td>...</td>\n",
       "      <td>-0.010851</td>\n",
       "      <td>0.000029</td>\n",
       "      <td>-0.025451</td>\n",
       "      <td>0.001647</td>\n",
       "      <td>0.018548</td>\n",
       "      <td>0.006772</td>\n",
       "      <td>-0.012903</td>\n",
       "      <td>0.012492</td>\n",
       "      <td>0.013815</td>\n",
       "      <td>0.056843</td>\n",
       "    </tr>\n",
       "    <tr>\n",
       "      <th>1</th>\n",
       "      <td>0.135296</td>\n",
       "      <td>-0.041515</td>\n",
       "      <td>0.014830</td>\n",
       "      <td>-0.012616</td>\n",
       "      <td>0.012382</td>\n",
       "      <td>-0.090479</td>\n",
       "      <td>-0.006138</td>\n",
       "      <td>0.013664</td>\n",
       "      <td>0.038706</td>\n",
       "      <td>0.070568</td>\n",
       "      <td>...</td>\n",
       "      <td>-0.034556</td>\n",
       "      <td>0.010683</td>\n",
       "      <td>0.010840</td>\n",
       "      <td>-0.011940</td>\n",
       "      <td>-0.012811</td>\n",
       "      <td>0.025080</td>\n",
       "      <td>-0.004021</td>\n",
       "      <td>0.006161</td>\n",
       "      <td>0.016384</td>\n",
       "      <td>0.001695</td>\n",
       "    </tr>\n",
       "    <tr>\n",
       "      <th>2</th>\n",
       "      <td>0.077102</td>\n",
       "      <td>0.047119</td>\n",
       "      <td>-0.015741</td>\n",
       "      <td>-0.006972</td>\n",
       "      <td>0.012452</td>\n",
       "      <td>-0.025588</td>\n",
       "      <td>-0.018720</td>\n",
       "      <td>-0.029230</td>\n",
       "      <td>0.027470</td>\n",
       "      <td>-0.008500</td>\n",
       "      <td>...</td>\n",
       "      <td>0.044965</td>\n",
       "      <td>-0.038251</td>\n",
       "      <td>0.014865</td>\n",
       "      <td>0.008651</td>\n",
       "      <td>0.022634</td>\n",
       "      <td>0.014754</td>\n",
       "      <td>-0.011775</td>\n",
       "      <td>0.040749</td>\n",
       "      <td>-0.039756</td>\n",
       "      <td>0.007320</td>\n",
       "    </tr>\n",
       "    <tr>\n",
       "      <th>3</th>\n",
       "      <td>0.147136</td>\n",
       "      <td>-0.097177</td>\n",
       "      <td>0.031979</td>\n",
       "      <td>-0.001600</td>\n",
       "      <td>0.030316</td>\n",
       "      <td>-0.088576</td>\n",
       "      <td>-0.068348</td>\n",
       "      <td>-0.021176</td>\n",
       "      <td>-0.002156</td>\n",
       "      <td>0.008241</td>\n",
       "      <td>...</td>\n",
       "      <td>-0.052508</td>\n",
       "      <td>-0.008126</td>\n",
       "      <td>0.046214</td>\n",
       "      <td>0.006872</td>\n",
       "      <td>0.015693</td>\n",
       "      <td>-0.035708</td>\n",
       "      <td>-0.008703</td>\n",
       "      <td>-0.005419</td>\n",
       "      <td>0.020930</td>\n",
       "      <td>-0.004264</td>\n",
       "    </tr>\n",
       "    <tr>\n",
       "      <th>4</th>\n",
       "      <td>0.083745</td>\n",
       "      <td>0.001480</td>\n",
       "      <td>-0.080516</td>\n",
       "      <td>-0.100073</td>\n",
       "      <td>-0.024051</td>\n",
       "      <td>-0.010641</td>\n",
       "      <td>0.002331</td>\n",
       "      <td>-0.012737</td>\n",
       "      <td>-0.015761</td>\n",
       "      <td>-0.016869</td>\n",
       "      <td>...</td>\n",
       "      <td>0.006085</td>\n",
       "      <td>-0.019592</td>\n",
       "      <td>-0.011482</td>\n",
       "      <td>-0.035231</td>\n",
       "      <td>0.005624</td>\n",
       "      <td>0.020817</td>\n",
       "      <td>-0.019387</td>\n",
       "      <td>0.001939</td>\n",
       "      <td>0.021164</td>\n",
       "      <td>0.007946</td>\n",
       "    </tr>\n",
       "  </tbody>\n",
       "</table>\n",
       "<p>5 rows × 100 columns</p>\n",
       "</div>"
      ],
      "text/plain": [
       "   description_0  description_1  description_2  description_3  description_4  \\\n",
       "0       0.122660      -0.036983      -0.007284      -0.024192      -0.027222   \n",
       "1       0.135296      -0.041515       0.014830      -0.012616       0.012382   \n",
       "2       0.077102       0.047119      -0.015741      -0.006972       0.012452   \n",
       "3       0.147136      -0.097177       0.031979      -0.001600       0.030316   \n",
       "4       0.083745       0.001480      -0.080516      -0.100073      -0.024051   \n",
       "\n",
       "   description_5  description_6  description_7  description_8  description_9  \\\n",
       "0       0.005797      -0.037754      -0.007391      -0.046986      -0.003312   \n",
       "1      -0.090479      -0.006138       0.013664       0.038706       0.070568   \n",
       "2      -0.025588      -0.018720      -0.029230       0.027470      -0.008500   \n",
       "3      -0.088576      -0.068348      -0.021176      -0.002156       0.008241   \n",
       "4      -0.010641       0.002331      -0.012737      -0.015761      -0.016869   \n",
       "\n",
       "        ...        description_90  description_91  description_92  \\\n",
       "0       ...             -0.010851        0.000029       -0.025451   \n",
       "1       ...             -0.034556        0.010683        0.010840   \n",
       "2       ...              0.044965       -0.038251        0.014865   \n",
       "3       ...             -0.052508       -0.008126        0.046214   \n",
       "4       ...              0.006085       -0.019592       -0.011482   \n",
       "\n",
       "   description_93  description_94  description_95  description_96  \\\n",
       "0        0.001647        0.018548        0.006772       -0.012903   \n",
       "1       -0.011940       -0.012811        0.025080       -0.004021   \n",
       "2        0.008651        0.022634        0.014754       -0.011775   \n",
       "3        0.006872        0.015693       -0.035708       -0.008703   \n",
       "4       -0.035231        0.005624        0.020817       -0.019387   \n",
       "\n",
       "   description_97  description_98  description_99  \n",
       "0        0.012492        0.013815        0.056843  \n",
       "1        0.006161        0.016384        0.001695  \n",
       "2        0.040749       -0.039756        0.007320  \n",
       "3       -0.005419        0.020930       -0.004264  \n",
       "4        0.001939        0.021164        0.007946  \n",
       "\n",
       "[5 rows x 100 columns]"
      ]
     },
     "execution_count": 17,
     "metadata": {},
     "output_type": "execute_result"
    }
   ],
   "source": [
    "tf = TfidfVectorizer(analyzer='word', \n",
    "                     min_df=10,\n",
    "                     ngram_range=(1, 2),\n",
    "                     stop_words='english')\n",
    "svd = TruncatedSVD(n_components=100)\n",
    "\n",
    "#Fit tfidf and svd, and transform training data\n",
    "tfidf_matrix = tf.fit_transform(wine.description)\n",
    "lsa_features = pd.DataFrame(svd.fit_transform(tfidf_matrix))\n",
    "collist = map(str, range(0, 100))\n",
    "collist = [\"description_\" + s for s in collist]\n",
    "lsa_features.columns = collist\n",
    "lsa_features.head()"
   ]
  },
  {
   "cell_type": "code",
   "execution_count": 19,
   "metadata": {},
   "outputs": [
    {
     "name": "stdout",
     "output_type": "stream",
     "text": [
      "(137235, 1113)\n",
      "(137235,)\n"
     ]
    }
   ],
   "source": [
    "X = pd.concat([country, designation, region, variety, winery, lsa_features, wine[\"points\"]], sort=False, axis=1)\n",
    "y = wine[\"price\"]\n",
    "print X.shape\n",
    "print y.shape"
   ]
  },
  {
   "cell_type": "markdown",
   "metadata": {},
   "source": [
    "# Test Train Split"
   ]
  },
  {
   "cell_type": "code",
   "execution_count": 20,
   "metadata": {},
   "outputs": [
    {
     "name": "stdout",
     "output_type": "stream",
     "text": [
      "96064 training observations\n",
      "41171 testing observations\n"
     ]
    }
   ],
   "source": [
    "X_train, X_test, y_train, y_test = train_test_split(X, \n",
    "                                                    y, \n",
    "                                                    test_size=0.3)\n",
    "\n",
    "print \"{} training observations\".format(X_train.shape[0])\n",
    "print \"{} testing observations\".format(X_test.shape[0])"
   ]
  },
  {
   "cell_type": "markdown",
   "metadata": {},
   "source": [
    "# XGBoost Classification"
   ]
  },
  {
   "cell_type": "code",
   "execution_count": 21,
   "metadata": {},
   "outputs": [],
   "source": [
    "import xgboost as xgb"
   ]
  },
  {
   "cell_type": "code",
   "execution_count": 22,
   "metadata": {},
   "outputs": [],
   "source": [
    "dtrain = xgb.DMatrix(X_train, label=y_train)\n",
    "dtest = xgb.DMatrix(X_test, label=y_test)"
   ]
  },
  {
   "cell_type": "code",
   "execution_count": 36,
   "metadata": {},
   "outputs": [],
   "source": [
    "param = {'max_depth': 3, 'eta': 1, 'subsample':0.5, 'alpha':1}\n",
    "param['nthread'] = 4\n",
    "param['eval_metric'] = 'mae'\n",
    "param['objective'] = 'reg:linear'\n",
    "param['silent'] = 1\n",
    "evallist = [(dtest, 'eval'), (dtrain, 'train')]"
   ]
  },
  {
   "cell_type": "code",
   "execution_count": 37,
   "metadata": {},
   "outputs": [
    {
     "name": "stdout",
     "output_type": "stream",
     "text": [
      "[0]\teval-mae:14.4864\ttrain-mae:14.5674\n",
      "Multiple eval metrics have been passed: 'train-mae' will be used for early stopping.\n",
      "\n",
      "Will train until train-mae hasn't improved in 10 rounds.\n",
      "[1]\teval-mae:14.2162\ttrain-mae:14.2233\n",
      "[2]\teval-mae:13.9898\ttrain-mae:13.9837\n",
      "[3]\teval-mae:13.668\ttrain-mae:13.6292\n",
      "[4]\teval-mae:13.5203\ttrain-mae:13.46\n",
      "[5]\teval-mae:13.49\ttrain-mae:13.402\n",
      "[6]\teval-mae:13.4591\ttrain-mae:13.3308\n",
      "[7]\teval-mae:13.3516\ttrain-mae:13.2379\n",
      "[8]\teval-mae:13.3529\ttrain-mae:13.2312\n",
      "[9]\teval-mae:13.2492\ttrain-mae:13.1118\n"
     ]
    }
   ],
   "source": [
    "num_round = 10\n",
    "bst = xgb.train(param, dtrain, num_round, evallist, early_stopping_rounds=10)"
   ]
  },
  {
   "cell_type": "code",
   "execution_count": 38,
   "metadata": {},
   "outputs": [
    {
     "data": {
      "text/html": [
       "<div>\n",
       "<style scoped>\n",
       "    .dataframe tbody tr th:only-of-type {\n",
       "        vertical-align: middle;\n",
       "    }\n",
       "\n",
       "    .dataframe tbody tr th {\n",
       "        vertical-align: top;\n",
       "    }\n",
       "\n",
       "    .dataframe thead th {\n",
       "        text-align: right;\n",
       "    }\n",
       "</style>\n",
       "<table border=\"1\" class=\"dataframe\">\n",
       "  <thead>\n",
       "    <tr style=\"text-align: right;\">\n",
       "      <th></th>\n",
       "      <th>price</th>\n",
       "      <th>prediction</th>\n",
       "    </tr>\n",
       "  </thead>\n",
       "  <tbody>\n",
       "    <tr>\n",
       "      <th>9512</th>\n",
       "      <td>23.0</td>\n",
       "      <td>33.0</td>\n",
       "    </tr>\n",
       "    <tr>\n",
       "      <th>59853</th>\n",
       "      <td>30.0</td>\n",
       "      <td>56.0</td>\n",
       "    </tr>\n",
       "    <tr>\n",
       "      <th>30328</th>\n",
       "      <td>44.0</td>\n",
       "      <td>58.0</td>\n",
       "    </tr>\n",
       "    <tr>\n",
       "      <th>67208</th>\n",
       "      <td>30.0</td>\n",
       "      <td>14.0</td>\n",
       "    </tr>\n",
       "    <tr>\n",
       "      <th>77550</th>\n",
       "      <td>45.0</td>\n",
       "      <td>70.0</td>\n",
       "    </tr>\n",
       "  </tbody>\n",
       "</table>\n",
       "</div>"
      ],
      "text/plain": [
       "       price  prediction\n",
       "9512    23.0        33.0\n",
       "59853   30.0        56.0\n",
       "30328   44.0        58.0\n",
       "67208   30.0        14.0\n",
       "77550   45.0        70.0"
      ]
     },
     "execution_count": 38,
     "metadata": {},
     "output_type": "execute_result"
    }
   ],
   "source": [
    "pred = pd.DataFrame(y_test.copy())\n",
    "pred[\"prediction\"] = bst.predict(dtest, ntree_limit=bst.best_ntree_limit)\n",
    "pred[\"prediction\"] = np.round(pred[\"prediction\"],0)\n",
    "pred.sample(5)"
   ]
  },
  {
   "cell_type": "code",
   "execution_count": 41,
   "metadata": {},
   "outputs": [
    {
     "name": "stdout",
     "output_type": "stream",
     "text": [
      "Mean Absolute Error: $13.25\n",
      "Median Absolute Error: $8.0\n"
     ]
    }
   ],
   "source": [
    "from sklearn.metrics import median_absolute_error, mean_absolute_error\n",
    "mean_ae = np.round(mean_absolute_error(y_true=pred[\"price\"], y_pred=pred[\"prediction\"]),2)\n",
    "median_ae = np.round(median_absolute_error(y_true=pred[\"price\"], y_pred=pred[\"prediction\"]),2)\n",
    "print \"Mean Absolute Error: ${}\".format(mean_ae)\n",
    "print \"Median Absolute Error: ${}\".format(median_ae)"
   ]
  },
  {
   "cell_type": "code",
   "execution_count": 54,
   "metadata": {},
   "outputs": [
    {
     "data": {
      "text/plain": [
       "<matplotlib.axes._subplots.AxesSubplot at 0x136e4ee50>"
      ]
     },
     "execution_count": 54,
     "metadata": {},
     "output_type": "execute_result"
    },
    {
     "data": {
      "image/png": "[encoded data removed]",
      "text/plain": [
       "<matplotlib.figure.Figure at 0x13636bc50>"
      ]
     },
     "metadata": {
      "needs_background": "light"
     },
     "output_type": "display_data"
    }
   ],
   "source": [
    "xgb.plot_importance(bst,max_num_features=15)"
   ]
  },
  {
   "cell_type": "code",
   "execution_count": 53,
   "metadata": {},
   "outputs": [
    {
     "data": {
      "image/svg+xml": [
       "<?xml version=\"1.0\" encoding=\"UTF-8\" standalone=\"no\"?>\n",
       "<!DOCTYPE svg PUBLIC \"-//W3C//DTD SVG 1.1//EN\"\n",
       " \"http://www.w3.org/Graphics/SVG/1.1/DTD/svg11.dtd\">\n",
       "<!-- Generated by graphviz version 2.40.1 (20161225.0304)\n",
       " -->\n",
       "<!-- Title: %3 Pages: 1 -->\n",
       "<svg width=\"1016pt\" height=\"613pt\"\n",
       " viewBox=\"0.00 0.00 1015.88 613.24\" xmlns=\"http://www.w3.org/2000/svg\" xmlns:xlink=\"http://www.w3.org/1999/xlink\">\n",
       "<g id=\"graph0\" class=\"graph\" transform=\"scale(1 1) rotate(0) translate(4 609.2417)\">\n",
       "<title>%3</title>\n",
       "<polygon fill=\"#ffffff\" stroke=\"transparent\" points=\"-4,4 -4,-609.2417 1011.875,-609.2417 1011.875,4 -4,4\"/>\n",
       "<!-- 0 -->\n",
       "<g id=\"node1\" class=\"node\">\n",
       "<title>0</title>\n",
       "<ellipse fill=\"none\" stroke=\"#000000\" cx=\"476.1875\" cy=\"-559.6833\" rx=\"45.6169\" ry=\"45.6169\"/>\n",
       "<text text-anchor=\"middle\" x=\"476.1875\" y=\"-555.4833\" font-family=\"Times,serif\" font-size=\"14.00\" fill=\"#000000\">points&lt;93</text>\n",
       "</g>\n",
       "<!-- 1 -->\n",
       "<g id=\"node2\" class=\"node\">\n",
       "<title>1</title>\n",
       "<ellipse fill=\"none\" stroke=\"#000000\" cx=\"374.1875\" cy=\"-418.5665\" rx=\"45.6169\" ry=\"45.6169\"/>\n",
       "<text text-anchor=\"middle\" x=\"374.1875\" y=\"-414.3665\" font-family=\"Times,serif\" font-size=\"14.00\" fill=\"#000000\">points&lt;89</text>\n",
       "</g>\n",
       "<!-- 0&#45;&gt;1 -->\n",
       "<g id=\"edge1\" class=\"edge\">\n",
       "<title>0&#45;&gt;1</title>\n",
       "<path fill=\"none\" stroke=\"#0000ff\" d=\"M449.3882,-522.6066C436.4313,-504.6807 420.7614,-483.0014 407.0865,-464.0823\"/>\n",
       "<polygon fill=\"#0000ff\" stroke=\"#0000ff\" points=\"409.8566,-461.9399 401.162,-455.8856 404.1834,-466.0405 409.8566,-461.9399\"/>\n",
       "<text text-anchor=\"middle\" x=\"463.8013\" y=\"-484.9249\" font-family=\"Times,serif\" font-size=\"14.00\" fill=\"#000000\">yes, missing</text>\n",
       "</g>\n",
       "<!-- 2 -->\n",
       "<g id=\"node3\" class=\"node\">\n",
       "<title>2</title>\n",
       "<ellipse fill=\"none\" stroke=\"#000000\" cx=\"606.1875\" cy=\"-418.5665\" rx=\"45.6169\" ry=\"45.6169\"/>\n",
       "<text text-anchor=\"middle\" x=\"606.1875\" y=\"-414.3665\" font-family=\"Times,serif\" font-size=\"14.00\" fill=\"#000000\">points&lt;97</text>\n",
       "</g>\n",
       "<!-- 0&#45;&gt;2 -->\n",
       "<g id=\"edge2\" class=\"edge\">\n",
       "<title>0&#45;&gt;2</title>\n",
       "<path fill=\"none\" stroke=\"#ff0000\" d=\"M507.3257,-525.8823C525.6564,-505.9842 548.9718,-480.675 568.3561,-459.633\"/>\n",
       "<polygon fill=\"#ff0000\" stroke=\"#ff0000\" points=\"571.1021,-461.818 575.3033,-452.0917 565.9537,-457.0751 571.1021,-461.818\"/>\n",
       "<text text-anchor=\"middle\" x=\"552.1875\" y=\"-484.9249\" font-family=\"Times,serif\" font-size=\"14.00\" fill=\"#000000\">no</text>\n",
       "</g>\n",
       "<!-- 3 -->\n",
       "<g id=\"node4\" class=\"node\">\n",
       "<title>3</title>\n",
       "<ellipse fill=\"none\" stroke=\"#000000\" cx=\"178.1875\" cy=\"-204.5041\" rx=\"118.5081\" ry=\"118.5081\"/>\n",
       "<text text-anchor=\"middle\" x=\"178.1875\" y=\"-200.3041\" font-family=\"Times,serif\" font-size=\"14.00\" fill=\"#000000\">description_1&lt;0.00570548512</text>\n",
       "</g>\n",
       "<!-- 1&#45;&gt;3 -->\n",
       "<g id=\"edge3\" class=\"edge\">\n",
       "<title>1&#45;&gt;3</title>\n",
       "<path fill=\"none\" stroke=\"#0000ff\" d=\"M338.4357,-389.6706C326.143,-379.1868 312.5629,-366.9712 300.96,-355.0081 286.1999,-339.79 271.2848,-322.9691 257.181,-306.2506\"/>\n",
       "<polygon fill=\"#0000ff\" stroke=\"#0000ff\" points=\"259.8643,-304.0034 250.7614,-298.5825 254.4969,-308.4969 259.8643,-304.0034\"/>\n",
       "<text text-anchor=\"middle\" x=\"335.8013\" y=\"-343.8081\" font-family=\"Times,serif\" font-size=\"14.00\" fill=\"#000000\">yes, missing</text>\n",
       "</g>\n",
       "<!-- 4 -->\n",
       "<g id=\"node5\" class=\"node\">\n",
       "<title>4</title>\n",
       "<ellipse fill=\"none\" stroke=\"#000000\" cx=\"374.1875\" cy=\"-204.5041\" rx=\"45.6169\" ry=\"45.6169\"/>\n",
       "<text text-anchor=\"middle\" x=\"374.1875\" y=\"-200.3041\" font-family=\"Times,serif\" font-size=\"14.00\" fill=\"#000000\">points&lt;91</text>\n",
       "</g>\n",
       "<!-- 1&#45;&gt;4 -->\n",
       "<g id=\"edge4\" class=\"edge\">\n",
       "<title>1&#45;&gt;4</title>\n",
       "<path fill=\"none\" stroke=\"#ff0000\" d=\"M374.1875,-372.9073C374.1875,-339.939 374.1875,-295.2371 374.1875,-260.1742\"/>\n",
       "<polygon fill=\"#ff0000\" stroke=\"#ff0000\" points=\"377.6876,-260.0931 374.1875,-250.0931 370.6876,-260.0931 377.6876,-260.0931\"/>\n",
       "<text text-anchor=\"middle\" x=\"381.1875\" y=\"-343.8081\" font-family=\"Times,serif\" font-size=\"14.00\" fill=\"#000000\">no</text>\n",
       "</g>\n",
       "<!-- 5 -->\n",
       "<g id=\"node10\" class=\"node\">\n",
       "<title>5</title>\n",
       "<ellipse fill=\"none\" stroke=\"#000000\" cx=\"606.1875\" cy=\"-204.5041\" rx=\"62.0139\" ry=\"62.0139\"/>\n",
       "<text text-anchor=\"middle\" x=\"606.1875\" y=\"-200.3041\" font-family=\"Times,serif\" font-size=\"14.00\" fill=\"#000000\">country_US&lt;1</text>\n",
       "</g>\n",
       "<!-- 2&#45;&gt;5 -->\n",
       "<g id=\"edge9\" class=\"edge\">\n",
       "<title>2&#45;&gt;5</title>\n",
       "<path fill=\"none\" stroke=\"#0000ff\" d=\"M606.1875,-372.9073C606.1875,-345.0971 606.1875,-308.9376 606.1875,-277.2576\"/>\n",
       "<polygon fill=\"#0000ff\" stroke=\"#0000ff\" points=\"609.6876,-277.1455 606.1875,-267.1455 602.6876,-277.1455 609.6876,-277.1455\"/>\n",
       "<text text-anchor=\"middle\" x=\"640.8013\" y=\"-343.8081\" font-family=\"Times,serif\" font-size=\"14.00\" fill=\"#000000\">yes, missing</text>\n",
       "</g>\n",
       "<!-- 6 -->\n",
       "<g id=\"node11\" class=\"node\">\n",
       "<title>6</title>\n",
       "<ellipse fill=\"none\" stroke=\"#000000\" cx=\"823.1875\" cy=\"-204.5041\" rx=\"75.0243\" ry=\"75.0243\"/>\n",
       "<text text-anchor=\"middle\" x=\"823.1875\" y=\"-200.3041\" font-family=\"Times,serif\" font-size=\"14.00\" fill=\"#000000\">country_France&lt;1</text>\n",
       "</g>\n",
       "<!-- 2&#45;&gt;6 -->\n",
       "<g id=\"edge10\" class=\"edge\">\n",
       "<title>2&#45;&gt;6</title>\n",
       "<path fill=\"none\" stroke=\"#ff0000\" d=\"M641.2984,-389.1302C653.5069,-378.5994 667.1511,-366.4923 679.1875,-355.0081 708.3644,-327.1698 739.4466,-295.0259 765.2376,-267.6099\"/>\n",
       "<polygon fill=\"#ff0000\" stroke=\"#ff0000\" points=\"768.0775,-269.6983 772.3657,-260.0101 762.9718,-264.9095 768.0775,-269.6983\"/>\n",
       "<text text-anchor=\"middle\" x=\"699.1875\" y=\"-343.8081\" font-family=\"Times,serif\" font-size=\"14.00\" fill=\"#000000\">no</text>\n",
       "</g>\n",
       "<!-- 7 -->\n",
       "<g id=\"node6\" class=\"node\">\n",
       "<title>7</title>\n",
       "<polygon fill=\"none\" stroke=\"#000000\" points=\"104.5632,-36 -.1882,-36 -.1882,0 104.5632,0 104.5632,-36\"/>\n",
       "<text text-anchor=\"middle\" x=\"52.1875\" y=\"-13.8\" font-family=\"Times,serif\" font-size=\"14.00\" fill=\"#000000\">leaf=25.557951</text>\n",
       "</g>\n",
       "<!-- 3&#45;&gt;7 -->\n",
       "<g id=\"edge5\" class=\"edge\">\n",
       "<title>3&#45;&gt;7</title>\n",
       "<path fill=\"none\" stroke=\"#0000ff\" d=\"M111.6823,-106.0636C96.4082,-83.4551 81.4098,-61.2545 70.293,-44.7996\"/>\n",
       "<polygon fill=\"#0000ff\" stroke=\"#0000ff\" points=\"73.0376,-42.6099 64.5393,-36.283 67.2372,-46.5286 73.0376,-42.6099\"/>\n",
       "<text text-anchor=\"middle\" x=\"117.8013\" y=\"-56.8\" font-family=\"Times,serif\" font-size=\"14.00\" fill=\"#000000\">yes, missing</text>\n",
       "</g>\n",
       "<!-- 8 -->\n",
       "<g id=\"node7\" class=\"node\">\n",
       "<title>8</title>\n",
       "<polygon fill=\"none\" stroke=\"#000000\" points=\"234.0631,-36 122.3119,-36 122.3119,0 234.0631,0 234.0631,-36\"/>\n",
       "<text text-anchor=\"middle\" x=\"178.1875\" y=\"-13.8\" font-family=\"Times,serif\" font-size=\"14.00\" fill=\"#000000\">leaf=18.5392399</text>\n",
       "</g>\n",
       "<!-- 3&#45;&gt;8 -->\n",
       "<g id=\"edge6\" class=\"edge\">\n",
       "<title>3&#45;&gt;8</title>\n",
       "<path fill=\"none\" stroke=\"#ff0000\" d=\"M178.1875,-85.8598C178.1875,-71.312 178.1875,-57.6566 178.1875,-46.4635\"/>\n",
       "<polygon fill=\"#ff0000\" stroke=\"#ff0000\" points=\"181.6876,-46.1492 178.1875,-36.1492 174.6876,-46.1492 181.6876,-46.1492\"/>\n",
       "<text text-anchor=\"middle\" x=\"185.1875\" y=\"-56.8\" font-family=\"Times,serif\" font-size=\"14.00\" fill=\"#000000\">no</text>\n",
       "</g>\n",
       "<!-- 9 -->\n",
       "<g id=\"node8\" class=\"node\">\n",
       "<title>9</title>\n",
       "<polygon fill=\"none\" stroke=\"#000000\" points=\"363.0631,-36 251.3119,-36 251.3119,0 363.0631,0 363.0631,-36\"/>\n",
       "<text text-anchor=\"middle\" x=\"307.1875\" y=\"-13.8\" font-family=\"Times,serif\" font-size=\"14.00\" fill=\"#000000\">leaf=34.7852364</text>\n",
       "</g>\n",
       "<!-- 4&#45;&gt;9 -->\n",
       "<g id=\"edge7\" class=\"edge\">\n",
       "<title>4&#45;&gt;9</title>\n",
       "<path fill=\"none\" stroke=\"#0000ff\" d=\"M358.6479,-161.2475C345.8669,-125.6697 328.1339,-76.3072 317.174,-45.7988\"/>\n",
       "<polygon fill=\"#0000ff\" stroke=\"#0000ff\" points=\"320.4086,-44.4502 313.7337,-36.2224 313.8208,-46.8169 320.4086,-44.4502\"/>\n",
       "<text text-anchor=\"middle\" x=\"358.8013\" y=\"-56.8\" font-family=\"Times,serif\" font-size=\"14.00\" fill=\"#000000\">yes, missing</text>\n",
       "</g>\n",
       "<!-- 10 -->\n",
       "<g id=\"node9\" class=\"node\">\n",
       "<title>10</title>\n",
       "<polygon fill=\"none\" stroke=\"#000000\" points=\"492.0631,-36 380.3119,-36 380.3119,0 492.0631,0 492.0631,-36\"/>\n",
       "<text text-anchor=\"middle\" x=\"436.1875\" y=\"-13.8\" font-family=\"Times,serif\" font-size=\"14.00\" fill=\"#000000\">leaf=47.2230148</text>\n",
       "</g>\n",
       "<!-- 4&#45;&gt;10 -->\n",
       "<g id=\"edge8\" class=\"edge\">\n",
       "<title>4&#45;&gt;10</title>\n",
       "<path fill=\"none\" stroke=\"#ff0000\" d=\"M388.5674,-161.2475C400.3946,-125.6697 416.8043,-76.3072 426.9463,-45.7988\"/>\n",
       "<polygon fill=\"#ff0000\" stroke=\"#ff0000\" points=\"430.2964,-46.8159 430.1298,-36.2224 423.6539,-44.6076 430.2964,-46.8159\"/>\n",
       "<text text-anchor=\"middle\" x=\"430.1875\" y=\"-56.8\" font-family=\"Times,serif\" font-size=\"14.00\" fill=\"#000000\">no</text>\n",
       "</g>\n",
       "<!-- 11 -->\n",
       "<g id=\"node12\" class=\"node\">\n",
       "<title>11</title>\n",
       "<polygon fill=\"none\" stroke=\"#000000\" points=\"621.0631,-36 509.3119,-36 509.3119,0 621.0631,0 621.0631,-36\"/>\n",
       "<text text-anchor=\"middle\" x=\"565.1875\" y=\"-13.8\" font-family=\"Times,serif\" font-size=\"14.00\" fill=\"#000000\">leaf=102.153107</text>\n",
       "</g>\n",
       "<!-- 5&#45;&gt;11 -->\n",
       "<g id=\"edge11\" class=\"edge\">\n",
       "<title>5&#45;&gt;11</title>\n",
       "<path fill=\"none\" stroke=\"#0000ff\" d=\"M592.8193,-143.6937C585.5897,-110.8072 577.0082,-71.7712 571.3483,-46.0247\"/>\n",
       "<polygon fill=\"#0000ff\" stroke=\"#0000ff\" points=\"574.7519,-45.2057 569.1864,-36.1904 567.9152,-46.7087 574.7519,-45.2057\"/>\n",
       "<text text-anchor=\"middle\" x=\"609.8013\" y=\"-56.8\" font-family=\"Times,serif\" font-size=\"14.00\" fill=\"#000000\">yes, missing</text>\n",
       "</g>\n",
       "<!-- 12 -->\n",
       "<g id=\"node13\" class=\"node\">\n",
       "<title>12</title>\n",
       "<polygon fill=\"none\" stroke=\"#000000\" points=\"750.0631,-36 638.3119,-36 638.3119,0 750.0631,0 750.0631,-36\"/>\n",
       "<text text-anchor=\"middle\" x=\"694.1875\" y=\"-13.8\" font-family=\"Times,serif\" font-size=\"14.00\" fill=\"#000000\">leaf=61.7502518</text>\n",
       "</g>\n",
       "<!-- 5&#45;&gt;12 -->\n",
       "<g id=\"edge12\" class=\"edge\">\n",
       "<title>5&#45;&gt;12</title>\n",
       "<path fill=\"none\" stroke=\"#ff0000\" d=\"M632.8292,-148.0406C648.8685,-114.0474 668.5728,-72.2869 681.252,-45.4149\"/>\n",
       "<polygon fill=\"#ff0000\" stroke=\"#ff0000\" points=\"684.4837,-46.7677 685.5857,-36.2304 678.1531,-43.7806 684.4837,-46.7677\"/>\n",
       "<text text-anchor=\"middle\" x=\"682.1875\" y=\"-56.8\" font-family=\"Times,serif\" font-size=\"14.00\" fill=\"#000000\">no</text>\n",
       "</g>\n",
       "<!-- 13 -->\n",
       "<g id=\"node14\" class=\"node\">\n",
       "<title>13</title>\n",
       "<polygon fill=\"none\" stroke=\"#000000\" points=\"879.0631,-36 767.3119,-36 767.3119,0 879.0631,0 879.0631,-36\"/>\n",
       "<text text-anchor=\"middle\" x=\"823.1875\" y=\"-13.8\" font-family=\"Times,serif\" font-size=\"14.00\" fill=\"#000000\">leaf=147.848007</text>\n",
       "</g>\n",
       "<!-- 6&#45;&gt;13 -->\n",
       "<g id=\"edge13\" class=\"edge\">\n",
       "<title>6&#45;&gt;13</title>\n",
       "<path fill=\"none\" stroke=\"#0000ff\" d=\"M823.1875,-129.4519C823.1875,-100.0507 823.1875,-68.1381 823.1875,-46.0266\"/>\n",
       "<polygon fill=\"#0000ff\" stroke=\"#0000ff\" points=\"826.6876,-46.0131 823.1875,-36.0131 819.6876,-46.0132 826.6876,-46.0131\"/>\n",
       "<text text-anchor=\"middle\" x=\"857.8013\" y=\"-56.8\" font-family=\"Times,serif\" font-size=\"14.00\" fill=\"#000000\">yes, missing</text>\n",
       "</g>\n",
       "<!-- 14 -->\n",
       "<g id=\"node15\" class=\"node\">\n",
       "<title>14</title>\n",
       "<polygon fill=\"none\" stroke=\"#000000\" points=\"1008.0631,-36 896.3119,-36 896.3119,0 1008.0631,0 1008.0631,-36\"/>\n",
       "<text text-anchor=\"middle\" x=\"952.1875\" y=\"-13.8\" font-family=\"Times,serif\" font-size=\"14.00\" fill=\"#000000\">leaf=401.878052</text>\n",
       "</g>\n",
       "<!-- 6&#45;&gt;14 -->\n",
       "<g id=\"edge14\" class=\"edge\">\n",
       "<title>6&#45;&gt;14</title>\n",
       "<path fill=\"none\" stroke=\"#ff0000\" d=\"M865.9635,-142.66C888.9256,-109.4621 916.0467,-70.2512 933.6543,-44.7947\"/>\n",
       "<polygon fill=\"#ff0000\" stroke=\"#ff0000\" points=\"936.653,-46.6119 939.4631,-36.3965 930.896,-42.6298 936.653,-46.6119\"/>\n",
       "<text text-anchor=\"middle\" x=\"931.1875\" y=\"-56.8\" font-family=\"Times,serif\" font-size=\"14.00\" fill=\"#000000\">no</text>\n",
       "</g>\n",
       "</g>\n",
       "</svg>\n"
      ],
      "text/plain": [
       "<graphviz.dot.Digraph at 0x136e6d550>"
      ]
     },
     "execution_count": 53,
     "metadata": {},
     "output_type": "execute_result"
    }
   ],
   "source": [
    "xgb.to_graphviz(bst, num_trees=0)"
   ]
  },
  {
   "cell_type": "code",
   "execution_count": null,
   "metadata": {},
   "outputs": [],
   "source": []
  }
 ],
 "metadata": {
  "kernelspec": {
   "display_name": "Python 2",
   "language": "python",
   "name": "python2"
  },
  "language_info": {
   "codemirror_mode": {
    "name": "ipython",
    "version": 2
   },
   "file_extension": ".py",
   "mimetype": "text/x-python",
   "name": "python",
   "nbconvert_exporter": "python",
   "pygments_lexer": "ipython2",
   "version": "2.7.15"
  }
 },
 "nbformat": 4,
 "nbformat_minor": 2
}
