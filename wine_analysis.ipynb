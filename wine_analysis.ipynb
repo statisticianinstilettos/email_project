{
 "cells": [
  {
   "cell_type": "markdown",
   "metadata": {},
   "source": [
    "# Gradient Boosting Machines for Wine Points Predictions"
   ]
  },
  {
   "cell_type": "markdown",
   "metadata": {},
   "source": [
    "Wine Spectator's 100-Point Scale\n",
    "\n",
    "95-100 Classic: a great wine.\n",
    "\n",
    "90-94 Outstanding: a wine of superior character and style.\n",
    "\n",
    "85-89 Very good: a wine with special qualities.\n",
    "\n",
    "80-84 Good: a solid, well-made wine.\n",
    "\n",
    "75-79 Mediocre: a drinkable wine that may have minor flaws.\n",
    "\n",
    "50-74 Not recommended."
   ]
  },
  {
   "cell_type": "code",
   "execution_count": null,
   "metadata": {},
   "outputs": [],
   "source": [
    "!pip install xgboost"
   ]
  },
  {
   "cell_type": "code",
   "execution_count": null,
   "metadata": {},
   "outputs": [],
   "source": [
    "!pip install graphviz"
   ]
  },
  {
   "cell_type": "code",
   "execution_count": 1,
   "metadata": {},
   "outputs": [],
   "source": [
    "import pandas as pd\n",
    "import numpy as np\n",
    "from sklearn.model_selection import train_test_split\n",
    "from sklearn.feature_extraction.text import TfidfVectorizer\n",
    "from sklearn.decomposition import TruncatedSVD\n",
    "from nltk.tokenize import RegexpTokenizer\n",
    "import xgboost as xgb\n",
    "\n",
    "import seaborn as sns\n",
    "import matplotlib.pyplot as plt"
   ]
  },
  {
   "cell_type": "code",
   "execution_count": 2,
   "metadata": {},
   "outputs": [
    {
     "data": {
      "text/html": [
       "<style>.container { width:100% !important; }</style>"
      ],
      "text/plain": [
       "<IPython.core.display.HTML object>"
      ]
     },
     "metadata": {},
     "output_type": "display_data"
    }
   ],
   "source": [
    "from IPython.core.display import display, HTML\n",
    "display(HTML(\"<style>.container { width:100% !important; }</style>\"))"
   ]
  },
  {
   "cell_type": "code",
   "execution_count": 3,
   "metadata": {},
   "outputs": [
    {
     "name": "stdout",
     "output_type": "stream",
     "text": [
      "(137235, 10)\n"
     ]
    },
    {
     "data": {
      "text/html": [
       "<div>\n",
       "<style scoped>\n",
       "    .dataframe tbody tr th:only-of-type {\n",
       "        vertical-align: middle;\n",
       "    }\n",
       "\n",
       "    .dataframe tbody tr th {\n",
       "        vertical-align: top;\n",
       "    }\n",
       "\n",
       "    .dataframe thead th {\n",
       "        text-align: right;\n",
       "    }\n",
       "</style>\n",
       "<table border=\"1\" class=\"dataframe\">\n",
       "  <thead>\n",
       "    <tr style=\"text-align: right;\">\n",
       "      <th></th>\n",
       "      <th>country</th>\n",
       "      <th>description</th>\n",
       "      <th>designation</th>\n",
       "      <th>points</th>\n",
       "      <th>price</th>\n",
       "      <th>province</th>\n",
       "      <th>region_1</th>\n",
       "      <th>region_2</th>\n",
       "      <th>variety</th>\n",
       "      <th>winery</th>\n",
       "    </tr>\n",
       "  </thead>\n",
       "  <tbody>\n",
       "    <tr>\n",
       "      <th>0</th>\n",
       "      <td>US</td>\n",
       "      <td>This tremendous 100% varietal wine hails from ...</td>\n",
       "      <td>Martha's Vineyard</td>\n",
       "      <td>96</td>\n",
       "      <td>235.0</td>\n",
       "      <td>California</td>\n",
       "      <td>Napa Valley</td>\n",
       "      <td>Napa</td>\n",
       "      <td>Cabernet Sauvignon</td>\n",
       "      <td>Heitz</td>\n",
       "    </tr>\n",
       "    <tr>\n",
       "      <th>1</th>\n",
       "      <td>Spain</td>\n",
       "      <td>Ripe aromas of fig, blackberry and cassis are ...</td>\n",
       "      <td>Carodorum Selección Especial Reserva</td>\n",
       "      <td>96</td>\n",
       "      <td>110.0</td>\n",
       "      <td>Northern Spain</td>\n",
       "      <td>Toro</td>\n",
       "      <td>NaN</td>\n",
       "      <td>Tinta de Toro</td>\n",
       "      <td>Bodega Carmen Rodríguez</td>\n",
       "    </tr>\n",
       "    <tr>\n",
       "      <th>2</th>\n",
       "      <td>US</td>\n",
       "      <td>Mac Watson honors the memory of a wine once ma...</td>\n",
       "      <td>Special Selected Late Harvest</td>\n",
       "      <td>96</td>\n",
       "      <td>90.0</td>\n",
       "      <td>California</td>\n",
       "      <td>Knights Valley</td>\n",
       "      <td>Sonoma</td>\n",
       "      <td>Sauvignon Blanc</td>\n",
       "      <td>Macauley</td>\n",
       "    </tr>\n",
       "    <tr>\n",
       "      <th>3</th>\n",
       "      <td>US</td>\n",
       "      <td>This spent 20 months in 30% new French oak, an...</td>\n",
       "      <td>Reserve</td>\n",
       "      <td>96</td>\n",
       "      <td>65.0</td>\n",
       "      <td>Oregon</td>\n",
       "      <td>Willamette Valley</td>\n",
       "      <td>Willamette Valley</td>\n",
       "      <td>Pinot Noir</td>\n",
       "      <td>Ponzi</td>\n",
       "    </tr>\n",
       "    <tr>\n",
       "      <th>4</th>\n",
       "      <td>France</td>\n",
       "      <td>This is the top wine from La Bégude, named aft...</td>\n",
       "      <td>La Brûlade</td>\n",
       "      <td>95</td>\n",
       "      <td>66.0</td>\n",
       "      <td>Provence</td>\n",
       "      <td>Bandol</td>\n",
       "      <td>NaN</td>\n",
       "      <td>Provence red blend</td>\n",
       "      <td>Domaine de la Bégude</td>\n",
       "    </tr>\n",
       "  </tbody>\n",
       "</table>\n",
       "</div>"
      ],
      "text/plain": [
       "  country                                        description  \\\n",
       "0      US  This tremendous 100% varietal wine hails from ...   \n",
       "1   Spain  Ripe aromas of fig, blackberry and cassis are ...   \n",
       "2      US  Mac Watson honors the memory of a wine once ma...   \n",
       "3      US  This spent 20 months in 30% new French oak, an...   \n",
       "4  France  This is the top wine from La Bégude, named aft...   \n",
       "\n",
       "                            designation  points  price        province  \\\n",
       "0                     Martha's Vineyard      96  235.0      California   \n",
       "1  Carodorum Selección Especial Reserva      96  110.0  Northern Spain   \n",
       "2         Special Selected Late Harvest      96   90.0      California   \n",
       "3                               Reserve      96   65.0          Oregon   \n",
       "4                            La Brûlade      95   66.0        Provence   \n",
       "\n",
       "            region_1           region_2             variety  \\\n",
       "0        Napa Valley               Napa  Cabernet Sauvignon   \n",
       "1               Toro                NaN       Tinta de Toro   \n",
       "2     Knights Valley             Sonoma     Sauvignon Blanc   \n",
       "3  Willamette Valley  Willamette Valley          Pinot Noir   \n",
       "4             Bandol                NaN  Provence red blend   \n",
       "\n",
       "                    winery  \n",
       "0                    Heitz  \n",
       "1  Bodega Carmen Rodríguez  \n",
       "2                 Macauley  \n",
       "3                    Ponzi  \n",
       "4     Domaine de la Bégude  "
      ]
     },
     "execution_count": 3,
     "metadata": {},
     "output_type": "execute_result"
    }
   ],
   "source": [
    "#Load data\n",
    "wine = pd.read_csv('data/winemag-data_first150k.csv', index_col=0, encoding=\"utf-8\")\n",
    "wine.dropna(subset=[\"price\"], inplace=True)\n",
    "wine.reset_index(inplace=True, drop=True)\n",
    "print(wine.shape)\n",
    "wine.head()"
   ]
  },
  {
   "cell_type": "code",
   "execution_count": 4,
   "metadata": {},
   "outputs": [
    {
     "data": {
      "text/plain": [
       "'This tremendous 100% varietal wine hails from Oakville and was aged over three years in oak. Juicy red-cherry fruit and a compelling hint of caramel greet the palate, framed by elegant, fine tannins and a subtle minty tone in the background. Balanced and rewarding from start to finish, it has years ahead of it to develop further nuance. Enjoy 2022–2030.'"
      ]
     },
     "execution_count": 4,
     "metadata": {},
     "output_type": "execute_result"
    }
   ],
   "source": [
    "wine[\"description\"][0]"
   ]
  },
  {
   "cell_type": "code",
   "execution_count": 5,
   "metadata": {},
   "outputs": [
    {
     "name": "stdout",
     "output_type": "stream",
     "text": [
      "100\n",
      "80\n"
     ]
    }
   ],
   "source": [
    "print(wine.points.max())\n",
    "print(wine.points.min())"
   ]
  },
  {
   "cell_type": "code",
   "execution_count": 6,
   "metadata": {},
   "outputs": [
    {
     "name": "stdout",
     "output_type": "stream",
     "text": [
      "min points 80\n",
      "max points100\n"
     ]
    },
    {
     "name": "stderr",
     "output_type": "stream",
     "text": [
      "/home/ec2-user/anaconda3/envs/python3/lib/python3.6/site-packages/matplotlib/axes/_axes.py:6462: UserWarning: The 'normed' kwarg is deprecated, and has been replaced by the 'density' kwarg.\n",
      "  warnings.warn(\"The 'normed' kwarg is deprecated, and has been \"\n"
     ]
    },
    {
     "data": {
      "image/png": "[encoded data removed]",
      "text/plain": [
       "<Figure size 432x288 with 1 Axes>"
      ]
     },
     "metadata": {},
     "output_type": "display_data"
    }
   ],
   "source": [
    "print(\"min points {}\".format(wine.points.min()))\n",
    "print(\"max points{}\".format(wine.points.max()))\n",
    "\n",
    "sns.distplot(wine.points, bins=20, kde=False)\n",
    "plt.show()"
   ]
  },
  {
   "cell_type": "markdown",
   "metadata": {},
   "source": [
    "# Feature Engineering"
   ]
  },
  {
   "cell_type": "code",
   "execution_count": 7,
   "metadata": {},
   "outputs": [],
   "source": [
    "def ohe_features(df, feature, occurances):\n",
    "    '''\n",
    "    df: pandas data frame with feature to be encoded\n",
    "    feature: str. feature name\n",
    "    occurances: number of occurances to threshold feature at\n",
    "    '''\n",
    "    vc = df[feature].value_counts()\n",
    "    keep_values = vc[vc > occurances].index.tolist()\n",
    "    ohe_feature = pd.get_dummies(df[feature])\n",
    "\n",
    "    feature_names = ohe_feature.columns\n",
    "    keep_features = feature_names[feature_names.isin(keep_values)]\n",
    "    return ohe_feature[keep_features]\n",
    "\n",
    "def make_lower_case(text):\n",
    "    return text.lower()\n",
    "\n",
    "def remove_punctuation(text):\n",
    "    tokenizer = RegexpTokenizer(r'\\w+')\n",
    "    text = tokenizer.tokenize(text)\n",
    "    text = \" \".join(text)\n",
    "    return text"
   ]
  },
  {
   "cell_type": "code",
   "execution_count": 8,
   "metadata": {},
   "outputs": [
    {
     "name": "stdout",
     "output_type": "stream",
     "text": [
      "There are 46 country categorical variables\n",
      "There are 71 designation categorical variables\n",
      "There are 113 province categorical variables\n",
      "There are 308 region categorical variables\n",
      "There are 133 variety categorical variables\n",
      "There are 454 winery categorical variables\n"
     ]
    }
   ],
   "source": [
    "country = pd.get_dummies(wine.country)\n",
    "collist = country.columns.tolist()\n",
    "collist = [\"country_\" + s for s in collist]\n",
    "country.columns = collist\n",
    "print (\"There are {} country categorical variables\".format(country.shape[1]))\n",
    "\n",
    "designation = ohe_features(wine, \"designation\", 50)\n",
    "collist = designation.columns.tolist()\n",
    "collist = [\"designation_\" + s for s in collist]\n",
    "designation.columns = collist\n",
    "print (\"There are {} designation categorical variables\".format(designation.shape[1]))\n",
    "\n",
    "province = ohe_features(wine, \"province\", 50)\n",
    "collist = province.columns.tolist()\n",
    "collist = [\"province_\" + s for s in collist]\n",
    "province.columns = collist\n",
    "print (\"There are {} province categorical variables\".format(province.shape[1]))\n",
    "\n",
    "region = ohe_features(wine, \"region_1\", 50)\n",
    "collist = region.columns.tolist()\n",
    "collist = [\"region_\" + s for s in collist]\n",
    "region.columns = collist\n",
    "print (\"There are {} region categorical variables\".format(region.shape[1]))\n",
    "\n",
    "variety = ohe_features(wine, \"variety\", 50)\n",
    "collist = variety.columns.tolist()\n",
    "collist = [\"variety_\" + s for s in collist]\n",
    "variety.columns = collist\n",
    "print (\"There are {} variety categorical variables\".format(variety.shape[1]))\n",
    "\n",
    "winery = ohe_features(wine, \"winery\", 50)\n",
    "collist = winery.columns.tolist()\n",
    "collist = [\"winery_\" + s for s in collist]\n",
    "winery.columns = collist\n",
    "print (\"There are {} winery categorical variables\".format(winery.shape[1]))"
   ]
  },
  {
   "cell_type": "code",
   "execution_count": 9,
   "metadata": {},
   "outputs": [],
   "source": [
    "wine[\"description\"] = wine[\"description\"].str.replace('\\d+', '')\n",
    "wine[\"description\"] = wine.description.apply(func=remove_punctuation)\n",
    "wine[\"description\"] = wine.description.apply(func=make_lower_case)"
   ]
  },
  {
   "cell_type": "code",
   "execution_count": 10,
   "metadata": {},
   "outputs": [
    {
     "data": {
      "text/html": [
       "<div>\n",
       "<style scoped>\n",
       "    .dataframe tbody tr th:only-of-type {\n",
       "        vertical-align: middle;\n",
       "    }\n",
       "\n",
       "    .dataframe tbody tr th {\n",
       "        vertical-align: top;\n",
       "    }\n",
       "\n",
       "    .dataframe thead th {\n",
       "        text-align: right;\n",
       "    }\n",
       "</style>\n",
       "<table border=\"1\" class=\"dataframe\">\n",
       "  <thead>\n",
       "    <tr style=\"text-align: right;\">\n",
       "      <th></th>\n",
       "      <th>latent_description_0</th>\n",
       "      <th>latent_description_1</th>\n",
       "      <th>latent_description_2</th>\n",
       "      <th>latent_description_3</th>\n",
       "      <th>latent_description_4</th>\n",
       "    </tr>\n",
       "  </thead>\n",
       "  <tbody>\n",
       "    <tr>\n",
       "      <th>0</th>\n",
       "      <td>0.122660</td>\n",
       "      <td>-0.036626</td>\n",
       "      <td>-0.007187</td>\n",
       "      <td>-0.022406</td>\n",
       "      <td>-0.024336</td>\n",
       "    </tr>\n",
       "    <tr>\n",
       "      <th>1</th>\n",
       "      <td>0.135296</td>\n",
       "      <td>-0.041505</td>\n",
       "      <td>0.014409</td>\n",
       "      <td>-0.015783</td>\n",
       "      <td>0.004102</td>\n",
       "    </tr>\n",
       "    <tr>\n",
       "      <th>2</th>\n",
       "      <td>0.077102</td>\n",
       "      <td>0.046774</td>\n",
       "      <td>-0.015968</td>\n",
       "      <td>-0.007267</td>\n",
       "      <td>0.018448</td>\n",
       "    </tr>\n",
       "    <tr>\n",
       "      <th>3</th>\n",
       "      <td>0.147137</td>\n",
       "      <td>-0.096328</td>\n",
       "      <td>0.032715</td>\n",
       "      <td>-0.001577</td>\n",
       "      <td>0.028744</td>\n",
       "    </tr>\n",
       "    <tr>\n",
       "      <th>4</th>\n",
       "      <td>0.083745</td>\n",
       "      <td>0.001137</td>\n",
       "      <td>-0.081242</td>\n",
       "      <td>-0.099452</td>\n",
       "      <td>-0.026693</td>\n",
       "    </tr>\n",
       "  </tbody>\n",
       "</table>\n",
       "</div>"
      ],
      "text/plain": [
       "   latent_description_0  latent_description_1  latent_description_2  \\\n",
       "0              0.122660             -0.036626             -0.007187   \n",
       "1              0.135296             -0.041505              0.014409   \n",
       "2              0.077102              0.046774             -0.015968   \n",
       "3              0.147137             -0.096328              0.032715   \n",
       "4              0.083745              0.001137             -0.081242   \n",
       "\n",
       "   latent_description_3  latent_description_4  \n",
       "0             -0.022406             -0.024336  \n",
       "1             -0.015783              0.004102  \n",
       "2             -0.007267              0.018448  \n",
       "3             -0.001577              0.028744  \n",
       "4             -0.099452             -0.026693  "
      ]
     },
     "execution_count": 10,
     "metadata": {},
     "output_type": "execute_result"
    }
   ],
   "source": [
    "tf = TfidfVectorizer(analyzer='word', \n",
    "                     min_df=10,\n",
    "                     ngram_range=(1, 2),\n",
    "                     stop_words='english')\n",
    "svd = TruncatedSVD(n_components=5)\n",
    "\n",
    "#Fit tfidf and svd, and transform training data\n",
    "tfidf_matrix = tf.fit_transform(wine.description)\n",
    "lsa_features = pd.DataFrame(svd.fit_transform(tfidf_matrix))\n",
    "collist = map(str, range(0, 5))\n",
    "collist = [\"latent_description_\" + s for s in collist]\n",
    "lsa_features.columns = collist\n",
    "lsa_features.head()"
   ]
  },
  {
   "cell_type": "code",
   "execution_count": 11,
   "metadata": {},
   "outputs": [
    {
     "name": "stdout",
     "output_type": "stream",
     "text": [
      "(137235, 1018)\n",
      "(137235,)\n"
     ]
    }
   ],
   "source": [
    "X = pd.concat([country, designation, region, variety, winery, lsa_features, wine[\"price\"]], axis=1)\n",
    "y = wine[\"points\"]\n",
    "print (X.shape)\n",
    "print (y.shape)"
   ]
  },
  {
   "cell_type": "markdown",
   "metadata": {},
   "source": [
    "# Test Train Split"
   ]
  },
  {
   "cell_type": "code",
   "execution_count": 12,
   "metadata": {},
   "outputs": [
    {
     "name": "stdout",
     "output_type": "stream",
     "text": [
      "96064 training observations\n",
      "41171 testing observations\n"
     ]
    }
   ],
   "source": [
    "X_train, X_test, y_train, y_test = train_test_split(X, y, test_size=0.3)\n",
    "\n",
    "print (\"{} training observations\".format(X_train.shape[0]))\n",
    "print (\"{} testing observations\".format(X_test.shape[0]))"
   ]
  },
  {
   "cell_type": "markdown",
   "metadata": {},
   "source": [
    "# XGBoost Classification"
   ]
  },
  {
   "cell_type": "code",
   "execution_count": 13,
   "metadata": {},
   "outputs": [],
   "source": [
    "dtrain = xgb.DMatrix(X_train, label=y_train)\n",
    "dtest = xgb.DMatrix(X_test, label=y_test)"
   ]
  },
  {
   "cell_type": "code",
   "execution_count": 38,
   "metadata": {},
   "outputs": [],
   "source": [
    "param = {'max_depth': 3, 'eta': 1, 'subsample':0.5, 'alpha':1}\n",
    "param['nthread'] = 4\n",
    "param['eval_metric'] = 'mae'\n",
    "param['objective'] = 'reg:linear'\n",
    "param['silent'] = 1\n",
    "evallist = [(dtrain, 'train')]\n",
    "num_round = 10"
   ]
  },
  {
   "cell_type": "code",
   "execution_count": 39,
   "metadata": {},
   "outputs": [
    {
     "name": "stdout",
     "output_type": "stream",
     "text": [
      "[0]\ttest-mae:2.06074\ttrain-mae:2.05771\n",
      "Multiple eval metrics have been passed: 'train-mae' will be used for early stopping.\n",
      "\n",
      "Will train until train-mae hasn't improved in 10 rounds.\n",
      "[1]\ttest-mae:1.97453\ttrain-mae:1.96351\n",
      "[2]\ttest-mae:1.94195\ttrain-mae:1.92593\n",
      "[3]\ttest-mae:1.92774\ttrain-mae:1.91113\n",
      "[4]\ttest-mae:1.91011\ttrain-mae:1.89161\n",
      "[5]\ttest-mae:1.88505\ttrain-mae:1.86523\n",
      "[6]\ttest-mae:1.87471\ttrain-mae:1.85512\n",
      "[7]\ttest-mae:1.86947\ttrain-mae:1.84943\n",
      "[8]\ttest-mae:1.86603\ttrain-mae:1.84432\n",
      "[9]\ttest-mae:1.85193\ttrain-mae:1.82779\n"
     ]
    }
   ],
   "source": [
    "bst = xgb.train(param, dtrain, num_round, evallist, early_stopping_rounds=10)"
   ]
  },
  {
   "cell_type": "code",
   "execution_count": 40,
   "metadata": {},
   "outputs": [
    {
     "data": {
      "text/html": [
       "<div>\n",
       "<style scoped>\n",
       "    .dataframe tbody tr th:only-of-type {\n",
       "        vertical-align: middle;\n",
       "    }\n",
       "\n",
       "    .dataframe tbody tr th {\n",
       "        vertical-align: top;\n",
       "    }\n",
       "\n",
       "    .dataframe thead th {\n",
       "        text-align: right;\n",
       "    }\n",
       "</style>\n",
       "<table border=\"1\" class=\"dataframe\">\n",
       "  <thead>\n",
       "    <tr style=\"text-align: right;\">\n",
       "      <th></th>\n",
       "      <th>points</th>\n",
       "      <th>prediction</th>\n",
       "    </tr>\n",
       "  </thead>\n",
       "  <tbody>\n",
       "    <tr>\n",
       "      <th>119574</th>\n",
       "      <td>91</td>\n",
       "      <td>88</td>\n",
       "    </tr>\n",
       "    <tr>\n",
       "      <th>131562</th>\n",
       "      <td>90</td>\n",
       "      <td>88</td>\n",
       "    </tr>\n",
       "    <tr>\n",
       "      <th>128526</th>\n",
       "      <td>89</td>\n",
       "      <td>89</td>\n",
       "    </tr>\n",
       "    <tr>\n",
       "      <th>130038</th>\n",
       "      <td>88</td>\n",
       "      <td>88</td>\n",
       "    </tr>\n",
       "    <tr>\n",
       "      <th>115681</th>\n",
       "      <td>94</td>\n",
       "      <td>92</td>\n",
       "    </tr>\n",
       "  </tbody>\n",
       "</table>\n",
       "</div>"
      ],
      "text/plain": [
       "        points  prediction\n",
       "119574      91          88\n",
       "131562      90          88\n",
       "128526      89          89\n",
       "130038      88          88\n",
       "115681      94          92"
      ]
     },
     "execution_count": 40,
     "metadata": {},
     "output_type": "execute_result"
    }
   ],
   "source": [
    "pred = pd.DataFrame(y_test.copy())\n",
    "pred[\"prediction\"] = bst.predict(dtest, ntree_limit=bst.best_ntree_limit)\n",
    "pred[\"prediction\"] = np.round(pred[\"prediction\"],0).astype(int)\n",
    "pred.sample(5)"
   ]
  },
  {
   "cell_type": "code",
   "execution_count": 41,
   "metadata": {},
   "outputs": [
    {
     "name": "stdout",
     "output_type": "stream",
     "text": [
      "Mean Absolute Error: 1.84 points\n"
     ]
    }
   ],
   "source": [
    "from sklearn.metrics import median_absolute_error, mean_absolute_error\n",
    "mean_ae = np.round(mean_absolute_error(y_true=pred[\"points\"], y_pred=pred[\"prediction\"]),2)\n",
    "median_ae = np.round(median_absolute_error(y_true=pred[\"points\"], y_pred=pred[\"prediction\"]),2)\n",
    "print (\"Mean Absolute Error: {} points\".format(mean_ae))"
   ]
  },
  {
   "cell_type": "code",
   "execution_count": 42,
   "metadata": {},
   "outputs": [
    {
     "data": {
      "text/plain": [
       "<matplotlib.axes._subplots.AxesSubplot at 0x7f7d05a352b0>"
      ]
     },
     "execution_count": 42,
     "metadata": {},
     "output_type": "execute_result"
    },
    {
     "data": {
      "image/png": "[encoded data removed]",
      "text/plain": [
       "<Figure size 432x288 with 1 Axes>"
      ]
     },
     "metadata": {},
     "output_type": "display_data"
    }
   ],
   "source": [
    "xgb.plot_importance(bst,max_num_features=15)"
   ]
  },
  {
   "cell_type": "code",
   "execution_count": 43,
   "metadata": {},
   "outputs": [
    {
     "data": {
      "image/svg+xml": [
       "<?xml version=\"1.0\" encoding=\"UTF-8\" standalone=\"no\"?>\n",
       "<!DOCTYPE svg PUBLIC \"-//W3C//DTD SVG 1.1//EN\"\n",
       " \"http://www.w3.org/Graphics/SVG/1.1/DTD/svg11.dtd\">\n",
       "<!-- Generated by graphviz version 2.40.1 (20161225.0304)\n",
       " -->\n",
       "<!-- Title: %3 Pages: 1 -->\n",
       "<svg width=\"768pt\" height=\"305pt\"\n",
       " viewBox=\"0.00 0.00 767.99 305.00\" xmlns=\"http://www.w3.org/2000/svg\" xmlns:xlink=\"http://www.w3.org/1999/xlink\">\n",
       "<g id=\"graph0\" class=\"graph\" transform=\"scale(1 1) rotate(0) translate(4 301)\">\n",
       "<title>%3</title>\n",
       "<polygon fill=\"#ffffff\" stroke=\"transparent\" points=\"-4,4 -4,-301 763.9873,-301 763.9873,4 -4,4\"/>\n",
       "<!-- 0 -->\n",
       "<g id=\"node1\" class=\"node\">\n",
       "<title>0</title>\n",
       "<ellipse fill=\"none\" stroke=\"#000000\" cx=\"413.4937\" cy=\"-279\" rx=\"49.2915\" ry=\"18\"/>\n",
       "<text text-anchor=\"middle\" x=\"413.4937\" y=\"-275.3\" font-family=\"Times,serif\" font-size=\"14.00\" fill=\"#000000\">price&lt;30.5</text>\n",
       "</g>\n",
       "<!-- 1 -->\n",
       "<g id=\"node2\" class=\"node\">\n",
       "<title>1</title>\n",
       "<ellipse fill=\"none\" stroke=\"#000000\" cx=\"299.4937\" cy=\"-192\" rx=\"49.2915\" ry=\"18\"/>\n",
       "<text text-anchor=\"middle\" x=\"299.4937\" y=\"-188.3\" font-family=\"Times,serif\" font-size=\"14.00\" fill=\"#000000\">price&lt;15.5</text>\n",
       "</g>\n",
       "<!-- 0&#45;&gt;1 -->\n",
       "<g id=\"edge1\" class=\"edge\">\n",
       "<title>0&#45;&gt;1</title>\n",
       "<path fill=\"none\" stroke=\"#0000ff\" d=\"M392.0511,-262.636C374.2174,-249.026 348.6518,-229.5155 328.9065,-214.4466\"/>\n",
       "<polygon fill=\"#0000ff\" stroke=\"#0000ff\" points=\"330.9129,-211.5751 320.84,-208.2907 326.6662,-217.1398 330.9129,-211.5751\"/>\n",
       "<text text-anchor=\"middle\" x=\"397.9937\" y=\"-231.8\" font-family=\"Times,serif\" font-size=\"14.00\" fill=\"#000000\">yes, missing</text>\n",
       "</g>\n",
       "<!-- 2 -->\n",
       "<g id=\"node3\" class=\"node\">\n",
       "<title>2</title>\n",
       "<ellipse fill=\"none\" stroke=\"#000000\" cx=\"527.4937\" cy=\"-192\" rx=\"49.2915\" ry=\"18\"/>\n",
       "<text text-anchor=\"middle\" x=\"527.4937\" y=\"-188.3\" font-family=\"Times,serif\" font-size=\"14.00\" fill=\"#000000\">price&lt;53.5</text>\n",
       "</g>\n",
       "<!-- 0&#45;&gt;2 -->\n",
       "<g id=\"edge2\" class=\"edge\">\n",
       "<title>0&#45;&gt;2</title>\n",
       "<path fill=\"none\" stroke=\"#ff0000\" d=\"M434.9362,-262.636C452.7699,-249.026 478.3355,-229.5155 498.0808,-214.4466\"/>\n",
       "<polygon fill=\"#ff0000\" stroke=\"#ff0000\" points=\"500.3211,-217.1398 506.1473,-208.2907 496.0744,-211.5751 500.3211,-217.1398\"/>\n",
       "<text text-anchor=\"middle\" x=\"484.4937\" y=\"-231.8\" font-family=\"Times,serif\" font-size=\"14.00\" fill=\"#000000\">no</text>\n",
       "</g>\n",
       "<!-- 3 -->\n",
       "<g id=\"node4\" class=\"node\">\n",
       "<title>3</title>\n",
       "<ellipse fill=\"none\" stroke=\"#000000\" cx=\"71.4937\" cy=\"-105\" rx=\"71.4873\" ry=\"18\"/>\n",
       "<text text-anchor=\"middle\" x=\"71.4937\" y=\"-101.3\" font-family=\"Times,serif\" font-size=\"14.00\" fill=\"#000000\">leaf=84.9233704</text>\n",
       "</g>\n",
       "<!-- 1&#45;&gt;3 -->\n",
       "<g id=\"edge3\" class=\"edge\">\n",
       "<title>1&#45;&gt;3</title>\n",
       "<path fill=\"none\" stroke=\"#0000ff\" d=\"M265.3598,-178.9752C227.0162,-164.3441 164.448,-140.4694 120.7974,-123.8133\"/>\n",
       "<polygon fill=\"#0000ff\" stroke=\"#0000ff\" points=\"121.8275,-120.4602 111.2367,-120.1651 119.3319,-127.0003 121.8275,-120.4602\"/>\n",
       "<text text-anchor=\"middle\" x=\"233.9937\" y=\"-144.8\" font-family=\"Times,serif\" font-size=\"14.00\" fill=\"#000000\">yes, missing</text>\n",
       "</g>\n",
       "<!-- 4 -->\n",
       "<g id=\"node5\" class=\"node\">\n",
       "<title>4</title>\n",
       "<ellipse fill=\"none\" stroke=\"#000000\" cx=\"299.4937\" cy=\"-105\" rx=\"138.3755\" ry=\"18\"/>\n",
       "<text text-anchor=\"middle\" x=\"299.4937\" y=\"-101.3\" font-family=\"Times,serif\" font-size=\"14.00\" fill=\"#000000\">latent_description_3&lt;0.0186678171</text>\n",
       "</g>\n",
       "<!-- 1&#45;&gt;4 -->\n",
       "<g id=\"edge4\" class=\"edge\">\n",
       "<title>1&#45;&gt;4</title>\n",
       "<path fill=\"none\" stroke=\"#ff0000\" d=\"M299.4937,-173.9735C299.4937,-162.1918 299.4937,-146.5607 299.4937,-133.1581\"/>\n",
       "<polygon fill=\"#ff0000\" stroke=\"#ff0000\" points=\"302.9938,-133.0033 299.4937,-123.0034 295.9938,-133.0034 302.9938,-133.0033\"/>\n",
       "<text text-anchor=\"middle\" x=\"306.4937\" y=\"-144.8\" font-family=\"Times,serif\" font-size=\"14.00\" fill=\"#000000\">no</text>\n",
       "</g>\n",
       "<!-- 5 -->\n",
       "<g id=\"node8\" class=\"node\">\n",
       "<title>5</title>\n",
       "<ellipse fill=\"none\" stroke=\"#000000\" cx=\"527.4937\" cy=\"-105\" rx=\"71.4873\" ry=\"18\"/>\n",
       "<text text-anchor=\"middle\" x=\"527.4937\" y=\"-101.3\" font-family=\"Times,serif\" font-size=\"14.00\" fill=\"#000000\">leaf=88.6728134</text>\n",
       "</g>\n",
       "<!-- 2&#45;&gt;5 -->\n",
       "<g id=\"edge7\" class=\"edge\">\n",
       "<title>2&#45;&gt;5</title>\n",
       "<path fill=\"none\" stroke=\"#0000ff\" d=\"M527.4937,-173.9735C527.4937,-162.1918 527.4937,-146.5607 527.4937,-133.1581\"/>\n",
       "<polygon fill=\"#0000ff\" stroke=\"#0000ff\" points=\"530.9938,-133.0033 527.4937,-123.0034 523.9938,-133.0034 530.9938,-133.0033\"/>\n",
       "<text text-anchor=\"middle\" x=\"561.9937\" y=\"-144.8\" font-family=\"Times,serif\" font-size=\"14.00\" fill=\"#000000\">yes, missing</text>\n",
       "</g>\n",
       "<!-- 6 -->\n",
       "<g id=\"node9\" class=\"node\">\n",
       "<title>6</title>\n",
       "<ellipse fill=\"none\" stroke=\"#000000\" cx=\"688.4937\" cy=\"-105\" rx=\"71.4873\" ry=\"18\"/>\n",
       "<text text-anchor=\"middle\" x=\"688.4937\" y=\"-101.3\" font-family=\"Times,serif\" font-size=\"14.00\" fill=\"#000000\">leaf=90.7805939</text>\n",
       "</g>\n",
       "<!-- 2&#45;&gt;6 -->\n",
       "<g id=\"edge8\" class=\"edge\">\n",
       "<title>2&#45;&gt;6</title>\n",
       "<path fill=\"none\" stroke=\"#ff0000\" d=\"M557.9145,-177.5625C571.1059,-171.1571 586.6665,-163.4054 600.4937,-156 617.5398,-146.8706 636.1049,-136.2195 651.7704,-127.0192\"/>\n",
       "<polygon fill=\"#ff0000\" stroke=\"#ff0000\" points=\"653.793,-129.8896 660.6255,-121.7922 650.2347,-123.8614 653.793,-129.8896\"/>\n",
       "<text text-anchor=\"middle\" x=\"633.4937\" y=\"-144.8\" font-family=\"Times,serif\" font-size=\"14.00\" fill=\"#000000\">no</text>\n",
       "</g>\n",
       "<!-- 7 -->\n",
       "<g id=\"node6\" class=\"node\">\n",
       "<title>7</title>\n",
       "<ellipse fill=\"none\" stroke=\"#000000\" cx=\"221.4937\" cy=\"-18\" rx=\"66.8882\" ry=\"18\"/>\n",
       "<text text-anchor=\"middle\" x=\"221.4937\" y=\"-14.3\" font-family=\"Times,serif\" font-size=\"14.00\" fill=\"#000000\">leaf=87.275116</text>\n",
       "</g>\n",
       "<!-- 4&#45;&gt;7 -->\n",
       "<g id=\"edge5\" class=\"edge\">\n",
       "<title>4&#45;&gt;7</title>\n",
       "<path fill=\"none\" stroke=\"#0000ff\" d=\"M283.332,-86.9735C272.0669,-74.4087 256.8767,-57.4657 244.3708,-43.5168\"/>\n",
       "<polygon fill=\"#0000ff\" stroke=\"#0000ff\" points=\"246.6492,-40.815 237.3677,-35.7057 241.4372,-45.4878 246.6492,-40.815\"/>\n",
       "<text text-anchor=\"middle\" x=\"299.9937\" y=\"-57.8\" font-family=\"Times,serif\" font-size=\"14.00\" fill=\"#000000\">yes, missing</text>\n",
       "</g>\n",
       "<!-- 8 -->\n",
       "<g id=\"node7\" class=\"node\">\n",
       "<title>8</title>\n",
       "<ellipse fill=\"none\" stroke=\"#000000\" cx=\"377.4937\" cy=\"-18\" rx=\"71.4873\" ry=\"18\"/>\n",
       "<text text-anchor=\"middle\" x=\"377.4937\" y=\"-14.3\" font-family=\"Times,serif\" font-size=\"14.00\" fill=\"#000000\">leaf=85.7173538</text>\n",
       "</g>\n",
       "<!-- 4&#45;&gt;8 -->\n",
       "<g id=\"edge6\" class=\"edge\">\n",
       "<title>4&#45;&gt;8</title>\n",
       "<path fill=\"none\" stroke=\"#ff0000\" d=\"M320.3753,-86.9512C326.4285,-81.3982 332.9072,-75.1291 338.4937,-69 345.5153,-61.2963 352.6112,-52.4154 358.7901,-44.2453\"/>\n",
       "<polygon fill=\"#ff0000\" stroke=\"#ff0000\" points=\"361.7094,-46.1845 364.8557,-36.0676 356.0871,-42.0143 361.7094,-46.1845\"/>\n",
       "<text text-anchor=\"middle\" x=\"358.4937\" y=\"-57.8\" font-family=\"Times,serif\" font-size=\"14.00\" fill=\"#000000\">no</text>\n",
       "</g>\n",
       "</g>\n",
       "</svg>\n"
      ],
      "text/plain": [
       "<graphviz.dot.Digraph at 0x7f7d20faffd0>"
      ]
     },
     "execution_count": 43,
     "metadata": {},
     "output_type": "execute_result"
    }
   ],
   "source": [
    "xgb.to_graphviz(bst, num_trees=0)"
   ]
  },
  {
   "cell_type": "markdown",
   "metadata": {},
   "source": [
    "# DIY Deployment"
   ]
  },
  {
   "cell_type": "code",
   "execution_count": 44,
   "metadata": {},
   "outputs": [],
   "source": [
    "# I wrote my own predict method \n",
    "# Use business logic to filter predictions, not just the models basic predict\n",
    "# send info in and out as a dictionary/json"
   ]
  },
  {
   "cell_type": "code",
   "execution_count": 45,
   "metadata": {},
   "outputs": [],
   "source": [
    "def my_own_predict_method(feature_payload):\n",
    "    \n",
    "    message_cheap = \"Wow, what a steal!\"\n",
    "    message_expensive = \"Yikes, that is a spendy wine!\"\n",
    "\n",
    "    #format payload as a dataframe\n",
    "    x = pd.DataFrame(feature_payload, index=[0])\n",
    "    #convert it to xgboost data object\n",
    "    x = xgb.DMatrix(x, label=y_test)\n",
    "\n",
    "    #predict wine price from xgboost model\n",
    "    prediction = bst.predict(x, ntree_limit=bst.best_ntree_limit)\n",
    "    prediction = np.round(prediction,2)[0]\n",
    " \n",
    "    #personalise message \n",
    "    if prediction < 50:\n",
    "        message = message_cheap\n",
    "    else:\n",
    "        message = message_expensive\n",
    "        \n",
    "    output = {\"price\": \"$\"+str(prediction), \"message\":message}\n",
    "    \n",
    "    return output"
   ]
  },
  {
   "cell_type": "code",
   "execution_count": 51,
   "metadata": {},
   "outputs": [
    {
     "name": "stdout",
     "output_type": "stream",
     "text": [
      "{'country_Albania': 0.0, 'country_Argentina': 0.0, 'country_Australia': 0.0, 'country_Austria': 0.0, 'country_Bosnia and Herzegovina': 0.0, 'country_Brazil': 0.0, 'country_Bulgaria': 0.0, 'country_Canada': 0.0, 'country_Chile': 0.0, 'country_China': 0.0, 'country_Croatia': 0.0, 'country_Cyprus': 0.0, 'country_Czech Republic': 0.0, 'country_England': 0.0, 'country_France': 0.0, 'country_Georgia': 0.0, 'country_Germany': 0.0, 'country_Greece': 0.0, 'country_Hungary': 0.0, 'country_India': 0.0, 'country_Israel': 0.0, 'country_Italy': 0.0, 'country_Japan': 0.0, 'country_Lebanon': 0.0, 'country_Lithuania': 0.0, 'country_Luxembourg': 0.0, 'country_Macedonia': 0.0, 'country_Mexico': 0.0, 'country_Moldova': 0.0, 'country_Montenegro': 0.0, 'country_Morocco': 0.0, 'country_New Zealand': 0.0, 'country_Portugal': 0.0, 'country_Romania': 0.0, 'country_Serbia': 0.0, 'country_Slovakia': 0.0, 'country_Slovenia': 0.0, 'country_South Africa': 0.0, 'country_South Korea': 0.0, 'country_Spain': 0.0, 'country_Switzerland': 0.0, 'country_Turkey': 0.0, 'country_US': 1.0, 'country_US-France': 0.0, 'country_Ukraine': 0.0, 'country_Uruguay': 0.0, 'designation_Bacigalupi Vineyard': 0.0, 'designation_Barrel Fermented': 0.0, 'designation_Barrel Select': 0.0, 'designation_Bien Nacido Vineyard': 0.0, 'designation_Blanc de Blancs': 0.0, 'designation_Blanc de Blancs Brut': 0.0, 'designation_Broquel': 0.0, 'designation_Brut': 0.0, 'designation_Brut Rosé': 0.0, 'designation_Champoux Vineyard': 0.0, 'designation_Ciel du Cheval Vineyard': 0.0, 'designation_Classic': 0.0, 'designation_Crianza': 0.0, 'designation_Cuvée Prestige': 0.0, 'designation_Dry': 0.0, 'designation_Durell Vineyard': 0.0, 'designation_Dutton Ranch': 0.0, 'designation_Estate': 0.0, 'designation_Estate Bottled': 0.0, 'designation_Estate Grown': 0.0, 'designation_Estate Reserve': 0.0, 'designation_Estate Vineyard': 0.0, 'designation_Extra Dry': 0.0, 'designation_Flood Family Vineyards': 0.0, \"designation_Garys' Vineyard\": 0.0, 'designation_Gran Reserva': 0.0, 'designation_Grand Reserve': 0.0, 'designation_Kosher': 0.0, 'designation_La Cruz Vineyard': 0.0, 'designation_Late Bottled Vintage': 0.0, 'designation_Late Harvest': 0.0, 'designation_Limited Edition': 0.0, 'designation_Limited Release': 0.0, 'designation_Limited Selection': 0.0, 'designation_Oak Cask': 0.0, 'designation_Old Vine': 0.0, 'designation_Old Vines': 0.0, 'designation_Premium': 0.0, 'designation_Prestige': 0.0, 'designation_Private Reserve': 0.0, 'designation_Private Selection': 0.0, \"designation_Proprietor's Reserve\": 0.0, 'designation_Red': 0.0, 'designation_Red Wine': 0.0, 'designation_Reserva': 0.0, 'designation_Reserva Especial': 0.0, 'designation_Reserve': 0.0, 'designation_Riserva': 0.0, 'designation_Roble': 0.0, 'designation_Rosado': 0.0, \"designation_Rosella's Vineyard\": 0.0, 'designation_Rosé': 0.0, 'designation_Rosé of': 0.0, 'designation_Réserve': 0.0, 'designation_Sangiacomo Vineyard': 0.0, 'designation_Semi-Dry': 0.0, 'designation_Signature': 0.0, 'designation_Single Vineyard': 0.0, 'designation_Sleepy Hollow Vineyard': 0.0, 'designation_Special Reserve': 0.0, 'designation_Stagecoach Vineyard': 0.0, 'designation_Stillwater Creek Vineyard': 0.0, 'designation_Tinto': 0.0, 'designation_Tradition': 0.0, 'designation_Trocken': 0.0, 'designation_Two Vines': 0.0, 'designation_Unoaked': 0.0, 'designation_Vieilles Vignes': 0.0, 'designation_Vintage': 0.0, \"designation_Vintner's Reserve\": 0.0, 'designation_White': 0.0, 'region_Adelaide': 0.0, 'region_Adelaide Hills': 0.0, 'region_Aglianico del Vulture': 0.0, 'region_Alexander Valley': 0.0, 'region_Alicante': 0.0, 'region_Alsace': 0.0, 'region_Alto Adige': 0.0, 'region_Amador County': 0.0, 'region_Amarone della Valpolicella': 0.0, 'region_Amarone della Valpolicella Classico': 0.0, 'region_Anderson Valley': 0.0, 'region_Anjou': 0.0, 'region_Applegate Valley': 0.0, 'region_Argentina': 0.0, 'region_Arroyo Grande Valley': 0.0, 'region_Arroyo Seco': 0.0, 'region_Atlas Peak': 0.0, 'region_Barbaresco': 0.0, \"region_Barbera d'Alba\": 0.0, \"region_Barbera d'Alba Superiore\": 0.0, \"region_Barbera d'Asti\": 0.0, \"region_Barbera d'Asti Superiore\": 0.0, 'region_Barolo': 0.0, 'region_Barossa': 0.0, 'region_Barossa Valley': 0.0, 'region_Beaujolais': 0.0, 'region_Beaujolais-Villages': 0.0, 'region_Beaune': 0.0, 'region_Bennett Valley': 0.0, 'region_Bergerac': 0.0, 'region_Bergerac Sec': 0.0, 'region_Bierzo': 0.0, 'region_Blaye Côtes de Bordeaux': 0.0, 'region_Bolgheri': 0.0, 'region_Bolgheri Superiore': 0.0, 'region_Bordeaux': 0.0, 'region_Bordeaux Blanc': 0.0, 'region_Bordeaux Rosé': 0.0, 'region_Bordeaux Supérieur': 0.0, 'region_Bourgogne': 0.0, 'region_Brunello di Montalcino': 0.0, 'region_Cafayate': 0.0, 'region_Cahors': 0.0, 'region_Calatayud': 0.0, 'region_Calaveras County': 0.0, 'region_Calchaquí Valley': 0.0, 'region_California': 0.0, 'region_Calistoga': 0.0, 'region_Campania': 0.0, 'region_Campo de Borja': 0.0, 'region_Cariñena': 0.0, 'region_Carmel Valley': 0.0, 'region_Carneros': 0.0, 'region_Catalunya': 0.0, 'region_Cava': 0.0, 'region_Cayuga Lake': 0.0, 'region_Central Coast': 0.0, 'region_Chablis': 0.0, 'region_Chalk Hill': 0.0, 'region_Chalone': 0.0, 'region_Chambolle-Musigny': 0.0, 'region_Champagne': 0.0, 'region_Chassagne-Montrachet': 0.0, 'region_Chehalem Mountains': 0.0, 'region_Chianti': 0.0, 'region_Chianti Classico': 0.0, 'region_Chianti Colli Senesi': 0.0, 'region_Chianti Rufina': 0.0, 'region_Chinon': 0.0, 'region_Châteauneuf-du-Pape': 0.0, 'region_Cienega Valley': 0.0, 'region_Clare Valley': 0.0, 'region_Clarendon': 0.0, 'region_Clarksburg': 0.0, 'region_Colli Orientali del Friuli': 0.0, 'region_Colli della Toscana Centrale': 0.0, 'region_Collio': 0.0, 'region_Columbia Valley (OR)': 0.0, 'region_Columbia Valley (WA)': 0.0, 'region_Conegliano Valdobbiadene Prosecco Superiore': 0.0, 'region_Contra Costa County': 0.0, 'region_Coonawarra': 0.0, 'region_Corbières': 0.0, 'region_Cornas': 0.0, 'region_Costières de Nîmes': 0.0, \"region_Coteaux d'Aix-en-Provence\": 0.0, 'region_Coteaux du Languedoc': 0.0, 'region_Crozes-Hermitage': 0.0, \"region_Crémant d'Alsace\": 0.0, 'region_Crémant de Bourgogne': 0.0, 'region_Côte Rôtie': 0.0, 'region_Côtes de Bourg': 0.0, 'region_Côtes de Gascogne': 0.0, 'region_Côtes de Provence': 0.0, 'region_Côtes du Rhône': 0.0, 'region_Côtes du Rhône Villages': 0.0, 'region_Delle Venezie': 0.0, 'region_Diamond Mountain District': 0.0, \"region_Dolcetto d'Alba\": 0.0, 'region_Dry Creek Valley': 0.0, 'region_Dundee Hills': 0.0, 'region_Eden Valley': 0.0, 'region_Edna Valley': 0.0, 'region_El Dorado': 0.0, 'region_Eola-Amity Hills': 0.0, 'region_Etna': 0.0, 'region_Famatina Valley': 0.0, 'region_Fiano di Avellino': 0.0, 'region_Fiddletown': 0.0, 'region_Finger Lakes': 0.0, 'region_Franciacorta': 0.0, 'region_Friuli Grave': 0.0, 'region_Friuli Isonzo': 0.0, 'region_Gaillac': 0.0, 'region_Gevrey-Chambertin': 0.0, 'region_Gigondas': 0.0, 'region_Graves': 0.0, 'region_Greco di Tufo': 0.0, 'region_Green Valley': 0.0, 'region_Happy Canyon of Santa Barbara': 0.0, 'region_Haut-Médoc': 0.0, 'region_Hermitage': 0.0, 'region_High Valley': 0.0, 'region_Horse Heaven Hills': 0.0, 'region_Howell Mountain': 0.0, 'region_Hunter Valley': 0.0, 'region_Irpinia': 0.0, 'region_Isola dei Nuraghi': 0.0, 'region_Jerez': 0.0, 'region_Jumilla': 0.0, 'region_Knights Valley': 0.0, 'region_La Mancha': 0.0, 'region_Lake County': 0.0, 'region_Langhe': 0.0, 'region_Langhorne Creek': 0.0, 'region_Lazio': 0.0, 'region_Livermore Valley': 0.0, 'region_Lodi': 0.0, 'region_Long Island': 0.0, 'region_Los Carneros': 0.0, 'region_Lugana': 0.0, 'region_Luján de Cuyo': 0.0, 'region_Madiran': 0.0, 'region_Maipú': 0.0, 'region_Marche': 0.0, 'region_Maremma': 0.0, 'region_Maremma Toscana': 0.0, 'region_Margaret River': 0.0, 'region_Margaux': 0.0, 'region_Marin County': 0.0, 'region_McLaren Vale': 0.0, 'region_McMinnville': 0.0, 'region_Mendocino': 0.0, 'region_Mendocino County': 0.0, 'region_Mendocino Ridge': 0.0, 'region_Mendoza': 0.0, 'region_Mercurey': 0.0, 'region_Meursault': 0.0, 'region_Minervois': 0.0, \"region_Montepulciano d'Abruzzo\": 0.0, 'region_Monterey': 0.0, 'region_Monterey County': 0.0, 'region_Monticello': 0.0, 'region_Montsant': 0.0, 'region_Morellino di Scansano': 0.0, \"region_Moscato d'Asti\": 0.0, 'region_Mount Veeder': 0.0, 'region_Mt. Harlan': 0.0, 'region_Muscadet Sèvre et Maine': 0.0, 'region_Mâcon-Villages': 0.0, 'region_Médoc': 0.0, 'region_Napa': 0.0, 'region_Napa County': 0.0, 'region_Napa Valley': 1.0, 'region_Navarra': 0.0, 'region_Neuquén': 0.0, 'region_New Mexico': 0.0, 'region_New York': 0.0, 'region_Niagara Peninsula': 0.0, 'region_North Coast': 0.0, 'region_North Fork of Long Island': 0.0, 'region_Nuits-St.-Georges': 0.0, 'region_Oak Knoll District': 0.0, 'region_Oakville': 0.0, 'region_Okanagan Valley': 0.0, 'region_Oregon': 0.0, 'region_Paso Robles': 0.0, 'region_Pauillac': 0.0, \"region_Pays d'Oc\": 0.0, 'region_Penedès': 0.0, 'region_Pessac-Léognan': 0.0, 'region_Piedmont': 0.0, 'region_Pommard': 0.0, 'region_Pouilly-Fuissé': 0.0, 'region_Pouilly-Fumé': 0.0, 'region_Priorat': 0.0, 'region_Prosecco': 0.0, 'region_Prosecco Superiore di Cartizze': 0.0, 'region_Prosecco del Veneto': 0.0, 'region_Prosecco di Conegliano e Valdobbiadene': 0.0, 'region_Prosecco di Valdobbiadene': 0.0, 'region_Puglia': 0.0, 'region_Puligny-Montrachet': 0.0, 'region_Rattlesnake Hills': 0.0, 'region_Red Hills Lake County': 0.0, 'region_Red Mountain': 0.0, 'region_Redwood Valley': 0.0, 'region_Ribbon Ridge': 0.0, 'region_Ribera del Duero': 0.0, 'region_Rioja': 0.0, 'region_Rockpile': 0.0, 'region_Rogue Valley': 0.0, 'region_Rosso di Montalcino': 0.0, 'region_Rosso di Montepulciano': 0.0, 'region_Rueda': 0.0, 'region_Russian River Valley': 0.0, 'region_Rutherford': 0.0, 'region_Rutherglen': 0.0, 'region_Rías Baixas': 0.0, 'region_Río Negro Valley': 0.0, 'region_Sagrantino di Montefalco': 0.0, 'region_Saint-Estèphe': 0.0, 'region_Saint-Joseph': 0.0, 'region_Saint-Julien': 0.0, 'region_Saint-Émilion': 0.0, 'region_Salento': 0.0, 'region_Salta': 0.0, 'region_San Benito County': 0.0, 'region_San Juan': 0.0, 'region_San Luis Obispo County': 0.0, 'region_San Rafael': 0.0, 'region_Sancerre': 0.0, \"region_Sant'Antimo\": 0.0, 'region_Santa Barbara County': 0.0, 'region_Santa Clara Valley': 0.0, 'region_Santa Cruz Mountains': 0.0, 'region_Santa Lucia Highlands': 0.0, 'region_Santa Maria Valley': 0.0, 'region_Santa Ynez Valley': 0.0, 'region_Santenay': 0.0, 'region_Savigny-lès-Beaune': 0.0, 'region_Seneca Lake': 0.0, 'region_Shenandoah Valley (CA)': 0.0, 'region_Sicilia': 0.0, 'region_Sierra Foothills': 0.0, 'region_Snipes Mountain': 0.0, 'region_Soave': 0.0, 'region_Soave Classico': 0.0, 'region_Somontano': 0.0, 'region_Sonoma Coast': 0.0, 'region_Sonoma County': 0.0, 'region_Sonoma Mountain': 0.0, 'region_Sonoma Valley': 0.0, 'region_Sonoma-Napa': 0.0, 'region_South Australia': 0.0, 'region_South Eastern Australia': 0.0, 'region_Southern Oregon': 0.0, 'region_St. Helena': 0.0, 'region_Sta. Rita Hills': 0.0, 'region_Stags Leap District': 0.0, 'region_Taurasi': 0.0, 'region_Temecula': 0.0, 'region_Temecula Valley': 0.0, 'region_Terre Siciliane': 0.0, 'region_Tierra de Castilla': 0.0, 'region_Toro': 0.0, 'region_Toscana': 0.0, 'region_Trentino': 0.0, 'region_Trento': 0.0, 'region_Tupungato': 0.0, 'region_Uco Valley': 0.0, 'region_Umbria': 0.0, 'region_Umpqua Valley': 0.0, 'region_Utiel-Requena': 0.0, 'region_Valdeorras': 0.0, 'region_Valdepeñas': 0.0, 'region_Valencia': 0.0, 'region_Valpolicella Classico Superiore': 0.0, 'region_Valpolicella Classico Superiore Ripasso': 0.0, 'region_Valpolicella Superiore': 0.0, 'region_Valpolicella Superiore Ripasso': 0.0, 'region_Veneto': 0.0, 'region_Venezia Giulia': 0.0, 'region_Vermentino di Sardegna': 0.0, 'region_Vernaccia di San Gimignano': 0.0, 'region_Victoria': 0.0, 'region_Vigneti delle Dolomiti': 0.0, 'region_Vin Mousseux': 0.0, \"region_Vin de Pays d'Oc\": 0.0, 'region_Vin de Pays des Côtes de Gascogne': 0.0, 'region_Vino Nobile di Montepulciano': 0.0, 'region_Vino de la Tierra de Castilla': 0.0, 'region_Vino de la Tierra de Castilla y León': 0.0, 'region_Virginia': 0.0, 'region_Volnay': 0.0, 'region_Vosne-Romanée': 0.0, 'region_Vouvray': 0.0, 'region_Wahluke Slope': 0.0, 'region_Walla Walla Valley (OR)': 0.0, 'region_Walla Walla Valley (WA)': 0.0, 'region_Washington': 0.0, 'region_Western Australia': 0.0, 'region_Willamette Valley': 0.0, 'region_Yakima Valley': 0.0, 'region_Yamhill-Carlton District': 0.0, 'region_Yarra Valley': 0.0, 'region_Yorkville Highlands': 0.0, 'region_Yountville': 0.0, 'variety_Agiorgitiko': 0.0, 'variety_Aglianico': 0.0, 'variety_Albariño': 0.0, 'variety_Alsace white blend': 0.0, 'variety_Alvarinho': 0.0, 'variety_Arinto': 0.0, 'variety_Arneis': 0.0, 'variety_Assyrtico': 0.0, 'variety_Austrian Red Blend': 0.0, 'variety_Barbera': 0.0, 'variety_Blaufränkisch': 0.0, 'variety_Bonarda': 0.0, 'variety_Bordeaux-style Red Blend': 0.0, 'variety_Bordeaux-style White Blend': 0.0, 'variety_Cabernet Blend': 0.0, 'variety_Cabernet Franc': 0.0, 'variety_Cabernet Sauvignon': 1.0, 'variety_Cabernet Sauvignon-Carmenère': 0.0, 'variety_Cabernet Sauvignon-Malbec': 0.0, 'variety_Cabernet Sauvignon-Merlot': 0.0, 'variety_Cabernet Sauvignon-Shiraz': 0.0, 'variety_Cabernet Sauvignon-Syrah': 0.0, 'variety_Carignan': 0.0, 'variety_Carignano': 0.0, 'variety_Carmenère': 0.0, 'variety_Champagne Blend': 0.0, 'variety_Chardonnay': 0.0, 'variety_Chardonnay-Viognier': 0.0, 'variety_Chenin Blanc': 0.0, 'variety_Cortese': 0.0, 'variety_Corvina, Rondinella, Molinara': 0.0, 'variety_Dolcetto': 0.0, 'variety_Falanghina': 0.0, 'variety_Fiano': 0.0, 'variety_Friulano': 0.0, 'variety_Fumé Blanc': 0.0, 'variety_G-S-M': 0.0, 'variety_Gamay': 0.0, 'variety_Garganega': 0.0, 'variety_Garnacha': 0.0, 'variety_Gewürztraminer': 0.0, 'variety_Glera': 0.0, 'variety_Godello': 0.0, 'variety_Greco': 0.0, 'variety_Grenache': 0.0, 'variety_Grenache Blanc': 0.0, 'variety_Grenache-Syrah': 0.0, 'variety_Grillo': 0.0, 'variety_Grüner Veltliner': 0.0, 'variety_Lambrusco': 0.0, 'variety_Malbec': 0.0, 'variety_Malbec-Cabernet Sauvignon': 0.0, 'variety_Malbec-Merlot': 0.0, 'variety_Marsanne': 0.0, 'variety_Melon': 0.0, 'variety_Mencía': 0.0, 'variety_Meritage': 0.0, 'variety_Merlot': 0.0, 'variety_Merlot-Cabernet Sauvignon': 0.0, 'variety_Monastrell': 0.0, 'variety_Montepulciano': 0.0, 'variety_Moscato': 0.0, 'variety_Mourvèdre': 0.0, 'variety_Muscat': 0.0, 'variety_Muscat Canelli': 0.0, 'variety_Nebbiolo': 0.0, 'variety_Negroamaro': 0.0, 'variety_Nerello Mascalese': 0.0, \"variety_Nero d'Avola\": 0.0, 'variety_Petit Verdot': 0.0, 'variety_Petite Sirah': 0.0, 'variety_Petite Verdot': 0.0, 'variety_Pinot Bianco': 0.0, 'variety_Pinot Blanc': 0.0, 'variety_Pinot Grigio': 0.0, 'variety_Pinot Gris': 0.0, 'variety_Pinot Nero': 0.0, 'variety_Pinot Noir': 0.0, 'variety_Pinotage': 0.0, 'variety_Port': 0.0, 'variety_Portuguese Red': 0.0, 'variety_Portuguese White': 0.0, 'variety_Primitivo': 0.0, 'variety_Prosecco': 0.0, 'variety_Prugnolo Gentile': 0.0, 'variety_Red Blend': 0.0, 'variety_Rhône-style Red Blend': 0.0, 'variety_Rhône-style White Blend': 0.0, 'variety_Ribolla Gialla': 0.0, 'variety_Riesling': 0.0, 'variety_Rosé': 0.0, 'variety_Roussanne': 0.0, 'variety_Sagrantino': 0.0, 'variety_Sangiovese': 0.0, 'variety_Sangiovese Grosso': 0.0, 'variety_Sauvignon': 0.0, 'variety_Sauvignon Blanc': 0.0, 'variety_Sauvignon Blanc-Semillon': 0.0, 'variety_Semillon-Sauvignon Blanc': 0.0, 'variety_Sherry': 0.0, 'variety_Shiraz': 0.0, 'variety_Shiraz-Cabernet Sauvignon': 0.0, 'variety_Shiraz-Viognier': 0.0, 'variety_Silvaner': 0.0, 'variety_Sparkling Blend': 0.0, 'variety_Spätburgunder': 0.0, 'variety_St. Laurent': 0.0, 'variety_Syrah': 0.0, 'variety_Syrah-Cabernet': 0.0, 'variety_Sémillon': 0.0, 'variety_Tannat': 0.0, 'variety_Tempranillo': 0.0, 'variety_Tempranillo Blend': 0.0, 'variety_Tempranillo-Cabernet Sauvignon': 0.0, 'variety_Tempranillo-Garnacha': 0.0, 'variety_Tinta de Toro': 0.0, 'variety_Tinto Fino': 0.0, 'variety_Tinto del Pais': 0.0, 'variety_Tokaji': 0.0, 'variety_Torrontés': 0.0, 'variety_Touriga Nacional': 0.0, 'variety_Turbiana': 0.0, 'variety_Verdejo': 0.0, 'variety_Verdelho': 0.0, 'variety_Vermentino': 0.0, 'variety_Vernaccia': 0.0, 'variety_Vidal Blanc': 0.0, 'variety_Viognier': 0.0, 'variety_Viura': 0.0, 'variety_White Blend': 0.0, 'variety_Xinomavro': 0.0, 'variety_Zinfandel': 0.0, 'variety_Zweigelt': 0.0, 'winery_Abacela': 0.0, 'winery_Abeja': 0.0, 'winery_Adega Cooperativa de Borba': 0.0, 'winery_Adelaida': 0.0, 'winery_Adelsheim': 0.0, 'winery_Airfield Estates': 0.0, 'winery_Alexander Valley Vineyards': 0.0, 'winery_Alexandria Nicole': 0.0, 'winery_Alta Vista': 0.0, 'winery_Andeluna': 0.0, 'winery_Andrew Will': 0.0, 'winery_Apaltagua': 0.0, 'winery_Arboleda': 0.0, 'winery_Arbor Crest': 0.0, 'winery_Aresti': 0.0, 'winery_Arista': 0.0, 'winery_Arrowood': 0.0, 'winery_Artesa': 0.0, 'winery_Astoria': 0.0, 'winery_Babcock': 0.0, 'winery_Bacalhôa Wines of Portugal': 0.0, 'winery_Ballentine': 0.0, 'winery_Balletto': 0.0, 'winery_Barnard Griffin': 0.0, 'winery_Barnett': 0.0, 'winery_Barrister': 0.0, 'winery_Barton & Guestier': 0.0, 'winery_Basel Cellars': 0.0, 'winery_Beaulieu Vineyard': 0.0, 'winery_Benziger': 0.0, 'winery_Beringer': 0.0, 'winery_Bernard Magrez': 0.0, 'winery_Bernardus': 0.0, 'winery_Betz Family': 0.0, 'winery_Bianchi': 0.0, 'winery_Blackstone': 0.0, 'winery_Bodega Catena Zapata': 0.0, 'winery_Bodega Norton': 0.0, 'winery_Bodegas Navarro López': 0.0, 'winery_Bodegas Valdemar': 0.0, 'winery_Bogle': 0.0, 'winery_Bonterra': 0.0, 'winery_Borges': 0.0, 'winery_Bouchard Aîné & Fils': 0.0, 'winery_Bouchard Père & Fils': 0.0, 'winery_Boutari': 0.0, 'winery_Brancott': 0.0, 'winery_Brander': 0.0, 'winery_Brian Carter Cellars': 0.0, 'winery_Bründlmayer': 0.0, 'winery_Buena Vista': 0.0, 'winery_Buty': 0.0, 'winery_Byron': 0.0, 'winery_CVNE': 0.0, 'winery_Cadence': 0.0, 'winery_Calcareous': 0.0, 'winery_Calera': 0.0, 'winery_Caliterra': 0.0, 'winery_Cambria': 0.0, 'winery_Cameron Hughes': 0.0, 'winery_Campolargo': 0.0, 'winery_Cantina Santadi': 0.0, 'winery_Carlos Basso': 0.0, 'winery_Carmel': 0.0, 'winery_Carmen': 0.0, 'winery_Carpineto': 0.0, 'winery_Carr': 0.0, 'winery_Casa Silva': 0.0, 'winery_Castello Banfi': 0.0, 'winery_Castle Rock': 0.0, 'winery_Castoro Cellars': 0.0, 'winery_Cave B': 0.0, 'winery_Caves Aliança': 0.0, 'winery_Cayuse': 0.0, 'winery_Ceretto': 0.0, 'winery_Chalk Hill': 0.0, 'winery_Chandon': 0.0, 'winery_Chanson Père et Fils': 0.0, 'winery_Charles Krug': 0.0, 'winery_Chateau St. Jean': 0.0, 'winery_Chateau Ste. Michelle': 0.0, 'winery_Chehalem': 0.0, 'winery_Chilcas': 0.0, 'winery_Chimney Rock': 0.0, 'winery_Cinnabar': 0.0, 'winery_Clarendon Hills': 0.0, 'winery_Cline': 0.0, 'winery_Clos La Chance': 0.0, 'winery_Clos Pegase': 0.0, 'winery_Clos du Bois': 0.0, 'winery_Clos du Val': 0.0, 'winery_Columbia Crest': 0.0, 'winery_Columbia Winery': 0.0, 'winery_Companhia das Quintas': 0.0, 'winery_Concannon': 0.0, 'winery_Concha y Toro': 0.0, 'winery_Cono Sur': 0.0, 'winery_Covey Run': 0.0, 'winery_Craggy Range': 0.0, 'winery_Curtis': 0.0, 'winery_Cusumano': 0.0, 'winery_Cuvaison': 0.0, \"winery_D'Arenberg\": 0.0, 'winery_DFJ Vinhos': 0.0, 'winery_David Hill': 0.0, 'winery_De Bortoli': 0.0, 'winery_De Loach': 0.0, 'winery_De Martino': 0.0, 'winery_DeLille': 0.0, 'winery_Del Rio': 0.0, 'winery_Domaine Faiveley': 0.0, 'winery_Domaine Jean Bousquet': 0.0, 'winery_Domaine Serene': 0.0, 'winery_Domaine Zind-Humbrecht': 0.0, 'winery_Domaine de la Terre Rouge': 0.0, 'winery_Domaine des Baumard': 0.0, 'winery_Domaines Barons de Rothschild (Lafite)': 0.0, 'winery_Domaines Schlumberger': 0.0, 'winery_Domdechant Werner': 0.0, 'winery_Donnafugata': 0.0, 'winery_Dopff & Irion': 0.0, 'winery_Doyenne': 0.0, 'winery_Doña Paula': 0.0, 'winery_Dr. H. Thanisch (Erben Müller-Burggraef)': 0.0, 'winery_Dr. Konstantin Frank': 0.0, 'winery_Dr. Loosen': 0.0, 'winery_Dr. Pauly Bergweiler': 0.0, 'winery_Dry Creek Vineyard': 0.0, 'winery_Duca di Salaparuta': 0.0, 'winery_Duckhorn': 0.0, 'winery_Dunham': 0.0, 'winery_Dusted Valley': 0.0, 'winery_Dutton Estate': 0.0, 'winery_Dutton-Goldfield': 0.0, 'winery_Dão Sul': 0.0, 'winery_E. Guigal': 0.0, 'winery_EOS': 0.0, 'winery_Easton': 0.0, 'winery_Eberle': 0.0, 'winery_Echeverria': 0.0, 'winery_El Coto': 0.0, 'winery_Emiliana': 0.0, 'winery_Epiphany': 0.0, 'winery_Erath': 0.0, 'winery_Errazuriz': 0.0, 'winery_Estampa': 0.0, 'winery_Estancia': 0.0, 'winery_Etude': 0.0, 'winery_Failla': 0.0, 'winery_Familia Schroeder': 0.0, 'winery_Felton Road': 0.0, 'winery_Fenestra': 0.0, 'winery_Ferrari-Carano': 0.0, 'winery_Fess Parker': 0.0, 'winery_Fetzer': 0.0, 'winery_Feudi di San Gregorio': 0.0, 'winery_Feudo Arancio': 0.0, 'winery_Fidelitas': 0.0, 'winery_Finca Sophenia': 0.0, 'winery_Firestone': 0.0, 'winery_Flora Springs': 0.0, 'winery_Fournier Père et Fils': 0.0, 'winery_Foxen': 0.0, 'winery_Francis Ford Coppola': 0.0, 'winery_François Lurton': 0.0, 'winery_Freemark Abbey': 0.0, 'winery_Freixenet': 0.0, 'winery_Fritz': 0.0, \"winery_Frog's Leap\": 0.0, 'winery_Funky Llama': 0.0, 'winery_Gainey': 0.0, 'winery_Gamache': 0.0, 'winery_Gary Farrell': 0.0, 'winery_Georges Vigouroux': 0.0, 'winery_Geyser Peak': 0.0, 'winery_Girard': 0.0, 'winery_Glenora': 0.0, 'winery_Gloria Ferrer': 0.0, 'winery_Golan Heights Winery': 0.0, 'winery_Goldeneye': 0.0, 'winery_Gorman': 0.0, 'winery_Grgich Hills': 0.0, 'winery_Guenoc': 0.0, 'winery_Gunter Triebaumer': 0.0, 'winery_Gérard Bertrand': 0.0, 'winery_Hahn': 0.0, 'winery_Handley': 0.0, 'winery_Hanna': 0.0, 'winery_Hazlitt 1852 Vineyards': 0.0, 'winery_Hendry': 0.0, 'winery_Henri de Villamont': 0.0, 'winery_Herdade do Esporão': 0.0, 'winery_Heron Hill': 0.0, 'winery_Hogue': 0.0, 'winery_Husch': 0.0, 'winery_Iron Horse': 0.0, 'winery_Ironstone': 0.0, 'winery_J Vineyards & Winery': 0.0, 'winery_J. & F. Lurton': 0.0, 'winery_J. Lohr': 0.0, \"winery_Jacob's Creek\": 0.0, 'winery_Jaffurs': 0.0, 'winery_Januik': 0.0, 'winery_Joseph Drouhin': 0.0, 'winery_Joseph Phelps': 0.0, 'winery_Joseph Swan Vineyards': 0.0, 'winery_Justin': 0.0, 'winery_K Vintners': 0.0, 'winery_Keenan': 0.0, 'winery_Ken Wright': 0.0, 'winery_Kendall-Jackson': 0.0, 'winery_Kenwood': 0.0, 'winery_Kilikanoon': 0.0, 'winery_Kim Crawford': 0.0, 'winery_King Estate': 0.0, 'winery_Kirkland Signature': 0.0, 'winery_Kokomo': 0.0, 'winery_Korbel': 0.0, 'winery_Kumeu River': 0.0, 'winery_Kunde': 0.0, 'winery_Kynsi': 0.0, \"winery_L'Ecole No. 41\": 0.0, 'winery_La Chablisienne': 0.0, 'winery_La Crema': 0.0, 'winery_La Fenêtre': 0.0, 'winery_La Playa': 0.0, 'winery_La Rochelle': 0.0, 'winery_Labouré-Roi': 0.0, 'winery_Laetitia': 0.0, 'winery_Lagarde': 0.0, 'winery_Lamoreaux Landing': 0.0, 'winery_Lapostolle': 0.0, 'winery_Lava Cap': 0.0, 'winery_Leeuwin Estate': 0.0, 'winery_Lemelson': 0.0, 'winery_Leonetti Cellar': 0.0, 'winery_Lockwood': 0.0, 'winery_Longboard': 0.0, 'winery_Longoria': 0.0, 'winery_Loring Wine Company': 0.0, 'winery_Lost Canyon': 0.0, 'winery_Louis Jadot': 0.0, 'winery_Louis Latour': 0.0, 'winery_Louis M. Martini': 0.0, 'winery_Louis Roederer': 0.0, 'winery_Lucas & Lewellen': 0.0, 'winery_Lucien Albrecht': 0.0, 'winery_Luigi Bosca': 0.0, 'winery_Luis Felipe Edwards': 0.0, 'winery_Lungarotti': 0.0, 'winery_Lynmar': 0.0, 'winery_M. Chapoutier': 0.0, 'winery_MacPhail': 0.0, 'winery_Macari': 0.0, 'winery_Maddalena': 0.0, 'winery_Manuel Olivier': 0.0, 'winery_Marchesi Antinori': 0.0, 'winery_Marchesi di Barolo': 0.0, 'winery_Marimar Estate': 0.0, 'winery_Mark Ryan': 0.0, 'winery_Marqués de Cáceres': 0.0, 'winery_Martin & Weyrich': 0.0, 'winery_Martin Ranch': 0.0, 'winery_Martin Ray': 0.0, 'winery_Maryhill': 0.0, 'winery_Maximin Grünhäuser': 0.0, 'winery_Mazzei': 0.0, 'winery_Mazzocco': 0.0, 'winery_McManis': 0.0, 'winery_Melrose': 0.0, 'winery_Melville': 0.0, 'winery_Merry Edwards': 0.0, 'winery_Merryvale': 0.0, 'winery_Michel Torino': 0.0, 'winery_Midnight': 0.0, 'winery_Miguel Torres': 0.0, 'winery_Milbrandt': 0.0, 'winery_Minassian-Young': 0.0, 'winery_MontGras': 0.0, 'winery_Montes': 0.0, 'winery_Morandé': 0.0, 'winery_Morgan': 0.0, 'winery_Mounts': 0.0, 'winery_Mumm Napa': 0.0, 'winery_Murphy-Goode': 0.0, 'winery_Navarro': 0.0, 'winery_Nefarious Cellars': 0.0, 'winery_Neil Ellis': 0.0, 'winery_Nickel & Nickel': 0.0, 'winery_Niepoort': 0.0, 'winery_Nieto Senetiner': 0.0, 'winery_Nittnaus Hans und Christine': 0.0, 'winery_Novelty Hill': 0.0, 'winery_Novy': 0.0, 'winery_O. Fournier': 0.0, 'winery_Odfjell': 0.0, 'winery_Ojai': 0.0, 'winery_Olivier Leflaive': 0.0, 'winery_Owen Roe': 0.0, 'winery_Pali': 0.0, 'winery_Panther Creek': 0.0, 'winery_Paraiso Vineyards': 0.0, 'winery_Pascual Toso': 0.0, 'winery_Patz & Hall': 0.0, 'winery_Paul Jaboulet Aîné': 0.0, 'winery_Peachy Canyon': 0.0, 'winery_Pedroncelli': 0.0, 'winery_Peirano': 0.0, 'winery_Peju': 0.0, 'winery_Penfolds': 0.0, 'winery_Pessagno': 0.0, 'winery_Pierre Sparr': 0.0, 'winery_Pine Ridge': 0.0, 'winery_Pio Cesare': 0.0, 'winery_Planeta': 0.0, 'winery_Ponzi': 0.0, 'winery_Poças': 0.0, 'winery_Pratsch': 0.0, 'winery_Pride Mountain': 0.0, 'winery_Producteurs Plaimont': 0.0, 'winery_Quinta de Ventozelo': 0.0, 'winery_Quinta do Casal Branco': 0.0, 'winery_Quinta do Portal': 0.0, 'winery_Quivira': 0.0, 'winery_Ramos-Pinto': 0.0, 'winery_Ramón Bilbao': 0.0, 'winery_Rancho Sisquoc': 0.0, 'winery_Raymond': 0.0, 'winery_Recanati': 0.0, 'winery_Reichsgraf von Kesselstatt': 0.0, 'winery_Remy-Pannier': 0.0, 'winery_Renwood': 0.0, 'winery_Rex Hill': 0.0, 'winery_Robert Hall': 0.0, 'winery_Robert Mondavi': 0.0, 'winery_Rocca delle Macìe': 0.0, 'winery_Rock Wall': 0.0, 'winery_Rodney Strong': 0.0, 'winery_Roessler': 0.0, 'winery_Rosemount': 0.0, 'winery_Rosenblum': 0.0, 'winery_Rusack': 0.0, 'winery_Rutherford Hill': 0.0, 'winery_Rutini': 0.0, 'winery_Saint Clair': 0.0, 'winery_Salomon-Undhof': 0.0, 'winery_San Juan Vineyards': 0.0, 'winery_San Pedro': 0.0, 'winery_San Simeon': 0.0, 'winery_Santa Alicia': 0.0, 'winery_Santa Barbara Winery': 0.0, 'winery_Santa Carolina': 0.0, 'winery_Santa Ema': 0.0, 'winery_Santa Julia': 0.0, 'winery_Santa Rita': 0.0, 'winery_Saviah': 0.0, 'winery_Sbragia': 0.0, 'winery_Schramsberg': 0.0, 'winery_Schug': 0.0, 'winery_Sebastiani': 0.0, 'winery_Segura Viudas': 0.0, 'winery_Sequoia Grove': 0.0, 'winery_Seven Hills': 0.0, 'winery_Shafer': 0.0, 'winery_Shannon Ridge': 0.0, 'winery_Siduri': 0.0, 'winery_Sierra Cantabria': 0.0, 'winery_Signorello': 0.0, 'winery_Simonnet-Febvre': 0.0, 'winery_Sineann': 0.0, 'winery_Snoqualmie': 0.0, 'winery_Sobon Estate': 0.0, 'winery_Soléna': 0.0, 'winery_Sparkman': 0.0, 'winery_Spring Valley Vineyard': 0.0, 'winery_Spy Valley': 0.0, 'winery_St. Francis': 0.0, 'winery_St. Supéry': 0.0, \"winery_Stag's Leap Wine Cellars\": 0.0, 'winery_Standing Stone': 0.0, 'winery_Steele': 0.0, 'winery_Stephen Ross': 0.0, 'winery_Sterling': 0.0, 'winery_Steven Kent': 0.0, 'winery_Stevens': 0.0, 'winery_Summers': 0.0, 'winery_Sur de los Andes': 0.0, 'winery_Sylvester': 0.0, 'winery_Syncline': 0.0, 'winery_Tablas Creek': 0.0, 'winery_Talamonti': 0.0, 'winery_Talbott': 0.0, 'winery_Talley': 0.0, 'winery_Tamarack Cellars': 0.0, 'winery_Tamaya': 0.0, 'winery_Tandem': 0.0, 'winery_Tangent': 0.0, \"winery_Tasca d'Almerita\": 0.0, 'winery_Telmo Rodríguez': 0.0, 'winery_Terlato': 0.0, 'winery_TerraNoble': 0.0, 'winery_Terrazas de Los Andes': 0.0, 'winery_Terre Rouge': 0.0, 'winery_Tertulia': 0.0, 'winery_Testarossa': 0.0, 'winery_Thomas Fogarty': 0.0, 'winery_Three Rivers': 0.0, 'winery_Thurston Wolfe': 0.0, 'winery_Tolosa': 0.0, 'winery_Tommasi': 0.0, 'winery_Torii Mor': 0.0, 'winery_Torres': 0.0, 'winery_Trapiche': 0.0, 'winery_Trinchero': 0.0, 'winery_Trivento': 0.0, 'winery_Truchard': 0.0, 'winery_Umani Ronchi': 0.0, 'winery_Undurraga': 0.0, 'winery_V. Sattui': 0.0, 'winery_Valentin Bianchi': 0.0, \"winery_Valle dell'Acate\": 0.0, 'winery_Valley of the Moon': 0.0, 'winery_Ventisquero': 0.0, 'winery_Veramonte': 0.0, 'winery_Villa Maria': 0.0, 'winery_Vina Robles': 0.0, 'winery_Vine Cliff': 0.0, 'winery_Vinum': 0.0, 'winery_Viu Manent': 0.0, 'winery_Viña Bisquertt': 0.0, 'winery_Viña La Rosa': 0.0, 'winery_Viña Requingua': 0.0, 'winery_Viña Tabalí': 0.0, 'winery_Von Strasser': 0.0, 'winery_Wagner': 0.0, 'winery_Wakefield Estate': 0.0, 'winery_Waterbrook': 0.0, 'winery_Wellington': 0.0, 'winery_Wente': 0.0, 'winery_White Oak': 0.0, 'winery_Willamette Valley Vineyards': 0.0, 'winery_William Fèvre': 0.0, 'winery_William Hill Estate': 0.0, 'winery_Williams Selyem': 0.0, 'winery_Wilson': 0.0, 'winery_Wines & Winemakers': 0.0, 'winery_Winzer Krems': 0.0, 'winery_Woodward Canyon': 0.0, 'winery_Wölffer': 0.0, 'winery_X': 0.0, 'winery_Yalumba': 0.0, 'winery_Zaca Mesa': 0.0, 'winery_Zuccardi': 0.0, 'winery_Zull': 0.0, 'latent_description_0': 0.08963157398411953, 'latent_description_1': -0.0447220835941314, 'latent_description_2': -0.031750322450075995, 'latent_description_3': 0.02880994413163543, 'latent_description_4': 0.0033397272135805103, 'price': 20.0}\n"
     ]
    }
   ],
   "source": [
    "#get an example payload from the test data\n",
    "feature_payload = X_test.iloc[5].to_dict()\n",
    "print(feature_payload)"
   ]
  },
  {
   "cell_type": "code",
   "execution_count": 47,
   "metadata": {},
   "outputs": [
    {
     "data": {
      "text/plain": [
       "{'country_US': 1.0,\n",
       " 'region_Napa Valley': 1.0,\n",
       " 'variety_Cabernet Sauvignon': 1.0,\n",
       " 'latent_description_0': 0.08963157398411953,\n",
       " 'latent_description_3': 0.02880994413163543,\n",
       " 'latent_description_4': 0.0033397272135805103,\n",
       " 'price': 20.0}"
      ]
     },
     "execution_count": 47,
     "metadata": {},
     "output_type": "execute_result"
    }
   ],
   "source": [
    "non_zero_features = [k for k,v in feature_payload.items() if v > 0]\n",
    "dict((k, feature_payload[k]) for k in non_zero_features if k in feature_payload)"
   ]
  },
  {
   "cell_type": "code",
   "execution_count": 48,
   "metadata": {},
   "outputs": [
    {
     "ename": "ValueError",
     "evalue": "feature_names mismatch: ['country_Albania', 'country_Argentina', 'country_Australia', 'country_Austria', 'country_Bosnia and Herzegovina', 'country_Brazil', 'country_Bulgaria', 'country_Canada', 'country_Chile', 'country_China', 'country_Croatia', 'country_Cyprus', 'country_Czech Republic', 'country_England', 'country_France', 'country_Georgia', 'country_Germany', 'country_Greece', 'country_Hungary', 'country_India', 'country_Israel', 'country_Italy', 'country_Japan', 'country_Lebanon', 'country_Lithuania', 'country_Luxembourg', 'country_Macedonia', 'country_Mexico', 'country_Moldova', 'country_Montenegro', 'country_Morocco', 'country_New Zealand', 'country_Portugal', 'country_Romania', 'country_Serbia', 'country_Slovakia', 'country_Slovenia', 'country_South Africa', 'country_South Korea', 'country_Spain', 'country_Switzerland', 'country_Turkey', 'country_US', 'country_US-France', 'country_Ukraine', 'country_Uruguay', 'designation_Bacigalupi Vineyard', 'designation_Barrel Fermented', 'designation_Barrel Select', 'designation_Bien Nacido Vineyard', 'designation_Blanc de Blancs', 'designation_Blanc de Blancs Brut', 'designation_Broquel', 'designation_Brut', 'designation_Brut Rosé', 'designation_Champoux Vineyard', 'designation_Ciel du Cheval Vineyard', 'designation_Classic', 'designation_Crianza', 'designation_Cuvée Prestige', 'designation_Dry', 'designation_Durell Vineyard', 'designation_Dutton Ranch', 'designation_Estate', 'designation_Estate Bottled', 'designation_Estate Grown', 'designation_Estate Reserve', 'designation_Estate Vineyard', 'designation_Extra Dry', 'designation_Flood Family Vineyards', \"designation_Garys' Vineyard\", 'designation_Gran Reserva', 'designation_Grand Reserve', 'designation_Kosher', 'designation_La Cruz Vineyard', 'designation_Late Bottled Vintage', 'designation_Late Harvest', 'designation_Limited Edition', 'designation_Limited Release', 'designation_Limited Selection', 'designation_Oak Cask', 'designation_Old Vine', 'designation_Old Vines', 'designation_Premium', 'designation_Prestige', 'designation_Private Reserve', 'designation_Private Selection', \"designation_Proprietor's Reserve\", 'designation_Red', 'designation_Red Wine', 'designation_Reserva', 'designation_Reserva Especial', 'designation_Reserve', 'designation_Riserva', 'designation_Roble', 'designation_Rosado', \"designation_Rosella's Vineyard\", 'designation_Rosé', 'designation_Rosé of', 'designation_Réserve', 'designation_Sangiacomo Vineyard', 'designation_Semi-Dry', 'designation_Signature', 'designation_Single Vineyard', 'designation_Sleepy Hollow Vineyard', 'designation_Special Reserve', 'designation_Stagecoach Vineyard', 'designation_Stillwater Creek Vineyard', 'designation_Tinto', 'designation_Tradition', 'designation_Trocken', 'designation_Two Vines', 'designation_Unoaked', 'designation_Vieilles Vignes', 'designation_Vintage', \"designation_Vintner's Reserve\", 'designation_White', 'region_Adelaide', 'region_Adelaide Hills', 'region_Aglianico del Vulture', 'region_Alexander Valley', 'region_Alicante', 'region_Alsace', 'region_Alto Adige', 'region_Amador County', 'region_Amarone della Valpolicella', 'region_Amarone della Valpolicella Classico', 'region_Anderson Valley', 'region_Anjou', 'region_Applegate Valley', 'region_Argentina', 'region_Arroyo Grande Valley', 'region_Arroyo Seco', 'region_Atlas Peak', 'region_Barbaresco', \"region_Barbera d'Alba\", \"region_Barbera d'Alba Superiore\", \"region_Barbera d'Asti\", \"region_Barbera d'Asti Superiore\", 'region_Barolo', 'region_Barossa', 'region_Barossa Valley', 'region_Beaujolais', 'region_Beaujolais-Villages', 'region_Beaune', 'region_Bennett Valley', 'region_Bergerac', 'region_Bergerac Sec', 'region_Bierzo', 'region_Blaye Côtes de Bordeaux', 'region_Bolgheri', 'region_Bolgheri Superiore', 'region_Bordeaux', 'region_Bordeaux Blanc', 'region_Bordeaux Rosé', 'region_Bordeaux Supérieur', 'region_Bourgogne', 'region_Brunello di Montalcino', 'region_Cafayate', 'region_Cahors', 'region_Calatayud', 'region_Calaveras County', 'region_Calchaquí Valley', 'region_California', 'region_Calistoga', 'region_Campania', 'region_Campo de Borja', 'region_Cariñena', 'region_Carmel Valley', 'region_Carneros', 'region_Catalunya', 'region_Cava', 'region_Cayuga Lake', 'region_Central Coast', 'region_Chablis', 'region_Chalk Hill', 'region_Chalone', 'region_Chambolle-Musigny', 'region_Champagne', 'region_Chassagne-Montrachet', 'region_Chehalem Mountains', 'region_Chianti', 'region_Chianti Classico', 'region_Chianti Colli Senesi', 'region_Chianti Rufina', 'region_Chinon', 'region_Châteauneuf-du-Pape', 'region_Cienega Valley', 'region_Clare Valley', 'region_Clarendon', 'region_Clarksburg', 'region_Colli Orientali del Friuli', 'region_Colli della Toscana Centrale', 'region_Collio', 'region_Columbia Valley (OR)', 'region_Columbia Valley (WA)', 'region_Conegliano Valdobbiadene Prosecco Superiore', 'region_Contra Costa County', 'region_Coonawarra', 'region_Corbières', 'region_Cornas', 'region_Costières de Nîmes', \"region_Coteaux d'Aix-en-Provence\", 'region_Coteaux du Languedoc', 'region_Crozes-Hermitage', \"region_Crémant d'Alsace\", 'region_Crémant de Bourgogne', 'region_Côte Rôtie', 'region_Côtes de Bourg', 'region_Côtes de Gascogne', 'region_Côtes de Provence', 'region_Côtes du Rhône', 'region_Côtes du Rhône Villages', 'region_Delle Venezie', 'region_Diamond Mountain District', \"region_Dolcetto d'Alba\", 'region_Dry Creek Valley', 'region_Dundee Hills', 'region_Eden Valley', 'region_Edna Valley', 'region_El Dorado', 'region_Eola-Amity Hills', 'region_Etna', 'region_Famatina Valley', 'region_Fiano di Avellino', 'region_Fiddletown', 'region_Finger Lakes', 'region_Franciacorta', 'region_Friuli Grave', 'region_Friuli Isonzo', 'region_Gaillac', 'region_Gevrey-Chambertin', 'region_Gigondas', 'region_Graves', 'region_Greco di Tufo', 'region_Green Valley', 'region_Happy Canyon of Santa Barbara', 'region_Haut-Médoc', 'region_Hermitage', 'region_High Valley', 'region_Horse Heaven Hills', 'region_Howell Mountain', 'region_Hunter Valley', 'region_Irpinia', 'region_Isola dei Nuraghi', 'region_Jerez', 'region_Jumilla', 'region_Knights Valley', 'region_La Mancha', 'region_Lake County', 'region_Langhe', 'region_Langhorne Creek', 'region_Lazio', 'region_Livermore Valley', 'region_Lodi', 'region_Long Island', 'region_Los Carneros', 'region_Lugana', 'region_Luján de Cuyo', 'region_Madiran', 'region_Maipú', 'region_Marche', 'region_Maremma', 'region_Maremma Toscana', 'region_Margaret River', 'region_Margaux', 'region_Marin County', 'region_McLaren Vale', 'region_McMinnville', 'region_Mendocino', 'region_Mendocino County', 'region_Mendocino Ridge', 'region_Mendoza', 'region_Mercurey', 'region_Meursault', 'region_Minervois', \"region_Montepulciano d'Abruzzo\", 'region_Monterey', 'region_Monterey County', 'region_Monticello', 'region_Montsant', 'region_Morellino di Scansano', \"region_Moscato d'Asti\", 'region_Mount Veeder', 'region_Mt. Harlan', 'region_Muscadet Sèvre et Maine', 'region_Mâcon-Villages', 'region_Médoc', 'region_Napa', 'region_Napa County', 'region_Napa Valley', 'region_Navarra', 'region_Neuquén', 'region_New Mexico', 'region_New York', 'region_Niagara Peninsula', 'region_North Coast', 'region_North Fork of Long Island', 'region_Nuits-St.-Georges', 'region_Oak Knoll District', 'region_Oakville', 'region_Okanagan Valley', 'region_Oregon', 'region_Paso Robles', 'region_Pauillac', \"region_Pays d'Oc\", 'region_Penedès', 'region_Pessac-Léognan', 'region_Piedmont', 'region_Pommard', 'region_Pouilly-Fuissé', 'region_Pouilly-Fumé', 'region_Priorat', 'region_Prosecco', 'region_Prosecco Superiore di Cartizze', 'region_Prosecco del Veneto', 'region_Prosecco di Conegliano e Valdobbiadene', 'region_Prosecco di Valdobbiadene', 'region_Puglia', 'region_Puligny-Montrachet', 'region_Rattlesnake Hills', 'region_Red Hills Lake County', 'region_Red Mountain', 'region_Redwood Valley', 'region_Ribbon Ridge', 'region_Ribera del Duero', 'region_Rioja', 'region_Rockpile', 'region_Rogue Valley', 'region_Rosso di Montalcino', 'region_Rosso di Montepulciano', 'region_Rueda', 'region_Russian River Valley', 'region_Rutherford', 'region_Rutherglen', 'region_Rías Baixas', 'region_Río Negro Valley', 'region_Sagrantino di Montefalco', 'region_Saint-Estèphe', 'region_Saint-Joseph', 'region_Saint-Julien', 'region_Saint-Émilion', 'region_Salento', 'region_Salta', 'region_San Benito County', 'region_San Juan', 'region_San Luis Obispo County', 'region_San Rafael', 'region_Sancerre', \"region_Sant'Antimo\", 'region_Santa Barbara County', 'region_Santa Clara Valley', 'region_Santa Cruz Mountains', 'region_Santa Lucia Highlands', 'region_Santa Maria Valley', 'region_Santa Ynez Valley', 'region_Santenay', 'region_Savigny-lès-Beaune', 'region_Seneca Lake', 'region_Shenandoah Valley (CA)', 'region_Sicilia', 'region_Sierra Foothills', 'region_Snipes Mountain', 'region_Soave', 'region_Soave Classico', 'region_Somontano', 'region_Sonoma Coast', 'region_Sonoma County', 'region_Sonoma Mountain', 'region_Sonoma Valley', 'region_Sonoma-Napa', 'region_South Australia', 'region_South Eastern Australia', 'region_Southern Oregon', 'region_St. Helena', 'region_Sta. Rita Hills', 'region_Stags Leap District', 'region_Taurasi', 'region_Temecula', 'region_Temecula Valley', 'region_Terre Siciliane', 'region_Tierra de Castilla', 'region_Toro', 'region_Toscana', 'region_Trentino', 'region_Trento', 'region_Tupungato', 'region_Uco Valley', 'region_Umbria', 'region_Umpqua Valley', 'region_Utiel-Requena', 'region_Valdeorras', 'region_Valdepeñas', 'region_Valencia', 'region_Valpolicella Classico Superiore', 'region_Valpolicella Classico Superiore Ripasso', 'region_Valpolicella Superiore', 'region_Valpolicella Superiore Ripasso', 'region_Veneto', 'region_Venezia Giulia', 'region_Vermentino di Sardegna', 'region_Vernaccia di San Gimignano', 'region_Victoria', 'region_Vigneti delle Dolomiti', 'region_Vin Mousseux', \"region_Vin de Pays d'Oc\", 'region_Vin de Pays des Côtes de Gascogne', 'region_Vino Nobile di Montepulciano', 'region_Vino de la Tierra de Castilla', 'region_Vino de la Tierra de Castilla y León', 'region_Virginia', 'region_Volnay', 'region_Vosne-Romanée', 'region_Vouvray', 'region_Wahluke Slope', 'region_Walla Walla Valley (OR)', 'region_Walla Walla Valley (WA)', 'region_Washington', 'region_Western Australia', 'region_Willamette Valley', 'region_Yakima Valley', 'region_Yamhill-Carlton District', 'region_Yarra Valley', 'region_Yorkville Highlands', 'region_Yountville', 'variety_Agiorgitiko', 'variety_Aglianico', 'variety_Albariño', 'variety_Alsace white blend', 'variety_Alvarinho', 'variety_Arinto', 'variety_Arneis', 'variety_Assyrtico', 'variety_Austrian Red Blend', 'variety_Barbera', 'variety_Blaufränkisch', 'variety_Bonarda', 'variety_Bordeaux-style Red Blend', 'variety_Bordeaux-style White Blend', 'variety_Cabernet Blend', 'variety_Cabernet Franc', 'variety_Cabernet Sauvignon', 'variety_Cabernet Sauvignon-Carmenère', 'variety_Cabernet Sauvignon-Malbec', 'variety_Cabernet Sauvignon-Merlot', 'variety_Cabernet Sauvignon-Shiraz', 'variety_Cabernet Sauvignon-Syrah', 'variety_Carignan', 'variety_Carignano', 'variety_Carmenère', 'variety_Champagne Blend', 'variety_Chardonnay', 'variety_Chardonnay-Viognier', 'variety_Chenin Blanc', 'variety_Cortese', 'variety_Corvina, Rondinella, Molinara', 'variety_Dolcetto', 'variety_Falanghina', 'variety_Fiano', 'variety_Friulano', 'variety_Fumé Blanc', 'variety_G-S-M', 'variety_Gamay', 'variety_Garganega', 'variety_Garnacha', 'variety_Gewürztraminer', 'variety_Glera', 'variety_Godello', 'variety_Greco', 'variety_Grenache', 'variety_Grenache Blanc', 'variety_Grenache-Syrah', 'variety_Grillo', 'variety_Grüner Veltliner', 'variety_Lambrusco', 'variety_Malbec', 'variety_Malbec-Cabernet Sauvignon', 'variety_Malbec-Merlot', 'variety_Marsanne', 'variety_Melon', 'variety_Mencía', 'variety_Meritage', 'variety_Merlot', 'variety_Merlot-Cabernet Sauvignon', 'variety_Monastrell', 'variety_Montepulciano', 'variety_Moscato', 'variety_Mourvèdre', 'variety_Muscat', 'variety_Muscat Canelli', 'variety_Nebbiolo', 'variety_Negroamaro', 'variety_Nerello Mascalese', \"variety_Nero d'Avola\", 'variety_Petit Verdot', 'variety_Petite Sirah', 'variety_Petite Verdot', 'variety_Pinot Bianco', 'variety_Pinot Blanc', 'variety_Pinot Grigio', 'variety_Pinot Gris', 'variety_Pinot Nero', 'variety_Pinot Noir', 'variety_Pinotage', 'variety_Port', 'variety_Portuguese Red', 'variety_Portuguese White', 'variety_Primitivo', 'variety_Prosecco', 'variety_Prugnolo Gentile', 'variety_Red Blend', 'variety_Rhône-style Red Blend', 'variety_Rhône-style White Blend', 'variety_Ribolla Gialla', 'variety_Riesling', 'variety_Rosé', 'variety_Roussanne', 'variety_Sagrantino', 'variety_Sangiovese', 'variety_Sangiovese Grosso', 'variety_Sauvignon', 'variety_Sauvignon Blanc', 'variety_Sauvignon Blanc-Semillon', 'variety_Semillon-Sauvignon Blanc', 'variety_Sherry', 'variety_Shiraz', 'variety_Shiraz-Cabernet Sauvignon', 'variety_Shiraz-Viognier', 'variety_Silvaner', 'variety_Sparkling Blend', 'variety_Spätburgunder', 'variety_St. Laurent', 'variety_Syrah', 'variety_Syrah-Cabernet', 'variety_Sémillon', 'variety_Tannat', 'variety_Tempranillo', 'variety_Tempranillo Blend', 'variety_Tempranillo-Cabernet Sauvignon', 'variety_Tempranillo-Garnacha', 'variety_Tinta de Toro', 'variety_Tinto Fino', 'variety_Tinto del Pais', 'variety_Tokaji', 'variety_Torrontés', 'variety_Touriga Nacional', 'variety_Turbiana', 'variety_Verdejo', 'variety_Verdelho', 'variety_Vermentino', 'variety_Vernaccia', 'variety_Vidal Blanc', 'variety_Viognier', 'variety_Viura', 'variety_White Blend', 'variety_Xinomavro', 'variety_Zinfandel', 'variety_Zweigelt', 'winery_Abacela', 'winery_Abeja', 'winery_Adega Cooperativa de Borba', 'winery_Adelaida', 'winery_Adelsheim', 'winery_Airfield Estates', 'winery_Alexander Valley Vineyards', 'winery_Alexandria Nicole', 'winery_Alta Vista', 'winery_Andeluna', 'winery_Andrew Will', 'winery_Apaltagua', 'winery_Arboleda', 'winery_Arbor Crest', 'winery_Aresti', 'winery_Arista', 'winery_Arrowood', 'winery_Artesa', 'winery_Astoria', 'winery_Babcock', 'winery_Bacalhôa Wines of Portugal', 'winery_Ballentine', 'winery_Balletto', 'winery_Barnard Griffin', 'winery_Barnett', 'winery_Barrister', 'winery_Barton & Guestier', 'winery_Basel Cellars', 'winery_Beaulieu Vineyard', 'winery_Benziger', 'winery_Beringer', 'winery_Bernard Magrez', 'winery_Bernardus', 'winery_Betz Family', 'winery_Bianchi', 'winery_Blackstone', 'winery_Bodega Catena Zapata', 'winery_Bodega Norton', 'winery_Bodegas Navarro López', 'winery_Bodegas Valdemar', 'winery_Bogle', 'winery_Bonterra', 'winery_Borges', 'winery_Bouchard Aîné & Fils', 'winery_Bouchard Père & Fils', 'winery_Boutari', 'winery_Brancott', 'winery_Brander', 'winery_Brian Carter Cellars', 'winery_Bründlmayer', 'winery_Buena Vista', 'winery_Buty', 'winery_Byron', 'winery_CVNE', 'winery_Cadence', 'winery_Calcareous', 'winery_Calera', 'winery_Caliterra', 'winery_Cambria', 'winery_Cameron Hughes', 'winery_Campolargo', 'winery_Cantina Santadi', 'winery_Carlos Basso', 'winery_Carmel', 'winery_Carmen', 'winery_Carpineto', 'winery_Carr', 'winery_Casa Silva', 'winery_Castello Banfi', 'winery_Castle Rock', 'winery_Castoro Cellars', 'winery_Cave B', 'winery_Caves Aliança', 'winery_Cayuse', 'winery_Ceretto', 'winery_Chalk Hill', 'winery_Chandon', 'winery_Chanson Père et Fils', 'winery_Charles Krug', 'winery_Chateau St. Jean', 'winery_Chateau Ste. Michelle', 'winery_Chehalem', 'winery_Chilcas', 'winery_Chimney Rock', 'winery_Cinnabar', 'winery_Clarendon Hills', 'winery_Cline', 'winery_Clos La Chance', 'winery_Clos Pegase', 'winery_Clos du Bois', 'winery_Clos du Val', 'winery_Columbia Crest', 'winery_Columbia Winery', 'winery_Companhia das Quintas', 'winery_Concannon', 'winery_Concha y Toro', 'winery_Cono Sur', 'winery_Covey Run', 'winery_Craggy Range', 'winery_Curtis', 'winery_Cusumano', 'winery_Cuvaison', \"winery_D'Arenberg\", 'winery_DFJ Vinhos', 'winery_David Hill', 'winery_De Bortoli', 'winery_De Loach', 'winery_De Martino', 'winery_DeLille', 'winery_Del Rio', 'winery_Domaine Faiveley', 'winery_Domaine Jean Bousquet', 'winery_Domaine Serene', 'winery_Domaine Zind-Humbrecht', 'winery_Domaine de la Terre Rouge', 'winery_Domaine des Baumard', 'winery_Domaines Barons de Rothschild (Lafite)', 'winery_Domaines Schlumberger', 'winery_Domdechant Werner', 'winery_Donnafugata', 'winery_Dopff & Irion', 'winery_Doyenne', 'winery_Doña Paula', 'winery_Dr. H. Thanisch (Erben Müller-Burggraef)', 'winery_Dr. Konstantin Frank', 'winery_Dr. Loosen', 'winery_Dr. Pauly Bergweiler', 'winery_Dry Creek Vineyard', 'winery_Duca di Salaparuta', 'winery_Duckhorn', 'winery_Dunham', 'winery_Dusted Valley', 'winery_Dutton Estate', 'winery_Dutton-Goldfield', 'winery_Dão Sul', 'winery_E. Guigal', 'winery_EOS', 'winery_Easton', 'winery_Eberle', 'winery_Echeverria', 'winery_El Coto', 'winery_Emiliana', 'winery_Epiphany', 'winery_Erath', 'winery_Errazuriz', 'winery_Estampa', 'winery_Estancia', 'winery_Etude', 'winery_Failla', 'winery_Familia Schroeder', 'winery_Felton Road', 'winery_Fenestra', 'winery_Ferrari-Carano', 'winery_Fess Parker', 'winery_Fetzer', 'winery_Feudi di San Gregorio', 'winery_Feudo Arancio', 'winery_Fidelitas', 'winery_Finca Sophenia', 'winery_Firestone', 'winery_Flora Springs', 'winery_Fournier Père et Fils', 'winery_Foxen', 'winery_Francis Ford Coppola', 'winery_François Lurton', 'winery_Freemark Abbey', 'winery_Freixenet', 'winery_Fritz', \"winery_Frog's Leap\", 'winery_Funky Llama', 'winery_Gainey', 'winery_Gamache', 'winery_Gary Farrell', 'winery_Georges Vigouroux', 'winery_Geyser Peak', 'winery_Girard', 'winery_Glenora', 'winery_Gloria Ferrer', 'winery_Golan Heights Winery', 'winery_Goldeneye', 'winery_Gorman', 'winery_Grgich Hills', 'winery_Guenoc', 'winery_Gunter Triebaumer', 'winery_Gérard Bertrand', 'winery_Hahn', 'winery_Handley', 'winery_Hanna', 'winery_Hazlitt 1852 Vineyards', 'winery_Hendry', 'winery_Henri de Villamont', 'winery_Herdade do Esporão', 'winery_Heron Hill', 'winery_Hogue', 'winery_Husch', 'winery_Iron Horse', 'winery_Ironstone', 'winery_J Vineyards & Winery', 'winery_J. & F. Lurton', 'winery_J. Lohr', \"winery_Jacob's Creek\", 'winery_Jaffurs', 'winery_Januik', 'winery_Joseph Drouhin', 'winery_Joseph Phelps', 'winery_Joseph Swan Vineyards', 'winery_Justin', 'winery_K Vintners', 'winery_Keenan', 'winery_Ken Wright', 'winery_Kendall-Jackson', 'winery_Kenwood', 'winery_Kilikanoon', 'winery_Kim Crawford', 'winery_King Estate', 'winery_Kirkland Signature', 'winery_Kokomo', 'winery_Korbel', 'winery_Kumeu River', 'winery_Kunde', 'winery_Kynsi', \"winery_L'Ecole No. 41\", 'winery_La Chablisienne', 'winery_La Crema', 'winery_La Fenêtre', 'winery_La Playa', 'winery_La Rochelle', 'winery_Labouré-Roi', 'winery_Laetitia', 'winery_Lagarde', 'winery_Lamoreaux Landing', 'winery_Lapostolle', 'winery_Lava Cap', 'winery_Leeuwin Estate', 'winery_Lemelson', 'winery_Leonetti Cellar', 'winery_Lockwood', 'winery_Longboard', 'winery_Longoria', 'winery_Loring Wine Company', 'winery_Lost Canyon', 'winery_Louis Jadot', 'winery_Louis Latour', 'winery_Louis M. Martini', 'winery_Louis Roederer', 'winery_Lucas & Lewellen', 'winery_Lucien Albrecht', 'winery_Luigi Bosca', 'winery_Luis Felipe Edwards', 'winery_Lungarotti', 'winery_Lynmar', 'winery_M. Chapoutier', 'winery_MacPhail', 'winery_Macari', 'winery_Maddalena', 'winery_Manuel Olivier', 'winery_Marchesi Antinori', 'winery_Marchesi di Barolo', 'winery_Marimar Estate', 'winery_Mark Ryan', 'winery_Marqués de Cáceres', 'winery_Martin & Weyrich', 'winery_Martin Ranch', 'winery_Martin Ray', 'winery_Maryhill', 'winery_Maximin Grünhäuser', 'winery_Mazzei', 'winery_Mazzocco', 'winery_McManis', 'winery_Melrose', 'winery_Melville', 'winery_Merry Edwards', 'winery_Merryvale', 'winery_Michel Torino', 'winery_Midnight', 'winery_Miguel Torres', 'winery_Milbrandt', 'winery_Minassian-Young', 'winery_MontGras', 'winery_Montes', 'winery_Morandé', 'winery_Morgan', 'winery_Mounts', 'winery_Mumm Napa', 'winery_Murphy-Goode', 'winery_Navarro', 'winery_Nefarious Cellars', 'winery_Neil Ellis', 'winery_Nickel & Nickel', 'winery_Niepoort', 'winery_Nieto Senetiner', 'winery_Nittnaus Hans und Christine', 'winery_Novelty Hill', 'winery_Novy', 'winery_O. Fournier', 'winery_Odfjell', 'winery_Ojai', 'winery_Olivier Leflaive', 'winery_Owen Roe', 'winery_Pali', 'winery_Panther Creek', 'winery_Paraiso Vineyards', 'winery_Pascual Toso', 'winery_Patz & Hall', 'winery_Paul Jaboulet Aîné', 'winery_Peachy Canyon', 'winery_Pedroncelli', 'winery_Peirano', 'winery_Peju', 'winery_Penfolds', 'winery_Pessagno', 'winery_Pierre Sparr', 'winery_Pine Ridge', 'winery_Pio Cesare', 'winery_Planeta', 'winery_Ponzi', 'winery_Poças', 'winery_Pratsch', 'winery_Pride Mountain', 'winery_Producteurs Plaimont', 'winery_Quinta de Ventozelo', 'winery_Quinta do Casal Branco', 'winery_Quinta do Portal', 'winery_Quivira', 'winery_Ramos-Pinto', 'winery_Ramón Bilbao', 'winery_Rancho Sisquoc', 'winery_Raymond', 'winery_Recanati', 'winery_Reichsgraf von Kesselstatt', 'winery_Remy-Pannier', 'winery_Renwood', 'winery_Rex Hill', 'winery_Robert Hall', 'winery_Robert Mondavi', 'winery_Rocca delle Macìe', 'winery_Rock Wall', 'winery_Rodney Strong', 'winery_Roessler', 'winery_Rosemount', 'winery_Rosenblum', 'winery_Rusack', 'winery_Rutherford Hill', 'winery_Rutini', 'winery_Saint Clair', 'winery_Salomon-Undhof', 'winery_San Juan Vineyards', 'winery_San Pedro', 'winery_San Simeon', 'winery_Santa Alicia', 'winery_Santa Barbara Winery', 'winery_Santa Carolina', 'winery_Santa Ema', 'winery_Santa Julia', 'winery_Santa Rita', 'winery_Saviah', 'winery_Sbragia', 'winery_Schramsberg', 'winery_Schug', 'winery_Sebastiani', 'winery_Segura Viudas', 'winery_Sequoia Grove', 'winery_Seven Hills', 'winery_Shafer', 'winery_Shannon Ridge', 'winery_Siduri', 'winery_Sierra Cantabria', 'winery_Signorello', 'winery_Simonnet-Febvre', 'winery_Sineann', 'winery_Snoqualmie', 'winery_Sobon Estate', 'winery_Soléna', 'winery_Sparkman', 'winery_Spring Valley Vineyard', 'winery_Spy Valley', 'winery_St. Francis', 'winery_St. Supéry', \"winery_Stag's Leap Wine Cellars\", 'winery_Standing Stone', 'winery_Steele', 'winery_Stephen Ross', 'winery_Sterling', 'winery_Steven Kent', 'winery_Stevens', 'winery_Summers', 'winery_Sur de los Andes', 'winery_Sylvester', 'winery_Syncline', 'winery_Tablas Creek', 'winery_Talamonti', 'winery_Talbott', 'winery_Talley', 'winery_Tamarack Cellars', 'winery_Tamaya', 'winery_Tandem', 'winery_Tangent', \"winery_Tasca d'Almerita\", 'winery_Telmo Rodríguez', 'winery_Terlato', 'winery_TerraNoble', 'winery_Terrazas de Los Andes', 'winery_Terre Rouge', 'winery_Tertulia', 'winery_Testarossa', 'winery_Thomas Fogarty', 'winery_Three Rivers', 'winery_Thurston Wolfe', 'winery_Tolosa', 'winery_Tommasi', 'winery_Torii Mor', 'winery_Torres', 'winery_Trapiche', 'winery_Trinchero', 'winery_Trivento', 'winery_Truchard', 'winery_Umani Ronchi', 'winery_Undurraga', 'winery_V. Sattui', 'winery_Valentin Bianchi', \"winery_Valle dell'Acate\", 'winery_Valley of the Moon', 'winery_Ventisquero', 'winery_Veramonte', 'winery_Villa Maria', 'winery_Vina Robles', 'winery_Vine Cliff', 'winery_Vinum', 'winery_Viu Manent', 'winery_Viña Bisquertt', 'winery_Viña La Rosa', 'winery_Viña Requingua', 'winery_Viña Tabalí', 'winery_Von Strasser', 'winery_Wagner', 'winery_Wakefield Estate', 'winery_Waterbrook', 'winery_Wellington', 'winery_Wente', 'winery_White Oak', 'winery_Willamette Valley Vineyards', 'winery_William Fèvre', 'winery_William Hill Estate', 'winery_Williams Selyem', 'winery_Wilson', 'winery_Wines & Winemakers', 'winery_Winzer Krems', 'winery_Woodward Canyon', 'winery_Wölffer', 'winery_X', 'winery_Yalumba', 'winery_Zaca Mesa', 'winery_Zuccardi', 'winery_Zull', 'latent_description_0', 'latent_description_1', 'latent_description_2', 'latent_description_3', 'latent_description_4', 'price'] ['country_Albania', 'country_Argentina', 'country_Australia', 'country_Austria', 'country_Bosnia and Herzegovina', 'country_Brazil', 'country_Bulgaria', 'country_Canada', 'country_Chile', 'country_China', 'country_Croatia', 'country_Cyprus', 'country_Czech Republic', 'country_England', 'country_France', 'country_Georgia', 'country_Germany', 'country_Greece', 'country_Hungary', 'country_India', 'country_Israel', 'country_Italy', 'country_Japan', 'country_Lebanon', 'country_Lithuania', 'country_Luxembourg', 'country_Macedonia', 'country_Mexico', 'country_Moldova', 'country_Montenegro', 'country_Morocco', 'country_New Zealand', 'country_Portugal', 'country_Romania', 'country_Serbia', 'country_Slovakia', 'country_Slovenia', 'country_South Africa', 'country_South Korea', 'country_Spain', 'country_Switzerland', 'country_Turkey', 'country_US', 'country_US-France', 'country_Ukraine', 'country_Uruguay', 'designation_Bacigalupi Vineyard', 'designation_Barrel Fermented', 'designation_Barrel Select', 'designation_Bien Nacido Vineyard', 'designation_Blanc de Blancs', 'designation_Blanc de Blancs Brut', 'designation_Broquel', 'designation_Brut', 'designation_Brut Rosé', 'designation_Champoux Vineyard', 'designation_Ciel du Cheval Vineyard', 'designation_Classic', 'designation_Crianza', 'designation_Cuvée Prestige', 'designation_Dry', 'designation_Durell Vineyard', 'designation_Dutton Ranch', 'designation_Estate', 'designation_Estate Bottled', 'designation_Estate Grown', 'designation_Estate Reserve', 'designation_Estate Vineyard', 'designation_Extra Dry', 'designation_Flood Family Vineyards', \"designation_Garys' Vineyard\", 'designation_Gran Reserva', 'designation_Grand Reserve', 'designation_Kosher', 'designation_La Cruz Vineyard', 'designation_Late Bottled Vintage', 'designation_Late Harvest', 'designation_Limited Edition', 'designation_Limited Release', 'designation_Limited Selection', 'designation_Oak Cask', 'designation_Old Vine', 'designation_Old Vines', 'designation_Premium', 'designation_Prestige', 'designation_Private Reserve', 'designation_Private Selection', \"designation_Proprietor's Reserve\", 'designation_Red', 'designation_Red Wine', 'designation_Reserva', 'designation_Reserva Especial', 'designation_Reserve', 'designation_Riserva', 'designation_Roble', 'designation_Rosado', \"designation_Rosella's Vineyard\", 'designation_Rosé', 'designation_Rosé of', 'designation_Réserve', 'designation_Sangiacomo Vineyard', 'designation_Semi-Dry', 'designation_Signature', 'designation_Single Vineyard', 'designation_Sleepy Hollow Vineyard', 'designation_Special Reserve', 'designation_Stagecoach Vineyard', 'designation_Stillwater Creek Vineyard', 'designation_Tinto', 'designation_Tradition', 'designation_Trocken', 'designation_Two Vines', 'designation_Unoaked', 'designation_Vieilles Vignes', 'designation_Vintage', \"designation_Vintner's Reserve\", 'designation_White', 'latent_description_0', 'latent_description_1', 'latent_description_2', 'latent_description_3', 'latent_description_4', 'price', 'region_Adelaide', 'region_Adelaide Hills', 'region_Aglianico del Vulture', 'region_Alexander Valley', 'region_Alicante', 'region_Alsace', 'region_Alto Adige', 'region_Amador County', 'region_Amarone della Valpolicella', 'region_Amarone della Valpolicella Classico', 'region_Anderson Valley', 'region_Anjou', 'region_Applegate Valley', 'region_Argentina', 'region_Arroyo Grande Valley', 'region_Arroyo Seco', 'region_Atlas Peak', 'region_Barbaresco', \"region_Barbera d'Alba\", \"region_Barbera d'Alba Superiore\", \"region_Barbera d'Asti\", \"region_Barbera d'Asti Superiore\", 'region_Barolo', 'region_Barossa', 'region_Barossa Valley', 'region_Beaujolais', 'region_Beaujolais-Villages', 'region_Beaune', 'region_Bennett Valley', 'region_Bergerac', 'region_Bergerac Sec', 'region_Bierzo', 'region_Blaye Côtes de Bordeaux', 'region_Bolgheri', 'region_Bolgheri Superiore', 'region_Bordeaux', 'region_Bordeaux Blanc', 'region_Bordeaux Rosé', 'region_Bordeaux Supérieur', 'region_Bourgogne', 'region_Brunello di Montalcino', 'region_Cafayate', 'region_Cahors', 'region_Calatayud', 'region_Calaveras County', 'region_Calchaquí Valley', 'region_California', 'region_Calistoga', 'region_Campania', 'region_Campo de Borja', 'region_Cariñena', 'region_Carmel Valley', 'region_Carneros', 'region_Catalunya', 'region_Cava', 'region_Cayuga Lake', 'region_Central Coast', 'region_Chablis', 'region_Chalk Hill', 'region_Chalone', 'region_Chambolle-Musigny', 'region_Champagne', 'region_Chassagne-Montrachet', 'region_Chehalem Mountains', 'region_Chianti', 'region_Chianti Classico', 'region_Chianti Colli Senesi', 'region_Chianti Rufina', 'region_Chinon', 'region_Châteauneuf-du-Pape', 'region_Cienega Valley', 'region_Clare Valley', 'region_Clarendon', 'region_Clarksburg', 'region_Colli Orientali del Friuli', 'region_Colli della Toscana Centrale', 'region_Collio', 'region_Columbia Valley (OR)', 'region_Columbia Valley (WA)', 'region_Conegliano Valdobbiadene Prosecco Superiore', 'region_Contra Costa County', 'region_Coonawarra', 'region_Corbières', 'region_Cornas', 'region_Costières de Nîmes', \"region_Coteaux d'Aix-en-Provence\", 'region_Coteaux du Languedoc', 'region_Crozes-Hermitage', \"region_Crémant d'Alsace\", 'region_Crémant de Bourgogne', 'region_Côte Rôtie', 'region_Côtes de Bourg', 'region_Côtes de Gascogne', 'region_Côtes de Provence', 'region_Côtes du Rhône', 'region_Côtes du Rhône Villages', 'region_Delle Venezie', 'region_Diamond Mountain District', \"region_Dolcetto d'Alba\", 'region_Dry Creek Valley', 'region_Dundee Hills', 'region_Eden Valley', 'region_Edna Valley', 'region_El Dorado', 'region_Eola-Amity Hills', 'region_Etna', 'region_Famatina Valley', 'region_Fiano di Avellino', 'region_Fiddletown', 'region_Finger Lakes', 'region_Franciacorta', 'region_Friuli Grave', 'region_Friuli Isonzo', 'region_Gaillac', 'region_Gevrey-Chambertin', 'region_Gigondas', 'region_Graves', 'region_Greco di Tufo', 'region_Green Valley', 'region_Happy Canyon of Santa Barbara', 'region_Haut-Médoc', 'region_Hermitage', 'region_High Valley', 'region_Horse Heaven Hills', 'region_Howell Mountain', 'region_Hunter Valley', 'region_Irpinia', 'region_Isola dei Nuraghi', 'region_Jerez', 'region_Jumilla', 'region_Knights Valley', 'region_La Mancha', 'region_Lake County', 'region_Langhe', 'region_Langhorne Creek', 'region_Lazio', 'region_Livermore Valley', 'region_Lodi', 'region_Long Island', 'region_Los Carneros', 'region_Lugana', 'region_Luján de Cuyo', 'region_Madiran', 'region_Maipú', 'region_Marche', 'region_Maremma', 'region_Maremma Toscana', 'region_Margaret River', 'region_Margaux', 'region_Marin County', 'region_McLaren Vale', 'region_McMinnville', 'region_Mendocino', 'region_Mendocino County', 'region_Mendocino Ridge', 'region_Mendoza', 'region_Mercurey', 'region_Meursault', 'region_Minervois', \"region_Montepulciano d'Abruzzo\", 'region_Monterey', 'region_Monterey County', 'region_Monticello', 'region_Montsant', 'region_Morellino di Scansano', \"region_Moscato d'Asti\", 'region_Mount Veeder', 'region_Mt. Harlan', 'region_Muscadet Sèvre et Maine', 'region_Mâcon-Villages', 'region_Médoc', 'region_Napa', 'region_Napa County', 'region_Napa Valley', 'region_Navarra', 'region_Neuquén', 'region_New Mexico', 'region_New York', 'region_Niagara Peninsula', 'region_North Coast', 'region_North Fork of Long Island', 'region_Nuits-St.-Georges', 'region_Oak Knoll District', 'region_Oakville', 'region_Okanagan Valley', 'region_Oregon', 'region_Paso Robles', 'region_Pauillac', \"region_Pays d'Oc\", 'region_Penedès', 'region_Pessac-Léognan', 'region_Piedmont', 'region_Pommard', 'region_Pouilly-Fuissé', 'region_Pouilly-Fumé', 'region_Priorat', 'region_Prosecco', 'region_Prosecco Superiore di Cartizze', 'region_Prosecco del Veneto', 'region_Prosecco di Conegliano e Valdobbiadene', 'region_Prosecco di Valdobbiadene', 'region_Puglia', 'region_Puligny-Montrachet', 'region_Rattlesnake Hills', 'region_Red Hills Lake County', 'region_Red Mountain', 'region_Redwood Valley', 'region_Ribbon Ridge', 'region_Ribera del Duero', 'region_Rioja', 'region_Rockpile', 'region_Rogue Valley', 'region_Rosso di Montalcino', 'region_Rosso di Montepulciano', 'region_Rueda', 'region_Russian River Valley', 'region_Rutherford', 'region_Rutherglen', 'region_Rías Baixas', 'region_Río Negro Valley', 'region_Sagrantino di Montefalco', 'region_Saint-Estèphe', 'region_Saint-Joseph', 'region_Saint-Julien', 'region_Saint-Émilion', 'region_Salento', 'region_Salta', 'region_San Benito County', 'region_San Juan', 'region_San Luis Obispo County', 'region_San Rafael', 'region_Sancerre', \"region_Sant'Antimo\", 'region_Santa Barbara County', 'region_Santa Clara Valley', 'region_Santa Cruz Mountains', 'region_Santa Lucia Highlands', 'region_Santa Maria Valley', 'region_Santa Ynez Valley', 'region_Santenay', 'region_Savigny-lès-Beaune', 'region_Seneca Lake', 'region_Shenandoah Valley (CA)', 'region_Sicilia', 'region_Sierra Foothills', 'region_Snipes Mountain', 'region_Soave', 'region_Soave Classico', 'region_Somontano', 'region_Sonoma Coast', 'region_Sonoma County', 'region_Sonoma Mountain', 'region_Sonoma Valley', 'region_Sonoma-Napa', 'region_South Australia', 'region_South Eastern Australia', 'region_Southern Oregon', 'region_St. Helena', 'region_Sta. Rita Hills', 'region_Stags Leap District', 'region_Taurasi', 'region_Temecula', 'region_Temecula Valley', 'region_Terre Siciliane', 'region_Tierra de Castilla', 'region_Toro', 'region_Toscana', 'region_Trentino', 'region_Trento', 'region_Tupungato', 'region_Uco Valley', 'region_Umbria', 'region_Umpqua Valley', 'region_Utiel-Requena', 'region_Valdeorras', 'region_Valdepeñas', 'region_Valencia', 'region_Valpolicella Classico Superiore', 'region_Valpolicella Classico Superiore Ripasso', 'region_Valpolicella Superiore', 'region_Valpolicella Superiore Ripasso', 'region_Veneto', 'region_Venezia Giulia', 'region_Vermentino di Sardegna', 'region_Vernaccia di San Gimignano', 'region_Victoria', 'region_Vigneti delle Dolomiti', 'region_Vin Mousseux', \"region_Vin de Pays d'Oc\", 'region_Vin de Pays des Côtes de Gascogne', 'region_Vino Nobile di Montepulciano', 'region_Vino de la Tierra de Castilla', 'region_Vino de la Tierra de Castilla y León', 'region_Virginia', 'region_Volnay', 'region_Vosne-Romanée', 'region_Vouvray', 'region_Wahluke Slope', 'region_Walla Walla Valley (OR)', 'region_Walla Walla Valley (WA)', 'region_Washington', 'region_Western Australia', 'region_Willamette Valley', 'region_Yakima Valley', 'region_Yamhill-Carlton District', 'region_Yarra Valley', 'region_Yorkville Highlands', 'region_Yountville', 'variety_Agiorgitiko', 'variety_Aglianico', 'variety_Albariño', 'variety_Alsace white blend', 'variety_Alvarinho', 'variety_Arinto', 'variety_Arneis', 'variety_Assyrtico', 'variety_Austrian Red Blend', 'variety_Barbera', 'variety_Blaufränkisch', 'variety_Bonarda', 'variety_Bordeaux-style Red Blend', 'variety_Bordeaux-style White Blend', 'variety_Cabernet Blend', 'variety_Cabernet Franc', 'variety_Cabernet Sauvignon', 'variety_Cabernet Sauvignon-Carmenère', 'variety_Cabernet Sauvignon-Malbec', 'variety_Cabernet Sauvignon-Merlot', 'variety_Cabernet Sauvignon-Shiraz', 'variety_Cabernet Sauvignon-Syrah', 'variety_Carignan', 'variety_Carignano', 'variety_Carmenère', 'variety_Champagne Blend', 'variety_Chardonnay', 'variety_Chardonnay-Viognier', 'variety_Chenin Blanc', 'variety_Cortese', 'variety_Corvina, Rondinella, Molinara', 'variety_Dolcetto', 'variety_Falanghina', 'variety_Fiano', 'variety_Friulano', 'variety_Fumé Blanc', 'variety_G-S-M', 'variety_Gamay', 'variety_Garganega', 'variety_Garnacha', 'variety_Gewürztraminer', 'variety_Glera', 'variety_Godello', 'variety_Greco', 'variety_Grenache', 'variety_Grenache Blanc', 'variety_Grenache-Syrah', 'variety_Grillo', 'variety_Grüner Veltliner', 'variety_Lambrusco', 'variety_Malbec', 'variety_Malbec-Cabernet Sauvignon', 'variety_Malbec-Merlot', 'variety_Marsanne', 'variety_Melon', 'variety_Mencía', 'variety_Meritage', 'variety_Merlot', 'variety_Merlot-Cabernet Sauvignon', 'variety_Monastrell', 'variety_Montepulciano', 'variety_Moscato', 'variety_Mourvèdre', 'variety_Muscat', 'variety_Muscat Canelli', 'variety_Nebbiolo', 'variety_Negroamaro', 'variety_Nerello Mascalese', \"variety_Nero d'Avola\", 'variety_Petit Verdot', 'variety_Petite Sirah', 'variety_Petite Verdot', 'variety_Pinot Bianco', 'variety_Pinot Blanc', 'variety_Pinot Grigio', 'variety_Pinot Gris', 'variety_Pinot Nero', 'variety_Pinot Noir', 'variety_Pinotage', 'variety_Port', 'variety_Portuguese Red', 'variety_Portuguese White', 'variety_Primitivo', 'variety_Prosecco', 'variety_Prugnolo Gentile', 'variety_Red Blend', 'variety_Rhône-style Red Blend', 'variety_Rhône-style White Blend', 'variety_Ribolla Gialla', 'variety_Riesling', 'variety_Rosé', 'variety_Roussanne', 'variety_Sagrantino', 'variety_Sangiovese', 'variety_Sangiovese Grosso', 'variety_Sauvignon', 'variety_Sauvignon Blanc', 'variety_Sauvignon Blanc-Semillon', 'variety_Semillon-Sauvignon Blanc', 'variety_Sherry', 'variety_Shiraz', 'variety_Shiraz-Cabernet Sauvignon', 'variety_Shiraz-Viognier', 'variety_Silvaner', 'variety_Sparkling Blend', 'variety_Spätburgunder', 'variety_St. Laurent', 'variety_Syrah', 'variety_Syrah-Cabernet', 'variety_Sémillon', 'variety_Tannat', 'variety_Tempranillo', 'variety_Tempranillo Blend', 'variety_Tempranillo-Cabernet Sauvignon', 'variety_Tempranillo-Garnacha', 'variety_Tinta de Toro', 'variety_Tinto Fino', 'variety_Tinto del Pais', 'variety_Tokaji', 'variety_Torrontés', 'variety_Touriga Nacional', 'variety_Turbiana', 'variety_Verdejo', 'variety_Verdelho', 'variety_Vermentino', 'variety_Vernaccia', 'variety_Vidal Blanc', 'variety_Viognier', 'variety_Viura', 'variety_White Blend', 'variety_Xinomavro', 'variety_Zinfandel', 'variety_Zweigelt', 'winery_Abacela', 'winery_Abeja', 'winery_Adega Cooperativa de Borba', 'winery_Adelaida', 'winery_Adelsheim', 'winery_Airfield Estates', 'winery_Alexander Valley Vineyards', 'winery_Alexandria Nicole', 'winery_Alta Vista', 'winery_Andeluna', 'winery_Andrew Will', 'winery_Apaltagua', 'winery_Arboleda', 'winery_Arbor Crest', 'winery_Aresti', 'winery_Arista', 'winery_Arrowood', 'winery_Artesa', 'winery_Astoria', 'winery_Babcock', 'winery_Bacalhôa Wines of Portugal', 'winery_Ballentine', 'winery_Balletto', 'winery_Barnard Griffin', 'winery_Barnett', 'winery_Barrister', 'winery_Barton & Guestier', 'winery_Basel Cellars', 'winery_Beaulieu Vineyard', 'winery_Benziger', 'winery_Beringer', 'winery_Bernard Magrez', 'winery_Bernardus', 'winery_Betz Family', 'winery_Bianchi', 'winery_Blackstone', 'winery_Bodega Catena Zapata', 'winery_Bodega Norton', 'winery_Bodegas Navarro López', 'winery_Bodegas Valdemar', 'winery_Bogle', 'winery_Bonterra', 'winery_Borges', 'winery_Bouchard Aîné & Fils', 'winery_Bouchard Père & Fils', 'winery_Boutari', 'winery_Brancott', 'winery_Brander', 'winery_Brian Carter Cellars', 'winery_Bründlmayer', 'winery_Buena Vista', 'winery_Buty', 'winery_Byron', 'winery_CVNE', 'winery_Cadence', 'winery_Calcareous', 'winery_Calera', 'winery_Caliterra', 'winery_Cambria', 'winery_Cameron Hughes', 'winery_Campolargo', 'winery_Cantina Santadi', 'winery_Carlos Basso', 'winery_Carmel', 'winery_Carmen', 'winery_Carpineto', 'winery_Carr', 'winery_Casa Silva', 'winery_Castello Banfi', 'winery_Castle Rock', 'winery_Castoro Cellars', 'winery_Cave B', 'winery_Caves Aliança', 'winery_Cayuse', 'winery_Ceretto', 'winery_Chalk Hill', 'winery_Chandon', 'winery_Chanson Père et Fils', 'winery_Charles Krug', 'winery_Chateau St. Jean', 'winery_Chateau Ste. Michelle', 'winery_Chehalem', 'winery_Chilcas', 'winery_Chimney Rock', 'winery_Cinnabar', 'winery_Clarendon Hills', 'winery_Cline', 'winery_Clos La Chance', 'winery_Clos Pegase', 'winery_Clos du Bois', 'winery_Clos du Val', 'winery_Columbia Crest', 'winery_Columbia Winery', 'winery_Companhia das Quintas', 'winery_Concannon', 'winery_Concha y Toro', 'winery_Cono Sur', 'winery_Covey Run', 'winery_Craggy Range', 'winery_Curtis', 'winery_Cusumano', 'winery_Cuvaison', \"winery_D'Arenberg\", 'winery_DFJ Vinhos', 'winery_David Hill', 'winery_De Bortoli', 'winery_De Loach', 'winery_De Martino', 'winery_DeLille', 'winery_Del Rio', 'winery_Domaine Faiveley', 'winery_Domaine Jean Bousquet', 'winery_Domaine Serene', 'winery_Domaine Zind-Humbrecht', 'winery_Domaine de la Terre Rouge', 'winery_Domaine des Baumard', 'winery_Domaines Barons de Rothschild (Lafite)', 'winery_Domaines Schlumberger', 'winery_Domdechant Werner', 'winery_Donnafugata', 'winery_Dopff & Irion', 'winery_Doyenne', 'winery_Doña Paula', 'winery_Dr. H. Thanisch (Erben Müller-Burggraef)', 'winery_Dr. Konstantin Frank', 'winery_Dr. Loosen', 'winery_Dr. Pauly Bergweiler', 'winery_Dry Creek Vineyard', 'winery_Duca di Salaparuta', 'winery_Duckhorn', 'winery_Dunham', 'winery_Dusted Valley', 'winery_Dutton Estate', 'winery_Dutton-Goldfield', 'winery_Dão Sul', 'winery_E. Guigal', 'winery_EOS', 'winery_Easton', 'winery_Eberle', 'winery_Echeverria', 'winery_El Coto', 'winery_Emiliana', 'winery_Epiphany', 'winery_Erath', 'winery_Errazuriz', 'winery_Estampa', 'winery_Estancia', 'winery_Etude', 'winery_Failla', 'winery_Familia Schroeder', 'winery_Felton Road', 'winery_Fenestra', 'winery_Ferrari-Carano', 'winery_Fess Parker', 'winery_Fetzer', 'winery_Feudi di San Gregorio', 'winery_Feudo Arancio', 'winery_Fidelitas', 'winery_Finca Sophenia', 'winery_Firestone', 'winery_Flora Springs', 'winery_Fournier Père et Fils', 'winery_Foxen', 'winery_Francis Ford Coppola', 'winery_François Lurton', 'winery_Freemark Abbey', 'winery_Freixenet', 'winery_Fritz', \"winery_Frog's Leap\", 'winery_Funky Llama', 'winery_Gainey', 'winery_Gamache', 'winery_Gary Farrell', 'winery_Georges Vigouroux', 'winery_Geyser Peak', 'winery_Girard', 'winery_Glenora', 'winery_Gloria Ferrer', 'winery_Golan Heights Winery', 'winery_Goldeneye', 'winery_Gorman', 'winery_Grgich Hills', 'winery_Guenoc', 'winery_Gunter Triebaumer', 'winery_Gérard Bertrand', 'winery_Hahn', 'winery_Handley', 'winery_Hanna', 'winery_Hazlitt 1852 Vineyards', 'winery_Hendry', 'winery_Henri de Villamont', 'winery_Herdade do Esporão', 'winery_Heron Hill', 'winery_Hogue', 'winery_Husch', 'winery_Iron Horse', 'winery_Ironstone', 'winery_J Vineyards & Winery', 'winery_J. & F. Lurton', 'winery_J. Lohr', \"winery_Jacob's Creek\", 'winery_Jaffurs', 'winery_Januik', 'winery_Joseph Drouhin', 'winery_Joseph Phelps', 'winery_Joseph Swan Vineyards', 'winery_Justin', 'winery_K Vintners', 'winery_Keenan', 'winery_Ken Wright', 'winery_Kendall-Jackson', 'winery_Kenwood', 'winery_Kilikanoon', 'winery_Kim Crawford', 'winery_King Estate', 'winery_Kirkland Signature', 'winery_Kokomo', 'winery_Korbel', 'winery_Kumeu River', 'winery_Kunde', 'winery_Kynsi', \"winery_L'Ecole No. 41\", 'winery_La Chablisienne', 'winery_La Crema', 'winery_La Fenêtre', 'winery_La Playa', 'winery_La Rochelle', 'winery_Labouré-Roi', 'winery_Laetitia', 'winery_Lagarde', 'winery_Lamoreaux Landing', 'winery_Lapostolle', 'winery_Lava Cap', 'winery_Leeuwin Estate', 'winery_Lemelson', 'winery_Leonetti Cellar', 'winery_Lockwood', 'winery_Longboard', 'winery_Longoria', 'winery_Loring Wine Company', 'winery_Lost Canyon', 'winery_Louis Jadot', 'winery_Louis Latour', 'winery_Louis M. Martini', 'winery_Louis Roederer', 'winery_Lucas & Lewellen', 'winery_Lucien Albrecht', 'winery_Luigi Bosca', 'winery_Luis Felipe Edwards', 'winery_Lungarotti', 'winery_Lynmar', 'winery_M. Chapoutier', 'winery_MacPhail', 'winery_Macari', 'winery_Maddalena', 'winery_Manuel Olivier', 'winery_Marchesi Antinori', 'winery_Marchesi di Barolo', 'winery_Marimar Estate', 'winery_Mark Ryan', 'winery_Marqués de Cáceres', 'winery_Martin & Weyrich', 'winery_Martin Ranch', 'winery_Martin Ray', 'winery_Maryhill', 'winery_Maximin Grünhäuser', 'winery_Mazzei', 'winery_Mazzocco', 'winery_McManis', 'winery_Melrose', 'winery_Melville', 'winery_Merry Edwards', 'winery_Merryvale', 'winery_Michel Torino', 'winery_Midnight', 'winery_Miguel Torres', 'winery_Milbrandt', 'winery_Minassian-Young', 'winery_MontGras', 'winery_Montes', 'winery_Morandé', 'winery_Morgan', 'winery_Mounts', 'winery_Mumm Napa', 'winery_Murphy-Goode', 'winery_Navarro', 'winery_Nefarious Cellars', 'winery_Neil Ellis', 'winery_Nickel & Nickel', 'winery_Niepoort', 'winery_Nieto Senetiner', 'winery_Nittnaus Hans und Christine', 'winery_Novelty Hill', 'winery_Novy', 'winery_O. Fournier', 'winery_Odfjell', 'winery_Ojai', 'winery_Olivier Leflaive', 'winery_Owen Roe', 'winery_Pali', 'winery_Panther Creek', 'winery_Paraiso Vineyards', 'winery_Pascual Toso', 'winery_Patz & Hall', 'winery_Paul Jaboulet Aîné', 'winery_Peachy Canyon', 'winery_Pedroncelli', 'winery_Peirano', 'winery_Peju', 'winery_Penfolds', 'winery_Pessagno', 'winery_Pierre Sparr', 'winery_Pine Ridge', 'winery_Pio Cesare', 'winery_Planeta', 'winery_Ponzi', 'winery_Poças', 'winery_Pratsch', 'winery_Pride Mountain', 'winery_Producteurs Plaimont', 'winery_Quinta de Ventozelo', 'winery_Quinta do Casal Branco', 'winery_Quinta do Portal', 'winery_Quivira', 'winery_Ramos-Pinto', 'winery_Ramón Bilbao', 'winery_Rancho Sisquoc', 'winery_Raymond', 'winery_Recanati', 'winery_Reichsgraf von Kesselstatt', 'winery_Remy-Pannier', 'winery_Renwood', 'winery_Rex Hill', 'winery_Robert Hall', 'winery_Robert Mondavi', 'winery_Rocca delle Macìe', 'winery_Rock Wall', 'winery_Rodney Strong', 'winery_Roessler', 'winery_Rosemount', 'winery_Rosenblum', 'winery_Rusack', 'winery_Rutherford Hill', 'winery_Rutini', 'winery_Saint Clair', 'winery_Salomon-Undhof', 'winery_San Juan Vineyards', 'winery_San Pedro', 'winery_San Simeon', 'winery_Santa Alicia', 'winery_Santa Barbara Winery', 'winery_Santa Carolina', 'winery_Santa Ema', 'winery_Santa Julia', 'winery_Santa Rita', 'winery_Saviah', 'winery_Sbragia', 'winery_Schramsberg', 'winery_Schug', 'winery_Sebastiani', 'winery_Segura Viudas', 'winery_Sequoia Grove', 'winery_Seven Hills', 'winery_Shafer', 'winery_Shannon Ridge', 'winery_Siduri', 'winery_Sierra Cantabria', 'winery_Signorello', 'winery_Simonnet-Febvre', 'winery_Sineann', 'winery_Snoqualmie', 'winery_Sobon Estate', 'winery_Soléna', 'winery_Sparkman', 'winery_Spring Valley Vineyard', 'winery_Spy Valley', 'winery_St. Francis', 'winery_St. Supéry', \"winery_Stag's Leap Wine Cellars\", 'winery_Standing Stone', 'winery_Steele', 'winery_Stephen Ross', 'winery_Sterling', 'winery_Steven Kent', 'winery_Stevens', 'winery_Summers', 'winery_Sur de los Andes', 'winery_Sylvester', 'winery_Syncline', 'winery_Tablas Creek', 'winery_Talamonti', 'winery_Talbott', 'winery_Talley', 'winery_Tamarack Cellars', 'winery_Tamaya', 'winery_Tandem', 'winery_Tangent', \"winery_Tasca d'Almerita\", 'winery_Telmo Rodríguez', 'winery_Terlato', 'winery_TerraNoble', 'winery_Terrazas de Los Andes', 'winery_Terre Rouge', 'winery_Tertulia', 'winery_Testarossa', 'winery_Thomas Fogarty', 'winery_Three Rivers', 'winery_Thurston Wolfe', 'winery_Tolosa', 'winery_Tommasi', 'winery_Torii Mor', 'winery_Torres', 'winery_Trapiche', 'winery_Trinchero', 'winery_Trivento', 'winery_Truchard', 'winery_Umani Ronchi', 'winery_Undurraga', 'winery_V. Sattui', 'winery_Valentin Bianchi', \"winery_Valle dell'Acate\", 'winery_Valley of the Moon', 'winery_Ventisquero', 'winery_Veramonte', 'winery_Villa Maria', 'winery_Vina Robles', 'winery_Vine Cliff', 'winery_Vinum', 'winery_Viu Manent', 'winery_Viña Bisquertt', 'winery_Viña La Rosa', 'winery_Viña Requingua', 'winery_Viña Tabalí', 'winery_Von Strasser', 'winery_Wagner', 'winery_Wakefield Estate', 'winery_Waterbrook', 'winery_Wellington', 'winery_Wente', 'winery_White Oak', 'winery_Willamette Valley Vineyards', 'winery_William Fèvre', 'winery_William Hill Estate', 'winery_Williams Selyem', 'winery_Wilson', 'winery_Wines & Winemakers', 'winery_Winzer Krems', 'winery_Woodward Canyon', 'winery_Wölffer', 'winery_X', 'winery_Yalumba', 'winery_Zaca Mesa', 'winery_Zuccardi', 'winery_Zull']",
     "output_type": "error",
     "traceback": [
      "\u001b[0;31m---------------------------------------------------------------------------\u001b[0m",
      "\u001b[0;31mValueError\u001b[0m                                Traceback (most recent call last)",
      "\u001b[0;32m<ipython-input-48-ca49863639f7>\u001b[0m in \u001b[0;36m<module>\u001b[0;34m()\u001b[0m\n\u001b[0;32m----> 1\u001b[0;31m \u001b[0mmy_own_predict_method\u001b[0m\u001b[0;34m(\u001b[0m\u001b[0mfeature_payload\u001b[0m\u001b[0;34m)\u001b[0m\u001b[0;34m\u001b[0m\u001b[0m\n\u001b[0m",
      "\u001b[0;32m<ipython-input-45-4fc074e9313c>\u001b[0m in \u001b[0;36mmy_own_predict_method\u001b[0;34m(feature_payload)\u001b[0m\n\u001b[1;32m     10\u001b[0m \u001b[0;34m\u001b[0m\u001b[0m\n\u001b[1;32m     11\u001b[0m     \u001b[0;31m#predict wine price from xgboost model\u001b[0m\u001b[0;34m\u001b[0m\u001b[0;34m\u001b[0m\u001b[0m\n\u001b[0;32m---> 12\u001b[0;31m     \u001b[0mprediction\u001b[0m \u001b[0;34m=\u001b[0m \u001b[0mbst\u001b[0m\u001b[0;34m.\u001b[0m\u001b[0mpredict\u001b[0m\u001b[0;34m(\u001b[0m\u001b[0mx\u001b[0m\u001b[0;34m,\u001b[0m \u001b[0mntree_limit\u001b[0m\u001b[0;34m=\u001b[0m\u001b[0mbst\u001b[0m\u001b[0;34m.\u001b[0m\u001b[0mbest_ntree_limit\u001b[0m\u001b[0;34m)\u001b[0m\u001b[0;34m\u001b[0m\u001b[0m\n\u001b[0m\u001b[1;32m     13\u001b[0m     \u001b[0mprediction\u001b[0m \u001b[0;34m=\u001b[0m \u001b[0mnp\u001b[0m\u001b[0;34m.\u001b[0m\u001b[0mround\u001b[0m\u001b[0;34m(\u001b[0m\u001b[0mprediction\u001b[0m\u001b[0;34m,\u001b[0m\u001b[0;36m2\u001b[0m\u001b[0;34m)\u001b[0m\u001b[0;34m[\u001b[0m\u001b[0;36m0\u001b[0m\u001b[0;34m]\u001b[0m\u001b[0;34m\u001b[0m\u001b[0m\n\u001b[1;32m     14\u001b[0m \u001b[0;34m\u001b[0m\u001b[0m\n",
      "\u001b[0;32m~/anaconda3/envs/python3/lib/python3.6/site-packages/xgboost/core.py\u001b[0m in \u001b[0;36mpredict\u001b[0;34m(self, data, output_margin, ntree_limit, pred_leaf, pred_contribs, approx_contribs, pred_interactions, validate_features)\u001b[0m\n\u001b[1;32m   1283\u001b[0m \u001b[0;34m\u001b[0m\u001b[0m\n\u001b[1;32m   1284\u001b[0m         \u001b[0;32mif\u001b[0m \u001b[0mvalidate_features\u001b[0m\u001b[0;34m:\u001b[0m\u001b[0;34m\u001b[0m\u001b[0m\n\u001b[0;32m-> 1285\u001b[0;31m             \u001b[0mself\u001b[0m\u001b[0;34m.\u001b[0m\u001b[0m_validate_features\u001b[0m\u001b[0;34m(\u001b[0m\u001b[0mdata\u001b[0m\u001b[0;34m)\u001b[0m\u001b[0;34m\u001b[0m\u001b[0m\n\u001b[0m\u001b[1;32m   1286\u001b[0m \u001b[0;34m\u001b[0m\u001b[0m\n\u001b[1;32m   1287\u001b[0m         \u001b[0mlength\u001b[0m \u001b[0;34m=\u001b[0m \u001b[0mc_bst_ulong\u001b[0m\u001b[0;34m(\u001b[0m\u001b[0;34m)\u001b[0m\u001b[0;34m\u001b[0m\u001b[0m\n",
      "\u001b[0;32m~/anaconda3/envs/python3/lib/python3.6/site-packages/xgboost/core.py\u001b[0m in \u001b[0;36m_validate_features\u001b[0;34m(self, data)\u001b[0m\n\u001b[1;32m   1690\u001b[0m \u001b[0;34m\u001b[0m\u001b[0m\n\u001b[1;32m   1691\u001b[0m                 raise ValueError(msg.format(self.feature_names,\n\u001b[0;32m-> 1692\u001b[0;31m                                             data.feature_names))\n\u001b[0m\u001b[1;32m   1693\u001b[0m \u001b[0;34m\u001b[0m\u001b[0m\n\u001b[1;32m   1694\u001b[0m     \u001b[0;32mdef\u001b[0m \u001b[0mget_split_value_histogram\u001b[0m\u001b[0;34m(\u001b[0m\u001b[0mself\u001b[0m\u001b[0;34m,\u001b[0m \u001b[0mfeature\u001b[0m\u001b[0;34m,\u001b[0m \u001b[0mfmap\u001b[0m\u001b[0;34m=\u001b[0m\u001b[0;34m''\u001b[0m\u001b[0;34m,\u001b[0m \u001b[0mbins\u001b[0m\u001b[0;34m=\u001b[0m\u001b[0;32mNone\u001b[0m\u001b[0;34m,\u001b[0m \u001b[0mas_pandas\u001b[0m\u001b[0;34m=\u001b[0m\u001b[0;32mTrue\u001b[0m\u001b[0;34m)\u001b[0m\u001b[0;34m:\u001b[0m\u001b[0;34m\u001b[0m\u001b[0m\n",
      "\u001b[0;31mValueError\u001b[0m: feature_names mismatch: ['country_Albania', 'country_Argentina', 'country_Australia', 'country_Austria', 'country_Bosnia and Herzegovina', 'country_Brazil', 'country_Bulgaria', 'country_Canada', 'country_Chile', 'country_China', 'country_Croatia', 'country_Cyprus', 'country_Czech Republic', 'country_England', 'country_France', 'country_Georgia', 'country_Germany', 'country_Greece', 'country_Hungary', 'country_India', 'country_Israel', 'country_Italy', 'country_Japan', 'country_Lebanon', 'country_Lithuania', 'country_Luxembourg', 'country_Macedonia', 'country_Mexico', 'country_Moldova', 'country_Montenegro', 'country_Morocco', 'country_New Zealand', 'country_Portugal', 'country_Romania', 'country_Serbia', 'country_Slovakia', 'country_Slovenia', 'country_South Africa', 'country_South Korea', 'country_Spain', 'country_Switzerland', 'country_Turkey', 'country_US', 'country_US-France', 'country_Ukraine', 'country_Uruguay', 'designation_Bacigalupi Vineyard', 'designation_Barrel Fermented', 'designation_Barrel Select', 'designation_Bien Nacido Vineyard', 'designation_Blanc de Blancs', 'designation_Blanc de Blancs Brut', 'designation_Broquel', 'designation_Brut', 'designation_Brut Rosé', 'designation_Champoux Vineyard', 'designation_Ciel du Cheval Vineyard', 'designation_Classic', 'designation_Crianza', 'designation_Cuvée Prestige', 'designation_Dry', 'designation_Durell Vineyard', 'designation_Dutton Ranch', 'designation_Estate', 'designation_Estate Bottled', 'designation_Estate Grown', 'designation_Estate Reserve', 'designation_Estate Vineyard', 'designation_Extra Dry', 'designation_Flood Family Vineyards', \"designation_Garys' Vineyard\", 'designation_Gran Reserva', 'designation_Grand Reserve', 'designation_Kosher', 'designation_La Cruz Vineyard', 'designation_Late Bottled Vintage', 'designation_Late Harvest', 'designation_Limited Edition', 'designation_Limited Release', 'designation_Limited Selection', 'designation_Oak Cask', 'designation_Old Vine', 'designation_Old Vines', 'designation_Premium', 'designation_Prestige', 'designation_Private Reserve', 'designation_Private Selection', \"designation_Proprietor's Reserve\", 'designation_Red', 'designation_Red Wine', 'designation_Reserva', 'designation_Reserva Especial', 'designation_Reserve', 'designation_Riserva', 'designation_Roble', 'designation_Rosado', \"designation_Rosella's Vineyard\", 'designation_Rosé', 'designation_Rosé of', 'designation_Réserve', 'designation_Sangiacomo Vineyard', 'designation_Semi-Dry', 'designation_Signature', 'designation_Single Vineyard', 'designation_Sleepy Hollow Vineyard', 'designation_Special Reserve', 'designation_Stagecoach Vineyard', 'designation_Stillwater Creek Vineyard', 'designation_Tinto', 'designation_Tradition', 'designation_Trocken', 'designation_Two Vines', 'designation_Unoaked', 'designation_Vieilles Vignes', 'designation_Vintage', \"designation_Vintner's Reserve\", 'designation_White', 'region_Adelaide', 'region_Adelaide Hills', 'region_Aglianico del Vulture', 'region_Alexander Valley', 'region_Alicante', 'region_Alsace', 'region_Alto Adige', 'region_Amador County', 'region_Amarone della Valpolicella', 'region_Amarone della Valpolicella Classico', 'region_Anderson Valley', 'region_Anjou', 'region_Applegate Valley', 'region_Argentina', 'region_Arroyo Grande Valley', 'region_Arroyo Seco', 'region_Atlas Peak', 'region_Barbaresco', \"region_Barbera d'Alba\", \"region_Barbera d'Alba Superiore\", \"region_Barbera d'Asti\", \"region_Barbera d'Asti Superiore\", 'region_Barolo', 'region_Barossa', 'region_Barossa Valley', 'region_Beaujolais', 'region_Beaujolais-Villages', 'region_Beaune', 'region_Bennett Valley', 'region_Bergerac', 'region_Bergerac Sec', 'region_Bierzo', 'region_Blaye Côtes de Bordeaux', 'region_Bolgheri', 'region_Bolgheri Superiore', 'region_Bordeaux', 'region_Bordeaux Blanc', 'region_Bordeaux Rosé', 'region_Bordeaux Supérieur', 'region_Bourgogne', 'region_Brunello di Montalcino', 'region_Cafayate', 'region_Cahors', 'region_Calatayud', 'region_Calaveras County', 'region_Calchaquí Valley', 'region_California', 'region_Calistoga', 'region_Campania', 'region_Campo de Borja', 'region_Cariñena', 'region_Carmel Valley', 'region_Carneros', 'region_Catalunya', 'region_Cava', 'region_Cayuga Lake', 'region_Central Coast', 'region_Chablis', 'region_Chalk Hill', 'region_Chalone', 'region_Chambolle-Musigny', 'region_Champagne', 'region_Chassagne-Montrachet', 'region_Chehalem Mountains', 'region_Chianti', 'region_Chianti Classico', 'region_Chianti Colli Senesi', 'region_Chianti Rufina', 'region_Chinon', 'region_Châteauneuf-du-Pape', 'region_Cienega Valley', 'region_Clare Valley', 'region_Clarendon', 'region_Clarksburg', 'region_Colli Orientali del Friuli', 'region_Colli della Toscana Centrale', 'region_Collio', 'region_Columbia Valley (OR)', 'region_Columbia Valley (WA)', 'region_Conegliano Valdobbiadene Prosecco Superiore', 'region_Contra Costa County', 'region_Coonawarra', 'region_Corbières', 'region_Cornas', 'region_Costières de Nîmes', \"region_Coteaux d'Aix-en-Provence\", 'region_Coteaux du Languedoc', 'region_Crozes-Hermitage', \"region_Crémant d'Alsace\", 'region_Crémant de Bourgogne', 'region_Côte Rôtie', 'region_Côtes de Bourg', 'region_Côtes de Gascogne', 'region_Côtes de Provence', 'region_Côtes du Rhône', 'region_Côtes du Rhône Villages', 'region_Delle Venezie', 'region_Diamond Mountain District', \"region_Dolcetto d'Alba\", 'region_Dry Creek Valley', 'region_Dundee Hills', 'region_Eden Valley', 'region_Edna Valley', 'region_El Dorado', 'region_Eola-Amity Hills', 'region_Etna', 'region_Famatina Valley', 'region_Fiano di Avellino', 'region_Fiddletown', 'region_Finger Lakes', 'region_Franciacorta', 'region_Friuli Grave', 'region_Friuli Isonzo', 'region_Gaillac', 'region_Gevrey-Chambertin', 'region_Gigondas', 'region_Graves', 'region_Greco di Tufo', 'region_Green Valley', 'region_Happy Canyon of Santa Barbara', 'region_Haut-Médoc', 'region_Hermitage', 'region_High Valley', 'region_Horse Heaven Hills', 'region_Howell Mountain', 'region_Hunter Valley', 'region_Irpinia', 'region_Isola dei Nuraghi', 'region_Jerez', 'region_Jumilla', 'region_Knights Valley', 'region_La Mancha', 'region_Lake County', 'region_Langhe', 'region_Langhorne Creek', 'region_Lazio', 'region_Livermore Valley', 'region_Lodi', 'region_Long Island', 'region_Los Carneros', 'region_Lugana', 'region_Luján de Cuyo', 'region_Madiran', 'region_Maipú', 'region_Marche', 'region_Maremma', 'region_Maremma Toscana', 'region_Margaret River', 'region_Margaux', 'region_Marin County', 'region_McLaren Vale', 'region_McMinnville', 'region_Mendocino', 'region_Mendocino County', 'region_Mendocino Ridge', 'region_Mendoza', 'region_Mercurey', 'region_Meursault', 'region_Minervois', \"region_Montepulciano d'Abruzzo\", 'region_Monterey', 'region_Monterey County', 'region_Monticello', 'region_Montsant', 'region_Morellino di Scansano', \"region_Moscato d'Asti\", 'region_Mount Veeder', 'region_Mt. Harlan', 'region_Muscadet Sèvre et Maine', 'region_Mâcon-Villages', 'region_Médoc', 'region_Napa', 'region_Napa County', 'region_Napa Valley', 'region_Navarra', 'region_Neuquén', 'region_New Mexico', 'region_New York', 'region_Niagara Peninsula', 'region_North Coast', 'region_North Fork of Long Island', 'region_Nuits-St.-Georges', 'region_Oak Knoll District', 'region_Oakville', 'region_Okanagan Valley', 'region_Oregon', 'region_Paso Robles', 'region_Pauillac', \"region_Pays d'Oc\", 'region_Penedès', 'region_Pessac-Léognan', 'region_Piedmont', 'region_Pommard', 'region_Pouilly-Fuissé', 'region_Pouilly-Fumé', 'region_Priorat', 'region_Prosecco', 'region_Prosecco Superiore di Cartizze', 'region_Prosecco del Veneto', 'region_Prosecco di Conegliano e Valdobbiadene', 'region_Prosecco di Valdobbiadene', 'region_Puglia', 'region_Puligny-Montrachet', 'region_Rattlesnake Hills', 'region_Red Hills Lake County', 'region_Red Mountain', 'region_Redwood Valley', 'region_Ribbon Ridge', 'region_Ribera del Duero', 'region_Rioja', 'region_Rockpile', 'region_Rogue Valley', 'region_Rosso di Montalcino', 'region_Rosso di Montepulciano', 'region_Rueda', 'region_Russian River Valley', 'region_Rutherford', 'region_Rutherglen', 'region_Rías Baixas', 'region_Río Negro Valley', 'region_Sagrantino di Montefalco', 'region_Saint-Estèphe', 'region_Saint-Joseph', 'region_Saint-Julien', 'region_Saint-Émilion', 'region_Salento', 'region_Salta', 'region_San Benito County', 'region_San Juan', 'region_San Luis Obispo County', 'region_San Rafael', 'region_Sancerre', \"region_Sant'Antimo\", 'region_Santa Barbara County', 'region_Santa Clara Valley', 'region_Santa Cruz Mountains', 'region_Santa Lucia Highlands', 'region_Santa Maria Valley', 'region_Santa Ynez Valley', 'region_Santenay', 'region_Savigny-lès-Beaune', 'region_Seneca Lake', 'region_Shenandoah Valley (CA)', 'region_Sicilia', 'region_Sierra Foothills', 'region_Snipes Mountain', 'region_Soave', 'region_Soave Classico', 'region_Somontano', 'region_Sonoma Coast', 'region_Sonoma County', 'region_Sonoma Mountain', 'region_Sonoma Valley', 'region_Sonoma-Napa', 'region_South Australia', 'region_South Eastern Australia', 'region_Southern Oregon', 'region_St. Helena', 'region_Sta. Rita Hills', 'region_Stags Leap District', 'region_Taurasi', 'region_Temecula', 'region_Temecula Valley', 'region_Terre Siciliane', 'region_Tierra de Castilla', 'region_Toro', 'region_Toscana', 'region_Trentino', 'region_Trento', 'region_Tupungato', 'region_Uco Valley', 'region_Umbria', 'region_Umpqua Valley', 'region_Utiel-Requena', 'region_Valdeorras', 'region_Valdepeñas', 'region_Valencia', 'region_Valpolicella Classico Superiore', 'region_Valpolicella Classico Superiore Ripasso', 'region_Valpolicella Superiore', 'region_Valpolicella Superiore Ripasso', 'region_Veneto', 'region_Venezia Giulia', 'region_Vermentino di Sardegna', 'region_Vernaccia di San Gimignano', 'region_Victoria', 'region_Vigneti delle Dolomiti', 'region_Vin Mousseux', \"region_Vin de Pays d'Oc\", 'region_Vin de Pays des Côtes de Gascogne', 'region_Vino Nobile di Montepulciano', 'region_Vino de la Tierra de Castilla', 'region_Vino de la Tierra de Castilla y León', 'region_Virginia', 'region_Volnay', 'region_Vosne-Romanée', 'region_Vouvray', 'region_Wahluke Slope', 'region_Walla Walla Valley (OR)', 'region_Walla Walla Valley (WA)', 'region_Washington', 'region_Western Australia', 'region_Willamette Valley', 'region_Yakima Valley', 'region_Yamhill-Carlton District', 'region_Yarra Valley', 'region_Yorkville Highlands', 'region_Yountville', 'variety_Agiorgitiko', 'variety_Aglianico', 'variety_Albariño', 'variety_Alsace white blend', 'variety_Alvarinho', 'variety_Arinto', 'variety_Arneis', 'variety_Assyrtico', 'variety_Austrian Red Blend', 'variety_Barbera', 'variety_Blaufränkisch', 'variety_Bonarda', 'variety_Bordeaux-style Red Blend', 'variety_Bordeaux-style White Blend', 'variety_Cabernet Blend', 'variety_Cabernet Franc', 'variety_Cabernet Sauvignon', 'variety_Cabernet Sauvignon-Carmenère', 'variety_Cabernet Sauvignon-Malbec', 'variety_Cabernet Sauvignon-Merlot', 'variety_Cabernet Sauvignon-Shiraz', 'variety_Cabernet Sauvignon-Syrah', 'variety_Carignan', 'variety_Carignano', 'variety_Carmenère', 'variety_Champagne Blend', 'variety_Chardonnay', 'variety_Chardonnay-Viognier', 'variety_Chenin Blanc', 'variety_Cortese', 'variety_Corvina, Rondinella, Molinara', 'variety_Dolcetto', 'variety_Falanghina', 'variety_Fiano', 'variety_Friulano', 'variety_Fumé Blanc', 'variety_G-S-M', 'variety_Gamay', 'variety_Garganega', 'variety_Garnacha', 'variety_Gewürztraminer', 'variety_Glera', 'variety_Godello', 'variety_Greco', 'variety_Grenache', 'variety_Grenache Blanc', 'variety_Grenache-Syrah', 'variety_Grillo', 'variety_Grüner Veltliner', 'variety_Lambrusco', 'variety_Malbec', 'variety_Malbec-Cabernet Sauvignon', 'variety_Malbec-Merlot', 'variety_Marsanne', 'variety_Melon', 'variety_Mencía', 'variety_Meritage', 'variety_Merlot', 'variety_Merlot-Cabernet Sauvignon', 'variety_Monastrell', 'variety_Montepulciano', 'variety_Moscato', 'variety_Mourvèdre', 'variety_Muscat', 'variety_Muscat Canelli', 'variety_Nebbiolo', 'variety_Negroamaro', 'variety_Nerello Mascalese', \"variety_Nero d'Avola\", 'variety_Petit Verdot', 'variety_Petite Sirah', 'variety_Petite Verdot', 'variety_Pinot Bianco', 'variety_Pinot Blanc', 'variety_Pinot Grigio', 'variety_Pinot Gris', 'variety_Pinot Nero', 'variety_Pinot Noir', 'variety_Pinotage', 'variety_Port', 'variety_Portuguese Red', 'variety_Portuguese White', 'variety_Primitivo', 'variety_Prosecco', 'variety_Prugnolo Gentile', 'variety_Red Blend', 'variety_Rhône-style Red Blend', 'variety_Rhône-style White Blend', 'variety_Ribolla Gialla', 'variety_Riesling', 'variety_Rosé', 'variety_Roussanne', 'variety_Sagrantino', 'variety_Sangiovese', 'variety_Sangiovese Grosso', 'variety_Sauvignon', 'variety_Sauvignon Blanc', 'variety_Sauvignon Blanc-Semillon', 'variety_Semillon-Sauvignon Blanc', 'variety_Sherry', 'variety_Shiraz', 'variety_Shiraz-Cabernet Sauvignon', 'variety_Shiraz-Viognier', 'variety_Silvaner', 'variety_Sparkling Blend', 'variety_Spätburgunder', 'variety_St. Laurent', 'variety_Syrah', 'variety_Syrah-Cabernet', 'variety_Sémillon', 'variety_Tannat', 'variety_Tempranillo', 'variety_Tempranillo Blend', 'variety_Tempranillo-Cabernet Sauvignon', 'variety_Tempranillo-Garnacha', 'variety_Tinta de Toro', 'variety_Tinto Fino', 'variety_Tinto del Pais', 'variety_Tokaji', 'variety_Torrontés', 'variety_Touriga Nacional', 'variety_Turbiana', 'variety_Verdejo', 'variety_Verdelho', 'variety_Vermentino', 'variety_Vernaccia', 'variety_Vidal Blanc', 'variety_Viognier', 'variety_Viura', 'variety_White Blend', 'variety_Xinomavro', 'variety_Zinfandel', 'variety_Zweigelt', 'winery_Abacela', 'winery_Abeja', 'winery_Adega Cooperativa de Borba', 'winery_Adelaida', 'winery_Adelsheim', 'winery_Airfield Estates', 'winery_Alexander Valley Vineyards', 'winery_Alexandria Nicole', 'winery_Alta Vista', 'winery_Andeluna', 'winery_Andrew Will', 'winery_Apaltagua', 'winery_Arboleda', 'winery_Arbor Crest', 'winery_Aresti', 'winery_Arista', 'winery_Arrowood', 'winery_Artesa', 'winery_Astoria', 'winery_Babcock', 'winery_Bacalhôa Wines of Portugal', 'winery_Ballentine', 'winery_Balletto', 'winery_Barnard Griffin', 'winery_Barnett', 'winery_Barrister', 'winery_Barton & Guestier', 'winery_Basel Cellars', 'winery_Beaulieu Vineyard', 'winery_Benziger', 'winery_Beringer', 'winery_Bernard Magrez', 'winery_Bernardus', 'winery_Betz Family', 'winery_Bianchi', 'winery_Blackstone', 'winery_Bodega Catena Zapata', 'winery_Bodega Norton', 'winery_Bodegas Navarro López', 'winery_Bodegas Valdemar', 'winery_Bogle', 'winery_Bonterra', 'winery_Borges', 'winery_Bouchard Aîné & Fils', 'winery_Bouchard Père & Fils', 'winery_Boutari', 'winery_Brancott', 'winery_Brander', 'winery_Brian Carter Cellars', 'winery_Bründlmayer', 'winery_Buena Vista', 'winery_Buty', 'winery_Byron', 'winery_CVNE', 'winery_Cadence', 'winery_Calcareous', 'winery_Calera', 'winery_Caliterra', 'winery_Cambria', 'winery_Cameron Hughes', 'winery_Campolargo', 'winery_Cantina Santadi', 'winery_Carlos Basso', 'winery_Carmel', 'winery_Carmen', 'winery_Carpineto', 'winery_Carr', 'winery_Casa Silva', 'winery_Castello Banfi', 'winery_Castle Rock', 'winery_Castoro Cellars', 'winery_Cave B', 'winery_Caves Aliança', 'winery_Cayuse', 'winery_Ceretto', 'winery_Chalk Hill', 'winery_Chandon', 'winery_Chanson Père et Fils', 'winery_Charles Krug', 'winery_Chateau St. Jean', 'winery_Chateau Ste. Michelle', 'winery_Chehalem', 'winery_Chilcas', 'winery_Chimney Rock', 'winery_Cinnabar', 'winery_Clarendon Hills', 'winery_Cline', 'winery_Clos La Chance', 'winery_Clos Pegase', 'winery_Clos du Bois', 'winery_Clos du Val', 'winery_Columbia Crest', 'winery_Columbia Winery', 'winery_Companhia das Quintas', 'winery_Concannon', 'winery_Concha y Toro', 'winery_Cono Sur', 'winery_Covey Run', 'winery_Craggy Range', 'winery_Curtis', 'winery_Cusumano', 'winery_Cuvaison', \"winery_D'Arenberg\", 'winery_DFJ Vinhos', 'winery_David Hill', 'winery_De Bortoli', 'winery_De Loach', 'winery_De Martino', 'winery_DeLille', 'winery_Del Rio', 'winery_Domaine Faiveley', 'winery_Domaine Jean Bousquet', 'winery_Domaine Serene', 'winery_Domaine Zind-Humbrecht', 'winery_Domaine de la Terre Rouge', 'winery_Domaine des Baumard', 'winery_Domaines Barons de Rothschild (Lafite)', 'winery_Domaines Schlumberger', 'winery_Domdechant Werner', 'winery_Donnafugata', 'winery_Dopff & Irion', 'winery_Doyenne', 'winery_Doña Paula', 'winery_Dr. H. Thanisch (Erben Müller-Burggraef)', 'winery_Dr. Konstantin Frank', 'winery_Dr. Loosen', 'winery_Dr. Pauly Bergweiler', 'winery_Dry Creek Vineyard', 'winery_Duca di Salaparuta', 'winery_Duckhorn', 'winery_Dunham', 'winery_Dusted Valley', 'winery_Dutton Estate', 'winery_Dutton-Goldfield', 'winery_Dão Sul', 'winery_E. Guigal', 'winery_EOS', 'winery_Easton', 'winery_Eberle', 'winery_Echeverria', 'winery_El Coto', 'winery_Emiliana', 'winery_Epiphany', 'winery_Erath', 'winery_Errazuriz', 'winery_Estampa', 'winery_Estancia', 'winery_Etude', 'winery_Failla', 'winery_Familia Schroeder', 'winery_Felton Road', 'winery_Fenestra', 'winery_Ferrari-Carano', 'winery_Fess Parker', 'winery_Fetzer', 'winery_Feudi di San Gregorio', 'winery_Feudo Arancio', 'winery_Fidelitas', 'winery_Finca Sophenia', 'winery_Firestone', 'winery_Flora Springs', 'winery_Fournier Père et Fils', 'winery_Foxen', 'winery_Francis Ford Coppola', 'winery_François Lurton', 'winery_Freemark Abbey', 'winery_Freixenet', 'winery_Fritz', \"winery_Frog's Leap\", 'winery_Funky Llama', 'winery_Gainey', 'winery_Gamache', 'winery_Gary Farrell', 'winery_Georges Vigouroux', 'winery_Geyser Peak', 'winery_Girard', 'winery_Glenora', 'winery_Gloria Ferrer', 'winery_Golan Heights Winery', 'winery_Goldeneye', 'winery_Gorman', 'winery_Grgich Hills', 'winery_Guenoc', 'winery_Gunter Triebaumer', 'winery_Gérard Bertrand', 'winery_Hahn', 'winery_Handley', 'winery_Hanna', 'winery_Hazlitt 1852 Vineyards', 'winery_Hendry', 'winery_Henri de Villamont', 'winery_Herdade do Esporão', 'winery_Heron Hill', 'winery_Hogue', 'winery_Husch', 'winery_Iron Horse', 'winery_Ironstone', 'winery_J Vineyards & Winery', 'winery_J. & F. Lurton', 'winery_J. Lohr', \"winery_Jacob's Creek\", 'winery_Jaffurs', 'winery_Januik', 'winery_Joseph Drouhin', 'winery_Joseph Phelps', 'winery_Joseph Swan Vineyards', 'winery_Justin', 'winery_K Vintners', 'winery_Keenan', 'winery_Ken Wright', 'winery_Kendall-Jackson', 'winery_Kenwood', 'winery_Kilikanoon', 'winery_Kim Crawford', 'winery_King Estate', 'winery_Kirkland Signature', 'winery_Kokomo', 'winery_Korbel', 'winery_Kumeu River', 'winery_Kunde', 'winery_Kynsi', \"winery_L'Ecole No. 41\", 'winery_La Chablisienne', 'winery_La Crema', 'winery_La Fenêtre', 'winery_La Playa', 'winery_La Rochelle', 'winery_Labouré-Roi', 'winery_Laetitia', 'winery_Lagarde', 'winery_Lamoreaux Landing', 'winery_Lapostolle', 'winery_Lava Cap', 'winery_Leeuwin Estate', 'winery_Lemelson', 'winery_Leonetti Cellar', 'winery_Lockwood', 'winery_Longboard', 'winery_Longoria', 'winery_Loring Wine Company', 'winery_Lost Canyon', 'winery_Louis Jadot', 'winery_Louis Latour', 'winery_Louis M. Martini', 'winery_Louis Roederer', 'winery_Lucas & Lewellen', 'winery_Lucien Albrecht', 'winery_Luigi Bosca', 'winery_Luis Felipe Edwards', 'winery_Lungarotti', 'winery_Lynmar', 'winery_M. Chapoutier', 'winery_MacPhail', 'winery_Macari', 'winery_Maddalena', 'winery_Manuel Olivier', 'winery_Marchesi Antinori', 'winery_Marchesi di Barolo', 'winery_Marimar Estate', 'winery_Mark Ryan', 'winery_Marqués de Cáceres', 'winery_Martin & Weyrich', 'winery_Martin Ranch', 'winery_Martin Ray', 'winery_Maryhill', 'winery_Maximin Grünhäuser', 'winery_Mazzei', 'winery_Mazzocco', 'winery_McManis', 'winery_Melrose', 'winery_Melville', 'winery_Merry Edwards', 'winery_Merryvale', 'winery_Michel Torino', 'winery_Midnight', 'winery_Miguel Torres', 'winery_Milbrandt', 'winery_Minassian-Young', 'winery_MontGras', 'winery_Montes', 'winery_Morandé', 'winery_Morgan', 'winery_Mounts', 'winery_Mumm Napa', 'winery_Murphy-Goode', 'winery_Navarro', 'winery_Nefarious Cellars', 'winery_Neil Ellis', 'winery_Nickel & Nickel', 'winery_Niepoort', 'winery_Nieto Senetiner', 'winery_Nittnaus Hans und Christine', 'winery_Novelty Hill', 'winery_Novy', 'winery_O. Fournier', 'winery_Odfjell', 'winery_Ojai', 'winery_Olivier Leflaive', 'winery_Owen Roe', 'winery_Pali', 'winery_Panther Creek', 'winery_Paraiso Vineyards', 'winery_Pascual Toso', 'winery_Patz & Hall', 'winery_Paul Jaboulet Aîné', 'winery_Peachy Canyon', 'winery_Pedroncelli', 'winery_Peirano', 'winery_Peju', 'winery_Penfolds', 'winery_Pessagno', 'winery_Pierre Sparr', 'winery_Pine Ridge', 'winery_Pio Cesare', 'winery_Planeta', 'winery_Ponzi', 'winery_Poças', 'winery_Pratsch', 'winery_Pride Mountain', 'winery_Producteurs Plaimont', 'winery_Quinta de Ventozelo', 'winery_Quinta do Casal Branco', 'winery_Quinta do Portal', 'winery_Quivira', 'winery_Ramos-Pinto', 'winery_Ramón Bilbao', 'winery_Rancho Sisquoc', 'winery_Raymond', 'winery_Recanati', 'winery_Reichsgraf von Kesselstatt', 'winery_Remy-Pannier', 'winery_Renwood', 'winery_Rex Hill', 'winery_Robert Hall', 'winery_Robert Mondavi', 'winery_Rocca delle Macìe', 'winery_Rock Wall', 'winery_Rodney Strong', 'winery_Roessler', 'winery_Rosemount', 'winery_Rosenblum', 'winery_Rusack', 'winery_Rutherford Hill', 'winery_Rutini', 'winery_Saint Clair', 'winery_Salomon-Undhof', 'winery_San Juan Vineyards', 'winery_San Pedro', 'winery_San Simeon', 'winery_Santa Alicia', 'winery_Santa Barbara Winery', 'winery_Santa Carolina', 'winery_Santa Ema', 'winery_Santa Julia', 'winery_Santa Rita', 'winery_Saviah', 'winery_Sbragia', 'winery_Schramsberg', 'winery_Schug', 'winery_Sebastiani', 'winery_Segura Viudas', 'winery_Sequoia Grove', 'winery_Seven Hills', 'winery_Shafer', 'winery_Shannon Ridge', 'winery_Siduri', 'winery_Sierra Cantabria', 'winery_Signorello', 'winery_Simonnet-Febvre', 'winery_Sineann', 'winery_Snoqualmie', 'winery_Sobon Estate', 'winery_Soléna', 'winery_Sparkman', 'winery_Spring Valley Vineyard', 'winery_Spy Valley', 'winery_St. Francis', 'winery_St. Supéry', \"winery_Stag's Leap Wine Cellars\", 'winery_Standing Stone', 'winery_Steele', 'winery_Stephen Ross', 'winery_Sterling', 'winery_Steven Kent', 'winery_Stevens', 'winery_Summers', 'winery_Sur de los Andes', 'winery_Sylvester', 'winery_Syncline', 'winery_Tablas Creek', 'winery_Talamonti', 'winery_Talbott', 'winery_Talley', 'winery_Tamarack Cellars', 'winery_Tamaya', 'winery_Tandem', 'winery_Tangent', \"winery_Tasca d'Almerita\", 'winery_Telmo Rodríguez', 'winery_Terlato', 'winery_TerraNoble', 'winery_Terrazas de Los Andes', 'winery_Terre Rouge', 'winery_Tertulia', 'winery_Testarossa', 'winery_Thomas Fogarty', 'winery_Three Rivers', 'winery_Thurston Wolfe', 'winery_Tolosa', 'winery_Tommasi', 'winery_Torii Mor', 'winery_Torres', 'winery_Trapiche', 'winery_Trinchero', 'winery_Trivento', 'winery_Truchard', 'winery_Umani Ronchi', 'winery_Undurraga', 'winery_V. Sattui', 'winery_Valentin Bianchi', \"winery_Valle dell'Acate\", 'winery_Valley of the Moon', 'winery_Ventisquero', 'winery_Veramonte', 'winery_Villa Maria', 'winery_Vina Robles', 'winery_Vine Cliff', 'winery_Vinum', 'winery_Viu Manent', 'winery_Viña Bisquertt', 'winery_Viña La Rosa', 'winery_Viña Requingua', 'winery_Viña Tabalí', 'winery_Von Strasser', 'winery_Wagner', 'winery_Wakefield Estate', 'winery_Waterbrook', 'winery_Wellington', 'winery_Wente', 'winery_White Oak', 'winery_Willamette Valley Vineyards', 'winery_William Fèvre', 'winery_William Hill Estate', 'winery_Williams Selyem', 'winery_Wilson', 'winery_Wines & Winemakers', 'winery_Winzer Krems', 'winery_Woodward Canyon', 'winery_Wölffer', 'winery_X', 'winery_Yalumba', 'winery_Zaca Mesa', 'winery_Zuccardi', 'winery_Zull', 'latent_description_0', 'latent_description_1', 'latent_description_2', 'latent_description_3', 'latent_description_4', 'price'] ['country_Albania', 'country_Argentina', 'country_Australia', 'country_Austria', 'country_Bosnia and Herzegovina', 'country_Brazil', 'country_Bulgaria', 'country_Canada', 'country_Chile', 'country_China', 'country_Croatia', 'country_Cyprus', 'country_Czech Republic', 'country_England', 'country_France', 'country_Georgia', 'country_Germany', 'country_Greece', 'country_Hungary', 'country_India', 'country_Israel', 'country_Italy', 'country_Japan', 'country_Lebanon', 'country_Lithuania', 'country_Luxembourg', 'country_Macedonia', 'country_Mexico', 'country_Moldova', 'country_Montenegro', 'country_Morocco', 'country_New Zealand', 'country_Portugal', 'country_Romania', 'country_Serbia', 'country_Slovakia', 'country_Slovenia', 'country_South Africa', 'country_South Korea', 'country_Spain', 'country_Switzerland', 'country_Turkey', 'country_US', 'country_US-France', 'country_Ukraine', 'country_Uruguay', 'designation_Bacigalupi Vineyard', 'designation_Barrel Fermented', 'designation_Barrel Select', 'designation_Bien Nacido Vineyard', 'designation_Blanc de Blancs', 'designation_Blanc de Blancs Brut', 'designation_Broquel', 'designation_Brut', 'designation_Brut Rosé', 'designation_Champoux Vineyard', 'designation_Ciel du Cheval Vineyard', 'designation_Classic', 'designation_Crianza', 'designation_Cuvée Prestige', 'designation_Dry', 'designation_Durell Vineyard', 'designation_Dutton Ranch', 'designation_Estate', 'designation_Estate Bottled', 'designation_Estate Grown', 'designation_Estate Reserve', 'designation_Estate Vineyard', 'designation_Extra Dry', 'designation_Flood Family Vineyards', \"designation_Garys' Vineyard\", 'designation_Gran Reserva', 'designation_Grand Reserve', 'designation_Kosher', 'designation_La Cruz Vineyard', 'designation_Late Bottled Vintage', 'designation_Late Harvest', 'designation_Limited Edition', 'designation_Limited Release', 'designation_Limited Selection', 'designation_Oak Cask', 'designation_Old Vine', 'designation_Old Vines', 'designation_Premium', 'designation_Prestige', 'designation_Private Reserve', 'designation_Private Selection', \"designation_Proprietor's Reserve\", 'designation_Red', 'designation_Red Wine', 'designation_Reserva', 'designation_Reserva Especial', 'designation_Reserve', 'designation_Riserva', 'designation_Roble', 'designation_Rosado', \"designation_Rosella's Vineyard\", 'designation_Rosé', 'designation_Rosé of', 'designation_Réserve', 'designation_Sangiacomo Vineyard', 'designation_Semi-Dry', 'designation_Signature', 'designation_Single Vineyard', 'designation_Sleepy Hollow Vineyard', 'designation_Special Reserve', 'designation_Stagecoach Vineyard', 'designation_Stillwater Creek Vineyard', 'designation_Tinto', 'designation_Tradition', 'designation_Trocken', 'designation_Two Vines', 'designation_Unoaked', 'designation_Vieilles Vignes', 'designation_Vintage', \"designation_Vintner's Reserve\", 'designation_White', 'latent_description_0', 'latent_description_1', 'latent_description_2', 'latent_description_3', 'latent_description_4', 'price', 'region_Adelaide', 'region_Adelaide Hills', 'region_Aglianico del Vulture', 'region_Alexander Valley', 'region_Alicante', 'region_Alsace', 'region_Alto Adige', 'region_Amador County', 'region_Amarone della Valpolicella', 'region_Amarone della Valpolicella Classico', 'region_Anderson Valley', 'region_Anjou', 'region_Applegate Valley', 'region_Argentina', 'region_Arroyo Grande Valley', 'region_Arroyo Seco', 'region_Atlas Peak', 'region_Barbaresco', \"region_Barbera d'Alba\", \"region_Barbera d'Alba Superiore\", \"region_Barbera d'Asti\", \"region_Barbera d'Asti Superiore\", 'region_Barolo', 'region_Barossa', 'region_Barossa Valley', 'region_Beaujolais', 'region_Beaujolais-Villages', 'region_Beaune', 'region_Bennett Valley', 'region_Bergerac', 'region_Bergerac Sec', 'region_Bierzo', 'region_Blaye Côtes de Bordeaux', 'region_Bolgheri', 'region_Bolgheri Superiore', 'region_Bordeaux', 'region_Bordeaux Blanc', 'region_Bordeaux Rosé', 'region_Bordeaux Supérieur', 'region_Bourgogne', 'region_Brunello di Montalcino', 'region_Cafayate', 'region_Cahors', 'region_Calatayud', 'region_Calaveras County', 'region_Calchaquí Valley', 'region_California', 'region_Calistoga', 'region_Campania', 'region_Campo de Borja', 'region_Cariñena', 'region_Carmel Valley', 'region_Carneros', 'region_Catalunya', 'region_Cava', 'region_Cayuga Lake', 'region_Central Coast', 'region_Chablis', 'region_Chalk Hill', 'region_Chalone', 'region_Chambolle-Musigny', 'region_Champagne', 'region_Chassagne-Montrachet', 'region_Chehalem Mountains', 'region_Chianti', 'region_Chianti Classico', 'region_Chianti Colli Senesi', 'region_Chianti Rufina', 'region_Chinon', 'region_Châteauneuf-du-Pape', 'region_Cienega Valley', 'region_Clare Valley', 'region_Clarendon', 'region_Clarksburg', 'region_Colli Orientali del Friuli', 'region_Colli della Toscana Centrale', 'region_Collio', 'region_Columbia Valley (OR)', 'region_Columbia Valley (WA)', 'region_Conegliano Valdobbiadene Prosecco Superiore', 'region_Contra Costa County', 'region_Coonawarra', 'region_Corbières', 'region_Cornas', 'region_Costières de Nîmes', \"region_Coteaux d'Aix-en-Provence\", 'region_Coteaux du Languedoc', 'region_Crozes-Hermitage', \"region_Crémant d'Alsace\", 'region_Crémant de Bourgogne', 'region_Côte Rôtie', 'region_Côtes de Bourg', 'region_Côtes de Gascogne', 'region_Côtes de Provence', 'region_Côtes du Rhône', 'region_Côtes du Rhône Villages', 'region_Delle Venezie', 'region_Diamond Mountain District', \"region_Dolcetto d'Alba\", 'region_Dry Creek Valley', 'region_Dundee Hills', 'region_Eden Valley', 'region_Edna Valley', 'region_El Dorado', 'region_Eola-Amity Hills', 'region_Etna', 'region_Famatina Valley', 'region_Fiano di Avellino', 'region_Fiddletown', 'region_Finger Lakes', 'region_Franciacorta', 'region_Friuli Grave', 'region_Friuli Isonzo', 'region_Gaillac', 'region_Gevrey-Chambertin', 'region_Gigondas', 'region_Graves', 'region_Greco di Tufo', 'region_Green Valley', 'region_Happy Canyon of Santa Barbara', 'region_Haut-Médoc', 'region_Hermitage', 'region_High Valley', 'region_Horse Heaven Hills', 'region_Howell Mountain', 'region_Hunter Valley', 'region_Irpinia', 'region_Isola dei Nuraghi', 'region_Jerez', 'region_Jumilla', 'region_Knights Valley', 'region_La Mancha', 'region_Lake County', 'region_Langhe', 'region_Langhorne Creek', 'region_Lazio', 'region_Livermore Valley', 'region_Lodi', 'region_Long Island', 'region_Los Carneros', 'region_Lugana', 'region_Luján de Cuyo', 'region_Madiran', 'region_Maipú', 'region_Marche', 'region_Maremma', 'region_Maremma Toscana', 'region_Margaret River', 'region_Margaux', 'region_Marin County', 'region_McLaren Vale', 'region_McMinnville', 'region_Mendocino', 'region_Mendocino County', 'region_Mendocino Ridge', 'region_Mendoza', 'region_Mercurey', 'region_Meursault', 'region_Minervois', \"region_Montepulciano d'Abruzzo\", 'region_Monterey', 'region_Monterey County', 'region_Monticello', 'region_Montsant', 'region_Morellino di Scansano', \"region_Moscato d'Asti\", 'region_Mount Veeder', 'region_Mt. Harlan', 'region_Muscadet Sèvre et Maine', 'region_Mâcon-Villages', 'region_Médoc', 'region_Napa', 'region_Napa County', 'region_Napa Valley', 'region_Navarra', 'region_Neuquén', 'region_New Mexico', 'region_New York', 'region_Niagara Peninsula', 'region_North Coast', 'region_North Fork of Long Island', 'region_Nuits-St.-Georges', 'region_Oak Knoll District', 'region_Oakville', 'region_Okanagan Valley', 'region_Oregon', 'region_Paso Robles', 'region_Pauillac', \"region_Pays d'Oc\", 'region_Penedès', 'region_Pessac-Léognan', 'region_Piedmont', 'region_Pommard', 'region_Pouilly-Fuissé', 'region_Pouilly-Fumé', 'region_Priorat', 'region_Prosecco', 'region_Prosecco Superiore di Cartizze', 'region_Prosecco del Veneto', 'region_Prosecco di Conegliano e Valdobbiadene', 'region_Prosecco di Valdobbiadene', 'region_Puglia', 'region_Puligny-Montrachet', 'region_Rattlesnake Hills', 'region_Red Hills Lake County', 'region_Red Mountain', 'region_Redwood Valley', 'region_Ribbon Ridge', 'region_Ribera del Duero', 'region_Rioja', 'region_Rockpile', 'region_Rogue Valley', 'region_Rosso di Montalcino', 'region_Rosso di Montepulciano', 'region_Rueda', 'region_Russian River Valley', 'region_Rutherford', 'region_Rutherglen', 'region_Rías Baixas', 'region_Río Negro Valley', 'region_Sagrantino di Montefalco', 'region_Saint-Estèphe', 'region_Saint-Joseph', 'region_Saint-Julien', 'region_Saint-Émilion', 'region_Salento', 'region_Salta', 'region_San Benito County', 'region_San Juan', 'region_San Luis Obispo County', 'region_San Rafael', 'region_Sancerre', \"region_Sant'Antimo\", 'region_Santa Barbara County', 'region_Santa Clara Valley', 'region_Santa Cruz Mountains', 'region_Santa Lucia Highlands', 'region_Santa Maria Valley', 'region_Santa Ynez Valley', 'region_Santenay', 'region_Savigny-lès-Beaune', 'region_Seneca Lake', 'region_Shenandoah Valley (CA)', 'region_Sicilia', 'region_Sierra Foothills', 'region_Snipes Mountain', 'region_Soave', 'region_Soave Classico', 'region_Somontano', 'region_Sonoma Coast', 'region_Sonoma County', 'region_Sonoma Mountain', 'region_Sonoma Valley', 'region_Sonoma-Napa', 'region_South Australia', 'region_South Eastern Australia', 'region_Southern Oregon', 'region_St. Helena', 'region_Sta. Rita Hills', 'region_Stags Leap District', 'region_Taurasi', 'region_Temecula', 'region_Temecula Valley', 'region_Terre Siciliane', 'region_Tierra de Castilla', 'region_Toro', 'region_Toscana', 'region_Trentino', 'region_Trento', 'region_Tupungato', 'region_Uco Valley', 'region_Umbria', 'region_Umpqua Valley', 'region_Utiel-Requena', 'region_Valdeorras', 'region_Valdepeñas', 'region_Valencia', 'region_Valpolicella Classico Superiore', 'region_Valpolicella Classico Superiore Ripasso', 'region_Valpolicella Superiore', 'region_Valpolicella Superiore Ripasso', 'region_Veneto', 'region_Venezia Giulia', 'region_Vermentino di Sardegna', 'region_Vernaccia di San Gimignano', 'region_Victoria', 'region_Vigneti delle Dolomiti', 'region_Vin Mousseux', \"region_Vin de Pays d'Oc\", 'region_Vin de Pays des Côtes de Gascogne', 'region_Vino Nobile di Montepulciano', 'region_Vino de la Tierra de Castilla', 'region_Vino de la Tierra de Castilla y León', 'region_Virginia', 'region_Volnay', 'region_Vosne-Romanée', 'region_Vouvray', 'region_Wahluke Slope', 'region_Walla Walla Valley (OR)', 'region_Walla Walla Valley (WA)', 'region_Washington', 'region_Western Australia', 'region_Willamette Valley', 'region_Yakima Valley', 'region_Yamhill-Carlton District', 'region_Yarra Valley', 'region_Yorkville Highlands', 'region_Yountville', 'variety_Agiorgitiko', 'variety_Aglianico', 'variety_Albariño', 'variety_Alsace white blend', 'variety_Alvarinho', 'variety_Arinto', 'variety_Arneis', 'variety_Assyrtico', 'variety_Austrian Red Blend', 'variety_Barbera', 'variety_Blaufränkisch', 'variety_Bonarda', 'variety_Bordeaux-style Red Blend', 'variety_Bordeaux-style White Blend', 'variety_Cabernet Blend', 'variety_Cabernet Franc', 'variety_Cabernet Sauvignon', 'variety_Cabernet Sauvignon-Carmenère', 'variety_Cabernet Sauvignon-Malbec', 'variety_Cabernet Sauvignon-Merlot', 'variety_Cabernet Sauvignon-Shiraz', 'variety_Cabernet Sauvignon-Syrah', 'variety_Carignan', 'variety_Carignano', 'variety_Carmenère', 'variety_Champagne Blend', 'variety_Chardonnay', 'variety_Chardonnay-Viognier', 'variety_Chenin Blanc', 'variety_Cortese', 'variety_Corvina, Rondinella, Molinara', 'variety_Dolcetto', 'variety_Falanghina', 'variety_Fiano', 'variety_Friulano', 'variety_Fumé Blanc', 'variety_G-S-M', 'variety_Gamay', 'variety_Garganega', 'variety_Garnacha', 'variety_Gewürztraminer', 'variety_Glera', 'variety_Godello', 'variety_Greco', 'variety_Grenache', 'variety_Grenache Blanc', 'variety_Grenache-Syrah', 'variety_Grillo', 'variety_Grüner Veltliner', 'variety_Lambrusco', 'variety_Malbec', 'variety_Malbec-Cabernet Sauvignon', 'variety_Malbec-Merlot', 'variety_Marsanne', 'variety_Melon', 'variety_Mencía', 'variety_Meritage', 'variety_Merlot', 'variety_Merlot-Cabernet Sauvignon', 'variety_Monastrell', 'variety_Montepulciano', 'variety_Moscato', 'variety_Mourvèdre', 'variety_Muscat', 'variety_Muscat Canelli', 'variety_Nebbiolo', 'variety_Negroamaro', 'variety_Nerello Mascalese', \"variety_Nero d'Avola\", 'variety_Petit Verdot', 'variety_Petite Sirah', 'variety_Petite Verdot', 'variety_Pinot Bianco', 'variety_Pinot Blanc', 'variety_Pinot Grigio', 'variety_Pinot Gris', 'variety_Pinot Nero', 'variety_Pinot Noir', 'variety_Pinotage', 'variety_Port', 'variety_Portuguese Red', 'variety_Portuguese White', 'variety_Primitivo', 'variety_Prosecco', 'variety_Prugnolo Gentile', 'variety_Red Blend', 'variety_Rhône-style Red Blend', 'variety_Rhône-style White Blend', 'variety_Ribolla Gialla', 'variety_Riesling', 'variety_Rosé', 'variety_Roussanne', 'variety_Sagrantino', 'variety_Sangiovese', 'variety_Sangiovese Grosso', 'variety_Sauvignon', 'variety_Sauvignon Blanc', 'variety_Sauvignon Blanc-Semillon', 'variety_Semillon-Sauvignon Blanc', 'variety_Sherry', 'variety_Shiraz', 'variety_Shiraz-Cabernet Sauvignon', 'variety_Shiraz-Viognier', 'variety_Silvaner', 'variety_Sparkling Blend', 'variety_Spätburgunder', 'variety_St. Laurent', 'variety_Syrah', 'variety_Syrah-Cabernet', 'variety_Sémillon', 'variety_Tannat', 'variety_Tempranillo', 'variety_Tempranillo Blend', 'variety_Tempranillo-Cabernet Sauvignon', 'variety_Tempranillo-Garnacha', 'variety_Tinta de Toro', 'variety_Tinto Fino', 'variety_Tinto del Pais', 'variety_Tokaji', 'variety_Torrontés', 'variety_Touriga Nacional', 'variety_Turbiana', 'variety_Verdejo', 'variety_Verdelho', 'variety_Vermentino', 'variety_Vernaccia', 'variety_Vidal Blanc', 'variety_Viognier', 'variety_Viura', 'variety_White Blend', 'variety_Xinomavro', 'variety_Zinfandel', 'variety_Zweigelt', 'winery_Abacela', 'winery_Abeja', 'winery_Adega Cooperativa de Borba', 'winery_Adelaida', 'winery_Adelsheim', 'winery_Airfield Estates', 'winery_Alexander Valley Vineyards', 'winery_Alexandria Nicole', 'winery_Alta Vista', 'winery_Andeluna', 'winery_Andrew Will', 'winery_Apaltagua', 'winery_Arboleda', 'winery_Arbor Crest', 'winery_Aresti', 'winery_Arista', 'winery_Arrowood', 'winery_Artesa', 'winery_Astoria', 'winery_Babcock', 'winery_Bacalhôa Wines of Portugal', 'winery_Ballentine', 'winery_Balletto', 'winery_Barnard Griffin', 'winery_Barnett', 'winery_Barrister', 'winery_Barton & Guestier', 'winery_Basel Cellars', 'winery_Beaulieu Vineyard', 'winery_Benziger', 'winery_Beringer', 'winery_Bernard Magrez', 'winery_Bernardus', 'winery_Betz Family', 'winery_Bianchi', 'winery_Blackstone', 'winery_Bodega Catena Zapata', 'winery_Bodega Norton', 'winery_Bodegas Navarro López', 'winery_Bodegas Valdemar', 'winery_Bogle', 'winery_Bonterra', 'winery_Borges', 'winery_Bouchard Aîné & Fils', 'winery_Bouchard Père & Fils', 'winery_Boutari', 'winery_Brancott', 'winery_Brander', 'winery_Brian Carter Cellars', 'winery_Bründlmayer', 'winery_Buena Vista', 'winery_Buty', 'winery_Byron', 'winery_CVNE', 'winery_Cadence', 'winery_Calcareous', 'winery_Calera', 'winery_Caliterra', 'winery_Cambria', 'winery_Cameron Hughes', 'winery_Campolargo', 'winery_Cantina Santadi', 'winery_Carlos Basso', 'winery_Carmel', 'winery_Carmen', 'winery_Carpineto', 'winery_Carr', 'winery_Casa Silva', 'winery_Castello Banfi', 'winery_Castle Rock', 'winery_Castoro Cellars', 'winery_Cave B', 'winery_Caves Aliança', 'winery_Cayuse', 'winery_Ceretto', 'winery_Chalk Hill', 'winery_Chandon', 'winery_Chanson Père et Fils', 'winery_Charles Krug', 'winery_Chateau St. Jean', 'winery_Chateau Ste. Michelle', 'winery_Chehalem', 'winery_Chilcas', 'winery_Chimney Rock', 'winery_Cinnabar', 'winery_Clarendon Hills', 'winery_Cline', 'winery_Clos La Chance', 'winery_Clos Pegase', 'winery_Clos du Bois', 'winery_Clos du Val', 'winery_Columbia Crest', 'winery_Columbia Winery', 'winery_Companhia das Quintas', 'winery_Concannon', 'winery_Concha y Toro', 'winery_Cono Sur', 'winery_Covey Run', 'winery_Craggy Range', 'winery_Curtis', 'winery_Cusumano', 'winery_Cuvaison', \"winery_D'Arenberg\", 'winery_DFJ Vinhos', 'winery_David Hill', 'winery_De Bortoli', 'winery_De Loach', 'winery_De Martino', 'winery_DeLille', 'winery_Del Rio', 'winery_Domaine Faiveley', 'winery_Domaine Jean Bousquet', 'winery_Domaine Serene', 'winery_Domaine Zind-Humbrecht', 'winery_Domaine de la Terre Rouge', 'winery_Domaine des Baumard', 'winery_Domaines Barons de Rothschild (Lafite)', 'winery_Domaines Schlumberger', 'winery_Domdechant Werner', 'winery_Donnafugata', 'winery_Dopff & Irion', 'winery_Doyenne', 'winery_Doña Paula', 'winery_Dr. H. Thanisch (Erben Müller-Burggraef)', 'winery_Dr. Konstantin Frank', 'winery_Dr. Loosen', 'winery_Dr. Pauly Bergweiler', 'winery_Dry Creek Vineyard', 'winery_Duca di Salaparuta', 'winery_Duckhorn', 'winery_Dunham', 'winery_Dusted Valley', 'winery_Dutton Estate', 'winery_Dutton-Goldfield', 'winery_Dão Sul', 'winery_E. Guigal', 'winery_EOS', 'winery_Easton', 'winery_Eberle', 'winery_Echeverria', 'winery_El Coto', 'winery_Emiliana', 'winery_Epiphany', 'winery_Erath', 'winery_Errazuriz', 'winery_Estampa', 'winery_Estancia', 'winery_Etude', 'winery_Failla', 'winery_Familia Schroeder', 'winery_Felton Road', 'winery_Fenestra', 'winery_Ferrari-Carano', 'winery_Fess Parker', 'winery_Fetzer', 'winery_Feudi di San Gregorio', 'winery_Feudo Arancio', 'winery_Fidelitas', 'winery_Finca Sophenia', 'winery_Firestone', 'winery_Flora Springs', 'winery_Fournier Père et Fils', 'winery_Foxen', 'winery_Francis Ford Coppola', 'winery_François Lurton', 'winery_Freemark Abbey', 'winery_Freixenet', 'winery_Fritz', \"winery_Frog's Leap\", 'winery_Funky Llama', 'winery_Gainey', 'winery_Gamache', 'winery_Gary Farrell', 'winery_Georges Vigouroux', 'winery_Geyser Peak', 'winery_Girard', 'winery_Glenora', 'winery_Gloria Ferrer', 'winery_Golan Heights Winery', 'winery_Goldeneye', 'winery_Gorman', 'winery_Grgich Hills', 'winery_Guenoc', 'winery_Gunter Triebaumer', 'winery_Gérard Bertrand', 'winery_Hahn', 'winery_Handley', 'winery_Hanna', 'winery_Hazlitt 1852 Vineyards', 'winery_Hendry', 'winery_Henri de Villamont', 'winery_Herdade do Esporão', 'winery_Heron Hill', 'winery_Hogue', 'winery_Husch', 'winery_Iron Horse', 'winery_Ironstone', 'winery_J Vineyards & Winery', 'winery_J. & F. Lurton', 'winery_J. Lohr', \"winery_Jacob's Creek\", 'winery_Jaffurs', 'winery_Januik', 'winery_Joseph Drouhin', 'winery_Joseph Phelps', 'winery_Joseph Swan Vineyards', 'winery_Justin', 'winery_K Vintners', 'winery_Keenan', 'winery_Ken Wright', 'winery_Kendall-Jackson', 'winery_Kenwood', 'winery_Kilikanoon', 'winery_Kim Crawford', 'winery_King Estate', 'winery_Kirkland Signature', 'winery_Kokomo', 'winery_Korbel', 'winery_Kumeu River', 'winery_Kunde', 'winery_Kynsi', \"winery_L'Ecole No. 41\", 'winery_La Chablisienne', 'winery_La Crema', 'winery_La Fenêtre', 'winery_La Playa', 'winery_La Rochelle', 'winery_Labouré-Roi', 'winery_Laetitia', 'winery_Lagarde', 'winery_Lamoreaux Landing', 'winery_Lapostolle', 'winery_Lava Cap', 'winery_Leeuwin Estate', 'winery_Lemelson', 'winery_Leonetti Cellar', 'winery_Lockwood', 'winery_Longboard', 'winery_Longoria', 'winery_Loring Wine Company', 'winery_Lost Canyon', 'winery_Louis Jadot', 'winery_Louis Latour', 'winery_Louis M. Martini', 'winery_Louis Roederer', 'winery_Lucas & Lewellen', 'winery_Lucien Albrecht', 'winery_Luigi Bosca', 'winery_Luis Felipe Edwards', 'winery_Lungarotti', 'winery_Lynmar', 'winery_M. Chapoutier', 'winery_MacPhail', 'winery_Macari', 'winery_Maddalena', 'winery_Manuel Olivier', 'winery_Marchesi Antinori', 'winery_Marchesi di Barolo', 'winery_Marimar Estate', 'winery_Mark Ryan', 'winery_Marqués de Cáceres', 'winery_Martin & Weyrich', 'winery_Martin Ranch', 'winery_Martin Ray', 'winery_Maryhill', 'winery_Maximin Grünhäuser', 'winery_Mazzei', 'winery_Mazzocco', 'winery_McManis', 'winery_Melrose', 'winery_Melville', 'winery_Merry Edwards', 'winery_Merryvale', 'winery_Michel Torino', 'winery_Midnight', 'winery_Miguel Torres', 'winery_Milbrandt', 'winery_Minassian-Young', 'winery_MontGras', 'winery_Montes', 'winery_Morandé', 'winery_Morgan', 'winery_Mounts', 'winery_Mumm Napa', 'winery_Murphy-Goode', 'winery_Navarro', 'winery_Nefarious Cellars', 'winery_Neil Ellis', 'winery_Nickel & Nickel', 'winery_Niepoort', 'winery_Nieto Senetiner', 'winery_Nittnaus Hans und Christine', 'winery_Novelty Hill', 'winery_Novy', 'winery_O. Fournier', 'winery_Odfjell', 'winery_Ojai', 'winery_Olivier Leflaive', 'winery_Owen Roe', 'winery_Pali', 'winery_Panther Creek', 'winery_Paraiso Vineyards', 'winery_Pascual Toso', 'winery_Patz & Hall', 'winery_Paul Jaboulet Aîné', 'winery_Peachy Canyon', 'winery_Pedroncelli', 'winery_Peirano', 'winery_Peju', 'winery_Penfolds', 'winery_Pessagno', 'winery_Pierre Sparr', 'winery_Pine Ridge', 'winery_Pio Cesare', 'winery_Planeta', 'winery_Ponzi', 'winery_Poças', 'winery_Pratsch', 'winery_Pride Mountain', 'winery_Producteurs Plaimont', 'winery_Quinta de Ventozelo', 'winery_Quinta do Casal Branco', 'winery_Quinta do Portal', 'winery_Quivira', 'winery_Ramos-Pinto', 'winery_Ramón Bilbao', 'winery_Rancho Sisquoc', 'winery_Raymond', 'winery_Recanati', 'winery_Reichsgraf von Kesselstatt', 'winery_Remy-Pannier', 'winery_Renwood', 'winery_Rex Hill', 'winery_Robert Hall', 'winery_Robert Mondavi', 'winery_Rocca delle Macìe', 'winery_Rock Wall', 'winery_Rodney Strong', 'winery_Roessler', 'winery_Rosemount', 'winery_Rosenblum', 'winery_Rusack', 'winery_Rutherford Hill', 'winery_Rutini', 'winery_Saint Clair', 'winery_Salomon-Undhof', 'winery_San Juan Vineyards', 'winery_San Pedro', 'winery_San Simeon', 'winery_Santa Alicia', 'winery_Santa Barbara Winery', 'winery_Santa Carolina', 'winery_Santa Ema', 'winery_Santa Julia', 'winery_Santa Rita', 'winery_Saviah', 'winery_Sbragia', 'winery_Schramsberg', 'winery_Schug', 'winery_Sebastiani', 'winery_Segura Viudas', 'winery_Sequoia Grove', 'winery_Seven Hills', 'winery_Shafer', 'winery_Shannon Ridge', 'winery_Siduri', 'winery_Sierra Cantabria', 'winery_Signorello', 'winery_Simonnet-Febvre', 'winery_Sineann', 'winery_Snoqualmie', 'winery_Sobon Estate', 'winery_Soléna', 'winery_Sparkman', 'winery_Spring Valley Vineyard', 'winery_Spy Valley', 'winery_St. Francis', 'winery_St. Supéry', \"winery_Stag's Leap Wine Cellars\", 'winery_Standing Stone', 'winery_Steele', 'winery_Stephen Ross', 'winery_Sterling', 'winery_Steven Kent', 'winery_Stevens', 'winery_Summers', 'winery_Sur de los Andes', 'winery_Sylvester', 'winery_Syncline', 'winery_Tablas Creek', 'winery_Talamonti', 'winery_Talbott', 'winery_Talley', 'winery_Tamarack Cellars', 'winery_Tamaya', 'winery_Tandem', 'winery_Tangent', \"winery_Tasca d'Almerita\", 'winery_Telmo Rodríguez', 'winery_Terlato', 'winery_TerraNoble', 'winery_Terrazas de Los Andes', 'winery_Terre Rouge', 'winery_Tertulia', 'winery_Testarossa', 'winery_Thomas Fogarty', 'winery_Three Rivers', 'winery_Thurston Wolfe', 'winery_Tolosa', 'winery_Tommasi', 'winery_Torii Mor', 'winery_Torres', 'winery_Trapiche', 'winery_Trinchero', 'winery_Trivento', 'winery_Truchard', 'winery_Umani Ronchi', 'winery_Undurraga', 'winery_V. Sattui', 'winery_Valentin Bianchi', \"winery_Valle dell'Acate\", 'winery_Valley of the Moon', 'winery_Ventisquero', 'winery_Veramonte', 'winery_Villa Maria', 'winery_Vina Robles', 'winery_Vine Cliff', 'winery_Vinum', 'winery_Viu Manent', 'winery_Viña Bisquertt', 'winery_Viña La Rosa', 'winery_Viña Requingua', 'winery_Viña Tabalí', 'winery_Von Strasser', 'winery_Wagner', 'winery_Wakefield Estate', 'winery_Waterbrook', 'winery_Wellington', 'winery_Wente', 'winery_White Oak', 'winery_Willamette Valley Vineyards', 'winery_William Fèvre', 'winery_William Hill Estate', 'winery_Williams Selyem', 'winery_Wilson', 'winery_Wines & Winemakers', 'winery_Winzer Krems', 'winery_Woodward Canyon', 'winery_Wölffer', 'winery_X', 'winery_Yalumba', 'winery_Zaca Mesa', 'winery_Zuccardi', 'winery_Zull']"
     ]
    }
   ],
   "source": [
    "my_own_predict_method(feature_payload)"
   ]
  },
  {
   "cell_type": "code",
   "execution_count": null,
   "metadata": {},
   "outputs": [],
   "source": [
    "#Now to deploy my own algorithm, I must build a docker container for it. "
   ]
  },
  {
   "cell_type": "code",
   "execution_count": null,
   "metadata": {},
   "outputs": [],
   "source": []
  }
 ],
 "metadata": {
  "kernelspec": {
   "display_name": "conda_python3",
   "language": "python",
   "name": "conda_python3"
  },
  "language_info": {
   "codemirror_mode": {
    "name": "ipython",
    "version": 3
   },
   "file_extension": ".py",
   "mimetype": "text/x-python",
   "name": "python",
   "nbconvert_exporter": "python",
   "pygments_lexer": "ipython3",
   "version": "3.6.5"
  }
 },
 "nbformat": 4,
 "nbformat_minor": 2
}
