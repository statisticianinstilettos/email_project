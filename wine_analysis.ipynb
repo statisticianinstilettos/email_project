{
 "cells": [
  {
   "cell_type": "markdown",
   "metadata": {},
   "source": [
    "# Gradient Boosting Machines for Wine Points Predictions"
   ]
  },
  {
   "cell_type": "markdown",
   "metadata": {},
   "source": [
    "Wine Spectator's 100-Point Scale\n",
    "\n",
    "95-100 Classic: a great wine.\n",
    "\n",
    "90-94 Outstanding: a wine of superior character and style.\n",
    "\n",
    "85-89 Very good: a wine with special qualities.\n",
    "\n",
    "80-84 Good: a solid, well-made wine.\n",
    "\n",
    "75-79 Mediocre: a drinkable wine that may have minor flaws.\n",
    "\n",
    "50-74 Not recommended."
   ]
  },
  {
   "cell_type": "code",
   "execution_count": null,
   "metadata": {},
   "outputs": [],
   "source": [
    "!pip install xgboost"
   ]
  },
  {
   "cell_type": "code",
   "execution_count": null,
   "metadata": {},
   "outputs": [],
   "source": [
    "!pip install graphviz"
   ]
  },
  {
   "cell_type": "code",
   "execution_count": 1,
   "metadata": {},
   "outputs": [],
   "source": [
    "import pandas as pd\n",
    "import numpy as np\n",
    "from sklearn.model_selection import train_test_split\n",
    "from sklearn.feature_extraction.text import TfidfVectorizer\n",
    "from sklearn.decomposition import TruncatedSVD\n",
    "from nltk.tokenize import RegexpTokenizer\n",
    "import xgboost as xgb\n",
    "\n",
    "import seaborn as sns\n",
    "import matplotlib.pyplot as plt"
   ]
  },
  {
   "cell_type": "code",
   "execution_count": 2,
   "metadata": {},
   "outputs": [
    {
     "data": {
      "text/html": [
       "<style>.container { width:100% !important; }</style>"
      ],
      "text/plain": [
       "<IPython.core.display.HTML object>"
      ]
     },
     "metadata": {},
     "output_type": "display_data"
    }
   ],
   "source": [
    "from IPython.core.display import display, HTML\n",
    "display(HTML(\"<style>.container { width:100% !important; }</style>\"))"
   ]
  },
  {
   "cell_type": "code",
   "execution_count": 3,
   "metadata": {},
   "outputs": [
    {
     "name": "stdout",
     "output_type": "stream",
     "text": [
      "(137235, 10)\n"
     ]
    },
    {
     "data": {
      "text/html": [
       "<div>\n",
       "<style scoped>\n",
       "    .dataframe tbody tr th:only-of-type {\n",
       "        vertical-align: middle;\n",
       "    }\n",
       "\n",
       "    .dataframe tbody tr th {\n",
       "        vertical-align: top;\n",
       "    }\n",
       "\n",
       "    .dataframe thead th {\n",
       "        text-align: right;\n",
       "    }\n",
       "</style>\n",
       "<table border=\"1\" class=\"dataframe\">\n",
       "  <thead>\n",
       "    <tr style=\"text-align: right;\">\n",
       "      <th></th>\n",
       "      <th>country</th>\n",
       "      <th>description</th>\n",
       "      <th>designation</th>\n",
       "      <th>points</th>\n",
       "      <th>price</th>\n",
       "      <th>province</th>\n",
       "      <th>region_1</th>\n",
       "      <th>region_2</th>\n",
       "      <th>variety</th>\n",
       "      <th>winery</th>\n",
       "    </tr>\n",
       "  </thead>\n",
       "  <tbody>\n",
       "    <tr>\n",
       "      <th>0</th>\n",
       "      <td>US</td>\n",
       "      <td>This tremendous 100% varietal wine hails from ...</td>\n",
       "      <td>Martha's Vineyard</td>\n",
       "      <td>96</td>\n",
       "      <td>235.0</td>\n",
       "      <td>California</td>\n",
       "      <td>Napa Valley</td>\n",
       "      <td>Napa</td>\n",
       "      <td>Cabernet Sauvignon</td>\n",
       "      <td>Heitz</td>\n",
       "    </tr>\n",
       "    <tr>\n",
       "      <th>1</th>\n",
       "      <td>Spain</td>\n",
       "      <td>Ripe aromas of fig, blackberry and cassis are ...</td>\n",
       "      <td>Carodorum Selección Especial Reserva</td>\n",
       "      <td>96</td>\n",
       "      <td>110.0</td>\n",
       "      <td>Northern Spain</td>\n",
       "      <td>Toro</td>\n",
       "      <td>NaN</td>\n",
       "      <td>Tinta de Toro</td>\n",
       "      <td>Bodega Carmen Rodríguez</td>\n",
       "    </tr>\n",
       "    <tr>\n",
       "      <th>2</th>\n",
       "      <td>US</td>\n",
       "      <td>Mac Watson honors the memory of a wine once ma...</td>\n",
       "      <td>Special Selected Late Harvest</td>\n",
       "      <td>96</td>\n",
       "      <td>90.0</td>\n",
       "      <td>California</td>\n",
       "      <td>Knights Valley</td>\n",
       "      <td>Sonoma</td>\n",
       "      <td>Sauvignon Blanc</td>\n",
       "      <td>Macauley</td>\n",
       "    </tr>\n",
       "    <tr>\n",
       "      <th>3</th>\n",
       "      <td>US</td>\n",
       "      <td>This spent 20 months in 30% new French oak, an...</td>\n",
       "      <td>Reserve</td>\n",
       "      <td>96</td>\n",
       "      <td>65.0</td>\n",
       "      <td>Oregon</td>\n",
       "      <td>Willamette Valley</td>\n",
       "      <td>Willamette Valley</td>\n",
       "      <td>Pinot Noir</td>\n",
       "      <td>Ponzi</td>\n",
       "    </tr>\n",
       "    <tr>\n",
       "      <th>4</th>\n",
       "      <td>France</td>\n",
       "      <td>This is the top wine from La Bégude, named aft...</td>\n",
       "      <td>La Brûlade</td>\n",
       "      <td>95</td>\n",
       "      <td>66.0</td>\n",
       "      <td>Provence</td>\n",
       "      <td>Bandol</td>\n",
       "      <td>NaN</td>\n",
       "      <td>Provence red blend</td>\n",
       "      <td>Domaine de la Bégude</td>\n",
       "    </tr>\n",
       "  </tbody>\n",
       "</table>\n",
       "</div>"
      ],
      "text/plain": [
       "  country                                        description  \\\n",
       "0      US  This tremendous 100% varietal wine hails from ...   \n",
       "1   Spain  Ripe aromas of fig, blackberry and cassis are ...   \n",
       "2      US  Mac Watson honors the memory of a wine once ma...   \n",
       "3      US  This spent 20 months in 30% new French oak, an...   \n",
       "4  France  This is the top wine from La Bégude, named aft...   \n",
       "\n",
       "                            designation  points  price        province  \\\n",
       "0                     Martha's Vineyard      96  235.0      California   \n",
       "1  Carodorum Selección Especial Reserva      96  110.0  Northern Spain   \n",
       "2         Special Selected Late Harvest      96   90.0      California   \n",
       "3                               Reserve      96   65.0          Oregon   \n",
       "4                            La Brûlade      95   66.0        Provence   \n",
       "\n",
       "            region_1           region_2             variety  \\\n",
       "0        Napa Valley               Napa  Cabernet Sauvignon   \n",
       "1               Toro                NaN       Tinta de Toro   \n",
       "2     Knights Valley             Sonoma     Sauvignon Blanc   \n",
       "3  Willamette Valley  Willamette Valley          Pinot Noir   \n",
       "4             Bandol                NaN  Provence red blend   \n",
       "\n",
       "                    winery  \n",
       "0                    Heitz  \n",
       "1  Bodega Carmen Rodríguez  \n",
       "2                 Macauley  \n",
       "3                    Ponzi  \n",
       "4     Domaine de la Bégude  "
      ]
     },
     "execution_count": 3,
     "metadata": {},
     "output_type": "execute_result"
    }
   ],
   "source": [
    "#Load data\n",
    "wine = pd.read_csv('data/winemag-data_first150k.csv', index_col=0, encoding=\"utf-8\")\n",
    "wine.dropna(subset=[\"price\"], inplace=True)\n",
    "wine.reset_index(inplace=True, drop=True)\n",
    "print(wine.shape)\n",
    "wine.head()"
   ]
  },
  {
   "cell_type": "code",
   "execution_count": 4,
   "metadata": {},
   "outputs": [
    {
     "data": {
      "text/plain": [
       "'This tremendous 100% varietal wine hails from Oakville and was aged over three years in oak. Juicy red-cherry fruit and a compelling hint of caramel greet the palate, framed by elegant, fine tannins and a subtle minty tone in the background. Balanced and rewarding from start to finish, it has years ahead of it to develop further nuance. Enjoy 2022–2030.'"
      ]
     },
     "execution_count": 4,
     "metadata": {},
     "output_type": "execute_result"
    }
   ],
   "source": [
    "wine[\"description\"][0]"
   ]
  },
  {
   "cell_type": "code",
   "execution_count": 5,
   "metadata": {},
   "outputs": [
    {
     "name": "stdout",
     "output_type": "stream",
     "text": [
      "100\n",
      "80\n"
     ]
    }
   ],
   "source": [
    "print(wine.points.max())\n",
    "print(wine.points.min())"
   ]
  },
  {
   "cell_type": "code",
   "execution_count": 16,
   "metadata": {},
   "outputs": [
    {
     "name": "stdout",
     "output_type": "stream",
     "text": [
      "min points 80\n",
      "max points100\n"
     ]
    },
    {
     "name": "stderr",
     "output_type": "stream",
     "text": [
      "/home/ec2-user/anaconda3/envs/python3/lib/python3.6/site-packages/matplotlib/axes/_axes.py:6462: UserWarning: The 'normed' kwarg is deprecated, and has been replaced by the 'density' kwarg.\n",
      "  warnings.warn(\"The 'normed' kwarg is deprecated, and has been \"\n"
     ]
    },
    {
     "data": {
      "image/png": "[encoded data removed]",
      "text/plain": [
       "<Figure size 432x288 with 1 Axes>"
      ]
     },
     "metadata": {},
     "output_type": "display_data"
    }
   ],
   "source": [
    "print(\"min points {}\".format(wine.points.min()))\n",
    "print(\"max points{}\".format(wine.points.max()))\n",
    "\n",
    "sns.distplot(wine.points, bins=20, kde=False)\n",
    "plt.show()"
   ]
  },
  {
   "cell_type": "markdown",
   "metadata": {},
   "source": [
    "# Feature Engineering"
   ]
  },
  {
   "cell_type": "code",
   "execution_count": 17,
   "metadata": {},
   "outputs": [],
   "source": [
    "def ohe_features(df, feature, occurances):\n",
    "    '''\n",
    "    df: pandas data frame with feature to be encoded\n",
    "    feature: str. feature name\n",
    "    occurances: number of occurances to threshold feature at\n",
    "    '''\n",
    "    vc = df[feature].value_counts()\n",
    "    keep_values = vc[vc > occurances].index.tolist()\n",
    "    ohe_feature = pd.get_dummies(df[feature])\n",
    "\n",
    "    feature_names = ohe_feature.columns\n",
    "    keep_features = feature_names[feature_names.isin(keep_values)]\n",
    "    return ohe_feature[keep_features]\n",
    "\n",
    "def make_lower_case(text):\n",
    "    return text.lower()\n",
    "\n",
    "def remove_punctuation(text):\n",
    "    tokenizer = RegexpTokenizer(r'\\w+')\n",
    "    text = tokenizer.tokenize(text)\n",
    "    text = \" \".join(text)\n",
    "    return text"
   ]
  },
  {
   "cell_type": "code",
   "execution_count": 18,
   "metadata": {},
   "outputs": [
    {
     "name": "stdout",
     "output_type": "stream",
     "text": [
      "There are 46 country categorical variables\n",
      "There are 71 designation categorical variables\n",
      "There are 113 province categorical variables\n",
      "There are 308 region categorical variables\n",
      "There are 133 variety categorical variables\n",
      "There are 454 winery categorical variables\n"
     ]
    }
   ],
   "source": [
    "country = pd.get_dummies(wine.country)\n",
    "collist = country.columns.tolist()\n",
    "collist = [\"country_\" + s for s in collist]\n",
    "country.columns = collist\n",
    "print (\"There are {} country categorical variables\".format(country.shape[1]))\n",
    "\n",
    "designation = ohe_features(wine, \"designation\", 50)\n",
    "collist = designation.columns.tolist()\n",
    "collist = [\"designation_\" + s for s in collist]\n",
    "designation.columns = collist\n",
    "print (\"There are {} designation categorical variables\".format(designation.shape[1]))\n",
    "\n",
    "province = ohe_features(wine, \"province\", 50)\n",
    "collist = province.columns.tolist()\n",
    "collist = [\"province_\" + s for s in collist]\n",
    "province.columns = collist\n",
    "print (\"There are {} province categorical variables\".format(province.shape[1]))\n",
    "\n",
    "region = ohe_features(wine, \"region_1\", 50)\n",
    "collist = region.columns.tolist()\n",
    "collist = [\"region_\" + s for s in collist]\n",
    "region.columns = collist\n",
    "print (\"There are {} region categorical variables\".format(region.shape[1]))\n",
    "\n",
    "variety = ohe_features(wine, \"variety\", 50)\n",
    "collist = variety.columns.tolist()\n",
    "collist = [\"variety_\" + s for s in collist]\n",
    "variety.columns = collist\n",
    "print (\"There are {} variety categorical variables\".format(variety.shape[1]))\n",
    "\n",
    "winery = ohe_features(wine, \"winery\", 50)\n",
    "collist = winery.columns.tolist()\n",
    "collist = [\"winery_\" + s for s in collist]\n",
    "winery.columns = collist\n",
    "print (\"There are {} winery categorical variables\".format(winery.shape[1]))"
   ]
  },
  {
   "cell_type": "code",
   "execution_count": 20,
   "metadata": {},
   "outputs": [],
   "source": [
    "wine[\"description\"] = wine[\"description\"].str.replace('\\d+', '')\n",
    "wine[\"description\"] = wine.description.apply(func=remove_punctuation)\n",
    "wine[\"description\"] = wine.description.apply(func=make_lower_case)"
   ]
  },
  {
   "cell_type": "code",
   "execution_count": 21,
   "metadata": {},
   "outputs": [
    {
     "data": {
      "text/html": [
       "<div>\n",
       "<style scoped>\n",
       "    .dataframe tbody tr th:only-of-type {\n",
       "        vertical-align: middle;\n",
       "    }\n",
       "\n",
       "    .dataframe tbody tr th {\n",
       "        vertical-align: top;\n",
       "    }\n",
       "\n",
       "    .dataframe thead th {\n",
       "        text-align: right;\n",
       "    }\n",
       "</style>\n",
       "<table border=\"1\" class=\"dataframe\">\n",
       "  <thead>\n",
       "    <tr style=\"text-align: right;\">\n",
       "      <th></th>\n",
       "      <th>latent_description_0</th>\n",
       "      <th>latent_description_1</th>\n",
       "      <th>latent_description_2</th>\n",
       "      <th>latent_description_3</th>\n",
       "      <th>latent_description_4</th>\n",
       "    </tr>\n",
       "  </thead>\n",
       "  <tbody>\n",
       "    <tr>\n",
       "      <th>0</th>\n",
       "      <td>0.122660</td>\n",
       "      <td>-0.037291</td>\n",
       "      <td>-0.006153</td>\n",
       "      <td>-0.024365</td>\n",
       "      <td>-0.021953</td>\n",
       "    </tr>\n",
       "    <tr>\n",
       "      <th>1</th>\n",
       "      <td>0.135296</td>\n",
       "      <td>-0.041310</td>\n",
       "      <td>0.013933</td>\n",
       "      <td>-0.009720</td>\n",
       "      <td>0.005278</td>\n",
       "    </tr>\n",
       "    <tr>\n",
       "      <th>2</th>\n",
       "      <td>0.077102</td>\n",
       "      <td>0.047254</td>\n",
       "      <td>-0.015290</td>\n",
       "      <td>-0.006760</td>\n",
       "      <td>0.009642</td>\n",
       "    </tr>\n",
       "    <tr>\n",
       "      <th>3</th>\n",
       "      <td>0.147136</td>\n",
       "      <td>-0.097457</td>\n",
       "      <td>0.031325</td>\n",
       "      <td>-0.003848</td>\n",
       "      <td>0.030652</td>\n",
       "    </tr>\n",
       "    <tr>\n",
       "      <th>4</th>\n",
       "      <td>0.083745</td>\n",
       "      <td>0.001573</td>\n",
       "      <td>-0.079986</td>\n",
       "      <td>-0.100404</td>\n",
       "      <td>-0.027899</td>\n",
       "    </tr>\n",
       "  </tbody>\n",
       "</table>\n",
       "</div>"
      ],
      "text/plain": [
       "   latent_description_0  latent_description_1  latent_description_2  \\\n",
       "0              0.122660             -0.037291             -0.006153   \n",
       "1              0.135296             -0.041310              0.013933   \n",
       "2              0.077102              0.047254             -0.015290   \n",
       "3              0.147136             -0.097457              0.031325   \n",
       "4              0.083745              0.001573             -0.079986   \n",
       "\n",
       "   latent_description_3  latent_description_4  \n",
       "0             -0.024365             -0.021953  \n",
       "1             -0.009720              0.005278  \n",
       "2             -0.006760              0.009642  \n",
       "3             -0.003848              0.030652  \n",
       "4             -0.100404             -0.027899  "
      ]
     },
     "execution_count": 21,
     "metadata": {},
     "output_type": "execute_result"
    }
   ],
   "source": [
    "tf = TfidfVectorizer(analyzer='word', \n",
    "                     min_df=10,\n",
    "                     ngram_range=(1, 2),\n",
    "                     stop_words='english')\n",
    "svd = TruncatedSVD(n_components=5)\n",
    "\n",
    "#Fit tfidf and svd, and transform training data\n",
    "tfidf_matrix = tf.fit_transform(wine.description)\n",
    "lsa_features = pd.DataFrame(svd.fit_transform(tfidf_matrix))\n",
    "collist = map(str, range(0, 5))\n",
    "collist = [\"latent_description_\" + s for s in collist]\n",
    "lsa_features.columns = collist\n",
    "lsa_features.head()"
   ]
  },
  {
   "cell_type": "code",
   "execution_count": 22,
   "metadata": {},
   "outputs": [
    {
     "name": "stdout",
     "output_type": "stream",
     "text": [
      "(137235, 1018)\n",
      "(137235,)\n"
     ]
    }
   ],
   "source": [
    "X = pd.concat([country, designation, region, variety, winery, lsa_features, wine[\"price\"]], axis=1)\n",
    "y = wine[\"points\"]\n",
    "print (X.shape)\n",
    "print (y.shape)"
   ]
  },
  {
   "cell_type": "markdown",
   "metadata": {},
   "source": [
    "# Test Train Split"
   ]
  },
  {
   "cell_type": "code",
   "execution_count": 23,
   "metadata": {},
   "outputs": [
    {
     "name": "stdout",
     "output_type": "stream",
     "text": [
      "96064 training observations\n",
      "41171 testing observations\n"
     ]
    }
   ],
   "source": [
    "X_train, X_test, y_train, y_test = train_test_split(X, y, test_size=0.3)\n",
    "\n",
    "print (\"{} training observations\".format(X_train.shape[0]))\n",
    "print (\"{} testing observations\".format(X_test.shape[0]))"
   ]
  },
  {
   "cell_type": "markdown",
   "metadata": {},
   "source": [
    "# XGBoost Classification"
   ]
  },
  {
   "cell_type": "code",
   "execution_count": 25,
   "metadata": {},
   "outputs": [],
   "source": [
    "dtrain = xgb.DMatrix(X_train, label=y_train)\n",
    "dtest = xgb.DMatrix(X_test, label=y_test)"
   ]
  },
  {
   "cell_type": "code",
   "execution_count": 27,
   "metadata": {},
   "outputs": [],
   "source": [
    "param = {'max_depth': 3, 'eta': 1, 'subsample':0.5, 'alpha':1}\n",
    "param['nthread'] = 4\n",
    "param['eval_metric'] = 'mae'\n",
    "param['objective'] = 'reg:linear'\n",
    "param['silent'] = 1\n",
    "evallist = [(dtrain, 'train')]\n",
    "num_round = 10"
   ]
  },
  {
   "cell_type": "code",
   "execution_count": 28,
   "metadata": {},
   "outputs": [
    {
     "name": "stdout",
     "output_type": "stream",
     "text": [
      "[0]\ttrain-mae:2.06012\n",
      "Will train until train-mae hasn't improved in 10 rounds.\n",
      "[1]\ttrain-mae:1.97133\n",
      "[2]\ttrain-mae:1.94179\n",
      "[3]\ttrain-mae:1.91928\n",
      "[4]\ttrain-mae:1.90447\n",
      "[5]\ttrain-mae:1.8816\n",
      "[6]\ttrain-mae:1.86233\n",
      "[7]\ttrain-mae:1.8492\n",
      "[8]\ttrain-mae:1.84107\n",
      "[9]\ttrain-mae:1.83235\n"
     ]
    }
   ],
   "source": [
    "bst = xgb.train(param, dtrain, num_round, evallist, early_stopping_rounds=10)"
   ]
  },
  {
   "cell_type": "code",
   "execution_count": 40,
   "metadata": {},
   "outputs": [
    {
     "data": {
      "text/html": [
       "<div>\n",
       "<style scoped>\n",
       "    .dataframe tbody tr th:only-of-type {\n",
       "        vertical-align: middle;\n",
       "    }\n",
       "\n",
       "    .dataframe tbody tr th {\n",
       "        vertical-align: top;\n",
       "    }\n",
       "\n",
       "    .dataframe thead th {\n",
       "        text-align: right;\n",
       "    }\n",
       "</style>\n",
       "<table border=\"1\" class=\"dataframe\">\n",
       "  <thead>\n",
       "    <tr style=\"text-align: right;\">\n",
       "      <th></th>\n",
       "      <th>points</th>\n",
       "      <th>prediction</th>\n",
       "    </tr>\n",
       "  </thead>\n",
       "  <tbody>\n",
       "    <tr>\n",
       "      <th>99018</th>\n",
       "      <td>84</td>\n",
       "      <td>86</td>\n",
       "    </tr>\n",
       "    <tr>\n",
       "      <th>5935</th>\n",
       "      <td>86</td>\n",
       "      <td>89</td>\n",
       "    </tr>\n",
       "    <tr>\n",
       "      <th>126451</th>\n",
       "      <td>90</td>\n",
       "      <td>89</td>\n",
       "    </tr>\n",
       "    <tr>\n",
       "      <th>45187</th>\n",
       "      <td>87</td>\n",
       "      <td>87</td>\n",
       "    </tr>\n",
       "    <tr>\n",
       "      <th>98917</th>\n",
       "      <td>93</td>\n",
       "      <td>93</td>\n",
       "    </tr>\n",
       "  </tbody>\n",
       "</table>\n",
       "</div>"
      ],
      "text/plain": [
       "        points  prediction\n",
       "99018       84          86\n",
       "5935        86          89\n",
       "126451      90          89\n",
       "45187       87          87\n",
       "98917       93          93"
      ]
     },
     "execution_count": 40,
     "metadata": {},
     "output_type": "execute_result"
    }
   ],
   "source": [
    "pred = pd.DataFrame(y_test.copy())\n",
    "pred[\"prediction\"] = bst.predict(dtest, ntree_limit=bst.best_ntree_limit)\n",
    "pred[\"prediction\"] = np.round(pred[\"prediction\"],0).astype(int)\n",
    "pred.sample(5)"
   ]
  },
  {
   "cell_type": "code",
   "execution_count": 42,
   "metadata": {},
   "outputs": [
    {
     "name": "stdout",
     "output_type": "stream",
     "text": [
      "Mean Absolute Error: 1.84 points\n"
     ]
    }
   ],
   "source": [
    "from sklearn.metrics import median_absolute_error, mean_absolute_error\n",
    "mean_ae = np.round(mean_absolute_error(y_true=pred[\"points\"], y_pred=pred[\"prediction\"]),2)\n",
    "median_ae = np.round(median_absolute_error(y_true=pred[\"points\"], y_pred=pred[\"prediction\"]),2)\n",
    "print (\"Mean Absolute Error: {} points\".format(mean_ae))"
   ]
  },
  {
   "cell_type": "code",
   "execution_count": 43,
   "metadata": {},
   "outputs": [
    {
     "data": {
      "text/plain": [
       "<matplotlib.axes._subplots.AxesSubplot at 0x7fa518de5cf8>"
      ]
     },
     "execution_count": 43,
     "metadata": {},
     "output_type": "execute_result"
    },
    {
     "data": {
      "image/png": "[encoded data removed]",
      "text/plain": [
       "<Figure size 432x288 with 1 Axes>"
      ]
     },
     "metadata": {},
     "output_type": "display_data"
    }
   ],
   "source": [
    "xgb.plot_importance(bst,max_num_features=15)"
   ]
  },
  {
   "cell_type": "code",
   "execution_count": 44,
   "metadata": {},
   "outputs": [
    {
     "data": {
      "image/svg+xml": [
       "<?xml version=\"1.0\" encoding=\"UTF-8\" standalone=\"no\"?>\n",
       "<!DOCTYPE svg PUBLIC \"-//W3C//DTD SVG 1.1//EN\"\n",
       " \"http://www.w3.org/Graphics/SVG/1.1/DTD/svg11.dtd\">\n",
       "<!-- Generated by graphviz version 2.40.1 (20161225.0304)\n",
       " -->\n",
       "<!-- Title: %3 Pages: 1 -->\n",
       "<svg width=\"768pt\" height=\"305pt\"\n",
       " viewBox=\"0.00 0.00 767.99 305.00\" xmlns=\"http://www.w3.org/2000/svg\" xmlns:xlink=\"http://www.w3.org/1999/xlink\">\n",
       "<g id=\"graph0\" class=\"graph\" transform=\"scale(1 1) rotate(0) translate(4 301)\">\n",
       "<title>%3</title>\n",
       "<polygon fill=\"#ffffff\" stroke=\"transparent\" points=\"-4,4 -4,-301 763.9873,-301 763.9873,4 -4,4\"/>\n",
       "<!-- 0 -->\n",
       "<g id=\"node1\" class=\"node\">\n",
       "<title>0</title>\n",
       "<ellipse fill=\"none\" stroke=\"#000000\" cx=\"413.4937\" cy=\"-279\" rx=\"49.2915\" ry=\"18\"/>\n",
       "<text text-anchor=\"middle\" x=\"413.4937\" y=\"-275.3\" font-family=\"Times,serif\" font-size=\"14.00\" fill=\"#000000\">price&lt;30.5</text>\n",
       "</g>\n",
       "<!-- 1 -->\n",
       "<g id=\"node2\" class=\"node\">\n",
       "<title>1</title>\n",
       "<ellipse fill=\"none\" stroke=\"#000000\" cx=\"299.4937\" cy=\"-192\" rx=\"49.2915\" ry=\"18\"/>\n",
       "<text text-anchor=\"middle\" x=\"299.4937\" y=\"-188.3\" font-family=\"Times,serif\" font-size=\"14.00\" fill=\"#000000\">price&lt;15.5</text>\n",
       "</g>\n",
       "<!-- 0&#45;&gt;1 -->\n",
       "<g id=\"edge1\" class=\"edge\">\n",
       "<title>0&#45;&gt;1</title>\n",
       "<path fill=\"none\" stroke=\"#0000ff\" d=\"M392.0511,-262.636C374.2174,-249.026 348.6518,-229.5155 328.9065,-214.4466\"/>\n",
       "<polygon fill=\"#0000ff\" stroke=\"#0000ff\" points=\"330.9129,-211.5751 320.84,-208.2907 326.6662,-217.1398 330.9129,-211.5751\"/>\n",
       "<text text-anchor=\"middle\" x=\"397.9937\" y=\"-231.8\" font-family=\"Times,serif\" font-size=\"14.00\" fill=\"#000000\">yes, missing</text>\n",
       "</g>\n",
       "<!-- 2 -->\n",
       "<g id=\"node3\" class=\"node\">\n",
       "<title>2</title>\n",
       "<ellipse fill=\"none\" stroke=\"#000000\" cx=\"527.4937\" cy=\"-192\" rx=\"49.2915\" ry=\"18\"/>\n",
       "<text text-anchor=\"middle\" x=\"527.4937\" y=\"-188.3\" font-family=\"Times,serif\" font-size=\"14.00\" fill=\"#000000\">price&lt;55.5</text>\n",
       "</g>\n",
       "<!-- 0&#45;&gt;2 -->\n",
       "<g id=\"edge2\" class=\"edge\">\n",
       "<title>0&#45;&gt;2</title>\n",
       "<path fill=\"none\" stroke=\"#ff0000\" d=\"M434.9362,-262.636C452.7699,-249.026 478.3355,-229.5155 498.0808,-214.4466\"/>\n",
       "<polygon fill=\"#ff0000\" stroke=\"#ff0000\" points=\"500.3211,-217.1398 506.1473,-208.2907 496.0744,-211.5751 500.3211,-217.1398\"/>\n",
       "<text text-anchor=\"middle\" x=\"484.4937\" y=\"-231.8\" font-family=\"Times,serif\" font-size=\"14.00\" fill=\"#000000\">no</text>\n",
       "</g>\n",
       "<!-- 3 -->\n",
       "<g id=\"node4\" class=\"node\">\n",
       "<title>3</title>\n",
       "<ellipse fill=\"none\" stroke=\"#000000\" cx=\"71.4937\" cy=\"-105\" rx=\"71.4873\" ry=\"18\"/>\n",
       "<text text-anchor=\"middle\" x=\"71.4937\" y=\"-101.3\" font-family=\"Times,serif\" font-size=\"14.00\" fill=\"#000000\">leaf=84.9300003</text>\n",
       "</g>\n",
       "<!-- 1&#45;&gt;3 -->\n",
       "<g id=\"edge3\" class=\"edge\">\n",
       "<title>1&#45;&gt;3</title>\n",
       "<path fill=\"none\" stroke=\"#0000ff\" d=\"M265.3598,-178.9752C227.0162,-164.3441 164.448,-140.4694 120.7974,-123.8133\"/>\n",
       "<polygon fill=\"#0000ff\" stroke=\"#0000ff\" points=\"121.8275,-120.4602 111.2367,-120.1651 119.3319,-127.0003 121.8275,-120.4602\"/>\n",
       "<text text-anchor=\"middle\" x=\"233.9937\" y=\"-144.8\" font-family=\"Times,serif\" font-size=\"14.00\" fill=\"#000000\">yes, missing</text>\n",
       "</g>\n",
       "<!-- 4 -->\n",
       "<g id=\"node5\" class=\"node\">\n",
       "<title>4</title>\n",
       "<ellipse fill=\"none\" stroke=\"#000000\" cx=\"299.4937\" cy=\"-105\" rx=\"138.3755\" ry=\"18\"/>\n",
       "<text text-anchor=\"middle\" x=\"299.4937\" y=\"-101.3\" font-family=\"Times,serif\" font-size=\"14.00\" fill=\"#000000\">latent_description_3&lt;0.0169206075</text>\n",
       "</g>\n",
       "<!-- 1&#45;&gt;4 -->\n",
       "<g id=\"edge4\" class=\"edge\">\n",
       "<title>1&#45;&gt;4</title>\n",
       "<path fill=\"none\" stroke=\"#ff0000\" d=\"M299.4937,-173.9735C299.4937,-162.1918 299.4937,-146.5607 299.4937,-133.1581\"/>\n",
       "<polygon fill=\"#ff0000\" stroke=\"#ff0000\" points=\"302.9938,-133.0033 299.4937,-123.0034 295.9938,-133.0034 302.9938,-133.0033\"/>\n",
       "<text text-anchor=\"middle\" x=\"306.4937\" y=\"-144.8\" font-family=\"Times,serif\" font-size=\"14.00\" fill=\"#000000\">no</text>\n",
       "</g>\n",
       "<!-- 5 -->\n",
       "<g id=\"node8\" class=\"node\">\n",
       "<title>5</title>\n",
       "<ellipse fill=\"none\" stroke=\"#000000\" cx=\"527.4937\" cy=\"-105\" rx=\"71.4873\" ry=\"18\"/>\n",
       "<text text-anchor=\"middle\" x=\"527.4937\" y=\"-101.3\" font-family=\"Times,serif\" font-size=\"14.00\" fill=\"#000000\">leaf=88.6908569</text>\n",
       "</g>\n",
       "<!-- 2&#45;&gt;5 -->\n",
       "<g id=\"edge7\" class=\"edge\">\n",
       "<title>2&#45;&gt;5</title>\n",
       "<path fill=\"none\" stroke=\"#0000ff\" d=\"M527.4937,-173.9735C527.4937,-162.1918 527.4937,-146.5607 527.4937,-133.1581\"/>\n",
       "<polygon fill=\"#0000ff\" stroke=\"#0000ff\" points=\"530.9938,-133.0033 527.4937,-123.0034 523.9938,-133.0034 530.9938,-133.0033\"/>\n",
       "<text text-anchor=\"middle\" x=\"561.9937\" y=\"-144.8\" font-family=\"Times,serif\" font-size=\"14.00\" fill=\"#000000\">yes, missing</text>\n",
       "</g>\n",
       "<!-- 6 -->\n",
       "<g id=\"node9\" class=\"node\">\n",
       "<title>6</title>\n",
       "<ellipse fill=\"none\" stroke=\"#000000\" cx=\"688.4937\" cy=\"-105\" rx=\"71.4873\" ry=\"18\"/>\n",
       "<text text-anchor=\"middle\" x=\"688.4937\" y=\"-101.3\" font-family=\"Times,serif\" font-size=\"14.00\" fill=\"#000000\">leaf=90.8983307</text>\n",
       "</g>\n",
       "<!-- 2&#45;&gt;6 -->\n",
       "<g id=\"edge8\" class=\"edge\">\n",
       "<title>2&#45;&gt;6</title>\n",
       "<path fill=\"none\" stroke=\"#ff0000\" d=\"M557.9145,-177.5625C571.1059,-171.1571 586.6665,-163.4054 600.4937,-156 617.5398,-146.8706 636.1049,-136.2195 651.7704,-127.0192\"/>\n",
       "<polygon fill=\"#ff0000\" stroke=\"#ff0000\" points=\"653.793,-129.8896 660.6255,-121.7922 650.2347,-123.8614 653.793,-129.8896\"/>\n",
       "<text text-anchor=\"middle\" x=\"633.4937\" y=\"-144.8\" font-family=\"Times,serif\" font-size=\"14.00\" fill=\"#000000\">no</text>\n",
       "</g>\n",
       "<!-- 7 -->\n",
       "<g id=\"node6\" class=\"node\">\n",
       "<title>7</title>\n",
       "<ellipse fill=\"none\" stroke=\"#000000\" cx=\"218.4937\" cy=\"-18\" rx=\"71.4873\" ry=\"18\"/>\n",
       "<text text-anchor=\"middle\" x=\"218.4937\" y=\"-14.3\" font-family=\"Times,serif\" font-size=\"14.00\" fill=\"#000000\">leaf=87.2912445</text>\n",
       "</g>\n",
       "<!-- 4&#45;&gt;7 -->\n",
       "<g id=\"edge5\" class=\"edge\">\n",
       "<title>4&#45;&gt;7</title>\n",
       "<path fill=\"none\" stroke=\"#0000ff\" d=\"M280.3552,-86.9965C274.5156,-81.3398 268.147,-75.0023 262.4937,-69 254.9169,-60.9556 246.9382,-51.9007 239.8869,-43.6775\"/>\n",
       "<polygon fill=\"#0000ff\" stroke=\"#0000ff\" points=\"242.336,-41.1545 233.1938,-35.7998 237.0014,-45.6869 242.336,-41.1545\"/>\n",
       "<text text-anchor=\"middle\" x=\"296.9937\" y=\"-57.8\" font-family=\"Times,serif\" font-size=\"14.00\" fill=\"#000000\">yes, missing</text>\n",
       "</g>\n",
       "<!-- 8 -->\n",
       "<g id=\"node7\" class=\"node\">\n",
       "<title>8</title>\n",
       "<ellipse fill=\"none\" stroke=\"#000000\" cx=\"379.4937\" cy=\"-18\" rx=\"71.4873\" ry=\"18\"/>\n",
       "<text text-anchor=\"middle\" x=\"379.4937\" y=\"-14.3\" font-family=\"Times,serif\" font-size=\"14.00\" fill=\"#000000\">leaf=85.8268814</text>\n",
       "</g>\n",
       "<!-- 4&#45;&gt;8 -->\n",
       "<g id=\"edge6\" class=\"edge\">\n",
       "<title>4&#45;&gt;8</title>\n",
       "<path fill=\"none\" stroke=\"#ff0000\" d=\"M316.0697,-86.9735C327.7316,-74.2912 343.4949,-57.1486 356.3888,-43.1265\"/>\n",
       "<polygon fill=\"#ff0000\" stroke=\"#ff0000\" points=\"359.0202,-45.4358 363.2126,-35.7057 353.8674,-40.6976 359.0202,-45.4358\"/>\n",
       "<text text-anchor=\"middle\" x=\"351.4937\" y=\"-57.8\" font-family=\"Times,serif\" font-size=\"14.00\" fill=\"#000000\">no</text>\n",
       "</g>\n",
       "</g>\n",
       "</svg>\n"
      ],
      "text/plain": [
       "<graphviz.dot.Digraph at 0x7fa51d8e4fd0>"
      ]
     },
     "execution_count": 44,
     "metadata": {},
     "output_type": "execute_result"
    }
   ],
   "source": [
    "xgb.to_graphviz(bst, num_trees=0)"
   ]
  },
  {
   "cell_type": "markdown",
   "metadata": {},
   "source": [
    "# DIY Deployment"
   ]
  },
  {
   "cell_type": "code",
   "execution_count": null,
   "metadata": {},
   "outputs": [],
   "source": [
    "# I wrote my own predict method \n",
    "# Use business logic to filter predictions, not just the models basic predict\n",
    "# send info in and out as a dictionary/json"
   ]
  },
  {
   "cell_type": "code",
   "execution_count": null,
   "metadata": {},
   "outputs": [],
   "source": [
    "def my_own_predict_method(feature_payload):\n",
    "    \n",
    "    message_cheap = \"Wow, what a steal!\"\n",
    "    message_expensive = \"Yikes, that is a spendy wine!\"\n",
    "\n",
    "    #format payload as a dataframe\n",
    "    x = pd.DataFrame(feature_payload, index=[0])\n",
    "    #convert it to cgboost data object\n",
    "    x = xgb.DMatrix(x, label=y_test)\n",
    "\n",
    "    #predict wine price from xgboost model\n",
    "    prediction = bst.predict(x, ntree_limit=bst.best_ntree_limit)\n",
    "    prediction = np.round(prediction,2)[0]\n",
    " \n",
    "    #personalise message \n",
    "    if prediction < 50:\n",
    "        message = message_cheap\n",
    "    else:\n",
    "        message = message_expensive\n",
    "        \n",
    "    output = {\"price\": \"$\"+str(prediction), \"message\":message}\n",
    "    \n",
    "    return output"
   ]
  },
  {
   "cell_type": "code",
   "execution_count": null,
   "metadata": {},
   "outputs": [],
   "source": [
    "#get an example payload from the test data\n",
    "feature_payload = X_test.iloc[5].to_dict()"
   ]
  },
  {
   "cell_type": "code",
   "execution_count": null,
   "metadata": {},
   "outputs": [],
   "source": [
    "non_zero_features = [k for k,v in feature_payload.items() if v > 0]\n",
    "dict((k, feature_payload[k]) for k in non_zero_features if k in feature_payload)"
   ]
  },
  {
   "cell_type": "code",
   "execution_count": null,
   "metadata": {},
   "outputs": [],
   "source": [
    "my_own_predict_method(feature_payload)"
   ]
  },
  {
   "cell_type": "code",
   "execution_count": null,
   "metadata": {},
   "outputs": [],
   "source": [
    "#Now to deploy my own algorithm, I must build a docker container for it. "
   ]
  },
  {
   "cell_type": "code",
   "execution_count": null,
   "metadata": {},
   "outputs": [],
   "source": []
  }
 ],
 "metadata": {
  "kernelspec": {
   "display_name": "conda_python3",
   "language": "python",
   "name": "conda_python3"
  },
  "language_info": {
   "codemirror_mode": {
    "name": "ipython",
    "version": 3
   },
   "file_extension": ".py",
   "mimetype": "text/x-python",
   "name": "python",
   "nbconvert_exporter": "python",
   "pygments_lexer": "ipython3",
   "version": "3.6.5"
  }
 },
 "nbformat": 4,
 "nbformat_minor": 2
}
